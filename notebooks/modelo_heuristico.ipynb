{
 "cells": [
  {
   "cell_type": "code",
   "execution_count": 51,
   "id": "4348252d",
   "metadata": {
    "ExecuteTime": {
     "end_time": "2023-08-29T23:10:47.869326Z",
     "start_time": "2023-08-29T23:10:47.188549Z"
    }
   },
   "outputs": [],
   "source": [
    "import pandas as pd\n",
    "import numpy as np\n",
    "import matplotlib.pyplot as plt\n",
    "from scipy.stats import norm"
   ]
  },
  {
   "cell_type": "code",
   "execution_count": 3,
   "id": "ca295956",
   "metadata": {
    "ExecuteTime": {
     "end_time": "2023-08-29T22:33:38.858666Z",
     "start_time": "2023-08-29T22:33:38.847419Z"
    }
   },
   "outputs": [],
   "source": [
    "df = pd.read_csv(\"../data/diabetes.csv\")"
   ]
  },
  {
   "cell_type": "markdown",
   "id": "6a3ad681",
   "metadata": {
    "ExecuteTime": {
     "end_time": "2023-08-29T22:34:01.893156Z",
     "start_time": "2023-08-29T22:34:01.889903Z"
    }
   },
   "source": [
    "# Teste de hipóteses"
   ]
  },
  {
   "cell_type": "markdown",
   "id": "90668730",
   "metadata": {},
   "source": [
    "A média da taxa de glicose de pacientes diabéticos é maior do que a de pacientes não-diabéticos?"
   ]
  },
  {
   "cell_type": "code",
   "execution_count": 38,
   "id": "570d1d86",
   "metadata": {
    "ExecuteTime": {
     "end_time": "2023-08-29T22:58:20.141743Z",
     "start_time": "2023-08-29T22:58:20.131132Z"
    }
   },
   "outputs": [
    {
     "name": "stdout",
     "output_type": "stream",
     "text": [
      "Taxa média de glicose populacional: 121\n",
      "Taxa média de glicose de diabéticos: 141\n"
     ]
    }
   ],
   "source": [
    "glucose_population = df[\"Glucose\"].mean()\n",
    "glucose_diabetic = df.loc[df[\"Outcome\"] == 1, \"Glucose\"].mean()\n",
    "\n",
    "print(f\"Taxa média de glicose populacional: {glucose_population:.0f}\")\n",
    "print(f\"Taxa média de glicose de diabéticos: {glucose_diabetic:.0f}\")"
   ]
  },
  {
   "cell_type": "markdown",
   "id": "fd59bc2e",
   "metadata": {},
   "source": [
    "Será que essa diferença é significativa?"
   ]
  },
  {
   "cell_type": "code",
   "execution_count": 43,
   "id": "6580887b",
   "metadata": {
    "ExecuteTime": {
     "end_time": "2023-08-29T23:08:38.312752Z",
     "start_time": "2023-08-29T23:08:36.697907Z"
    }
   },
   "outputs": [],
   "source": [
    "# Bootstrap\n",
    "\n",
    "glucose_bootstrap_dist = []\n",
    "\n",
    "for i in range(5000):\n",
    "    glucose_bootstrap_dist.append(np.mean(df.sample(frac=1, replace=True)[\"Glucose\"]))\n",
    "    \n",
    "std_error = np.std(glucose_bootstrap_dist, ddof=1)"
   ]
  },
  {
   "cell_type": "code",
   "execution_count": 44,
   "id": "f4fe9169",
   "metadata": {
    "ExecuteTime": {
     "end_time": "2023-08-29T23:08:38.708768Z",
     "start_time": "2023-08-29T23:08:38.353022Z"
    }
   },
   "outputs": [
    {
     "data": {
      "image/png": "[encoded data removed]",
      "text/plain": [
       "<Figure size 432x288 with 1 Axes>"
      ]
     },
     "metadata": {
      "needs_background": "light"
     },
     "output_type": "display_data"
    }
   ],
   "source": [
    "plt.hist(glucose_bootstrap_dist, bins=50)\n",
    "plt.xlabel(\"Glucose\")\n",
    "plt.title(\"Bootstrap da média da glicose\")\n",
    "plt.show()"
   ]
  },
  {
   "cell_type": "markdown",
   "id": "9967f5a4",
   "metadata": {},
   "source": [
    "Podemos calcular o intervalo de confiança de 95% para essa distribuição"
   ]
  },
  {
   "cell_type": "code",
   "execution_count": 45,
   "id": "4704b9e9",
   "metadata": {
    "ExecuteTime": {
     "end_time": "2023-08-29T23:08:40.163404Z",
     "start_time": "2023-08-29T23:08:40.152156Z"
    }
   },
   "outputs": [
    {
     "name": "stdout",
     "output_type": "stream",
     "text": [
      "O intervalo de confiança de 95% é [119, 123].\n"
     ]
    }
   ],
   "source": [
    "low = np.quantile(glucose_bootstrap_dist, 0.025)\n",
    "high = np.quantile(glucose_bootstrap_dist, 0.975)\n",
    "\n",
    "print(f\"O intervalo de confiança de 95% é [{low:.0f}, {high:.0f}].\")"
   ]
  },
  {
   "cell_type": "markdown",
   "id": "d7958dae",
   "metadata": {
    "ExecuteTime": {
     "end_time": "2023-08-29T22:56:27.572196Z",
     "start_time": "2023-08-29T22:56:27.566373Z"
    }
   },
   "source": [
    "Já temos razoável certeza que a glicose de pacientes diabéticos é significativamente maior. Vamos formalizar isso com um teste de hipóteses."
   ]
  },
  {
   "cell_type": "markdown",
   "id": "6d7e4d69",
   "metadata": {
    "ExecuteTime": {
     "end_time": "2023-08-29T22:56:30.586915Z",
     "start_time": "2023-08-29T22:56:30.575232Z"
    }
   },
   "source": [
    "$H_{A}$: A taxa de glicose de diabéticos é maior do que 121.<br>\n",
    "$H_{0}$: A taxa de glicose de diabéticos é menor ou igual à 121.<br>\n",
    "\n",
    "Temos então um teste *right-tailed*."
   ]
  },
  {
   "cell_type": "code",
   "execution_count": 50,
   "id": "23a6c564",
   "metadata": {
    "ExecuteTime": {
     "end_time": "2023-08-29T23:10:15.516092Z",
     "start_time": "2023-08-29T23:10:15.510664Z"
    }
   },
   "outputs": [
    {
     "data": {
      "text/plain": [
       "17.628358947129453"
      ]
     },
     "execution_count": 50,
     "metadata": {},
     "output_type": "execute_result"
    }
   ],
   "source": [
    "z_score = (glucose_diabetic - glucose_population) / std_error\n",
    "z_score"
   ]
  },
  {
   "cell_type": "code",
   "execution_count": 70,
   "id": "05eabb21",
   "metadata": {
    "ExecuteTime": {
     "end_time": "2023-08-29T23:13:21.287018Z",
     "start_time": "2023-08-29T23:13:21.277466Z"
    }
   },
   "outputs": [
    {
     "data": {
      "text/plain": [
       "0.0"
      ]
     },
     "execution_count": 70,
     "metadata": {},
     "output_type": "execute_result"
    }
   ],
   "source": [
    "# Converting to p-value\n",
    "\n",
    "p_value = (1.0 - norm.cdf(z_score, loc=0, scale=1))\n",
    "p_value"
   ]
  },
  {
   "cell_type": "code",
   "execution_count": 57,
   "id": "e489bea4",
   "metadata": {
    "ExecuteTime": {
     "end_time": "2023-08-29T23:11:54.910202Z",
     "start_time": "2023-08-29T23:11:54.902337Z"
    }
   },
   "outputs": [
    {
     "data": {
      "text/plain": [
       "1.0"
      ]
     },
     "execution_count": 57,
     "metadata": {},
     "output_type": "execute_result"
    }
   ],
   "source": [
    "Nosso p-valor é tão pequeno que foi arredondado em zero. Com isso, podemos rejeitar a hipótese nula em favor da alternativa."
   ]
  },
  {
   "cell_type": "code",
   "execution_count": null,
   "id": "db5e70c5",
   "metadata": {},
   "outputs": [],
   "source": []
  }
 ],
 "metadata": {
  "kernelspec": {
   "display_name": "Python 3",
   "language": "python",
   "name": "python3"
  },
  "language_info": {
   "codemirror_mode": {
    "name": "ipython",
    "version": 3
   },
   "file_extension": ".py",
   "mimetype": "text/x-python",
   "name": "python",
   "nbconvert_exporter": "python",
   "pygments_lexer": "ipython3",
   "version": "3.8.10"
  },
  "varInspector": {
   "cols": {
    "lenName": 16,
    "lenType": 16,
    "lenVar": 40
   },
   "kernels_config": {
    "python": {
     "delete_cmd_postfix": "",
     "delete_cmd_prefix": "del ",
     "library": "var_list.py",
     "varRefreshCmd": "print(var_dic_list())"
    },
    "r": {
     "delete_cmd_postfix": ") ",
     "delete_cmd_prefix": "rm(",
     "library": "var_list.r",
     "varRefreshCmd": "cat(var_dic_list()) "
    }
   },
   "types_to_exclude": [
    "module",
    "function",
    "builtin_function_or_method",
    "instance",
    "_Feature"
   ],
   "window_display": false
  }
 },
 "nbformat": 4,
 "nbformat_minor": 5
}
