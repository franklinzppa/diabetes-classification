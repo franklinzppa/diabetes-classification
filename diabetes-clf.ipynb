{
 "cells": [
  {
   "cell_type": "markdown",
   "metadata": {},
   "source": [
    "# Modelo de previsão de diabetes \n",
    "\n",
    "![diabetes](files/img/header.jpeg)"
   ]
  },
  {
   "cell_type": "markdown",
   "metadata": {},
   "source": [
    "## Introdução\n",
    "\n",
    "Esse projeto tem como objetivo prever o diagnóstico de diabetes de um paciente dado um conjunto de dados de saúde. Temos então um problema de **classificação supervisionado**.\n"
   ]
  },
  {
   "cell_type": "markdown",
   "metadata": {},
   "source": [
    "## Sobre os dados\n",
    "\n",
    "\n",
    "Os dados são originalmente do estudo do *National Institute of Diabetes and Digestive and Kidney Diseases* e foram discutidos [neste artigo](http://). Os dados podem ser encontrados [aqui](https://www.kaggle.com/datasets/mathchi/diabetes-data-set). Todos os dados são de pacientes mulheres de pelo menos 21 anos de idade. As *features* são:\n",
    "\n",
    "* Pregnancies: Número de eventos de gravidez; \n",
    "* Glucose: Concentração de glicose plasmática;\n",
    "* BloodPressure: Pressão sanguínea diastólica ($mmHg$);\n",
    "* SkinThickness: Grossura da dobra da pele do tríceps ($mm$);\n",
    "* Insulin: Insulina sérica ($\\mu U/mL$);\n",
    "* BMI: *Body mass index*, Peso em $kg$ / (altura em $m$)$^2$;\n",
    "* DiabetesPedigreeFunction: mede a possibilidade de diabetes dado o histórico familiar;\n",
    "* Age: Idade (anos);\n",
    "* Outcome: Target, 0 para não-diabético, 1 para diabético.\n",
    "\n"
   ]
  },
  {
   "cell_type": "markdown",
   "metadata": {},
   "source": [
    "## Problema de negócio e avaliação do modelo\n",
    "\n",
    "O custo de exame e de prevenção são significativamente menores que os custos de tratamento da diabetes. Além disso, a detecção precoce facilita o tratamento (https://www.previva.com.br/reduzir-custo-do-diabetes/).\n",
    "\n",
    "Considerando essas informações, a métrica que utilizaremos para avaliar o modelo será o **recall**, uma vez que queremos diagnosticar o máximo de pacientes, ainda que perdendo precisão. Compararemos nossos resultados com um modelo empírico baseado na concentração de glicose. \n",
    "\n",
    "Utilizaremos os seguintes dados fictícios para simular o gasto público: o custo de tratamento é de $R\\$$ 200/paciente x mês, enquanto o custo de exame/prevenção é de $R\\$$ 50,00 / paciente x mês."
   ]
  },
  {
   "cell_type": "markdown",
   "metadata": {},
   "source": [
    "## Importando e explorando os dados"
   ]
  },
  {
   "cell_type": "code",
   "execution_count": 737,
   "metadata": {
    "ExecuteTime": {
     "end_time": "2023-01-30T23:31:59.979898Z",
     "start_time": "2023-01-30T23:31:59.970033Z"
    }
   },
   "outputs": [],
   "source": [
    "# Importando bibliotecas\n",
    "\n",
    "import numpy as np\n",
    "import pandas as pd\n",
    "import seaborn as sns\n",
    "import matplotlib\n",
    "import matplotlib.pyplot as plt\n",
    "from sklearn.model_selection import train_test_split, cross_val_score, GridSearchCV, cross_val_predict, RandomizedSearchCV\n",
    "from sklearn.linear_model import LogisticRegression\n",
    "from sklearn.ensemble import RandomForestClassifier, VotingClassifier\n",
    "from sklearn.tree import DecisionTreeClassifier \n",
    "from sklearn.svm import SVC\n",
    "from sklearn import tree\n",
    "from sklearn.metrics import accuracy_score, precision_score, recall_score, f1_score, confusion_matrix, ConfusionMatrixDisplay\n",
    "from sklearn.pipeline import Pipeline\n",
    "from sklearn.impute import KNNImputer, SimpleImputer\n",
    "from sklearn.preprocessing import StandardScaler, KBinsDiscretizer, QuantileTransformer\n",
    "from sklearn.compose import ColumnTransformer\n",
    "from xgboost import XGBClassifier"
   ]
  },
  {
   "cell_type": "code",
   "execution_count": 738,
   "metadata": {
    "ExecuteTime": {
     "end_time": "2023-01-30T23:31:59.994186Z",
     "start_time": "2023-01-30T23:31:59.983760Z"
    }
   },
   "outputs": [],
   "source": [
    "data = pd.read_csv(\"data/diabetes.csv\")"
   ]
  },
  {
   "cell_type": "code",
   "execution_count": 739,
   "metadata": {
    "ExecuteTime": {
     "end_time": "2023-01-30T23:32:00.011511Z",
     "start_time": "2023-01-30T23:31:59.997116Z"
    }
   },
   "outputs": [
    {
     "data": {
      "text/html": [
       "<div>\n",
       "<style scoped>\n",
       "    .dataframe tbody tr th:only-of-type {\n",
       "        vertical-align: middle;\n",
       "    }\n",
       "\n",
       "    .dataframe tbody tr th {\n",
       "        vertical-align: top;\n",
       "    }\n",
       "\n",
       "    .dataframe thead th {\n",
       "        text-align: right;\n",
       "    }\n",
       "</style>\n",
       "<table border=\"1\" class=\"dataframe\">\n",
       "  <thead>\n",
       "    <tr style=\"text-align: right;\">\n",
       "      <th></th>\n",
       "      <th>Pregnancies</th>\n",
       "      <th>Glucose</th>\n",
       "      <th>BloodPressure</th>\n",
       "      <th>SkinThickness</th>\n",
       "      <th>Insulin</th>\n",
       "      <th>BMI</th>\n",
       "      <th>DiabetesPedigreeFunction</th>\n",
       "      <th>Age</th>\n",
       "      <th>Outcome</th>\n",
       "    </tr>\n",
       "  </thead>\n",
       "  <tbody>\n",
       "    <tr>\n",
       "      <th>0</th>\n",
       "      <td>6</td>\n",
       "      <td>148</td>\n",
       "      <td>72</td>\n",
       "      <td>35</td>\n",
       "      <td>0</td>\n",
       "      <td>33.6</td>\n",
       "      <td>0.627</td>\n",
       "      <td>50</td>\n",
       "      <td>1</td>\n",
       "    </tr>\n",
       "    <tr>\n",
       "      <th>1</th>\n",
       "      <td>1</td>\n",
       "      <td>85</td>\n",
       "      <td>66</td>\n",
       "      <td>29</td>\n",
       "      <td>0</td>\n",
       "      <td>26.6</td>\n",
       "      <td>0.351</td>\n",
       "      <td>31</td>\n",
       "      <td>0</td>\n",
       "    </tr>\n",
       "    <tr>\n",
       "      <th>2</th>\n",
       "      <td>8</td>\n",
       "      <td>183</td>\n",
       "      <td>64</td>\n",
       "      <td>0</td>\n",
       "      <td>0</td>\n",
       "      <td>23.3</td>\n",
       "      <td>0.672</td>\n",
       "      <td>32</td>\n",
       "      <td>1</td>\n",
       "    </tr>\n",
       "    <tr>\n",
       "      <th>3</th>\n",
       "      <td>1</td>\n",
       "      <td>89</td>\n",
       "      <td>66</td>\n",
       "      <td>23</td>\n",
       "      <td>94</td>\n",
       "      <td>28.1</td>\n",
       "      <td>0.167</td>\n",
       "      <td>21</td>\n",
       "      <td>0</td>\n",
       "    </tr>\n",
       "    <tr>\n",
       "      <th>4</th>\n",
       "      <td>0</td>\n",
       "      <td>137</td>\n",
       "      <td>40</td>\n",
       "      <td>35</td>\n",
       "      <td>168</td>\n",
       "      <td>43.1</td>\n",
       "      <td>2.288</td>\n",
       "      <td>33</td>\n",
       "      <td>1</td>\n",
       "    </tr>\n",
       "  </tbody>\n",
       "</table>\n",
       "</div>"
      ],
      "text/plain": [
       "   Pregnancies  Glucose  BloodPressure  SkinThickness  Insulin   BMI  \\\n",
       "0            6      148             72             35        0  33.6   \n",
       "1            1       85             66             29        0  26.6   \n",
       "2            8      183             64              0        0  23.3   \n",
       "3            1       89             66             23       94  28.1   \n",
       "4            0      137             40             35      168  43.1   \n",
       "\n",
       "   DiabetesPedigreeFunction  Age  Outcome  \n",
       "0                     0.627   50        1  \n",
       "1                     0.351   31        0  \n",
       "2                     0.672   32        1  \n",
       "3                     0.167   21        0  \n",
       "4                     2.288   33        1  "
      ]
     },
     "execution_count": 739,
     "metadata": {},
     "output_type": "execute_result"
    }
   ],
   "source": [
    "data.head()"
   ]
  },
  {
   "cell_type": "code",
   "execution_count": 740,
   "metadata": {
    "ExecuteTime": {
     "end_time": "2023-01-30T23:32:00.049945Z",
     "start_time": "2023-01-30T23:32:00.014366Z"
    }
   },
   "outputs": [
    {
     "data": {
      "text/html": [
       "<div>\n",
       "<style scoped>\n",
       "    .dataframe tbody tr th:only-of-type {\n",
       "        vertical-align: middle;\n",
       "    }\n",
       "\n",
       "    .dataframe tbody tr th {\n",
       "        vertical-align: top;\n",
       "    }\n",
       "\n",
       "    .dataframe thead th {\n",
       "        text-align: right;\n",
       "    }\n",
       "</style>\n",
       "<table border=\"1\" class=\"dataframe\">\n",
       "  <thead>\n",
       "    <tr style=\"text-align: right;\">\n",
       "      <th></th>\n",
       "      <th>Pregnancies</th>\n",
       "      <th>Glucose</th>\n",
       "      <th>BloodPressure</th>\n",
       "      <th>SkinThickness</th>\n",
       "      <th>Insulin</th>\n",
       "      <th>BMI</th>\n",
       "      <th>DiabetesPedigreeFunction</th>\n",
       "      <th>Age</th>\n",
       "      <th>Outcome</th>\n",
       "    </tr>\n",
       "  </thead>\n",
       "  <tbody>\n",
       "    <tr>\n",
       "      <th>count</th>\n",
       "      <td>768.000000</td>\n",
       "      <td>768.000000</td>\n",
       "      <td>768.000000</td>\n",
       "      <td>768.000000</td>\n",
       "      <td>768.000000</td>\n",
       "      <td>768.000000</td>\n",
       "      <td>768.000000</td>\n",
       "      <td>768.000000</td>\n",
       "      <td>768.000000</td>\n",
       "    </tr>\n",
       "    <tr>\n",
       "      <th>mean</th>\n",
       "      <td>3.845052</td>\n",
       "      <td>120.894531</td>\n",
       "      <td>69.105469</td>\n",
       "      <td>20.536458</td>\n",
       "      <td>79.799479</td>\n",
       "      <td>31.992578</td>\n",
       "      <td>0.471876</td>\n",
       "      <td>33.240885</td>\n",
       "      <td>0.348958</td>\n",
       "    </tr>\n",
       "    <tr>\n",
       "      <th>std</th>\n",
       "      <td>3.369578</td>\n",
       "      <td>31.972618</td>\n",
       "      <td>19.355807</td>\n",
       "      <td>15.952218</td>\n",
       "      <td>115.244002</td>\n",
       "      <td>7.884160</td>\n",
       "      <td>0.331329</td>\n",
       "      <td>11.760232</td>\n",
       "      <td>0.476951</td>\n",
       "    </tr>\n",
       "    <tr>\n",
       "      <th>min</th>\n",
       "      <td>0.000000</td>\n",
       "      <td>0.000000</td>\n",
       "      <td>0.000000</td>\n",
       "      <td>0.000000</td>\n",
       "      <td>0.000000</td>\n",
       "      <td>0.000000</td>\n",
       "      <td>0.078000</td>\n",
       "      <td>21.000000</td>\n",
       "      <td>0.000000</td>\n",
       "    </tr>\n",
       "    <tr>\n",
       "      <th>25%</th>\n",
       "      <td>1.000000</td>\n",
       "      <td>99.000000</td>\n",
       "      <td>62.000000</td>\n",
       "      <td>0.000000</td>\n",
       "      <td>0.000000</td>\n",
       "      <td>27.300000</td>\n",
       "      <td>0.243750</td>\n",
       "      <td>24.000000</td>\n",
       "      <td>0.000000</td>\n",
       "    </tr>\n",
       "    <tr>\n",
       "      <th>50%</th>\n",
       "      <td>3.000000</td>\n",
       "      <td>117.000000</td>\n",
       "      <td>72.000000</td>\n",
       "      <td>23.000000</td>\n",
       "      <td>30.500000</td>\n",
       "      <td>32.000000</td>\n",
       "      <td>0.372500</td>\n",
       "      <td>29.000000</td>\n",
       "      <td>0.000000</td>\n",
       "    </tr>\n",
       "    <tr>\n",
       "      <th>75%</th>\n",
       "      <td>6.000000</td>\n",
       "      <td>140.250000</td>\n",
       "      <td>80.000000</td>\n",
       "      <td>32.000000</td>\n",
       "      <td>127.250000</td>\n",
       "      <td>36.600000</td>\n",
       "      <td>0.626250</td>\n",
       "      <td>41.000000</td>\n",
       "      <td>1.000000</td>\n",
       "    </tr>\n",
       "    <tr>\n",
       "      <th>max</th>\n",
       "      <td>17.000000</td>\n",
       "      <td>199.000000</td>\n",
       "      <td>122.000000</td>\n",
       "      <td>99.000000</td>\n",
       "      <td>846.000000</td>\n",
       "      <td>67.100000</td>\n",
       "      <td>2.420000</td>\n",
       "      <td>81.000000</td>\n",
       "      <td>1.000000</td>\n",
       "    </tr>\n",
       "  </tbody>\n",
       "</table>\n",
       "</div>"
      ],
      "text/plain": [
       "       Pregnancies     Glucose  BloodPressure  SkinThickness     Insulin  \\\n",
       "count   768.000000  768.000000     768.000000     768.000000  768.000000   \n",
       "mean      3.845052  120.894531      69.105469      20.536458   79.799479   \n",
       "std       3.369578   31.972618      19.355807      15.952218  115.244002   \n",
       "min       0.000000    0.000000       0.000000       0.000000    0.000000   \n",
       "25%       1.000000   99.000000      62.000000       0.000000    0.000000   \n",
       "50%       3.000000  117.000000      72.000000      23.000000   30.500000   \n",
       "75%       6.000000  140.250000      80.000000      32.000000  127.250000   \n",
       "max      17.000000  199.000000     122.000000      99.000000  846.000000   \n",
       "\n",
       "              BMI  DiabetesPedigreeFunction         Age     Outcome  \n",
       "count  768.000000                768.000000  768.000000  768.000000  \n",
       "mean    31.992578                  0.471876   33.240885    0.348958  \n",
       "std      7.884160                  0.331329   11.760232    0.476951  \n",
       "min      0.000000                  0.078000   21.000000    0.000000  \n",
       "25%     27.300000                  0.243750   24.000000    0.000000  \n",
       "50%     32.000000                  0.372500   29.000000    0.000000  \n",
       "75%     36.600000                  0.626250   41.000000    1.000000  \n",
       "max     67.100000                  2.420000   81.000000    1.000000  "
      ]
     },
     "execution_count": 740,
     "metadata": {},
     "output_type": "execute_result"
    }
   ],
   "source": [
    "data.describe()"
   ]
  },
  {
   "cell_type": "code",
   "execution_count": 741,
   "metadata": {
    "ExecuteTime": {
     "end_time": "2023-01-30T23:32:00.058981Z",
     "start_time": "2023-01-30T23:32:00.052052Z"
    }
   },
   "outputs": [
    {
     "data": {
      "text/plain": [
       "0"
      ]
     },
     "execution_count": 741,
     "metadata": {},
     "output_type": "execute_result"
    }
   ],
   "source": [
    "# Checando duplicados\n",
    "\n",
    "data.duplicated().sum()"
   ]
  },
  {
   "cell_type": "code",
   "execution_count": 742,
   "metadata": {
    "ExecuteTime": {
     "end_time": "2023-01-30T23:32:00.071811Z",
     "start_time": "2023-01-30T23:32:00.061211Z"
    },
    "scrolled": false
   },
   "outputs": [
    {
     "name": "stdout",
     "output_type": "stream",
     "text": [
      "<class 'pandas.core.frame.DataFrame'>\n",
      "RangeIndex: 768 entries, 0 to 767\n",
      "Data columns (total 9 columns):\n",
      " #   Column                    Non-Null Count  Dtype  \n",
      "---  ------                    --------------  -----  \n",
      " 0   Pregnancies               768 non-null    int64  \n",
      " 1   Glucose                   768 non-null    int64  \n",
      " 2   BloodPressure             768 non-null    int64  \n",
      " 3   SkinThickness             768 non-null    int64  \n",
      " 4   Insulin                   768 non-null    int64  \n",
      " 5   BMI                       768 non-null    float64\n",
      " 6   DiabetesPedigreeFunction  768 non-null    float64\n",
      " 7   Age                       768 non-null    int64  \n",
      " 8   Outcome                   768 non-null    int64  \n",
      "dtypes: float64(2), int64(7)\n",
      "memory usage: 54.1 KB\n"
     ]
    }
   ],
   "source": [
    "data.info()"
   ]
  },
  {
   "cell_type": "markdown",
   "metadata": {},
   "source": [
    "Não que seja necessário nesse caso, mas podemos reduzir o uso de memória alterando os dtypes."
   ]
  },
  {
   "cell_type": "code",
   "execution_count": 743,
   "metadata": {
    "ExecuteTime": {
     "end_time": "2023-01-30T23:32:00.083101Z",
     "start_time": "2023-01-30T23:32:00.074132Z"
    }
   },
   "outputs": [],
   "source": [
    "int_cols = list(data.select_dtypes('int64').columns) \n",
    "float_cols = list(data.select_dtypes('float64').columns)\n",
    "\n",
    "for col in int_cols:\n",
    "    data[col] = data[col].astype('int16')   # Não temos valores fora de [-32767, +32767]\n",
    "    \n",
    "for col in float_cols:\n",
    "    data[col] = data[col].astype('float32') # 32bits é suficiente para precisão que temos"
   ]
  },
  {
   "cell_type": "code",
   "execution_count": 744,
   "metadata": {
    "ExecuteTime": {
     "end_time": "2023-01-30T23:32:00.099563Z",
     "start_time": "2023-01-30T23:32:00.087314Z"
    },
    "scrolled": true
   },
   "outputs": [
    {
     "name": "stdout",
     "output_type": "stream",
     "text": [
      "<class 'pandas.core.frame.DataFrame'>\n",
      "RangeIndex: 768 entries, 0 to 767\n",
      "Data columns (total 9 columns):\n",
      " #   Column                    Non-Null Count  Dtype  \n",
      "---  ------                    --------------  -----  \n",
      " 0   Pregnancies               768 non-null    int16  \n",
      " 1   Glucose                   768 non-null    int16  \n",
      " 2   BloodPressure             768 non-null    int16  \n",
      " 3   SkinThickness             768 non-null    int16  \n",
      " 4   Insulin                   768 non-null    int16  \n",
      " 5   BMI                       768 non-null    float32\n",
      " 6   DiabetesPedigreeFunction  768 non-null    float32\n",
      " 7   Age                       768 non-null    int16  \n",
      " 8   Outcome                   768 non-null    int16  \n",
      "dtypes: float32(2), int16(7)\n",
      "memory usage: 16.6 KB\n"
     ]
    }
   ],
   "source": [
    "data.info()"
   ]
  },
  {
   "cell_type": "markdown",
   "metadata": {
    "ExecuteTime": {
     "end_time": "2023-01-20T20:47:05.199243Z",
     "start_time": "2023-01-20T20:47:05.191804Z"
    }
   },
   "source": [
    "Tivemos uma redução significativa de uso de memória."
   ]
  },
  {
   "cell_type": "code",
   "execution_count": 745,
   "metadata": {
    "ExecuteTime": {
     "end_time": "2023-01-30T23:32:00.114013Z",
     "start_time": "2023-01-30T23:32:00.102791Z"
    },
    "scrolled": true
   },
   "outputs": [
    {
     "name": "stdout",
     "output_type": "stream",
     "text": [
      "111 valores nulos (14.5 %) em Pregnancies.\n",
      "5 valores nulos (0.7 %) em Glucose.\n",
      "35 valores nulos (4.6 %) em BloodPressure.\n",
      "227 valores nulos (29.6 %) em SkinThickness.\n",
      "374 valores nulos (48.7 %) em Insulin.\n",
      "11 valores nulos (1.4 %) em BMI.\n",
      "0 valores nulos (0.0 %) em DiabetesPedigreeFunction.\n",
      "0 valores nulos (0.0 %) em Age.\n",
      "500 valores nulos (65.1 %) em Outcome.\n"
     ]
    }
   ],
   "source": [
    "# Checando valores nulos\n",
    "\n",
    "for col in data.columns:\n",
    "    print(f\"{data[col].eq(0).sum()} valores nulos ({100*data[col].eq(0).sum()/data.shape[0]:.1f} %) em {col}.\")"
   ]
  },
  {
   "cell_type": "markdown",
   "metadata": {},
   "source": [
    "Valores nulos de `Glucose`, `BloodPressure`, `SkinThickness`, `Insulin` e `BMI` são na verdade dados faltantes (NaN). A coluna `Insulin` possui uma quantidade significativa de NaN."
   ]
  },
  {
   "cell_type": "markdown",
   "metadata": {},
   "source": [
    "Vamos inspecionar um pouco mais as colunas de Glucose e BMI:"
   ]
  },
  {
   "cell_type": "code",
   "execution_count": 746,
   "metadata": {
    "ExecuteTime": {
     "end_time": "2023-01-30T23:32:00.131737Z",
     "start_time": "2023-01-30T23:32:00.116095Z"
    },
    "scrolled": true
   },
   "outputs": [
    {
     "data": {
      "text/html": [
       "<div>\n",
       "<style scoped>\n",
       "    .dataframe tbody tr th:only-of-type {\n",
       "        vertical-align: middle;\n",
       "    }\n",
       "\n",
       "    .dataframe tbody tr th {\n",
       "        vertical-align: top;\n",
       "    }\n",
       "\n",
       "    .dataframe thead th {\n",
       "        text-align: right;\n",
       "    }\n",
       "</style>\n",
       "<table border=\"1\" class=\"dataframe\">\n",
       "  <thead>\n",
       "    <tr style=\"text-align: right;\">\n",
       "      <th></th>\n",
       "      <th>Pregnancies</th>\n",
       "      <th>Glucose</th>\n",
       "      <th>BloodPressure</th>\n",
       "      <th>SkinThickness</th>\n",
       "      <th>Insulin</th>\n",
       "      <th>BMI</th>\n",
       "      <th>DiabetesPedigreeFunction</th>\n",
       "      <th>Age</th>\n",
       "      <th>Outcome</th>\n",
       "    </tr>\n",
       "  </thead>\n",
       "  <tbody>\n",
       "    <tr>\n",
       "      <th>75</th>\n",
       "      <td>1</td>\n",
       "      <td>0</td>\n",
       "      <td>48</td>\n",
       "      <td>20</td>\n",
       "      <td>0</td>\n",
       "      <td>24.700001</td>\n",
       "      <td>0.140</td>\n",
       "      <td>22</td>\n",
       "      <td>0</td>\n",
       "    </tr>\n",
       "    <tr>\n",
       "      <th>182</th>\n",
       "      <td>1</td>\n",
       "      <td>0</td>\n",
       "      <td>74</td>\n",
       "      <td>20</td>\n",
       "      <td>23</td>\n",
       "      <td>27.700001</td>\n",
       "      <td>0.299</td>\n",
       "      <td>21</td>\n",
       "      <td>0</td>\n",
       "    </tr>\n",
       "    <tr>\n",
       "      <th>342</th>\n",
       "      <td>1</td>\n",
       "      <td>0</td>\n",
       "      <td>68</td>\n",
       "      <td>35</td>\n",
       "      <td>0</td>\n",
       "      <td>32.000000</td>\n",
       "      <td>0.389</td>\n",
       "      <td>22</td>\n",
       "      <td>0</td>\n",
       "    </tr>\n",
       "    <tr>\n",
       "      <th>349</th>\n",
       "      <td>5</td>\n",
       "      <td>0</td>\n",
       "      <td>80</td>\n",
       "      <td>32</td>\n",
       "      <td>0</td>\n",
       "      <td>41.000000</td>\n",
       "      <td>0.346</td>\n",
       "      <td>37</td>\n",
       "      <td>1</td>\n",
       "    </tr>\n",
       "    <tr>\n",
       "      <th>502</th>\n",
       "      <td>6</td>\n",
       "      <td>0</td>\n",
       "      <td>68</td>\n",
       "      <td>41</td>\n",
       "      <td>0</td>\n",
       "      <td>39.000000</td>\n",
       "      <td>0.727</td>\n",
       "      <td>41</td>\n",
       "      <td>1</td>\n",
       "    </tr>\n",
       "  </tbody>\n",
       "</table>\n",
       "</div>"
      ],
      "text/plain": [
       "     Pregnancies  Glucose  BloodPressure  SkinThickness  Insulin        BMI  \\\n",
       "75             1        0             48             20        0  24.700001   \n",
       "182            1        0             74             20       23  27.700001   \n",
       "342            1        0             68             35        0  32.000000   \n",
       "349            5        0             80             32        0  41.000000   \n",
       "502            6        0             68             41        0  39.000000   \n",
       "\n",
       "     DiabetesPedigreeFunction  Age  Outcome  \n",
       "75                      0.140   22        0  \n",
       "182                     0.299   21        0  \n",
       "342                     0.389   22        0  \n",
       "349                     0.346   37        1  \n",
       "502                     0.727   41        1  "
      ]
     },
     "execution_count": 746,
     "metadata": {},
     "output_type": "execute_result"
    }
   ],
   "source": [
    "# NaN em Glucose\n",
    "\n",
    "data[data[\"Glucose\"] == 0]"
   ]
  },
  {
   "cell_type": "code",
   "execution_count": 747,
   "metadata": {
    "ExecuteTime": {
     "end_time": "2023-01-30T23:32:00.149155Z",
     "start_time": "2023-01-30T23:32:00.134957Z"
    },
    "scrolled": true
   },
   "outputs": [
    {
     "data": {
      "text/html": [
       "<div>\n",
       "<style scoped>\n",
       "    .dataframe tbody tr th:only-of-type {\n",
       "        vertical-align: middle;\n",
       "    }\n",
       "\n",
       "    .dataframe tbody tr th {\n",
       "        vertical-align: top;\n",
       "    }\n",
       "\n",
       "    .dataframe thead th {\n",
       "        text-align: right;\n",
       "    }\n",
       "</style>\n",
       "<table border=\"1\" class=\"dataframe\">\n",
       "  <thead>\n",
       "    <tr style=\"text-align: right;\">\n",
       "      <th></th>\n",
       "      <th>Pregnancies</th>\n",
       "      <th>Glucose</th>\n",
       "      <th>BloodPressure</th>\n",
       "      <th>SkinThickness</th>\n",
       "      <th>Insulin</th>\n",
       "      <th>BMI</th>\n",
       "      <th>DiabetesPedigreeFunction</th>\n",
       "      <th>Age</th>\n",
       "      <th>Outcome</th>\n",
       "    </tr>\n",
       "  </thead>\n",
       "  <tbody>\n",
       "    <tr>\n",
       "      <th>9</th>\n",
       "      <td>8</td>\n",
       "      <td>125</td>\n",
       "      <td>96</td>\n",
       "      <td>0</td>\n",
       "      <td>0</td>\n",
       "      <td>0.0</td>\n",
       "      <td>0.232</td>\n",
       "      <td>54</td>\n",
       "      <td>1</td>\n",
       "    </tr>\n",
       "    <tr>\n",
       "      <th>49</th>\n",
       "      <td>7</td>\n",
       "      <td>105</td>\n",
       "      <td>0</td>\n",
       "      <td>0</td>\n",
       "      <td>0</td>\n",
       "      <td>0.0</td>\n",
       "      <td>0.305</td>\n",
       "      <td>24</td>\n",
       "      <td>0</td>\n",
       "    </tr>\n",
       "    <tr>\n",
       "      <th>60</th>\n",
       "      <td>2</td>\n",
       "      <td>84</td>\n",
       "      <td>0</td>\n",
       "      <td>0</td>\n",
       "      <td>0</td>\n",
       "      <td>0.0</td>\n",
       "      <td>0.304</td>\n",
       "      <td>21</td>\n",
       "      <td>0</td>\n",
       "    </tr>\n",
       "    <tr>\n",
       "      <th>81</th>\n",
       "      <td>2</td>\n",
       "      <td>74</td>\n",
       "      <td>0</td>\n",
       "      <td>0</td>\n",
       "      <td>0</td>\n",
       "      <td>0.0</td>\n",
       "      <td>0.102</td>\n",
       "      <td>22</td>\n",
       "      <td>0</td>\n",
       "    </tr>\n",
       "    <tr>\n",
       "      <th>145</th>\n",
       "      <td>0</td>\n",
       "      <td>102</td>\n",
       "      <td>75</td>\n",
       "      <td>23</td>\n",
       "      <td>0</td>\n",
       "      <td>0.0</td>\n",
       "      <td>0.572</td>\n",
       "      <td>21</td>\n",
       "      <td>0</td>\n",
       "    </tr>\n",
       "    <tr>\n",
       "      <th>371</th>\n",
       "      <td>0</td>\n",
       "      <td>118</td>\n",
       "      <td>64</td>\n",
       "      <td>23</td>\n",
       "      <td>89</td>\n",
       "      <td>0.0</td>\n",
       "      <td>1.731</td>\n",
       "      <td>21</td>\n",
       "      <td>0</td>\n",
       "    </tr>\n",
       "    <tr>\n",
       "      <th>426</th>\n",
       "      <td>0</td>\n",
       "      <td>94</td>\n",
       "      <td>0</td>\n",
       "      <td>0</td>\n",
       "      <td>0</td>\n",
       "      <td>0.0</td>\n",
       "      <td>0.256</td>\n",
       "      <td>25</td>\n",
       "      <td>0</td>\n",
       "    </tr>\n",
       "    <tr>\n",
       "      <th>494</th>\n",
       "      <td>3</td>\n",
       "      <td>80</td>\n",
       "      <td>0</td>\n",
       "      <td>0</td>\n",
       "      <td>0</td>\n",
       "      <td>0.0</td>\n",
       "      <td>0.174</td>\n",
       "      <td>22</td>\n",
       "      <td>0</td>\n",
       "    </tr>\n",
       "    <tr>\n",
       "      <th>522</th>\n",
       "      <td>6</td>\n",
       "      <td>114</td>\n",
       "      <td>0</td>\n",
       "      <td>0</td>\n",
       "      <td>0</td>\n",
       "      <td>0.0</td>\n",
       "      <td>0.189</td>\n",
       "      <td>26</td>\n",
       "      <td>0</td>\n",
       "    </tr>\n",
       "    <tr>\n",
       "      <th>684</th>\n",
       "      <td>5</td>\n",
       "      <td>136</td>\n",
       "      <td>82</td>\n",
       "      <td>0</td>\n",
       "      <td>0</td>\n",
       "      <td>0.0</td>\n",
       "      <td>0.640</td>\n",
       "      <td>69</td>\n",
       "      <td>0</td>\n",
       "    </tr>\n",
       "    <tr>\n",
       "      <th>706</th>\n",
       "      <td>10</td>\n",
       "      <td>115</td>\n",
       "      <td>0</td>\n",
       "      <td>0</td>\n",
       "      <td>0</td>\n",
       "      <td>0.0</td>\n",
       "      <td>0.261</td>\n",
       "      <td>30</td>\n",
       "      <td>1</td>\n",
       "    </tr>\n",
       "  </tbody>\n",
       "</table>\n",
       "</div>"
      ],
      "text/plain": [
       "     Pregnancies  Glucose  BloodPressure  SkinThickness  Insulin  BMI  \\\n",
       "9              8      125             96              0        0  0.0   \n",
       "49             7      105              0              0        0  0.0   \n",
       "60             2       84              0              0        0  0.0   \n",
       "81             2       74              0              0        0  0.0   \n",
       "145            0      102             75             23        0  0.0   \n",
       "371            0      118             64             23       89  0.0   \n",
       "426            0       94              0              0        0  0.0   \n",
       "494            3       80              0              0        0  0.0   \n",
       "522            6      114              0              0        0  0.0   \n",
       "684            5      136             82              0        0  0.0   \n",
       "706           10      115              0              0        0  0.0   \n",
       "\n",
       "     DiabetesPedigreeFunction  Age  Outcome  \n",
       "9                       0.232   54        1  \n",
       "49                      0.305   24        0  \n",
       "60                      0.304   21        0  \n",
       "81                      0.102   22        0  \n",
       "145                     0.572   21        0  \n",
       "371                     1.731   21        0  \n",
       "426                     0.256   25        0  \n",
       "494                     0.174   22        0  \n",
       "522                     0.189   26        0  \n",
       "684                     0.640   69        0  \n",
       "706                     0.261   30        1  "
      ]
     },
     "execution_count": 747,
     "metadata": {},
     "output_type": "execute_result"
    }
   ],
   "source": [
    "# NaN em BMI\n",
    "\n",
    "data[data[\"BMI\"] == 0]"
   ]
  },
  {
   "cell_type": "markdown",
   "metadata": {},
   "source": [
    "Um número grande de instâncias que tem valor nulo em `BMI` são de pacientes não-diabéticos. Existem poucas instâncias nulas em `Glucose` e são relativamente homogêneas."
   ]
  },
  {
   "cell_type": "markdown",
   "metadata": {},
   "source": [
    "## EDA (Análise exploratória de dados)"
   ]
  },
  {
   "cell_type": "markdown",
   "metadata": {},
   "source": [
    "Aqui vamos plotar alguns gráficos para verificar a distribuição das varíaveis. Optei por retirar os dados nulos do plot para facilitar a visualização."
   ]
  },
  {
   "cell_type": "code",
   "execution_count": 748,
   "metadata": {
    "ExecuteTime": {
     "end_time": "2023-01-30T23:32:00.482310Z",
     "start_time": "2023-01-30T23:32:00.151260Z"
    },
    "scrolled": true
   },
   "outputs": [
    {
     "data": {
      "image/png": "[encoded data removed]",
      "text/plain": [
       "<Figure size 432x288 with 1 Axes>"
      ]
     },
     "metadata": {
      "needs_background": "light"
     },
     "output_type": "display_data"
    }
   ],
   "source": [
    "_ = sns.histplot(data, x=\"Pregnancies\", hue=\"Outcome\", discrete=True)"
   ]
  },
  {
   "cell_type": "code",
   "execution_count": 749,
   "metadata": {
    "ExecuteTime": {
     "end_time": "2023-01-30T23:32:00.808755Z",
     "start_time": "2023-01-30T23:32:00.484638Z"
    },
    "scrolled": true
   },
   "outputs": [
    {
     "data": {
      "image/png": "[encoded data removed]",
      "text/plain": [
       "<Figure size 432x288 with 1 Axes>"
      ]
     },
     "metadata": {
      "needs_background": "light"
     },
     "output_type": "display_data"
    }
   ],
   "source": [
    "_ = sns.histplot(data[data[\"Glucose\"] != 0], x=\"Glucose\", hue=\"Outcome\")"
   ]
  },
  {
   "cell_type": "code",
   "execution_count": 750,
   "metadata": {
    "ExecuteTime": {
     "end_time": "2023-01-30T23:32:00.847993Z",
     "start_time": "2023-01-30T23:32:00.811483Z"
    }
   },
   "outputs": [
    {
     "data": {
      "text/html": [
       "<div>\n",
       "<style scoped>\n",
       "    .dataframe tbody tr th:only-of-type {\n",
       "        vertical-align: middle;\n",
       "    }\n",
       "\n",
       "    .dataframe tbody tr th {\n",
       "        vertical-align: top;\n",
       "    }\n",
       "\n",
       "    .dataframe thead tr th {\n",
       "        text-align: left;\n",
       "    }\n",
       "\n",
       "    .dataframe thead tr:last-of-type th {\n",
       "        text-align: right;\n",
       "    }\n",
       "</style>\n",
       "<table border=\"1\" class=\"dataframe\">\n",
       "  <thead>\n",
       "    <tr>\n",
       "      <th></th>\n",
       "      <th colspan=\"8\" halign=\"left\">Glucose</th>\n",
       "    </tr>\n",
       "    <tr>\n",
       "      <th></th>\n",
       "      <th>count</th>\n",
       "      <th>mean</th>\n",
       "      <th>std</th>\n",
       "      <th>min</th>\n",
       "      <th>25%</th>\n",
       "      <th>50%</th>\n",
       "      <th>75%</th>\n",
       "      <th>max</th>\n",
       "    </tr>\n",
       "    <tr>\n",
       "      <th>Outcome</th>\n",
       "      <th></th>\n",
       "      <th></th>\n",
       "      <th></th>\n",
       "      <th></th>\n",
       "      <th></th>\n",
       "      <th></th>\n",
       "      <th></th>\n",
       "      <th></th>\n",
       "    </tr>\n",
       "  </thead>\n",
       "  <tbody>\n",
       "    <tr>\n",
       "      <th>0</th>\n",
       "      <td>497.0</td>\n",
       "      <td>110.643863</td>\n",
       "      <td>24.776906</td>\n",
       "      <td>44.0</td>\n",
       "      <td>93.0</td>\n",
       "      <td>107.0</td>\n",
       "      <td>125.0</td>\n",
       "      <td>197.0</td>\n",
       "    </tr>\n",
       "    <tr>\n",
       "      <th>1</th>\n",
       "      <td>266.0</td>\n",
       "      <td>142.319549</td>\n",
       "      <td>29.599199</td>\n",
       "      <td>78.0</td>\n",
       "      <td>119.0</td>\n",
       "      <td>140.0</td>\n",
       "      <td>167.0</td>\n",
       "      <td>199.0</td>\n",
       "    </tr>\n",
       "  </tbody>\n",
       "</table>\n",
       "</div>"
      ],
      "text/plain": [
       "        Glucose                                                         \n",
       "          count        mean        std   min    25%    50%    75%    max\n",
       "Outcome                                                                 \n",
       "0         497.0  110.643863  24.776906  44.0   93.0  107.0  125.0  197.0\n",
       "1         266.0  142.319549  29.599199  78.0  119.0  140.0  167.0  199.0"
      ]
     },
     "execution_count": 750,
     "metadata": {},
     "output_type": "execute_result"
    }
   ],
   "source": [
    "# Algumas métricas separadas para outcomes\n",
    "\n",
    "data.loc[data['Glucose'] > 0,['Outcome', 'Glucose']].groupby('Outcome').describe()"
   ]
  },
  {
   "cell_type": "markdown",
   "metadata": {},
   "source": [
    "As médias são razoavelmente diferentes, mas os desvios são relativamentos próximos."
   ]
  },
  {
   "cell_type": "code",
   "execution_count": 751,
   "metadata": {
    "ExecuteTime": {
     "end_time": "2023-01-30T23:32:01.254009Z",
     "start_time": "2023-01-30T23:32:00.850651Z"
    }
   },
   "outputs": [
    {
     "data": {
      "image/png": "[encoded data removed]",
      "text/plain": [
       "<Figure size 432x288 with 1 Axes>"
      ]
     },
     "metadata": {
      "needs_background": "light"
     },
     "output_type": "display_data"
    }
   ],
   "source": [
    "_ = sns.histplot(data[data[\"BloodPressure\"] != 0], x=\"BloodPressure\", hue=\"Outcome\")"
   ]
  },
  {
   "cell_type": "code",
   "execution_count": 752,
   "metadata": {
    "ExecuteTime": {
     "end_time": "2023-01-30T23:32:01.612478Z",
     "start_time": "2023-01-30T23:32:01.256067Z"
    }
   },
   "outputs": [
    {
     "data": {
      "image/png": "[encoded data removed]",
      "text/plain": [
       "<Figure size 432x288 with 1 Axes>"
      ]
     },
     "metadata": {
      "needs_background": "light"
     },
     "output_type": "display_data"
    }
   ],
   "source": [
    "_ = sns.histplot(data[data[\"SkinThickness\"] != 0], x=\"SkinThickness\", hue=\"Outcome\")"
   ]
  },
  {
   "cell_type": "code",
   "execution_count": 753,
   "metadata": {
    "ExecuteTime": {
     "end_time": "2023-01-30T23:32:01.974059Z",
     "start_time": "2023-01-30T23:32:01.614938Z"
    }
   },
   "outputs": [
    {
     "data": {
      "image/png": "[encoded data removed]",
      "text/plain": [
       "<Figure size 432x288 with 1 Axes>"
      ]
     },
     "metadata": {
      "needs_background": "light"
     },
     "output_type": "display_data"
    }
   ],
   "source": [
    "_ = sns.histplot(data[data[\"Insulin\"] != 0], x=\"Insulin\", hue=\"Outcome\")"
   ]
  },
  {
   "cell_type": "code",
   "execution_count": 754,
   "metadata": {
    "ExecuteTime": {
     "end_time": "2023-01-30T23:32:02.163793Z",
     "start_time": "2023-01-30T23:32:01.976297Z"
    },
    "scrolled": true
   },
   "outputs": [
    {
     "data": {
      "image/png": "[encoded data removed]",
      "text/plain": [
       "<Figure size 432x288 with 1 Axes>"
      ]
     },
     "metadata": {
      "needs_background": "light"
     },
     "output_type": "display_data"
    }
   ],
   "source": [
    "_ = sns.boxplot(data=data[data[\"Insulin\"] != 0], x=\"Outcome\", y=\"Insulin\")"
   ]
  },
  {
   "cell_type": "code",
   "execution_count": 755,
   "metadata": {
    "ExecuteTime": {
     "end_time": "2023-01-30T23:32:02.513442Z",
     "start_time": "2023-01-30T23:32:02.166101Z"
    },
    "scrolled": true
   },
   "outputs": [
    {
     "data": {
      "image/png": "[encoded data removed]",
      "text/plain": [
       "<Figure size 432x288 with 1 Axes>"
      ]
     },
     "metadata": {
      "needs_background": "light"
     },
     "output_type": "display_data"
    }
   ],
   "source": [
    "_ = sns.histplot(data[data[\"BMI\"] != 0], x=\"BMI\", hue=\"Outcome\")"
   ]
  },
  {
   "cell_type": "code",
   "execution_count": 756,
   "metadata": {
    "ExecuteTime": {
     "end_time": "2023-01-30T23:32:02.953647Z",
     "start_time": "2023-01-30T23:32:02.515523Z"
    }
   },
   "outputs": [
    {
     "data": {
      "image/png": "[encoded data removed]",
      "text/plain": [
       "<Figure size 432x288 with 1 Axes>"
      ]
     },
     "metadata": {
      "needs_background": "light"
     },
     "output_type": "display_data"
    }
   ],
   "source": [
    "_ = sns.histplot(data, x=\"DiabetesPedigreeFunction\", hue=\"Outcome\")"
   ]
  },
  {
   "cell_type": "code",
   "execution_count": 757,
   "metadata": {
    "ExecuteTime": {
     "end_time": "2023-01-30T23:32:03.285396Z",
     "start_time": "2023-01-30T23:32:02.956843Z"
    }
   },
   "outputs": [
    {
     "data": {
      "image/png": "[encoded data removed]",
      "text/plain": [
       "<Figure size 432x288 with 1 Axes>"
      ]
     },
     "metadata": {
      "needs_background": "light"
     },
     "output_type": "display_data"
    }
   ],
   "source": [
    "_ = sns.histplot(data, x=\"Age\", hue=\"Outcome\")"
   ]
  },
  {
   "cell_type": "code",
   "execution_count": 758,
   "metadata": {
    "ExecuteTime": {
     "end_time": "2023-01-30T23:32:03.449930Z",
     "start_time": "2023-01-30T23:32:03.287369Z"
    }
   },
   "outputs": [
    {
     "data": {
      "image/png": "[encoded data removed]",
      "text/plain": [
       "<Figure size 432x288 with 1 Axes>"
      ]
     },
     "metadata": {
      "needs_background": "light"
     },
     "output_type": "display_data"
    }
   ],
   "source": [
    "sns.countplot(x=data['Outcome']);"
   ]
  },
  {
   "cell_type": "code",
   "execution_count": 759,
   "metadata": {
    "ExecuteTime": {
     "end_time": "2023-01-30T23:32:03.470804Z",
     "start_time": "2023-01-30T23:32:03.463528Z"
    }
   },
   "outputs": [
    {
     "data": {
      "text/plain": [
       "0    0.651042\n",
       "1    0.348958\n",
       "Name: Outcome, dtype: float64"
      ]
     },
     "execution_count": 759,
     "metadata": {},
     "output_type": "execute_result"
    }
   ],
   "source": [
    "# Percentual dos outcomes\n",
    "data['Outcome'].value_counts(normalize=True)"
   ]
  },
  {
   "cell_type": "code",
   "execution_count": 760,
   "metadata": {
    "ExecuteTime": {
     "end_time": "2023-01-30T23:32:04.194482Z",
     "start_time": "2023-01-30T23:32:03.474569Z"
    },
    "scrolled": false
   },
   "outputs": [
    {
     "name": "stdout",
     "output_type": "stream",
     "text": [
      "Outcome                     1.000000\n",
      "Glucose                     0.466581\n",
      "BMI                         0.292695\n",
      "Age                         0.238356\n",
      "Pregnancies                 0.221898\n",
      "DiabetesPedigreeFunction    0.173844\n",
      "Insulin                     0.130548\n",
      "SkinThickness               0.074752\n",
      "BloodPressure               0.065068\n",
      "Name: Outcome, dtype: float64\n"
     ]
    },
    {
     "data": {
      "image/png": "[encoded data removed]",
      "text/plain": [
       "<Figure size 576x504 with 2 Axes>"
      ]
     },
     "metadata": {
      "needs_background": "light"
     },
     "output_type": "display_data"
    }
   ],
   "source": [
    "def correlacao(data):\n",
    "    corr_matrix = data.corr()\n",
    "    print(corr_matrix[\"Outcome\"].sort_values(ascending=False))   \n",
    "\n",
    "correlacao(data)\n",
    "\n",
    "plt.figure(figsize=(8,7))\n",
    "_ = sns.heatmap(data=data.corr(), annot=True)"
   ]
  },
  {
   "cell_type": "markdown",
   "metadata": {},
   "source": [
    "A partir da EDA podemos concluir que nossa *target* `Outcome` é suficientemente balanceada e é bem correlacionada com `Glucose`, `BMI`, `Age` e `Preganancies`. Entretanto, parece já existir uma dependência entre `Age` e `Preganancies`. Também parece haver algum grau de codepêndencia entre `SkinThickness`, `BMI` e `Insulin`."
   ]
  },
  {
   "cell_type": "markdown",
   "metadata": {},
   "source": [
    "## Redifinindo dados faltantes e separação treino/teste"
   ]
  },
  {
   "cell_type": "markdown",
   "metadata": {},
   "source": [
    "A partir de agora corrigiremos os valores nulos por NaN e reservaremos nosso dataset de teste para o final."
   ]
  },
  {
   "cell_type": "code",
   "execution_count": 761,
   "metadata": {
    "ExecuteTime": {
     "end_time": "2023-01-30T23:32:04.224305Z",
     "start_time": "2023-01-30T23:32:04.200474Z"
    },
    "scrolled": false
   },
   "outputs": [
    {
     "data": {
      "text/html": [
       "<div>\n",
       "<style scoped>\n",
       "    .dataframe tbody tr th:only-of-type {\n",
       "        vertical-align: middle;\n",
       "    }\n",
       "\n",
       "    .dataframe tbody tr th {\n",
       "        vertical-align: top;\n",
       "    }\n",
       "\n",
       "    .dataframe thead th {\n",
       "        text-align: right;\n",
       "    }\n",
       "</style>\n",
       "<table border=\"1\" class=\"dataframe\">\n",
       "  <thead>\n",
       "    <tr style=\"text-align: right;\">\n",
       "      <th></th>\n",
       "      <th>Pregnancies</th>\n",
       "      <th>Glucose</th>\n",
       "      <th>BloodPressure</th>\n",
       "      <th>SkinThickness</th>\n",
       "      <th>Insulin</th>\n",
       "      <th>BMI</th>\n",
       "      <th>DiabetesPedigreeFunction</th>\n",
       "      <th>Age</th>\n",
       "      <th>Outcome</th>\n",
       "    </tr>\n",
       "  </thead>\n",
       "  <tbody>\n",
       "    <tr>\n",
       "      <th>0</th>\n",
       "      <td>6</td>\n",
       "      <td>148.0</td>\n",
       "      <td>72.0</td>\n",
       "      <td>35.0</td>\n",
       "      <td>NaN</td>\n",
       "      <td>33.599998</td>\n",
       "      <td>0.627</td>\n",
       "      <td>50</td>\n",
       "      <td>1</td>\n",
       "    </tr>\n",
       "    <tr>\n",
       "      <th>1</th>\n",
       "      <td>1</td>\n",
       "      <td>85.0</td>\n",
       "      <td>66.0</td>\n",
       "      <td>29.0</td>\n",
       "      <td>NaN</td>\n",
       "      <td>26.600000</td>\n",
       "      <td>0.351</td>\n",
       "      <td>31</td>\n",
       "      <td>0</td>\n",
       "    </tr>\n",
       "    <tr>\n",
       "      <th>2</th>\n",
       "      <td>8</td>\n",
       "      <td>183.0</td>\n",
       "      <td>64.0</td>\n",
       "      <td>NaN</td>\n",
       "      <td>NaN</td>\n",
       "      <td>23.299999</td>\n",
       "      <td>0.672</td>\n",
       "      <td>32</td>\n",
       "      <td>1</td>\n",
       "    </tr>\n",
       "    <tr>\n",
       "      <th>3</th>\n",
       "      <td>1</td>\n",
       "      <td>89.0</td>\n",
       "      <td>66.0</td>\n",
       "      <td>23.0</td>\n",
       "      <td>94.0</td>\n",
       "      <td>28.100000</td>\n",
       "      <td>0.167</td>\n",
       "      <td>21</td>\n",
       "      <td>0</td>\n",
       "    </tr>\n",
       "    <tr>\n",
       "      <th>4</th>\n",
       "      <td>0</td>\n",
       "      <td>137.0</td>\n",
       "      <td>40.0</td>\n",
       "      <td>35.0</td>\n",
       "      <td>168.0</td>\n",
       "      <td>43.099998</td>\n",
       "      <td>2.288</td>\n",
       "      <td>33</td>\n",
       "      <td>1</td>\n",
       "    </tr>\n",
       "  </tbody>\n",
       "</table>\n",
       "</div>"
      ],
      "text/plain": [
       "   Pregnancies  Glucose  BloodPressure  SkinThickness  Insulin        BMI  \\\n",
       "0            6    148.0           72.0           35.0      NaN  33.599998   \n",
       "1            1     85.0           66.0           29.0      NaN  26.600000   \n",
       "2            8    183.0           64.0            NaN      NaN  23.299999   \n",
       "3            1     89.0           66.0           23.0     94.0  28.100000   \n",
       "4            0    137.0           40.0           35.0    168.0  43.099998   \n",
       "\n",
       "   DiabetesPedigreeFunction  Age  Outcome  \n",
       "0                     0.627   50        1  \n",
       "1                     0.351   31        0  \n",
       "2                     0.672   32        1  \n",
       "3                     0.167   21        0  \n",
       "4                     2.288   33        1  "
      ]
     },
     "execution_count": 761,
     "metadata": {},
     "output_type": "execute_result"
    }
   ],
   "source": [
    "# Vamos substituir 0 por NaN\n",
    "\n",
    "data_nan = data.copy()\n",
    "\n",
    "cols = [\"Glucose\", \"BloodPressure\", \"SkinThickness\", \"Insulin\", \"BMI\"]\n",
    "for col in cols:\n",
    "    data_nan[col] = data_nan[col].replace(0, np.nan)\n",
    "\n",
    "data_nan.head()"
   ]
  },
  {
   "cell_type": "code",
   "execution_count": 762,
   "metadata": {
    "ExecuteTime": {
     "end_time": "2023-01-30T23:32:04.246452Z",
     "start_time": "2023-01-30T23:32:04.226929Z"
    }
   },
   "outputs": [
    {
     "name": "stdout",
     "output_type": "stream",
     "text": [
      "<class 'pandas.core.frame.DataFrame'>\n",
      "RangeIndex: 768 entries, 0 to 767\n",
      "Data columns (total 9 columns):\n",
      " #   Column                    Non-Null Count  Dtype  \n",
      "---  ------                    --------------  -----  \n",
      " 0   Pregnancies               768 non-null    int16  \n",
      " 1   Glucose                   763 non-null    float64\n",
      " 2   BloodPressure             733 non-null    float64\n",
      " 3   SkinThickness             541 non-null    float64\n",
      " 4   Insulin                   394 non-null    float64\n",
      " 5   BMI                       757 non-null    float32\n",
      " 6   DiabetesPedigreeFunction  768 non-null    float32\n",
      " 7   Age                       768 non-null    int16  \n",
      " 8   Outcome                   768 non-null    int16  \n",
      "dtypes: float32(2), float64(4), int16(3)\n",
      "memory usage: 34.6 KB\n"
     ]
    }
   ],
   "source": [
    "data_nan.info()"
   ]
  },
  {
   "cell_type": "markdown",
   "metadata": {
    "ExecuteTime": {
     "end_time": "2023-01-20T20:56:29.111709Z",
     "start_time": "2023-01-20T20:56:29.098666Z"
    }
   },
   "source": [
    "As colunas que tinham NaN viram floats uma vez que esse tipo de dado não é suportado por integers."
   ]
  },
  {
   "cell_type": "code",
   "execution_count": 763,
   "metadata": {
    "ExecuteTime": {
     "end_time": "2023-01-30T23:32:04.261942Z",
     "start_time": "2023-01-30T23:32:04.248783Z"
    }
   },
   "outputs": [],
   "source": [
    "# Separação de features e targets\n",
    "X = data_nan.drop('Outcome', axis=1)\n",
    "y = data_nan['Outcome']\n",
    "\n",
    "# Train test split\n",
    "X_train, X_test, y_train, y_test = train_test_split(X, y, train_size=0.75, stratify=y, random_state=42)"
   ]
  },
  {
   "cell_type": "markdown",
   "metadata": {},
   "source": [
    "## Modelo de referência"
   ]
  },
  {
   "cell_type": "markdown",
   "metadata": {
    "ExecuteTime": {
     "end_time": "2023-01-12T23:01:30.912750Z",
     "start_time": "2023-01-12T23:01:30.897515Z"
    }
   },
   "source": [
    "Nosso modelo heurístico é baseado no fato que a taxa de glicose deve ser o parâmetro mais importante para determinar se um paciente é diabético. Dito isto, vamos tentar achar um valor ideal de `Glucose` que nos dê o melhor resultado."
   ]
  },
  {
   "cell_type": "code",
   "execution_count": 764,
   "metadata": {
    "ExecuteTime": {
     "end_time": "2023-01-30T23:32:04.274682Z",
     "start_time": "2023-01-30T23:32:04.264451Z"
    }
   },
   "outputs": [],
   "source": [
    "# Criar um X,y para modelo de referência, dropando os NaNs\n",
    "\n",
    "filtro_nan = X_train['Glucose'].isna()\n",
    "index_nan = X_train[filtro_nan].index.tolist()\n",
    "\n",
    "X_train_heuristic = X_train[['Glucose']].drop(index=index_nan)\n",
    "y_train_heuristic = y_train.drop(index=index_nan)"
   ]
  },
  {
   "cell_type": "code",
   "execution_count": 765,
   "metadata": {
    "ExecuteTime": {
     "end_time": "2023-01-30T23:32:05.098245Z",
     "start_time": "2023-01-30T23:32:04.277723Z"
    },
    "scrolled": false
   },
   "outputs": [],
   "source": [
    "# Treinando o modelo\n",
    "\n",
    "glucose_thr = np.arange(62, 198, 1)\n",
    "accuracy_list = []\n",
    "recall_list = []\n",
    "precision_list = []\n",
    "\n",
    "def test_glucose(gl, thr):\n",
    "    if gl >= thr:\n",
    "        return 1\n",
    "    else:\n",
    "        return 0\n",
    "    \n",
    "for thr in glucose_thr:\n",
    "    outcome_predict = X_train_heuristic[\"Glucose\"].apply(test_glucose, thr=thr)\n",
    "    \n",
    "    accuracy = np.round(accuracy_score(y_train_heuristic, outcome_predict), 4)\n",
    "    precision = np.round(precision_score(y_train_heuristic, outcome_predict), 4)\n",
    "    recall = np.round(recall_score(y_train_heuristic, outcome_predict), 4)\n",
    "    \n",
    "    accuracy_list.append(accuracy)\n",
    "    precision_list.append(precision)\n",
    "    recall_list.append(recall)"
   ]
  },
  {
   "cell_type": "markdown",
   "metadata": {},
   "source": [
    "Utilizaremos o cruzamento entre precision e recall: ainda conservamos um bom recall, temos um alguma precisão e estamos um bom ponto de acurácia."
   ]
  },
  {
   "cell_type": "code",
   "execution_count": 766,
   "metadata": {
    "ExecuteTime": {
     "end_time": "2023-01-30T23:32:05.105466Z",
     "start_time": "2023-01-30T23:32:05.100505Z"
    }
   },
   "outputs": [],
   "source": [
    "idx = np.where(np.isclose(np.array(precision_list), np.array(recall_list), rtol=4e-2))[0][0]\n",
    "thr_heuristic = glucose_thr[idx]\n",
    "train_recall = recall_list[idx]\n",
    "train_precision = precision_list[idx]\n",
    "train_accuracy = accuracy_list[idx]"
   ]
  },
  {
   "cell_type": "code",
   "execution_count": 767,
   "metadata": {
    "ExecuteTime": {
     "end_time": "2023-01-30T23:32:05.386255Z",
     "start_time": "2023-01-30T23:32:05.107698Z"
    }
   },
   "outputs": [
    {
     "data": {
      "image/png": "[encoded data removed]",
      "text/plain": [
       "<Figure size 432x288 with 1 Axes>"
      ]
     },
     "metadata": {
      "needs_background": "light"
     },
     "output_type": "display_data"
    }
   ],
   "source": [
    "plt.plot(glucose_thr, accuracy_list, label='Accuracy')\n",
    "plt.plot(glucose_thr, precision_list, label='Precision')\n",
    "plt.plot(glucose_thr, recall_list, label='Recall')\n",
    "plt.hlines(y=train_recall, xmin=60, xmax=thr_heuristic, linestyle=':', linewidth=1, color='r')\n",
    "plt.vlines(x=thr_heuristic, ymin=0.0, ymax=train_recall, linestyle=':', linewidth=1, color='r')\n",
    "plt.xlabel(\"Limite de glicose\")\n",
    "plt.legend()\n",
    "plt.show()"
   ]
  },
  {
   "cell_type": "code",
   "execution_count": 768,
   "metadata": {
    "ExecuteTime": {
     "end_time": "2023-01-30T23:32:05.405710Z",
     "start_time": "2023-01-30T23:32:05.389865Z"
    }
   },
   "outputs": [
    {
     "name": "stdout",
     "output_type": "stream",
     "text": [
      "Métricas de treino:\n",
      "Acurácia: 0.743\n",
      "Precisão: 0.63\n",
      "Recall: 0.6332\n"
     ]
    }
   ],
   "source": [
    "# Print das métricas de treino\n",
    "\n",
    "print(\"Métricas de treino:\")\n",
    "print(f\"Acurácia: {train_accuracy}\")\n",
    "print(f\"Precisão: {train_precision}\")\n",
    "print(f\"Recall: {train_recall}\")"
   ]
  },
  {
   "cell_type": "markdown",
   "metadata": {},
   "source": [
    "Finalmente, vamos avaliar o modelo com os dados de teste. Essas métricas serão uma das nossas referências para avaliar a performace no final."
   ]
  },
  {
   "cell_type": "code",
   "execution_count": 769,
   "metadata": {
    "ExecuteTime": {
     "end_time": "2023-01-30T23:32:05.424939Z",
     "start_time": "2023-01-30T23:32:05.410368Z"
    }
   },
   "outputs": [],
   "source": [
    "# Removendo NaN do teste\n",
    "\n",
    "filtro_nan = X_test['Glucose'].isna()\n",
    "index_nan = X_test[filtro_nan].index.tolist()\n",
    "\n",
    "X_test_heuristic = X_test[['Glucose']].drop(index=index_nan)\n",
    "y_test_heuristic = y_test.drop(index=index_nan)"
   ]
  },
  {
   "cell_type": "code",
   "execution_count": 770,
   "metadata": {
    "ExecuteTime": {
     "end_time": "2023-01-30T23:32:05.448079Z",
     "start_time": "2023-01-30T23:32:05.429195Z"
    },
    "scrolled": true
   },
   "outputs": [
    {
     "name": "stdout",
     "output_type": "stream",
     "text": [
      "Métricas de teste:\n",
      "Acurácia: 0.712\n",
      "Precisão: 0.5833\n",
      "Recall: 0.6269\n"
     ]
    }
   ],
   "source": [
    "# Predict no dataset de teste\n",
    "\n",
    "outcome_predict = X_test_heuristic[\"Glucose\"].apply(test_glucose, thr=thr_heuristic)\n",
    "\n",
    "accuracy = np.round(accuracy_score(y_test_heuristic, outcome_predict), 4)\n",
    "precision = np.round(precision_score(y_test_heuristic, outcome_predict), 4)\n",
    "recall = np.round(recall_score(y_test_heuristic, outcome_predict), 4)\n",
    "\n",
    "print(\"Métricas de teste:\")\n",
    "print(f\"Acurácia: {accuracy}\")\n",
    "print(f\"Precisão: {precision}\")\n",
    "print(f\"Recall: {recall}\")"
   ]
  },
  {
   "cell_type": "markdown",
   "metadata": {},
   "source": [
    "Ao final também iremos comparar a matriz de confusão:"
   ]
  },
  {
   "cell_type": "code",
   "execution_count": 771,
   "metadata": {
    "ExecuteTime": {
     "end_time": "2023-01-30T23:32:05.682020Z",
     "start_time": "2023-01-30T23:32:05.450493Z"
    }
   },
   "outputs": [
    {
     "data": {
      "image/png": "[encoded data removed]",
      "text/plain": [
       "<Figure size 432x288 with 2 Axes>"
      ]
     },
     "metadata": {
      "needs_background": "light"
     },
     "output_type": "display_data"
    }
   ],
   "source": [
    "# Matriz de confusão para o modelo heurístico\n",
    "\n",
    "cm_heuristic = confusion_matrix(y_test_heuristic, outcome_predict)\n",
    "ConfusionMatrixDisplay(cm_heuristic).plot();"
   ]
  },
  {
   "cell_type": "markdown",
   "metadata": {},
   "source": [
    "# Baseline ML"
   ]
  },
  {
   "cell_type": "markdown",
   "metadata": {},
   "source": [
    "Começaremos aqui a construir um modelo simples de machine learning que sirva de baseline. Faremos o mínimo tratamento dos dados ou otimizações nos modelos no momento. Utilizaremos **validação cruzada** uma vez que temos poucas instâncias no dataset e reservaremos o dataset de teste para a avaliação final."
   ]
  },
  {
   "cell_type": "code",
   "execution_count": 772,
   "metadata": {
    "ExecuteTime": {
     "end_time": "2023-01-30T23:32:05.694057Z",
     "start_time": "2023-01-30T23:32:05.684564Z"
    }
   },
   "outputs": [],
   "source": [
    "# Definindo uma função para avaliar os modelos com validação cruzada\n",
    "\n",
    "def relatorio_cross_val(estimator, X_train, y_train):\n",
    "    \"\"\"Calcula acurácia, precisão e recall utilizando cross validation\"\"\"\n",
    "    \n",
    "    cv_accuracy_score = cross_val_score(estimator, X_train, y_train, cv=5, scoring=\"accuracy\")\n",
    "    cv_precision_score = cross_val_score(estimator, X_train, y_train, cv=5, scoring=\"precision\")\n",
    "    cv_recall_score = cross_val_score(estimator, X_train, y_train, cv=5, scoring=\"recall\")\n",
    "    \n",
    "    cv_accuracy_mean_score = cv_accuracy_score.mean()\n",
    "    cv_accuracy_std_score = cv_accuracy_score.std()\n",
    "    \n",
    "    cv_precision_mean_score = cv_precision_score.mean()\n",
    "    cv_precision_std_score = cv_precision_score.std()\n",
    "    \n",
    "    cv_recall_mean_score = cv_recall_score.mean()\n",
    "    cv_recall_std_score = cv_recall_score.std()\n",
    "    \n",
    "    print(f\"Acurácia média: {np.round(cv_accuracy_mean_score, 4)} (std={np.round(cv_accuracy_std_score, 4)})\")\n",
    "    print(f\"Precisão média: {np.round(cv_precision_mean_score, 4)} (std={np.round(cv_precision_std_score, 4)})\")\n",
    "    print(f\"Recall médio: {np.round(cv_recall_mean_score, 4)} (std={np.round(cv_recall_std_score, 4)})\")"
   ]
  },
  {
   "cell_type": "code",
   "execution_count": 773,
   "metadata": {
    "ExecuteTime": {
     "end_time": "2023-01-30T23:32:05.706566Z",
     "start_time": "2023-01-30T23:32:05.697314Z"
    },
    "scrolled": true
   },
   "outputs": [],
   "source": [
    "# Voltando os NaNs para zero\n",
    "\n",
    "X_train_fillna = X_train.fillna(0)"
   ]
  },
  {
   "cell_type": "markdown",
   "metadata": {},
   "source": [
    "Começaremos com uma *decision tree* para ganhar algum insight sobre os dados:"
   ]
  },
  {
   "cell_type": "code",
   "execution_count": 774,
   "metadata": {
    "ExecuteTime": {
     "end_time": "2023-01-30T23:32:05.877267Z",
     "start_time": "2023-01-30T23:32:05.711340Z"
    }
   },
   "outputs": [
    {
     "name": "stdout",
     "output_type": "stream",
     "text": [
      "Acurácia média: 0.7449 (std=0.0242)\n",
      "Precisão média: 0.7246 (std=0.1252)\n",
      "Recall médio: 0.4971 (std=0.1058)\n"
     ]
    }
   ],
   "source": [
    "# Decision tree\n",
    "\n",
    "tree_clf = DecisionTreeClassifier(max_depth=2, random_state=42)\n",
    "tree_clf.fit(X_train_fillna, y_train)\n",
    "\n",
    "relatorio_cross_val(tree_clf, X_train_fillna, y_train)"
   ]
  },
  {
   "cell_type": "code",
   "execution_count": 775,
   "metadata": {
    "ExecuteTime": {
     "end_time": "2023-01-30T23:32:06.451226Z",
     "start_time": "2023-01-30T23:32:05.881179Z"
    }
   },
   "outputs": [
    {
     "data": {
      "image/png": "[encoded data removed]",
      "text/plain": [
       "<Figure size 864x720 with 1 Axes>"
      ]
     },
     "metadata": {
      "needs_background": "light"
     },
     "output_type": "display_data"
    }
   ],
   "source": [
    "# Plotando árvore\n",
    "\n",
    "fig = plt.figure(figsize=(12,10))\n",
    "_ = tree.plot_tree(tree_clf, \n",
    "                   feature_names=X_train.columns,  \n",
    "                   class_names=True,\n",
    "                   filled=True)"
   ]
  },
  {
   "cell_type": "markdown",
   "metadata": {},
   "source": [
    "Mesmo com uma árvore simples, já temos uma acurácia média de 74,49%. Também confirmamos algumas expectativas: `Glucose`, `Age` e `BMI` são variáveis importantes nesse problema."
   ]
  },
  {
   "cell_type": "markdown",
   "metadata": {},
   "source": [
    "Também podemos treinar uma regressão logística, já que nem todas as features entraram na decision tree. Nesse caso, precisamos normalizar os dados."
   ]
  },
  {
   "cell_type": "code",
   "execution_count": 776,
   "metadata": {
    "ExecuteTime": {
     "end_time": "2023-01-30T23:32:06.550935Z",
     "start_time": "2023-01-30T23:32:06.453435Z"
    },
    "scrolled": true
   },
   "outputs": [
    {
     "name": "stdout",
     "output_type": "stream",
     "text": [
      "Acurácia média: 0.7796 (std=0.0182)\n",
      "Precisão média: 0.7326 (std=0.0562)\n",
      "Recall médio: 0.5918 (std=0.0452)\n"
     ]
    }
   ],
   "source": [
    "# Regressão logística\n",
    "\n",
    "log_clf = LogisticRegression()\n",
    "\n",
    "std_scaler = StandardScaler()\n",
    "X_train_sc = std_scaler.fit_transform(X_train_fillna)\n",
    "\n",
    "log_clf.fit(X_train_sc, y_train)\n",
    "relatorio_cross_val(log_clf, X_train_sc, y_train)"
   ]
  },
  {
   "cell_type": "code",
   "execution_count": 777,
   "metadata": {
    "ExecuteTime": {
     "end_time": "2023-01-30T23:32:23.543589Z",
     "start_time": "2023-01-30T23:32:06.553600Z"
    },
    "scrolled": true
   },
   "outputs": [
    {
     "name": "stdout",
     "output_type": "stream",
     "text": [
      "Acurácia média: 0.7674 (std=0.0248)\n",
      "Precisão média: 0.7198 (std=0.0539)\n",
      "Recall médio: 0.562 (std=0.0991)\n"
     ]
    }
   ],
   "source": [
    "# Random Forest. Escolhi alguns hiperparâmetros.\n",
    "\n",
    "forest_clf = RandomForestClassifier(n_estimators=500, max_depth=6, random_state=42)\n",
    "forest_clf.fit(X_train_sc, y_train)\n",
    "relatorio_cross_val(forest_clf, X_train_sc, y_train)"
   ]
  },
  {
   "cell_type": "markdown",
   "metadata": {},
   "source": [
    "A partir da floresta treinada podemos extrair a importância de cada feature."
   ]
  },
  {
   "cell_type": "code",
   "execution_count": 778,
   "metadata": {
    "ExecuteTime": {
     "end_time": "2023-01-30T23:32:23.617333Z",
     "start_time": "2023-01-30T23:32:23.547585Z"
    }
   },
   "outputs": [
    {
     "data": {
      "text/html": [
       "<div>\n",
       "<style scoped>\n",
       "    .dataframe tbody tr th:only-of-type {\n",
       "        vertical-align: middle;\n",
       "    }\n",
       "\n",
       "    .dataframe tbody tr th {\n",
       "        vertical-align: top;\n",
       "    }\n",
       "\n",
       "    .dataframe thead th {\n",
       "        text-align: right;\n",
       "    }\n",
       "</style>\n",
       "<table border=\"1\" class=\"dataframe\">\n",
       "  <thead>\n",
       "    <tr style=\"text-align: right;\">\n",
       "      <th></th>\n",
       "      <th>feature</th>\n",
       "      <th>importance</th>\n",
       "    </tr>\n",
       "  </thead>\n",
       "  <tbody>\n",
       "    <tr>\n",
       "      <th>0</th>\n",
       "      <td>Glucose</td>\n",
       "      <td>0.338251</td>\n",
       "    </tr>\n",
       "    <tr>\n",
       "      <th>1</th>\n",
       "      <td>BMI</td>\n",
       "      <td>0.169222</td>\n",
       "    </tr>\n",
       "    <tr>\n",
       "      <th>2</th>\n",
       "      <td>Age</td>\n",
       "      <td>0.127117</td>\n",
       "    </tr>\n",
       "    <tr>\n",
       "      <th>3</th>\n",
       "      <td>DiabetesPedigreeFunction</td>\n",
       "      <td>0.095822</td>\n",
       "    </tr>\n",
       "    <tr>\n",
       "      <th>4</th>\n",
       "      <td>Pregnancies</td>\n",
       "      <td>0.083952</td>\n",
       "    </tr>\n",
       "    <tr>\n",
       "      <th>5</th>\n",
       "      <td>Insulin</td>\n",
       "      <td>0.071186</td>\n",
       "    </tr>\n",
       "    <tr>\n",
       "      <th>6</th>\n",
       "      <td>BloodPressure</td>\n",
       "      <td>0.064049</td>\n",
       "    </tr>\n",
       "    <tr>\n",
       "      <th>7</th>\n",
       "      <td>SkinThickness</td>\n",
       "      <td>0.050400</td>\n",
       "    </tr>\n",
       "  </tbody>\n",
       "</table>\n",
       "</div>"
      ],
      "text/plain": [
       "                    feature  importance\n",
       "0                   Glucose    0.338251\n",
       "1                       BMI    0.169222\n",
       "2                       Age    0.127117\n",
       "3  DiabetesPedigreeFunction    0.095822\n",
       "4               Pregnancies    0.083952\n",
       "5                   Insulin    0.071186\n",
       "6             BloodPressure    0.064049\n",
       "7             SkinThickness    0.050400"
      ]
     },
     "execution_count": 778,
     "metadata": {},
     "output_type": "execute_result"
    }
   ],
   "source": [
    "feature_importance = pd.DataFrame(zip(X_train_fillna.columns, forest_clf.feature_importances_),\n",
    "                                  columns=['feature', 'importance']).sort_values(by='importance', \n",
    "                                                                                 ascending=False).reset_index(drop=True)\n",
    "feature_importance"
   ]
  },
  {
   "cell_type": "code",
   "execution_count": 779,
   "metadata": {
    "ExecuteTime": {
     "end_time": "2023-01-30T23:32:23.868569Z",
     "start_time": "2023-01-30T23:32:23.619999Z"
    }
   },
   "outputs": [
    {
     "data": {
      "image/png": "[encoded data removed]",
      "text/plain": [
       "<Figure size 1008x288 with 1 Axes>"
      ]
     },
     "metadata": {
      "needs_background": "light"
     },
     "output_type": "display_data"
    }
   ],
   "source": [
    "plt.figure(figsize=(14,4))\n",
    "chart = sns.barplot(data=feature_importance, x='feature', y='importance')\n",
    "chart.set_xticklabels(chart.get_xticklabels(), rotation=45)\n",
    "plt.show()"
   ]
  },
  {
   "cell_type": "markdown",
   "metadata": {},
   "source": [
    "Novamente, vemos que `Glucose`, `BMI` e `Age` são variáveis importantes. \n",
    "\n",
    "Com esses modelos simples de ML temos uma acurácia melhor, mas nosso recall é significativamente menor. Mais tarde ajustaremos para otimizar o recall."
   ]
  },
  {
   "cell_type": "markdown",
   "metadata": {},
   "source": [
    "# Tratamento dos dados"
   ]
  },
  {
   "cell_type": "markdown",
   "metadata": {},
   "source": [
    "Podemos limpar um pouco os dados antes de tentar modelos ML mais elaborados. Nessa seção, trataremos os dados faltantes e os outliers."
   ]
  },
  {
   "cell_type": "markdown",
   "metadata": {},
   "source": [
    "### Lidando com dados faltantes"
   ]
  },
  {
   "cell_type": "markdown",
   "metadata": {},
   "source": [
    "Vamos comparar o SimpleImputer (testando média e mediana) e o KNNImputer."
   ]
  },
  {
   "cell_type": "code",
   "execution_count": 780,
   "metadata": {
    "ExecuteTime": {
     "end_time": "2023-01-30T23:32:23.996548Z",
     "start_time": "2023-01-30T23:32:23.871162Z"
    }
   },
   "outputs": [
    {
     "name": "stdout",
     "output_type": "stream",
     "text": [
      "Acurácia média: 0.7813 (std=0.0172)\n",
      "Precisão média: 0.7388 (std=0.0511)\n",
      "Recall médio: 0.5868 (std=0.0425)\n"
     ]
    }
   ],
   "source": [
    "# Testando SimpleImputer (mean)\n",
    "\n",
    "sim_imp = SimpleImputer(strategy='mean')\n",
    "std_scaler = StandardScaler()\n",
    "log_clf = LogisticRegression()\n",
    "\n",
    "treat_steps = [('imputer', sim_imp), ('scaler', std_scaler)]\n",
    "treat_pipeline = Pipeline(treat_steps)\n",
    "X_train_tr = treat_pipeline.fit_transform(X_train)\n",
    "\n",
    "relatorio_cross_val(log_clf, X_train_tr, y_train)"
   ]
  },
  {
   "cell_type": "code",
   "execution_count": 781,
   "metadata": {
    "ExecuteTime": {
     "end_time": "2023-01-30T23:32:24.122977Z",
     "start_time": "2023-01-30T23:32:23.999705Z"
    }
   },
   "outputs": [
    {
     "name": "stdout",
     "output_type": "stream",
     "text": [
      "Acurácia média: 0.7813 (std=0.0202)\n",
      "Precisão média: 0.7387 (std=0.053)\n",
      "Recall médio: 0.587 (std=0.0444)\n"
     ]
    }
   ],
   "source": [
    "# Testando SimpleImputer (median)\n",
    "\n",
    "sim_imp = SimpleImputer(strategy='median')\n",
    "std_scaler = StandardScaler()\n",
    "log_clf = LogisticRegression()\n",
    "\n",
    "treat_steps = [('imputer', sim_imp), ('scaler', std_scaler)]\n",
    "treat_pipeline = Pipeline(treat_steps)\n",
    "X_train_tr = treat_pipeline.fit_transform(X_train)\n",
    "\n",
    "relatorio_cross_val(log_clf, X_train_tr, y_train)"
   ]
  },
  {
   "cell_type": "code",
   "execution_count": 782,
   "metadata": {
    "ExecuteTime": {
     "end_time": "2023-01-30T23:32:24.342104Z",
     "start_time": "2023-01-30T23:32:24.127411Z"
    }
   },
   "outputs": [
    {
     "name": "stdout",
     "output_type": "stream",
     "text": [
      "Acurácia média: 0.783 (std=0.0117)\n",
      "Precisão média: 0.7398 (std=0.038)\n",
      "Recall médio: 0.5917 (std=0.058)\n"
     ]
    }
   ],
   "source": [
    "# Testando KNNImputer\n",
    "\n",
    "knn_imp = KNNImputer(n_neighbors=5)\n",
    "std_scaler = StandardScaler()\n",
    "log_clf = LogisticRegression()\n",
    "\n",
    "treat_steps = [('imputer', knn_imp), ('scaler', std_scaler)]\n",
    "treat_pipeline = Pipeline(treat_steps)\n",
    "X_train_tr = treat_pipeline.fit_transform(X_train)\n",
    "\n",
    "relatorio_cross_val(log_clf, X_train_tr, y_train)"
   ]
  },
  {
   "cell_type": "markdown",
   "metadata": {},
   "source": [
    "Vamos usar o tratamento do `KNNImputer`. Antes de prosseguir vamos analisar novamente os dados após o tratamento."
   ]
  },
  {
   "cell_type": "code",
   "execution_count": 783,
   "metadata": {
    "ExecuteTime": {
     "end_time": "2023-01-30T23:32:24.401313Z",
     "start_time": "2023-01-30T23:32:24.344129Z"
    }
   },
   "outputs": [
    {
     "data": {
      "text/html": [
       "<div>\n",
       "<style scoped>\n",
       "    .dataframe tbody tr th:only-of-type {\n",
       "        vertical-align: middle;\n",
       "    }\n",
       "\n",
       "    .dataframe tbody tr th {\n",
       "        vertical-align: top;\n",
       "    }\n",
       "\n",
       "    .dataframe thead th {\n",
       "        text-align: right;\n",
       "    }\n",
       "</style>\n",
       "<table border=\"1\" class=\"dataframe\">\n",
       "  <thead>\n",
       "    <tr style=\"text-align: right;\">\n",
       "      <th></th>\n",
       "      <th>Pregnancies</th>\n",
       "      <th>Glucose</th>\n",
       "      <th>BloodPressure</th>\n",
       "      <th>SkinThickness</th>\n",
       "      <th>Insulin</th>\n",
       "      <th>BMI</th>\n",
       "      <th>DiabetesPedigreeFunction</th>\n",
       "      <th>Age</th>\n",
       "    </tr>\n",
       "  </thead>\n",
       "  <tbody>\n",
       "    <tr>\n",
       "      <th>751</th>\n",
       "      <td>1.0</td>\n",
       "      <td>121.0</td>\n",
       "      <td>78.0</td>\n",
       "      <td>39.0</td>\n",
       "      <td>74.0</td>\n",
       "      <td>39.000000</td>\n",
       "      <td>0.261</td>\n",
       "      <td>28.0</td>\n",
       "    </tr>\n",
       "    <tr>\n",
       "      <th>358</th>\n",
       "      <td>12.0</td>\n",
       "      <td>88.0</td>\n",
       "      <td>74.0</td>\n",
       "      <td>40.0</td>\n",
       "      <td>54.0</td>\n",
       "      <td>35.299999</td>\n",
       "      <td>0.378</td>\n",
       "      <td>48.0</td>\n",
       "    </tr>\n",
       "    <tr>\n",
       "      <th>718</th>\n",
       "      <td>1.0</td>\n",
       "      <td>108.0</td>\n",
       "      <td>60.0</td>\n",
       "      <td>46.0</td>\n",
       "      <td>178.0</td>\n",
       "      <td>35.500000</td>\n",
       "      <td>0.415</td>\n",
       "      <td>24.0</td>\n",
       "    </tr>\n",
       "    <tr>\n",
       "      <th>536</th>\n",
       "      <td>0.0</td>\n",
       "      <td>105.0</td>\n",
       "      <td>90.0</td>\n",
       "      <td>28.0</td>\n",
       "      <td>152.2</td>\n",
       "      <td>29.600000</td>\n",
       "      <td>0.197</td>\n",
       "      <td>46.0</td>\n",
       "    </tr>\n",
       "    <tr>\n",
       "      <th>651</th>\n",
       "      <td>1.0</td>\n",
       "      <td>117.0</td>\n",
       "      <td>60.0</td>\n",
       "      <td>23.0</td>\n",
       "      <td>106.0</td>\n",
       "      <td>33.799999</td>\n",
       "      <td>0.466</td>\n",
       "      <td>27.0</td>\n",
       "    </tr>\n",
       "  </tbody>\n",
       "</table>\n",
       "</div>"
      ],
      "text/plain": [
       "     Pregnancies  Glucose  BloodPressure  SkinThickness  Insulin        BMI  \\\n",
       "751          1.0    121.0           78.0           39.0     74.0  39.000000   \n",
       "358         12.0     88.0           74.0           40.0     54.0  35.299999   \n",
       "718          1.0    108.0           60.0           46.0    178.0  35.500000   \n",
       "536          0.0    105.0           90.0           28.0    152.2  29.600000   \n",
       "651          1.0    117.0           60.0           23.0    106.0  33.799999   \n",
       "\n",
       "     DiabetesPedigreeFunction   Age  \n",
       "751                     0.261  28.0  \n",
       "358                     0.378  48.0  \n",
       "718                     0.415  24.0  \n",
       "536                     0.197  46.0  \n",
       "651                     0.466  27.0  "
      ]
     },
     "execution_count": 783,
     "metadata": {},
     "output_type": "execute_result"
    }
   ],
   "source": [
    "# Reconstruindo o dataframe\n",
    "\n",
    "X_train_impute = pd.DataFrame(knn_imp.fit_transform(X_train), \n",
    "                              columns=X_train.columns, \n",
    "                              index=X_train.index)\n",
    "\n",
    "X_train_impute.head()"
   ]
  },
  {
   "cell_type": "code",
   "execution_count": 784,
   "metadata": {
    "ExecuteTime": {
     "end_time": "2023-01-30T23:32:24.423736Z",
     "start_time": "2023-01-30T23:32:24.404455Z"
    }
   },
   "outputs": [],
   "source": [
    "def plot_dist_box(data, column):\n",
    "    \"Plota histograma e boxplot de uma coluna\"\n",
    "    fig, ax = plt.subplots(1, 2, figsize=(10, 4))\n",
    "    sns.histplot(data=data, x=column, hue=\"Outcome\", ax=ax[0])\n",
    "    sns.boxplot(data=data, x=column, ax=ax[1])\n",
    "    plt.show()"
   ]
  },
  {
   "cell_type": "code",
   "execution_count": 785,
   "metadata": {
    "ExecuteTime": {
     "end_time": "2023-01-30T23:32:25.092120Z",
     "start_time": "2023-01-30T23:32:24.427751Z"
    }
   },
   "outputs": [
    {
     "data": {
      "image/png": "[encoded data removed]",
      "text/plain": [
       "<Figure size 720x288 with 2 Axes>"
      ]
     },
     "metadata": {
      "needs_background": "light"
     },
     "output_type": "display_data"
    }
   ],
   "source": [
    "plot_dist_box(X_train_impute.join(y_train), \"Pregnancies\")"
   ]
  },
  {
   "cell_type": "code",
   "execution_count": 786,
   "metadata": {
    "ExecuteTime": {
     "end_time": "2023-01-30T23:32:25.626277Z",
     "start_time": "2023-01-30T23:32:25.095838Z"
    },
    "scrolled": true
   },
   "outputs": [
    {
     "data": {
      "image/png": "[encoded data removed]",
      "text/plain": [
       "<Figure size 720x288 with 2 Axes>"
      ]
     },
     "metadata": {
      "needs_background": "light"
     },
     "output_type": "display_data"
    }
   ],
   "source": [
    "plot_dist_box(X_train_impute.join(y_train), \"Glucose\")"
   ]
  },
  {
   "cell_type": "code",
   "execution_count": 787,
   "metadata": {
    "ExecuteTime": {
     "end_time": "2023-01-30T23:32:26.321221Z",
     "start_time": "2023-01-30T23:32:25.629763Z"
    }
   },
   "outputs": [
    {
     "data": {
      "image/png": "[encoded data removed]",
      "text/plain": [
       "<Figure size 720x288 with 2 Axes>"
      ]
     },
     "metadata": {
      "needs_background": "light"
     },
     "output_type": "display_data"
    }
   ],
   "source": [
    "plot_dist_box(X_train_impute.join(y_train), \"BloodPressure\")"
   ]
  },
  {
   "cell_type": "code",
   "execution_count": 788,
   "metadata": {
    "ExecuteTime": {
     "end_time": "2023-01-30T23:32:26.882388Z",
     "start_time": "2023-01-30T23:32:26.324365Z"
    }
   },
   "outputs": [
    {
     "data": {
      "image/png": "[encoded data removed]",
      "text/plain": [
       "<Figure size 720x288 with 2 Axes>"
      ]
     },
     "metadata": {
      "needs_background": "light"
     },
     "output_type": "display_data"
    }
   ],
   "source": [
    "plot_dist_box(X_train_impute.join(y_train), \"SkinThickness\")"
   ]
  },
  {
   "cell_type": "code",
   "execution_count": 789,
   "metadata": {
    "ExecuteTime": {
     "end_time": "2023-01-30T23:32:27.350026Z",
     "start_time": "2023-01-30T23:32:26.886858Z"
    },
    "scrolled": true
   },
   "outputs": [
    {
     "data": {
      "image/png": "[encoded data removed]",
      "text/plain": [
       "<Figure size 720x288 with 2 Axes>"
      ]
     },
     "metadata": {
      "needs_background": "light"
     },
     "output_type": "display_data"
    }
   ],
   "source": [
    "plot_dist_box(X_train_impute.join(y_train), \"Insulin\")"
   ]
  },
  {
   "cell_type": "code",
   "execution_count": 790,
   "metadata": {
    "ExecuteTime": {
     "end_time": "2023-01-30T23:32:27.820490Z",
     "start_time": "2023-01-30T23:32:27.353026Z"
    }
   },
   "outputs": [
    {
     "data": {
      "image/png": "[encoded data removed]",
      "text/plain": [
       "<Figure size 720x288 with 2 Axes>"
      ]
     },
     "metadata": {
      "needs_background": "light"
     },
     "output_type": "display_data"
    }
   ],
   "source": [
    "plot_dist_box(X_train_impute.join(y_train), \"Age\")"
   ]
  },
  {
   "cell_type": "code",
   "execution_count": 791,
   "metadata": {
    "ExecuteTime": {
     "end_time": "2023-01-30T23:32:28.335845Z",
     "start_time": "2023-01-30T23:32:27.824421Z"
    }
   },
   "outputs": [
    {
     "data": {
      "image/png": "[encoded data removed]",
      "text/plain": [
       "<Figure size 720x288 with 2 Axes>"
      ]
     },
     "metadata": {
      "needs_background": "light"
     },
     "output_type": "display_data"
    }
   ],
   "source": [
    "plot_dist_box(X_train_impute.join(y_train), \"DiabetesPedigreeFunction\")"
   ]
  },
  {
   "cell_type": "code",
   "execution_count": 792,
   "metadata": {
    "ExecuteTime": {
     "end_time": "2023-01-30T23:32:28.793190Z",
     "start_time": "2023-01-30T23:32:28.338724Z"
    },
    "scrolled": true
   },
   "outputs": [
    {
     "data": {
      "image/png": "[encoded data removed]",
      "text/plain": [
       "<Figure size 720x288 with 2 Axes>"
      ]
     },
     "metadata": {
      "needs_background": "light"
     },
     "output_type": "display_data"
    }
   ],
   "source": [
    "plot_dist_box(X_train_impute.join(y_train), \"BMI\")"
   ]
  },
  {
   "cell_type": "markdown",
   "metadata": {},
   "source": [
    "Vamos verificar novamente a matriz de correlação."
   ]
  },
  {
   "cell_type": "code",
   "execution_count": 793,
   "metadata": {
    "ExecuteTime": {
     "end_time": "2023-01-30T23:32:28.803971Z",
     "start_time": "2023-01-30T23:32:28.795677Z"
    },
    "scrolled": true
   },
   "outputs": [
    {
     "name": "stdout",
     "output_type": "stream",
     "text": [
      "Outcome                     1.000000\n",
      "Glucose                     0.510674\n",
      "Insulin                     0.366798\n",
      "BMI                         0.320818\n",
      "SkinThickness               0.275669\n",
      "Age                         0.239739\n",
      "Pregnancies                 0.225421\n",
      "BloodPressure               0.184984\n",
      "DiabetesPedigreeFunction    0.151264\n",
      "Name: Outcome, dtype: float64\n"
     ]
    }
   ],
   "source": [
    "corr_matrix = X_train_impute.join(y_train).corr()\n",
    "print(corr_matrix[\"Outcome\"].sort_values(ascending=False))"
   ]
  },
  {
   "cell_type": "markdown",
   "metadata": {},
   "source": [
    " Nota-se que temos uma melhor correlação com o target."
   ]
  },
  {
   "cell_type": "markdown",
   "metadata": {},
   "source": [
    "### Tratando outliers"
   ]
  },
  {
   "cell_type": "markdown",
   "metadata": {},
   "source": [
    "A distribuição da `DiabetesPedigreeFunction` e `Insulin` parecem muito inviesados. Aplicar um logaritmo torna ela mais normal:"
   ]
  },
  {
   "cell_type": "code",
   "execution_count": 794,
   "metadata": {
    "ExecuteTime": {
     "end_time": "2023-01-30T23:32:28.815217Z",
     "start_time": "2023-01-30T23:32:28.806449Z"
    }
   },
   "outputs": [],
   "source": [
    "X_train_log = X_train_impute.copy()"
   ]
  },
  {
   "cell_type": "code",
   "execution_count": 795,
   "metadata": {
    "ExecuteTime": {
     "end_time": "2023-01-30T23:32:29.263778Z",
     "start_time": "2023-01-30T23:32:28.818601Z"
    }
   },
   "outputs": [
    {
     "data": {
      "image/png": "[encoded data removed]",
      "text/plain": [
       "<Figure size 720x288 with 2 Axes>"
      ]
     },
     "metadata": {
      "needs_background": "light"
     },
     "output_type": "display_data"
    }
   ],
   "source": [
    "X_train_log['LogDiabetesPedigreeFunction'] = np.log(X_train_log['DiabetesPedigreeFunction'])\n",
    "plot_dist_box(X_train_log.join(y_train), \"LogDiabetesPedigreeFunction\")"
   ]
  },
  {
   "cell_type": "code",
   "execution_count": 796,
   "metadata": {
    "ExecuteTime": {
     "end_time": "2023-01-30T23:32:29.709853Z",
     "start_time": "2023-01-30T23:32:29.267092Z"
    }
   },
   "outputs": [
    {
     "data": {
      "image/png": "[encoded data removed]",
      "text/plain": [
       "<Figure size 720x288 with 2 Axes>"
      ]
     },
     "metadata": {
      "needs_background": "light"
     },
     "output_type": "display_data"
    }
   ],
   "source": [
    "X_train_log['LogInsulin'] = np.log(X_train_log['Insulin'])\n",
    "plot_dist_box(X_train_log.join(y_train), \"LogInsulin\")"
   ]
  },
  {
   "cell_type": "code",
   "execution_count": 797,
   "metadata": {
    "ExecuteTime": {
     "end_time": "2023-01-30T23:32:29.721537Z",
     "start_time": "2023-01-30T23:32:29.713164Z"
    },
    "scrolled": true
   },
   "outputs": [
    {
     "name": "stdout",
     "output_type": "stream",
     "text": [
      "Outcome                        1.000000\n",
      "Glucose                        0.510674\n",
      "LogInsulin                     0.404960\n",
      "Insulin                        0.366798\n",
      "BMI                            0.320818\n",
      "SkinThickness                  0.275669\n",
      "Age                            0.239739\n",
      "Pregnancies                    0.225421\n",
      "BloodPressure                  0.184984\n",
      "LogDiabetesPedigreeFunction    0.164261\n",
      "DiabetesPedigreeFunction       0.151264\n",
      "Name: Outcome, dtype: float64\n"
     ]
    }
   ],
   "source": [
    "correlacao(X_train_log.join(y_train))"
   ]
  },
  {
   "cell_type": "markdown",
   "metadata": {},
   "source": [
    "As distribuições parecem mais normais e as correlações melhoraram. Vamos verificar a performace. "
   ]
  },
  {
   "cell_type": "code",
   "execution_count": 798,
   "metadata": {
    "ExecuteTime": {
     "end_time": "2023-01-30T23:32:29.741892Z",
     "start_time": "2023-01-30T23:32:29.723448Z"
    },
    "scrolled": true
   },
   "outputs": [
    {
     "data": {
      "text/html": [
       "<div>\n",
       "<style scoped>\n",
       "    .dataframe tbody tr th:only-of-type {\n",
       "        vertical-align: middle;\n",
       "    }\n",
       "\n",
       "    .dataframe tbody tr th {\n",
       "        vertical-align: top;\n",
       "    }\n",
       "\n",
       "    .dataframe thead th {\n",
       "        text-align: right;\n",
       "    }\n",
       "</style>\n",
       "<table border=\"1\" class=\"dataframe\">\n",
       "  <thead>\n",
       "    <tr style=\"text-align: right;\">\n",
       "      <th></th>\n",
       "      <th>Pregnancies</th>\n",
       "      <th>Glucose</th>\n",
       "      <th>BloodPressure</th>\n",
       "      <th>SkinThickness</th>\n",
       "      <th>BMI</th>\n",
       "      <th>Age</th>\n",
       "      <th>LogDiabetesPedigreeFunction</th>\n",
       "      <th>LogInsulin</th>\n",
       "    </tr>\n",
       "  </thead>\n",
       "  <tbody>\n",
       "    <tr>\n",
       "      <th>751</th>\n",
       "      <td>1.0</td>\n",
       "      <td>121.0</td>\n",
       "      <td>78.0</td>\n",
       "      <td>39.0</td>\n",
       "      <td>39.000000</td>\n",
       "      <td>28.0</td>\n",
       "      <td>-1.343235</td>\n",
       "      <td>4.304065</td>\n",
       "    </tr>\n",
       "    <tr>\n",
       "      <th>358</th>\n",
       "      <td>12.0</td>\n",
       "      <td>88.0</td>\n",
       "      <td>74.0</td>\n",
       "      <td>40.0</td>\n",
       "      <td>35.299999</td>\n",
       "      <td>48.0</td>\n",
       "      <td>-0.972861</td>\n",
       "      <td>3.988984</td>\n",
       "    </tr>\n",
       "    <tr>\n",
       "      <th>718</th>\n",
       "      <td>1.0</td>\n",
       "      <td>108.0</td>\n",
       "      <td>60.0</td>\n",
       "      <td>46.0</td>\n",
       "      <td>35.500000</td>\n",
       "      <td>24.0</td>\n",
       "      <td>-0.879477</td>\n",
       "      <td>5.181784</td>\n",
       "    </tr>\n",
       "    <tr>\n",
       "      <th>536</th>\n",
       "      <td>0.0</td>\n",
       "      <td>105.0</td>\n",
       "      <td>90.0</td>\n",
       "      <td>28.0</td>\n",
       "      <td>29.600000</td>\n",
       "      <td>46.0</td>\n",
       "      <td>-1.624552</td>\n",
       "      <td>5.025195</td>\n",
       "    </tr>\n",
       "    <tr>\n",
       "      <th>651</th>\n",
       "      <td>1.0</td>\n",
       "      <td>117.0</td>\n",
       "      <td>60.0</td>\n",
       "      <td>23.0</td>\n",
       "      <td>33.799999</td>\n",
       "      <td>27.0</td>\n",
       "      <td>-0.763570</td>\n",
       "      <td>4.663439</td>\n",
       "    </tr>\n",
       "  </tbody>\n",
       "</table>\n",
       "</div>"
      ],
      "text/plain": [
       "     Pregnancies  Glucose  BloodPressure  SkinThickness        BMI   Age  \\\n",
       "751          1.0    121.0           78.0           39.0  39.000000  28.0   \n",
       "358         12.0     88.0           74.0           40.0  35.299999  48.0   \n",
       "718          1.0    108.0           60.0           46.0  35.500000  24.0   \n",
       "536          0.0    105.0           90.0           28.0  29.600000  46.0   \n",
       "651          1.0    117.0           60.0           23.0  33.799999  27.0   \n",
       "\n",
       "     LogDiabetesPedigreeFunction  LogInsulin  \n",
       "751                    -1.343235    4.304065  \n",
       "358                    -0.972861    3.988984  \n",
       "718                    -0.879477    5.181784  \n",
       "536                    -1.624552    5.025195  \n",
       "651                    -0.763570    4.663439  "
      ]
     },
     "execution_count": 798,
     "metadata": {},
     "output_type": "execute_result"
    }
   ],
   "source": [
    "drop = [\"Insulin\", \"DiabetesPedigreeFunction\"]\n",
    "X_train_log = X_train_log.drop(drop, axis=1)\n",
    "X_train_log.head()"
   ]
  },
  {
   "cell_type": "code",
   "execution_count": 799,
   "metadata": {
    "ExecuteTime": {
     "end_time": "2023-01-30T23:32:29.881864Z",
     "start_time": "2023-01-30T23:32:29.744295Z"
    }
   },
   "outputs": [
    {
     "name": "stdout",
     "output_type": "stream",
     "text": [
      "Acurácia média: 0.7761 (std=0.0147)\n",
      "Precisão média: 0.7198 (std=0.0262)\n",
      "Recall médio: 0.5917 (std=0.0766)\n"
     ]
    }
   ],
   "source": [
    "log_clf = LogisticRegression()\n",
    "\n",
    "std_scaler = StandardScaler()\n",
    "X_train_sc = std_scaler.fit_transform(X_train_log)\n",
    "\n",
    "log_clf.fit(X_train_sc, y_train)\n",
    "relatorio_cross_val(log_clf, X_train_sc, y_train)"
   ]
  },
  {
   "cell_type": "markdown",
   "metadata": {},
   "source": [
    "Apesar das correlações melhorarem, nosso modelo teve uma performace pior. Vamos seguir sem esse tratamento."
   ]
  },
  {
   "cell_type": "markdown",
   "metadata": {},
   "source": [
    "### Binning"
   ]
  },
  {
   "cell_type": "markdown",
   "metadata": {},
   "source": [
    "Vamos tentar agora agrupar dados para reduzir o ruído de alguma feature. Como discutido, fazer esse tratamento isso na `Age` talvez ajude nosso modelo. "
   ]
  },
  {
   "cell_type": "code",
   "execution_count": 800,
   "metadata": {
    "ExecuteTime": {
     "end_time": "2023-01-30T23:32:29.900346Z",
     "start_time": "2023-01-30T23:32:29.884408Z"
    }
   },
   "outputs": [
    {
     "data": {
      "text/html": [
       "<div>\n",
       "<style scoped>\n",
       "    .dataframe tbody tr th:only-of-type {\n",
       "        vertical-align: middle;\n",
       "    }\n",
       "\n",
       "    .dataframe tbody tr th {\n",
       "        vertical-align: top;\n",
       "    }\n",
       "\n",
       "    .dataframe thead th {\n",
       "        text-align: right;\n",
       "    }\n",
       "</style>\n",
       "<table border=\"1\" class=\"dataframe\">\n",
       "  <thead>\n",
       "    <tr style=\"text-align: right;\">\n",
       "      <th></th>\n",
       "      <th>Pregnancies</th>\n",
       "      <th>Glucose</th>\n",
       "      <th>BloodPressure</th>\n",
       "      <th>SkinThickness</th>\n",
       "      <th>Insulin</th>\n",
       "      <th>BMI</th>\n",
       "      <th>DiabetesPedigreeFunction</th>\n",
       "      <th>Age</th>\n",
       "    </tr>\n",
       "  </thead>\n",
       "  <tbody>\n",
       "    <tr>\n",
       "      <th>751</th>\n",
       "      <td>1.0</td>\n",
       "      <td>121.0</td>\n",
       "      <td>78.0</td>\n",
       "      <td>39.0</td>\n",
       "      <td>74.0</td>\n",
       "      <td>39.000000</td>\n",
       "      <td>0.261</td>\n",
       "      <td>28.0</td>\n",
       "    </tr>\n",
       "    <tr>\n",
       "      <th>358</th>\n",
       "      <td>12.0</td>\n",
       "      <td>88.0</td>\n",
       "      <td>74.0</td>\n",
       "      <td>40.0</td>\n",
       "      <td>54.0</td>\n",
       "      <td>35.299999</td>\n",
       "      <td>0.378</td>\n",
       "      <td>48.0</td>\n",
       "    </tr>\n",
       "    <tr>\n",
       "      <th>718</th>\n",
       "      <td>1.0</td>\n",
       "      <td>108.0</td>\n",
       "      <td>60.0</td>\n",
       "      <td>46.0</td>\n",
       "      <td>178.0</td>\n",
       "      <td>35.500000</td>\n",
       "      <td>0.415</td>\n",
       "      <td>24.0</td>\n",
       "    </tr>\n",
       "    <tr>\n",
       "      <th>536</th>\n",
       "      <td>0.0</td>\n",
       "      <td>105.0</td>\n",
       "      <td>90.0</td>\n",
       "      <td>28.0</td>\n",
       "      <td>152.2</td>\n",
       "      <td>29.600000</td>\n",
       "      <td>0.197</td>\n",
       "      <td>46.0</td>\n",
       "    </tr>\n",
       "    <tr>\n",
       "      <th>651</th>\n",
       "      <td>1.0</td>\n",
       "      <td>117.0</td>\n",
       "      <td>60.0</td>\n",
       "      <td>23.0</td>\n",
       "      <td>106.0</td>\n",
       "      <td>33.799999</td>\n",
       "      <td>0.466</td>\n",
       "      <td>27.0</td>\n",
       "    </tr>\n",
       "  </tbody>\n",
       "</table>\n",
       "</div>"
      ],
      "text/plain": [
       "     Pregnancies  Glucose  BloodPressure  SkinThickness  Insulin        BMI  \\\n",
       "751          1.0    121.0           78.0           39.0     74.0  39.000000   \n",
       "358         12.0     88.0           74.0           40.0     54.0  35.299999   \n",
       "718          1.0    108.0           60.0           46.0    178.0  35.500000   \n",
       "536          0.0    105.0           90.0           28.0    152.2  29.600000   \n",
       "651          1.0    117.0           60.0           23.0    106.0  33.799999   \n",
       "\n",
       "     DiabetesPedigreeFunction   Age  \n",
       "751                     0.261  28.0  \n",
       "358                     0.378  48.0  \n",
       "718                     0.415  24.0  \n",
       "536                     0.197  46.0  \n",
       "651                     0.466  27.0  "
      ]
     },
     "execution_count": 800,
     "metadata": {},
     "output_type": "execute_result"
    }
   ],
   "source": [
    "X_train_bins = X_train_impute.copy()\n",
    "X_train_bins.head()"
   ]
  },
  {
   "cell_type": "markdown",
   "metadata": {},
   "source": [
    "Usaremos `KBinsDiscretizer`:"
   ]
  },
  {
   "cell_type": "code",
   "execution_count": 801,
   "metadata": {
    "ExecuteTime": {
     "end_time": "2023-01-30T23:32:30.144684Z",
     "start_time": "2023-01-30T23:32:29.902653Z"
    }
   },
   "outputs": [
    {
     "data": {
      "image/png": "[encoded data removed]",
      "text/plain": [
       "<Figure size 432x288 with 1 Axes>"
      ]
     },
     "metadata": {
      "needs_background": "light"
     },
     "output_type": "display_data"
    }
   ],
   "source": [
    "kbins = KBinsDiscretizer(n_bins=3, encode='ordinal', strategy='quantile')\n",
    "X_train_bins[\"New_Age\"] = kbins.fit_transform(X_train_bins[['Age']])\n",
    "\n",
    "sns.countplot(data=X_train_bins.join(y_train), x=\"New_Age\", hue='Outcome');"
   ]
  },
  {
   "cell_type": "code",
   "execution_count": 802,
   "metadata": {
    "ExecuteTime": {
     "end_time": "2023-01-30T23:32:30.156918Z",
     "start_time": "2023-01-30T23:32:30.146904Z"
    },
    "scrolled": false
   },
   "outputs": [
    {
     "name": "stdout",
     "output_type": "stream",
     "text": [
      "Outcome                     1.000000\n",
      "Glucose                     0.510674\n",
      "Insulin                     0.366798\n",
      "BMI                         0.320818\n",
      "New_Age                     0.279655\n",
      "SkinThickness               0.275669\n",
      "Age                         0.239739\n",
      "Pregnancies                 0.225421\n",
      "BloodPressure               0.184984\n",
      "DiabetesPedigreeFunction    0.151264\n",
      "Name: Outcome, dtype: float64\n"
     ]
    }
   ],
   "source": [
    "correlacao(X_train_bins.join(y_train))"
   ]
  },
  {
   "cell_type": "code",
   "execution_count": 803,
   "metadata": {
    "ExecuteTime": {
     "end_time": "2023-01-30T23:32:30.267306Z",
     "start_time": "2023-01-30T23:32:30.161011Z"
    }
   },
   "outputs": [
    {
     "name": "stdout",
     "output_type": "stream",
     "text": [
      "Acurácia média: 0.783 (std=0.0191)\n",
      "Precisão média: 0.7412 (std=0.0613)\n",
      "Recall médio: 0.5967 (std=0.0394)\n"
     ]
    }
   ],
   "source": [
    "# Testando o binning com regressão logística\n",
    "\n",
    "X_train_bins = X_train_bins.drop('Age', axis=1)\n",
    "log_clf = LogisticRegression()\n",
    "\n",
    "std_scaler = StandardScaler()\n",
    "X_train_sc = std_scaler.fit_transform(X_train_bins)\n",
    "\n",
    "log_clf.fit(X_train_sc, y_train)\n",
    "relatorio_cross_val(log_clf, X_train_sc, y_train)"
   ]
  },
  {
   "cell_type": "markdown",
   "metadata": {},
   "source": [
    "O tratamento é semelhante à uma condificação por faixa etária (criança, jovem, adulto, idoso). Temos resultados semelhantes, mas simplificamos nosso modeloi. Seguiremos com esse tratamento."
   ]
  },
  {
   "cell_type": "markdown",
   "metadata": {},
   "source": [
    "## Quantile Scaling"
   ]
  },
  {
   "cell_type": "markdown",
   "metadata": {},
   "source": [
    "`BMI` parece ser uma feature importante, mas talvez precise ser ajustada e seus outliers tratados. Vamos testar um QuantileTransformer."
   ]
  },
  {
   "cell_type": "code",
   "execution_count": 804,
   "metadata": {
    "ExecuteTime": {
     "end_time": "2023-01-30T23:32:30.310236Z",
     "start_time": "2023-01-30T23:32:30.287902Z"
    },
    "scrolled": true
   },
   "outputs": [
    {
     "data": {
      "text/html": [
       "<div>\n",
       "<style scoped>\n",
       "    .dataframe tbody tr th:only-of-type {\n",
       "        vertical-align: middle;\n",
       "    }\n",
       "\n",
       "    .dataframe tbody tr th {\n",
       "        vertical-align: top;\n",
       "    }\n",
       "\n",
       "    .dataframe thead th {\n",
       "        text-align: right;\n",
       "    }\n",
       "</style>\n",
       "<table border=\"1\" class=\"dataframe\">\n",
       "  <thead>\n",
       "    <tr style=\"text-align: right;\">\n",
       "      <th></th>\n",
       "      <th>Pregnancies</th>\n",
       "      <th>Glucose</th>\n",
       "      <th>BloodPressure</th>\n",
       "      <th>SkinThickness</th>\n",
       "      <th>Insulin</th>\n",
       "      <th>BMI</th>\n",
       "      <th>DiabetesPedigreeFunction</th>\n",
       "      <th>New_Age</th>\n",
       "    </tr>\n",
       "  </thead>\n",
       "  <tbody>\n",
       "    <tr>\n",
       "      <th>751</th>\n",
       "      <td>1.0</td>\n",
       "      <td>121.0</td>\n",
       "      <td>78.0</td>\n",
       "      <td>39.0</td>\n",
       "      <td>74.0</td>\n",
       "      <td>39.000000</td>\n",
       "      <td>0.261</td>\n",
       "      <td>1.0</td>\n",
       "    </tr>\n",
       "    <tr>\n",
       "      <th>358</th>\n",
       "      <td>12.0</td>\n",
       "      <td>88.0</td>\n",
       "      <td>74.0</td>\n",
       "      <td>40.0</td>\n",
       "      <td>54.0</td>\n",
       "      <td>35.299999</td>\n",
       "      <td>0.378</td>\n",
       "      <td>2.0</td>\n",
       "    </tr>\n",
       "    <tr>\n",
       "      <th>718</th>\n",
       "      <td>1.0</td>\n",
       "      <td>108.0</td>\n",
       "      <td>60.0</td>\n",
       "      <td>46.0</td>\n",
       "      <td>178.0</td>\n",
       "      <td>35.500000</td>\n",
       "      <td>0.415</td>\n",
       "      <td>0.0</td>\n",
       "    </tr>\n",
       "    <tr>\n",
       "      <th>536</th>\n",
       "      <td>0.0</td>\n",
       "      <td>105.0</td>\n",
       "      <td>90.0</td>\n",
       "      <td>28.0</td>\n",
       "      <td>152.2</td>\n",
       "      <td>29.600000</td>\n",
       "      <td>0.197</td>\n",
       "      <td>2.0</td>\n",
       "    </tr>\n",
       "    <tr>\n",
       "      <th>651</th>\n",
       "      <td>1.0</td>\n",
       "      <td>117.0</td>\n",
       "      <td>60.0</td>\n",
       "      <td>23.0</td>\n",
       "      <td>106.0</td>\n",
       "      <td>33.799999</td>\n",
       "      <td>0.466</td>\n",
       "      <td>1.0</td>\n",
       "    </tr>\n",
       "  </tbody>\n",
       "</table>\n",
       "</div>"
      ],
      "text/plain": [
       "     Pregnancies  Glucose  BloodPressure  SkinThickness  Insulin        BMI  \\\n",
       "751          1.0    121.0           78.0           39.0     74.0  39.000000   \n",
       "358         12.0     88.0           74.0           40.0     54.0  35.299999   \n",
       "718          1.0    108.0           60.0           46.0    178.0  35.500000   \n",
       "536          0.0    105.0           90.0           28.0    152.2  29.600000   \n",
       "651          1.0    117.0           60.0           23.0    106.0  33.799999   \n",
       "\n",
       "     DiabetesPedigreeFunction  New_Age  \n",
       "751                     0.261      1.0  \n",
       "358                     0.378      2.0  \n",
       "718                     0.415      0.0  \n",
       "536                     0.197      2.0  \n",
       "651                     0.466      1.0  "
      ]
     },
     "execution_count": 804,
     "metadata": {},
     "output_type": "execute_result"
    }
   ],
   "source": [
    "X_train_scaling = X_train_bins.copy()\n",
    "X_train_scaling.head()"
   ]
  },
  {
   "cell_type": "code",
   "execution_count": 805,
   "metadata": {
    "ExecuteTime": {
     "end_time": "2023-01-30T23:32:30.333815Z",
     "start_time": "2023-01-30T23:32:30.321651Z"
    }
   },
   "outputs": [],
   "source": [
    "qt = QuantileTransformer(n_quantiles=3, random_state=42)\n",
    "X_train_scaling[['New_BMI']] = qt.fit_transform(X_train_scaling[['BMI']])"
   ]
  },
  {
   "cell_type": "code",
   "execution_count": 806,
   "metadata": {
    "ExecuteTime": {
     "end_time": "2023-01-30T23:32:30.774160Z",
     "start_time": "2023-01-30T23:32:30.337488Z"
    }
   },
   "outputs": [
    {
     "data": {
      "image/png": "[encoded data removed]",
      "text/plain": [
       "<Figure size 720x288 with 2 Axes>"
      ]
     },
     "metadata": {
      "needs_background": "light"
     },
     "output_type": "display_data"
    }
   ],
   "source": [
    "plot_dist_box(X_train_scaling.join(y_train), \"New_BMI\")"
   ]
  },
  {
   "cell_type": "code",
   "execution_count": 807,
   "metadata": {
    "ExecuteTime": {
     "end_time": "2023-01-30T23:32:30.892243Z",
     "start_time": "2023-01-30T23:32:30.776742Z"
    },
    "scrolled": false
   },
   "outputs": [
    {
     "name": "stdout",
     "output_type": "stream",
     "text": [
      "Acurácia média: 0.7865 (std=0.0159)\n",
      "Precisão média: 0.7423 (std=0.0466)\n",
      "Recall médio: 0.6017 (std=0.044)\n"
     ]
    }
   ],
   "source": [
    "# Testando o QuantileTransformer\n",
    "\n",
    "X_train_scaling = X_train_scaling.drop('BMI', axis=1)\n",
    "\n",
    "log_clf = LogisticRegression()\n",
    "\n",
    "std_scaler = StandardScaler()\n",
    "X_train_sc = std_scaler.fit_transform(X_train_scaling)\n",
    "\n",
    "log_clf.fit(X_train_sc, y_train)\n",
    "relatorio_cross_val(log_clf, X_train_sc, y_train)"
   ]
  },
  {
   "cell_type": "markdown",
   "metadata": {},
   "source": [
    "Essa transformação nos rendeu um bom resultado. Vamos seguir com ela."
   ]
  },
  {
   "cell_type": "code",
   "execution_count": 846,
   "metadata": {
    "ExecuteTime": {
     "end_time": "2023-01-30T23:43:06.761881Z",
     "start_time": "2023-01-30T23:43:06.748946Z"
    }
   },
   "outputs": [],
   "source": [
    "# Pipeline final de tratamento\n",
    "\n",
    "knn_imp = KNNImputer(n_neighbors=5)\n",
    "kbins = KBinsDiscretizer(n_bins=3, encode='ordinal')\n",
    "qt = QuantileTransformer(n_quantiles=3, random_state=42)\n",
    "std_scaler = StandardScaler()\n",
    "\n",
    "ct = ColumnTransformer([('kbins_Age', kbins, [7]), ('qt_BMI', qt, [5])], remainder='passthrough')\n",
    "\n",
    "steps = [('imputer', knn_imp), \n",
    "         ('kbins', kbins_age),\n",
    "         ('scaler', std_scaler),\n",
    "        ]\n",
    "\n",
    "treatment_pipeline = Pipeline(steps)"
   ]
  },
  {
   "cell_type": "markdown",
   "metadata": {},
   "source": [
    "## Modelos finais"
   ]
  },
  {
   "cell_type": "code",
   "execution_count": 847,
   "metadata": {
    "ExecuteTime": {
     "end_time": "2023-01-30T23:43:09.340511Z",
     "start_time": "2023-01-30T23:43:09.301243Z"
    }
   },
   "outputs": [],
   "source": [
    "# Aplicando a pipeline ao treino\n",
    "X_train_tr = treatment_pipeline.fit_transform(X_train)"
   ]
  },
  {
   "cell_type": "markdown",
   "metadata": {},
   "source": [
    "### Logistic regression"
   ]
  },
  {
   "cell_type": "code",
   "execution_count": 848,
   "metadata": {
    "ExecuteTime": {
     "end_time": "2023-01-30T23:43:10.646467Z",
     "start_time": "2023-01-30T23:43:10.550297Z"
    }
   },
   "outputs": [
    {
     "name": "stdout",
     "output_type": "stream",
     "text": [
      "Acurácia média: 0.7865 (std=0.0159)\n",
      "Precisão média: 0.7423 (std=0.0466)\n",
      "Recall médio: 0.6017 (std=0.044)\n"
     ]
    }
   ],
   "source": [
    "log_clf = LogisticRegression()\n",
    "log_clf.fit(X_train_tr, y_train)\n",
    "relatorio_cross_val(log_clf, X_train_tr, y_train)"
   ]
  },
  {
   "cell_type": "markdown",
   "metadata": {},
   "source": [
    "## Random Forest"
   ]
  },
  {
   "cell_type": "code",
   "execution_count": 811,
   "metadata": {
    "ExecuteTime": {
     "end_time": "2023-01-30T23:32:31.109940Z",
     "start_time": "2023-01-30T23:32:31.102801Z"
    }
   },
   "outputs": [],
   "source": [
    "# # Randomized Search CV para a Random Forest\n",
    "\n",
    "# forest_clf = RandomForestClassifier(max_depth=5, max_features=4, \n",
    "#                                     min_samples_split=30, n_estimators=500, \n",
    "#                                     random_state=42)\n",
    "\n",
    "# params_grid = {\"n_estimators\":np.linspace(100,1000,10, dtype=np.int), \n",
    "#                \"max_depth\":np.arange(4, 21, 1, dtype=np.int),\n",
    "#                \"min_samples_split\": [2,5,10,30],\n",
    "#                \"max_features\": [3,4,5,6,7]\n",
    "#               }\n",
    "# forest_randcv = RandomizedSearchCV(forest_clf, params_grid, n_iter=100, cv=3, scoring='accuracy', verbose=2, n_jobs=-1)\n",
    "# forest_randcv.fit(X_train_tr, y_train)\n",
    "\n",
    "# print(f'Melhor estimador:{forest_randcv.best_params_}')\n",
    "# relatorio_cross_val(forest_randcv.best_estimator_, X_train_tr, y_train)"
   ]
  },
  {
   "cell_type": "code",
   "execution_count": 812,
   "metadata": {
    "ExecuteTime": {
     "end_time": "2023-01-30T23:32:38.815280Z",
     "start_time": "2023-01-30T23:32:31.112136Z"
    }
   },
   "outputs": [
    {
     "name": "stdout",
     "output_type": "stream",
     "text": [
      "Acurácia média: 0.7622 (std=0.0256)\n",
      "Precisão média: 0.6863 (std=0.0438)\n",
      "Recall médio: 0.5967 (std=0.0938)\n"
     ]
    }
   ],
   "source": [
    "# Vamos reservar um modelo treinado para fazer um ensemble\n",
    "\n",
    "forest_clf = RandomForestClassifier(max_depth=15, \n",
    "                                    max_features=5, \n",
    "                                    min_samples_split=2, \n",
    "                                    n_estimators=200, \n",
    "                                    random_state=42)\n",
    "\n",
    "forest_clf.fit(X_train_tr, y_train)\n",
    "relatorio_cross_val(forest_clf, X_train_tr, y_train)"
   ]
  },
  {
   "cell_type": "markdown",
   "metadata": {},
   "source": [
    "### XGBoost"
   ]
  },
  {
   "cell_type": "code",
   "execution_count": 813,
   "metadata": {
    "ExecuteTime": {
     "end_time": "2023-01-30T23:32:38.820042Z",
     "start_time": "2023-01-30T23:32:38.817526Z"
    },
    "scrolled": true
   },
   "outputs": [],
   "source": [
    "# # Randomized Search CV para a XGBoost\n",
    "\n",
    "# xgb_clf = XGBClassifier(learning_rate=0.07, max_depth=6, n_estimators=500, random_state=42)\n",
    "\n",
    "# params_grid = {\"n_estimators\":np.linspace(100,1000,10, dtype=np.int), \n",
    "#                \"max_depth\":np.arange(4, 21, 1, dtype=np.int),\n",
    "#                \"learning_rate\": np.linspace(0,1,11)\n",
    "#               }\n",
    "# xgb_randcv = RandomizedSearchCV(xgb_clf, params_grid, n_iter=100, cv=3, scoring='accuracy', verbose=3, n_jobs=-1)\n",
    "# xgb_randcv.fit(X_train_tr, y_train)\n",
    "\n",
    "# print(f'Melhor estimador:{xgb_randcv.best_params_}')\n",
    "# relatorio_cross_val(xgb_randcv.best_estimator_, X_train_tr, y_train)"
   ]
  },
  {
   "cell_type": "code",
   "execution_count": 814,
   "metadata": {
    "ExecuteTime": {
     "end_time": "2023-01-30T23:32:38.830823Z",
     "start_time": "2023-01-30T23:32:38.821905Z"
    }
   },
   "outputs": [],
   "source": [
    "# Grid Search CV para XGB\n",
    "\n",
    "# params = {\n",
    "#     \"learning_rate\": [0.06, 0.09, 0.1, 0.2],\n",
    "#     \"max_depth\":[4,5,6,7,8],\n",
    "#     \"n_estimators\":[100,200,500]}\n",
    "\n",
    "# grid_search_cv = GridSearchCV(xgb_clf, params, cv=3, scoring='accuracy', verbose=2, n_jobs=-1)\n",
    "# grid_search_cv.fit(X_train, y_train)\n",
    "# grid_search_cv.best_estimator_\n",
    "# grid_search_cv.best_score_"
   ]
  },
  {
   "cell_type": "code",
   "execution_count": 815,
   "metadata": {
    "ExecuteTime": {
     "end_time": "2023-01-30T23:33:50.547132Z",
     "start_time": "2023-01-30T23:32:38.833099Z"
    }
   },
   "outputs": [
    {
     "name": "stdout",
     "output_type": "stream",
     "text": [
      "Acurácia média: 0.7309 (std=0.014)\n",
      "Precisão média: 0.6249 (std=0.0168)\n",
      "Recall médio: 0.5721 (std=0.0489)\n"
     ]
    }
   ],
   "source": [
    "# Vamos reservar um modelo treinado para fazer um ensemble\n",
    "\n",
    "xgb_clf = XGBClassifier(learning_rate=0.4, \n",
    "                        max_depth=10, \n",
    "                        n_estimators=800,\n",
    "                        random_state=42)\n",
    "\n",
    "xgb_clf.fit(X_train_tr, y_train)\n",
    "relatorio_cross_val(xgb_clf, X_train_tr, y_train)"
   ]
  },
  {
   "cell_type": "markdown",
   "metadata": {},
   "source": [
    "## Support-vector machine"
   ]
  },
  {
   "cell_type": "code",
   "execution_count": 834,
   "metadata": {
    "ExecuteTime": {
     "end_time": "2023-01-30T23:38:30.132880Z",
     "start_time": "2023-01-30T23:38:29.395855Z"
    }
   },
   "outputs": [
    {
     "name": "stdout",
     "output_type": "stream",
     "text": [
      "Acurácia média: 0.7813 (std=0.0099)\n",
      "Precisão média: 0.7421 (std=0.0341)\n",
      "Recall médio: 0.5768 (std=0.038)\n"
     ]
    }
   ],
   "source": [
    "svc_clf = SVC(kernel='linear', C=1.0, probability=True)\n",
    "svc_clf.fit(X_train_tr, y_train)\n",
    "relatorio_cross_val(svc_clf, X_train_tr, y_train)"
   ]
  },
  {
   "cell_type": "markdown",
   "metadata": {},
   "source": [
    "### Majority hard vote "
   ]
  },
  {
   "cell_type": "code",
   "execution_count": 817,
   "metadata": {
    "ExecuteTime": {
     "end_time": "2023-01-30T23:35:10.290504Z",
     "start_time": "2023-01-30T23:33:51.213562Z"
    }
   },
   "outputs": [
    {
     "name": "stdout",
     "output_type": "stream",
     "text": [
      "Acurácia média: 0.7691 (std=0.017)\n",
      "Precisão média: 0.7398 (std=0.0364)\n",
      "Recall médio: 0.527 (std=0.0778)\n"
     ]
    }
   ],
   "source": [
    "estimators = [('forest', forest_clf), ('xgb', xgb_clf), ('svc', svc_clf), ('log', log_clf)]\n",
    "voting_hard_clf = VotingClassifier(estimators, voting='hard')\n",
    "voting_hard_clf.fit(X_train_tr, y_train)\n",
    "relatorio_cross_val(voting_hard_clf, X_train_tr, y_train)"
   ]
  },
  {
   "cell_type": "markdown",
   "metadata": {},
   "source": [
    "### Majority soft vote "
   ]
  },
  {
   "cell_type": "code",
   "execution_count": 818,
   "metadata": {
    "ExecuteTime": {
     "end_time": "2023-01-30T23:37:15.550889Z",
     "start_time": "2023-01-30T23:35:10.294996Z"
    }
   },
   "outputs": [
    {
     "name": "stdout",
     "output_type": "stream",
     "text": [
      "Acurácia média: 0.7657 (std=0.0178)\n",
      "Precisão média: 0.6994 (std=0.0397)\n",
      "Recall médio: 0.5866 (std=0.0803)\n"
     ]
    }
   ],
   "source": [
    "estimators = [('forest', forest_clf), ('xgb', xgb_clf), ('svc', svc_clf), ('log', log_clf)]\n",
    "voting_soft_clf = VotingClassifier(estimators, voting='soft')\n",
    "voting_soft_clf.fit(X_train_tr, y_train)\n",
    "relatorio_cross_val(voting_soft_clf, X_train_tr, y_train)"
   ]
  },
  {
   "cell_type": "markdown",
   "metadata": {},
   "source": [
    "## Avaliação final do modelo"
   ]
  },
  {
   "cell_type": "code",
   "execution_count": 849,
   "metadata": {
    "ExecuteTime": {
     "end_time": "2023-01-30T23:43:26.463473Z",
     "start_time": "2023-01-30T23:43:26.446097Z"
    }
   },
   "outputs": [
    {
     "data": {
      "text/html": [
       "<div>\n",
       "<style scoped>\n",
       "    .dataframe tbody tr th:only-of-type {\n",
       "        vertical-align: middle;\n",
       "    }\n",
       "\n",
       "    .dataframe tbody tr th {\n",
       "        vertical-align: top;\n",
       "    }\n",
       "\n",
       "    .dataframe thead th {\n",
       "        text-align: right;\n",
       "    }\n",
       "</style>\n",
       "<table border=\"1\" class=\"dataframe\">\n",
       "  <thead>\n",
       "    <tr style=\"text-align: right;\">\n",
       "      <th></th>\n",
       "      <th>Pregnancies</th>\n",
       "      <th>Glucose</th>\n",
       "      <th>BloodPressure</th>\n",
       "      <th>SkinThickness</th>\n",
       "      <th>Insulin</th>\n",
       "      <th>BMI</th>\n",
       "      <th>DiabetesPedigreeFunction</th>\n",
       "      <th>Age</th>\n",
       "    </tr>\n",
       "  </thead>\n",
       "  <tbody>\n",
       "    <tr>\n",
       "      <th>635</th>\n",
       "      <td>13</td>\n",
       "      <td>104.0</td>\n",
       "      <td>72.0</td>\n",
       "      <td>NaN</td>\n",
       "      <td>NaN</td>\n",
       "      <td>31.200001</td>\n",
       "      <td>0.465</td>\n",
       "      <td>38</td>\n",
       "    </tr>\n",
       "    <tr>\n",
       "      <th>698</th>\n",
       "      <td>4</td>\n",
       "      <td>127.0</td>\n",
       "      <td>88.0</td>\n",
       "      <td>11.0</td>\n",
       "      <td>155.0</td>\n",
       "      <td>34.500000</td>\n",
       "      <td>0.598</td>\n",
       "      <td>28</td>\n",
       "    </tr>\n",
       "    <tr>\n",
       "      <th>637</th>\n",
       "      <td>2</td>\n",
       "      <td>94.0</td>\n",
       "      <td>76.0</td>\n",
       "      <td>18.0</td>\n",
       "      <td>66.0</td>\n",
       "      <td>31.600000</td>\n",
       "      <td>0.649</td>\n",
       "      <td>23</td>\n",
       "    </tr>\n",
       "    <tr>\n",
       "      <th>402</th>\n",
       "      <td>5</td>\n",
       "      <td>136.0</td>\n",
       "      <td>84.0</td>\n",
       "      <td>41.0</td>\n",
       "      <td>88.0</td>\n",
       "      <td>35.000000</td>\n",
       "      <td>0.286</td>\n",
       "      <td>35</td>\n",
       "    </tr>\n",
       "    <tr>\n",
       "      <th>425</th>\n",
       "      <td>4</td>\n",
       "      <td>184.0</td>\n",
       "      <td>78.0</td>\n",
       "      <td>39.0</td>\n",
       "      <td>277.0</td>\n",
       "      <td>37.000000</td>\n",
       "      <td>0.264</td>\n",
       "      <td>31</td>\n",
       "    </tr>\n",
       "  </tbody>\n",
       "</table>\n",
       "</div>"
      ],
      "text/plain": [
       "     Pregnancies  Glucose  BloodPressure  SkinThickness  Insulin        BMI  \\\n",
       "635           13    104.0           72.0            NaN      NaN  31.200001   \n",
       "698            4    127.0           88.0           11.0    155.0  34.500000   \n",
       "637            2     94.0           76.0           18.0     66.0  31.600000   \n",
       "402            5    136.0           84.0           41.0     88.0  35.000000   \n",
       "425            4    184.0           78.0           39.0    277.0  37.000000   \n",
       "\n",
       "     DiabetesPedigreeFunction  Age  \n",
       "635                     0.465   38  \n",
       "698                     0.598   28  \n",
       "637                     0.649   23  \n",
       "402                     0.286   35  \n",
       "425                     0.264   31  "
      ]
     },
     "execution_count": 849,
     "metadata": {},
     "output_type": "execute_result"
    }
   ],
   "source": [
    "X_test.head()"
   ]
  },
  {
   "cell_type": "code",
   "execution_count": 850,
   "metadata": {
    "ExecuteTime": {
     "end_time": "2023-01-30T23:43:27.220459Z",
     "start_time": "2023-01-30T23:43:27.174326Z"
    }
   },
   "outputs": [],
   "source": [
    "# Tratamento dos dados de teste\n",
    "\n",
    "X_test_tr = treatment_pipeline.transform(X_test)"
   ]
  },
  {
   "cell_type": "code",
   "execution_count": 851,
   "metadata": {
    "ExecuteTime": {
     "end_time": "2023-01-30T23:43:27.824940Z",
     "start_time": "2023-01-30T23:43:27.818732Z"
    }
   },
   "outputs": [],
   "source": [
    "def metrics_report(y_train, y_pred):\n",
    "    accuracy = np.round(accuracy_score(y_train, y_pred), 4)\n",
    "    precision = np.round(precision_score(y_train, y_pred), 4)\n",
    "    recall = np.round(recall_score(y_train, y_pred), 4)\n",
    "    print(f\"Accuracy score: {accuracy}\")\n",
    "    print(f\"Precision score: {precision}\")\n",
    "    print(f\"Recall score: {recall}\")\n",
    "    print(\"-------------------------- \\n\")"
   ]
  },
  {
   "cell_type": "code",
   "execution_count": 852,
   "metadata": {
    "ExecuteTime": {
     "end_time": "2023-01-30T23:43:28.566906Z",
     "start_time": "2023-01-30T23:43:28.425770Z"
    },
    "scrolled": false
   },
   "outputs": [
    {
     "name": "stdout",
     "output_type": "stream",
     "text": [
      "*Results for Random Forest \n",
      "\n",
      "Accuracy score: 0.724\n",
      "Precision score: 0.6207\n",
      "Recall score: 0.5373\n",
      "-------------------------- \n",
      "\n",
      "*Results for XGBoost \n",
      "\n",
      "Accuracy score: 0.7396\n",
      "Precision score: 0.6308\n",
      "Recall score: 0.6119\n",
      "-------------------------- \n",
      "\n",
      "*Results for SVM \n",
      "\n",
      "Accuracy score: 0.6354\n",
      "Precision score: 0.4789\n",
      "Recall score: 0.5075\n",
      "-------------------------- \n",
      "\n",
      "*Results for Log. Reg. \n",
      "\n",
      "Accuracy score: 0.724\n",
      "Precision score: 0.625\n",
      "Recall score: 0.5224\n",
      "-------------------------- \n",
      "\n",
      "*Results for Hard voting \n",
      "\n",
      "Accuracy score: 0.724\n",
      "Precision score: 0.6458\n",
      "Recall score: 0.4627\n",
      "-------------------------- \n",
      "\n",
      "*Results for Soft voting \n",
      "\n",
      "Accuracy score: 0.7344\n",
      "Precision score: 0.6333\n",
      "Recall score: 0.5672\n",
      "-------------------------- \n",
      "\n"
     ]
    }
   ],
   "source": [
    "models = [forest_clf, xgb_clf, svc_clf, log_clf, voting_hard_clf, voting_soft_clf]\n",
    "models_names = [\"Random Forest\", \"XGBoost\", \"SVM\", \"Log. Reg.\", \"Hard voting\", \"Soft voting\"]\n",
    "\n",
    "for name, model in zip(models_names, models):\n",
    "    y_pred = model.predict(X_test_tr)\n",
    "    print(f\"*Results for {name} \\n\")\n",
    "    metrics_report(y_test, y_pred)"
   ]
  },
  {
   "cell_type": "markdown",
   "metadata": {},
   "source": [
    "# Conclusões"
   ]
  },
  {
   "cell_type": "code",
   "execution_count": 823,
   "metadata": {
    "ExecuteTime": {
     "end_time": "2023-01-30T23:37:15.830725Z",
     "start_time": "2023-01-30T23:37:15.827108Z"
    }
   },
   "outputs": [],
   "source": [
    "# Curva e ajuste recall-precisão\n",
    "# Curva ROC\n",
    "# Métricas"
   ]
  },
  {
   "cell_type": "code",
   "execution_count": 857,
   "metadata": {
    "ExecuteTime": {
     "end_time": "2023-01-30T23:49:35.326784Z",
     "start_time": "2023-01-30T23:49:35.113411Z"
    }
   },
   "outputs": [
    {
     "data": {
      "image/png": "[encoded data removed]",
      "text/plain": [
       "<Figure size 432x288 with 2 Axes>"
      ]
     },
     "metadata": {
      "needs_background": "light"
     },
     "output_type": "display_data"
    }
   ],
   "source": [
    "cm_ml = confusion_matrix(y_test, y_pred)\n",
    "ConfusionMatrixDisplay(cm_ml).plot();"
   ]
  },
  {
   "cell_type": "code",
   "execution_count": 863,
   "metadata": {
    "ExecuteTime": {
     "end_time": "2023-01-30T23:51:46.820937Z",
     "start_time": "2023-01-30T23:51:46.802510Z"
    }
   },
   "outputs": [],
   "source": [
    "# Ajuste de precisão/recall\n",
    "\n",
    "from sklearn.metrics import precision_recall_curve\n",
    "\n",
    "y_scores = cross_val_predict(log_clf, X_test_tr, y_test, cv=3, method=\"decision_function\")\n",
    "precisions, recalls, thresholds = precision_recall_curve(y_test, y_scores)"
   ]
  },
  {
   "cell_type": "code",
   "execution_count": 864,
   "metadata": {
    "ExecuteTime": {
     "end_time": "2023-01-30T23:51:48.498917Z",
     "start_time": "2023-01-30T23:51:48.291503Z"
    }
   },
   "outputs": [
    {
     "data": {
      "image/png": "[encoded data removed]",
      "text/plain": [
       "<Figure size 432x288 with 1 Axes>"
      ]
     },
     "metadata": {
      "needs_background": "light"
     },
     "output_type": "display_data"
    }
   ],
   "source": [
    "plt.plot(thresholds, precisions[:-1], label='Precision')\n",
    "plt.plot(thresholds, recalls[:-1], label='Recall')\n",
    "plt.legend()\n",
    "plt.show()"
   ]
  },
  {
   "cell_type": "code",
   "execution_count": 865,
   "metadata": {
    "ExecuteTime": {
     "end_time": "2023-01-30T23:51:52.762049Z",
     "start_time": "2023-01-30T23:51:52.571063Z"
    }
   },
   "outputs": [
    {
     "data": {
      "image/png": "[encoded data removed]",
      "text/plain": [
       "<Figure size 432x288 with 1 Axes>"
      ]
     },
     "metadata": {
      "needs_background": "light"
     },
     "output_type": "display_data"
    }
   ],
   "source": [
    "plt.plot(precisions, recalls)\n",
    "plt.ylabel('Precisão')\n",
    "plt.xlabel('Recall')\n",
    "plt.show()"
   ]
  },
  {
   "cell_type": "code",
   "execution_count": 829,
   "metadata": {
    "ExecuteTime": {
     "end_time": "2023-01-30T23:37:16.795765Z",
     "start_time": "2023-01-30T23:37:16.791677Z"
    }
   },
   "outputs": [],
   "source": [
    "# Redução de dimensão\n",
    "# Avaliar matriz de confusão e impacto financeiro do modelo"
   ]
  }
 ],
 "metadata": {
  "kernelspec": {
   "display_name": "Python 3",
   "language": "python",
   "name": "python3"
  },
  "language_info": {
   "codemirror_mode": {
    "name": "ipython",
    "version": 3
   },
   "file_extension": ".py",
   "mimetype": "text/x-python",
   "name": "python",
   "nbconvert_exporter": "python",
   "pygments_lexer": "ipython3",
   "version": "3.8.10"
  },
  "varInspector": {
   "cols": {
    "lenName": 16,
    "lenType": 16,
    "lenVar": 40
   },
   "kernels_config": {
    "python": {
     "delete_cmd_postfix": "",
     "delete_cmd_prefix": "del ",
     "library": "var_list.py",
     "varRefreshCmd": "print(var_dic_list())"
    },
    "r": {
     "delete_cmd_postfix": ") ",
     "delete_cmd_prefix": "rm(",
     "library": "var_list.r",
     "varRefreshCmd": "cat(var_dic_list()) "
    }
   },
   "types_to_exclude": [
    "module",
    "function",
    "builtin_function_or_method",
    "instance",
    "_Feature"
   ],
   "window_display": false
  }
 },
 "nbformat": 4,
 "nbformat_minor": 4
}
