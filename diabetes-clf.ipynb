{
 "cells": [
  {
   "cell_type": "markdown",
   "metadata": {},
   "source": [
    "# Modelo de previsão de diabetes \n",
    "\n",
    "![diabetes](files/img/header.jpeg)"
   ]
  },
  {
   "cell_type": "markdown",
   "metadata": {},
   "source": [
    "## Introdução\n",
    "\n",
    "Esse projeto tem como objetivo prever o diagnóstico de diabetes de um paciente dado um conjunto de dados de saúde. Temos então um problema de **classificação supervisionado offline**.\n"
   ]
  },
  {
   "cell_type": "markdown",
   "metadata": {},
   "source": [
    "## Sobre os dados\n",
    "\n",
    "\n",
    "Os dados são originalmente do estudo do *National Institute of Diabetes and Digestive and Kidney Diseases* e foram discutidos [neste artigo](http://). Os dados podem ser encontrados [aqui](https://www.kaggle.com/datasets/mathchi/diabetes-data-set). Todos os dados são de pacientes mulheres de pelo menos 21 anos de idade. As *features* são:\n",
    "\n",
    "* **Pregnancies**: Número de eventos de gravidez; \n",
    "* **Glucose**: Concentração de glicose plasmática;\n",
    "* **BloodPressure**: Pressão sanguínea diastólica ($mmHg$);\n",
    "* **SkinThickness**: Grossura da dobra da pele do tríceps ($mm$);\n",
    "* **Insulin**: Insulina sérica ($\\mu U/mL$);\n",
    "* **BMI**: *Body mass index*, Peso em $kg$ / (altura em $m$)$^2$;\n",
    "* **DiabetesPedigreeFunction**: mede a possibilidade de diabetes dado o histórico familiar;\n",
    "* **Age**: Idade (anos);\n",
    "* **Outcome**: Target, 0 para não-diabético, 1 para diabético.\n",
    "\n"
   ]
  },
  {
   "cell_type": "markdown",
   "metadata": {},
   "source": [
    "## Problema de negócio e avaliação do modelo\n",
    "\n",
    "O custo de exame e de prevenção são significativamente menores que os custos de tratamento da diabetes. Além disso, a detecção precoce facilita o tratamento (https://www.previva.com.br/reduzir-custo-do-diabetes/).\n",
    "\n",
    "A principal métrica que utilizaremos para avaliar o modelo será o **recall**, mas também analisaremos a acurácia, precisão e F1 dos modelos. Compararemos nossos resultados com um modelo empírico baseado na concentração de glicose. \n",
    "\n",
    "Utilizaremos os seguintes dados fictícios para simular o gasto público: o custo de tratamento é de $R\\$$ 200/paciente x mês, enquanto o custo de exame/prevenção é de $R\\$$ 50,00 / paciente x mês."
   ]
  },
  {
   "cell_type": "markdown",
   "metadata": {},
   "source": [
    "## Importando e explorando os dados"
   ]
  },
  {
   "cell_type": "code",
   "execution_count": 154,
   "metadata": {
    "ExecuteTime": {
     "end_time": "2023-02-07T23:23:35.983548Z",
     "start_time": "2023-02-07T23:23:35.975546Z"
    }
   },
   "outputs": [],
   "source": [
    "# Importando bibliotecas\n",
    "\n",
    "import numpy as np\n",
    "import pandas as pd\n",
    "import seaborn as sns\n",
    "import matplotlib\n",
    "import matplotlib.pyplot as plt\n",
    "from sklearn.model_selection import (train_test_split, cross_val_score, \n",
    "                                     GridSearchCV, RandomizedSearchCV)\n",
    "\n",
    "from sklearn.metrics import (accuracy_score, precision_score, \n",
    "                             recall_score, f1_score, \n",
    "                             confusion_matrix, ConfusionMatrixDisplay)\n",
    "\n",
    "from sklearn.linear_model import LogisticRegression\n",
    "from sklearn.ensemble import RandomForestClassifier, VotingClassifier\n",
    "from sklearn.tree import DecisionTreeClassifier \n",
    "from sklearn.svm import SVC\n",
    "from sklearn import tree\n",
    "from sklearn.pipeline import Pipeline\n",
    "from sklearn.impute import KNNImputer, SimpleImputer\n",
    "from sklearn.preprocessing import StandardScaler, KBinsDiscretizer, QuantileTransformer\n",
    "from sklearn.base import BaseEstimator, TransformerMixin\n",
    "from sklearn.compose import ColumnTransformer\n",
    "from xgboost import XGBClassifier"
   ]
  },
  {
   "cell_type": "code",
   "execution_count": 2,
   "metadata": {
    "ExecuteTime": {
     "end_time": "2023-02-07T20:51:48.999920Z",
     "start_time": "2023-02-07T20:51:48.988421Z"
    }
   },
   "outputs": [],
   "source": [
    "data = pd.read_csv(\"data/diabetes.csv\")"
   ]
  },
  {
   "cell_type": "code",
   "execution_count": 3,
   "metadata": {
    "ExecuteTime": {
     "end_time": "2023-02-07T20:51:50.320357Z",
     "start_time": "2023-02-07T20:51:50.300797Z"
    }
   },
   "outputs": [
    {
     "data": {
      "text/html": [
       "<div>\n",
       "<style scoped>\n",
       "    .dataframe tbody tr th:only-of-type {\n",
       "        vertical-align: middle;\n",
       "    }\n",
       "\n",
       "    .dataframe tbody tr th {\n",
       "        vertical-align: top;\n",
       "    }\n",
       "\n",
       "    .dataframe thead th {\n",
       "        text-align: right;\n",
       "    }\n",
       "</style>\n",
       "<table border=\"1\" class=\"dataframe\">\n",
       "  <thead>\n",
       "    <tr style=\"text-align: right;\">\n",
       "      <th></th>\n",
       "      <th>Pregnancies</th>\n",
       "      <th>Glucose</th>\n",
       "      <th>BloodPressure</th>\n",
       "      <th>SkinThickness</th>\n",
       "      <th>Insulin</th>\n",
       "      <th>BMI</th>\n",
       "      <th>DiabetesPedigreeFunction</th>\n",
       "      <th>Age</th>\n",
       "      <th>Outcome</th>\n",
       "    </tr>\n",
       "  </thead>\n",
       "  <tbody>\n",
       "    <tr>\n",
       "      <th>0</th>\n",
       "      <td>6</td>\n",
       "      <td>148</td>\n",
       "      <td>72</td>\n",
       "      <td>35</td>\n",
       "      <td>0</td>\n",
       "      <td>33.6</td>\n",
       "      <td>0.627</td>\n",
       "      <td>50</td>\n",
       "      <td>1</td>\n",
       "    </tr>\n",
       "    <tr>\n",
       "      <th>1</th>\n",
       "      <td>1</td>\n",
       "      <td>85</td>\n",
       "      <td>66</td>\n",
       "      <td>29</td>\n",
       "      <td>0</td>\n",
       "      <td>26.6</td>\n",
       "      <td>0.351</td>\n",
       "      <td>31</td>\n",
       "      <td>0</td>\n",
       "    </tr>\n",
       "    <tr>\n",
       "      <th>2</th>\n",
       "      <td>8</td>\n",
       "      <td>183</td>\n",
       "      <td>64</td>\n",
       "      <td>0</td>\n",
       "      <td>0</td>\n",
       "      <td>23.3</td>\n",
       "      <td>0.672</td>\n",
       "      <td>32</td>\n",
       "      <td>1</td>\n",
       "    </tr>\n",
       "    <tr>\n",
       "      <th>3</th>\n",
       "      <td>1</td>\n",
       "      <td>89</td>\n",
       "      <td>66</td>\n",
       "      <td>23</td>\n",
       "      <td>94</td>\n",
       "      <td>28.1</td>\n",
       "      <td>0.167</td>\n",
       "      <td>21</td>\n",
       "      <td>0</td>\n",
       "    </tr>\n",
       "    <tr>\n",
       "      <th>4</th>\n",
       "      <td>0</td>\n",
       "      <td>137</td>\n",
       "      <td>40</td>\n",
       "      <td>35</td>\n",
       "      <td>168</td>\n",
       "      <td>43.1</td>\n",
       "      <td>2.288</td>\n",
       "      <td>33</td>\n",
       "      <td>1</td>\n",
       "    </tr>\n",
       "  </tbody>\n",
       "</table>\n",
       "</div>"
      ],
      "text/plain": [
       "   Pregnancies  Glucose  BloodPressure  SkinThickness  Insulin   BMI  \\\n",
       "0            6      148             72             35        0  33.6   \n",
       "1            1       85             66             29        0  26.6   \n",
       "2            8      183             64              0        0  23.3   \n",
       "3            1       89             66             23       94  28.1   \n",
       "4            0      137             40             35      168  43.1   \n",
       "\n",
       "   DiabetesPedigreeFunction  Age  Outcome  \n",
       "0                     0.627   50        1  \n",
       "1                     0.351   31        0  \n",
       "2                     0.672   32        1  \n",
       "3                     0.167   21        0  \n",
       "4                     2.288   33        1  "
      ]
     },
     "execution_count": 3,
     "metadata": {},
     "output_type": "execute_result"
    }
   ],
   "source": [
    "data.head()"
   ]
  },
  {
   "cell_type": "code",
   "execution_count": 4,
   "metadata": {
    "ExecuteTime": {
     "end_time": "2023-02-07T20:51:53.070921Z",
     "start_time": "2023-02-07T20:51:53.034553Z"
    }
   },
   "outputs": [
    {
     "data": {
      "text/html": [
       "<div>\n",
       "<style scoped>\n",
       "    .dataframe tbody tr th:only-of-type {\n",
       "        vertical-align: middle;\n",
       "    }\n",
       "\n",
       "    .dataframe tbody tr th {\n",
       "        vertical-align: top;\n",
       "    }\n",
       "\n",
       "    .dataframe thead th {\n",
       "        text-align: right;\n",
       "    }\n",
       "</style>\n",
       "<table border=\"1\" class=\"dataframe\">\n",
       "  <thead>\n",
       "    <tr style=\"text-align: right;\">\n",
       "      <th></th>\n",
       "      <th>Pregnancies</th>\n",
       "      <th>Glucose</th>\n",
       "      <th>BloodPressure</th>\n",
       "      <th>SkinThickness</th>\n",
       "      <th>Insulin</th>\n",
       "      <th>BMI</th>\n",
       "      <th>DiabetesPedigreeFunction</th>\n",
       "      <th>Age</th>\n",
       "      <th>Outcome</th>\n",
       "    </tr>\n",
       "  </thead>\n",
       "  <tbody>\n",
       "    <tr>\n",
       "      <th>count</th>\n",
       "      <td>768.000000</td>\n",
       "      <td>768.000000</td>\n",
       "      <td>768.000000</td>\n",
       "      <td>768.000000</td>\n",
       "      <td>768.000000</td>\n",
       "      <td>768.000000</td>\n",
       "      <td>768.000000</td>\n",
       "      <td>768.000000</td>\n",
       "      <td>768.000000</td>\n",
       "    </tr>\n",
       "    <tr>\n",
       "      <th>mean</th>\n",
       "      <td>3.845052</td>\n",
       "      <td>120.894531</td>\n",
       "      <td>69.105469</td>\n",
       "      <td>20.536458</td>\n",
       "      <td>79.799479</td>\n",
       "      <td>31.992578</td>\n",
       "      <td>0.471876</td>\n",
       "      <td>33.240885</td>\n",
       "      <td>0.348958</td>\n",
       "    </tr>\n",
       "    <tr>\n",
       "      <th>std</th>\n",
       "      <td>3.369578</td>\n",
       "      <td>31.972618</td>\n",
       "      <td>19.355807</td>\n",
       "      <td>15.952218</td>\n",
       "      <td>115.244002</td>\n",
       "      <td>7.884160</td>\n",
       "      <td>0.331329</td>\n",
       "      <td>11.760232</td>\n",
       "      <td>0.476951</td>\n",
       "    </tr>\n",
       "    <tr>\n",
       "      <th>min</th>\n",
       "      <td>0.000000</td>\n",
       "      <td>0.000000</td>\n",
       "      <td>0.000000</td>\n",
       "      <td>0.000000</td>\n",
       "      <td>0.000000</td>\n",
       "      <td>0.000000</td>\n",
       "      <td>0.078000</td>\n",
       "      <td>21.000000</td>\n",
       "      <td>0.000000</td>\n",
       "    </tr>\n",
       "    <tr>\n",
       "      <th>25%</th>\n",
       "      <td>1.000000</td>\n",
       "      <td>99.000000</td>\n",
       "      <td>62.000000</td>\n",
       "      <td>0.000000</td>\n",
       "      <td>0.000000</td>\n",
       "      <td>27.300000</td>\n",
       "      <td>0.243750</td>\n",
       "      <td>24.000000</td>\n",
       "      <td>0.000000</td>\n",
       "    </tr>\n",
       "    <tr>\n",
       "      <th>50%</th>\n",
       "      <td>3.000000</td>\n",
       "      <td>117.000000</td>\n",
       "      <td>72.000000</td>\n",
       "      <td>23.000000</td>\n",
       "      <td>30.500000</td>\n",
       "      <td>32.000000</td>\n",
       "      <td>0.372500</td>\n",
       "      <td>29.000000</td>\n",
       "      <td>0.000000</td>\n",
       "    </tr>\n",
       "    <tr>\n",
       "      <th>75%</th>\n",
       "      <td>6.000000</td>\n",
       "      <td>140.250000</td>\n",
       "      <td>80.000000</td>\n",
       "      <td>32.000000</td>\n",
       "      <td>127.250000</td>\n",
       "      <td>36.600000</td>\n",
       "      <td>0.626250</td>\n",
       "      <td>41.000000</td>\n",
       "      <td>1.000000</td>\n",
       "    </tr>\n",
       "    <tr>\n",
       "      <th>max</th>\n",
       "      <td>17.000000</td>\n",
       "      <td>199.000000</td>\n",
       "      <td>122.000000</td>\n",
       "      <td>99.000000</td>\n",
       "      <td>846.000000</td>\n",
       "      <td>67.100000</td>\n",
       "      <td>2.420000</td>\n",
       "      <td>81.000000</td>\n",
       "      <td>1.000000</td>\n",
       "    </tr>\n",
       "  </tbody>\n",
       "</table>\n",
       "</div>"
      ],
      "text/plain": [
       "       Pregnancies     Glucose  BloodPressure  SkinThickness     Insulin  \\\n",
       "count   768.000000  768.000000     768.000000     768.000000  768.000000   \n",
       "mean      3.845052  120.894531      69.105469      20.536458   79.799479   \n",
       "std       3.369578   31.972618      19.355807      15.952218  115.244002   \n",
       "min       0.000000    0.000000       0.000000       0.000000    0.000000   \n",
       "25%       1.000000   99.000000      62.000000       0.000000    0.000000   \n",
       "50%       3.000000  117.000000      72.000000      23.000000   30.500000   \n",
       "75%       6.000000  140.250000      80.000000      32.000000  127.250000   \n",
       "max      17.000000  199.000000     122.000000      99.000000  846.000000   \n",
       "\n",
       "              BMI  DiabetesPedigreeFunction         Age     Outcome  \n",
       "count  768.000000                768.000000  768.000000  768.000000  \n",
       "mean    31.992578                  0.471876   33.240885    0.348958  \n",
       "std      7.884160                  0.331329   11.760232    0.476951  \n",
       "min      0.000000                  0.078000   21.000000    0.000000  \n",
       "25%     27.300000                  0.243750   24.000000    0.000000  \n",
       "50%     32.000000                  0.372500   29.000000    0.000000  \n",
       "75%     36.600000                  0.626250   41.000000    1.000000  \n",
       "max     67.100000                  2.420000   81.000000    1.000000  "
      ]
     },
     "execution_count": 4,
     "metadata": {},
     "output_type": "execute_result"
    }
   ],
   "source": [
    "data.describe()"
   ]
  },
  {
   "cell_type": "code",
   "execution_count": 5,
   "metadata": {
    "ExecuteTime": {
     "end_time": "2023-02-07T20:51:54.207062Z",
     "start_time": "2023-02-07T20:51:54.195904Z"
    }
   },
   "outputs": [
    {
     "data": {
      "text/plain": [
       "0"
      ]
     },
     "execution_count": 5,
     "metadata": {},
     "output_type": "execute_result"
    }
   ],
   "source": [
    "# Checando duplicados\n",
    "\n",
    "data.duplicated().sum()"
   ]
  },
  {
   "cell_type": "code",
   "execution_count": 6,
   "metadata": {
    "ExecuteTime": {
     "end_time": "2023-02-07T20:51:55.259041Z",
     "start_time": "2023-02-07T20:51:55.240952Z"
    },
    "scrolled": false
   },
   "outputs": [
    {
     "name": "stdout",
     "output_type": "stream",
     "text": [
      "<class 'pandas.core.frame.DataFrame'>\n",
      "RangeIndex: 768 entries, 0 to 767\n",
      "Data columns (total 9 columns):\n",
      " #   Column                    Non-Null Count  Dtype  \n",
      "---  ------                    --------------  -----  \n",
      " 0   Pregnancies               768 non-null    int64  \n",
      " 1   Glucose                   768 non-null    int64  \n",
      " 2   BloodPressure             768 non-null    int64  \n",
      " 3   SkinThickness             768 non-null    int64  \n",
      " 4   Insulin                   768 non-null    int64  \n",
      " 5   BMI                       768 non-null    float64\n",
      " 6   DiabetesPedigreeFunction  768 non-null    float64\n",
      " 7   Age                       768 non-null    int64  \n",
      " 8   Outcome                   768 non-null    int64  \n",
      "dtypes: float64(2), int64(7)\n",
      "memory usage: 54.1 KB\n"
     ]
    }
   ],
   "source": [
    "data.info()"
   ]
  },
  {
   "cell_type": "markdown",
   "metadata": {},
   "source": [
    "Não que seja necessário nesse caso, mas podemos reduzir o uso de memória alterando os dtypes."
   ]
  },
  {
   "cell_type": "code",
   "execution_count": 7,
   "metadata": {
    "ExecuteTime": {
     "end_time": "2023-02-07T20:51:56.938053Z",
     "start_time": "2023-02-07T20:51:56.928359Z"
    }
   },
   "outputs": [],
   "source": [
    "int_cols = list(data.select_dtypes('int64').columns) \n",
    "float_cols = list(data.select_dtypes('float64').columns)\n",
    "\n",
    "for col in int_cols:\n",
    "    data[col] = data[col].astype('int16')   # Não temos valores fora de [-32767, +32767]\n",
    "    \n",
    "for col in float_cols:\n",
    "    data[col] = data[col].astype('float32') # 32bits é suficiente para precisão que temos"
   ]
  },
  {
   "cell_type": "code",
   "execution_count": 8,
   "metadata": {
    "ExecuteTime": {
     "end_time": "2023-02-07T20:51:58.227682Z",
     "start_time": "2023-02-07T20:51:58.212151Z"
    },
    "scrolled": true
   },
   "outputs": [
    {
     "name": "stdout",
     "output_type": "stream",
     "text": [
      "<class 'pandas.core.frame.DataFrame'>\n",
      "RangeIndex: 768 entries, 0 to 767\n",
      "Data columns (total 9 columns):\n",
      " #   Column                    Non-Null Count  Dtype  \n",
      "---  ------                    --------------  -----  \n",
      " 0   Pregnancies               768 non-null    int16  \n",
      " 1   Glucose                   768 non-null    int16  \n",
      " 2   BloodPressure             768 non-null    int16  \n",
      " 3   SkinThickness             768 non-null    int16  \n",
      " 4   Insulin                   768 non-null    int16  \n",
      " 5   BMI                       768 non-null    float32\n",
      " 6   DiabetesPedigreeFunction  768 non-null    float32\n",
      " 7   Age                       768 non-null    int16  \n",
      " 8   Outcome                   768 non-null    int16  \n",
      "dtypes: float32(2), int16(7)\n",
      "memory usage: 16.6 KB\n"
     ]
    }
   ],
   "source": [
    "data.info()"
   ]
  },
  {
   "cell_type": "markdown",
   "metadata": {
    "ExecuteTime": {
     "end_time": "2023-01-20T20:47:05.199243Z",
     "start_time": "2023-01-20T20:47:05.191804Z"
    }
   },
   "source": [
    "Tivemos uma redução significativa de uso de memória."
   ]
  },
  {
   "cell_type": "code",
   "execution_count": 9,
   "metadata": {
    "ExecuteTime": {
     "end_time": "2023-02-07T20:52:00.997088Z",
     "start_time": "2023-02-07T20:52:00.988381Z"
    },
    "scrolled": true
   },
   "outputs": [
    {
     "name": "stdout",
     "output_type": "stream",
     "text": [
      "111 valores nulos (14.5 %) em Pregnancies.\n",
      "5 valores nulos (0.7 %) em Glucose.\n",
      "35 valores nulos (4.6 %) em BloodPressure.\n",
      "227 valores nulos (29.6 %) em SkinThickness.\n",
      "374 valores nulos (48.7 %) em Insulin.\n",
      "11 valores nulos (1.4 %) em BMI.\n",
      "0 valores nulos (0.0 %) em DiabetesPedigreeFunction.\n",
      "0 valores nulos (0.0 %) em Age.\n",
      "500 valores nulos (65.1 %) em Outcome.\n"
     ]
    }
   ],
   "source": [
    "# Checando valores nulos\n",
    "\n",
    "for col in data.columns:\n",
    "    print(f\"{data[col].eq(0).sum()} valores nulos ({100*data[col].eq(0).sum()/data.shape[0]:.1f} %) em {col}.\")"
   ]
  },
  {
   "cell_type": "markdown",
   "metadata": {},
   "source": [
    "Valores nulos de `Glucose`, `BloodPressure`, `SkinThickness`, `Insulin` e `BMI` são na verdade dados faltantes (NaN). A coluna `Insulin` possui uma quantidade significativa de NaN."
   ]
  },
  {
   "cell_type": "markdown",
   "metadata": {},
   "source": [
    "Vamos inspecionar um pouco mais as colunas de `Glucose` e `BMI`:"
   ]
  },
  {
   "cell_type": "code",
   "execution_count": 10,
   "metadata": {
    "ExecuteTime": {
     "end_time": "2023-02-07T20:52:39.098949Z",
     "start_time": "2023-02-07T20:52:39.086544Z"
    },
    "scrolled": true
   },
   "outputs": [
    {
     "data": {
      "text/html": [
       "<div>\n",
       "<style scoped>\n",
       "    .dataframe tbody tr th:only-of-type {\n",
       "        vertical-align: middle;\n",
       "    }\n",
       "\n",
       "    .dataframe tbody tr th {\n",
       "        vertical-align: top;\n",
       "    }\n",
       "\n",
       "    .dataframe thead th {\n",
       "        text-align: right;\n",
       "    }\n",
       "</style>\n",
       "<table border=\"1\" class=\"dataframe\">\n",
       "  <thead>\n",
       "    <tr style=\"text-align: right;\">\n",
       "      <th></th>\n",
       "      <th>Pregnancies</th>\n",
       "      <th>Glucose</th>\n",
       "      <th>BloodPressure</th>\n",
       "      <th>SkinThickness</th>\n",
       "      <th>Insulin</th>\n",
       "      <th>BMI</th>\n",
       "      <th>DiabetesPedigreeFunction</th>\n",
       "      <th>Age</th>\n",
       "      <th>Outcome</th>\n",
       "    </tr>\n",
       "  </thead>\n",
       "  <tbody>\n",
       "    <tr>\n",
       "      <th>75</th>\n",
       "      <td>1</td>\n",
       "      <td>0</td>\n",
       "      <td>48</td>\n",
       "      <td>20</td>\n",
       "      <td>0</td>\n",
       "      <td>24.700001</td>\n",
       "      <td>0.140</td>\n",
       "      <td>22</td>\n",
       "      <td>0</td>\n",
       "    </tr>\n",
       "    <tr>\n",
       "      <th>182</th>\n",
       "      <td>1</td>\n",
       "      <td>0</td>\n",
       "      <td>74</td>\n",
       "      <td>20</td>\n",
       "      <td>23</td>\n",
       "      <td>27.700001</td>\n",
       "      <td>0.299</td>\n",
       "      <td>21</td>\n",
       "      <td>0</td>\n",
       "    </tr>\n",
       "    <tr>\n",
       "      <th>342</th>\n",
       "      <td>1</td>\n",
       "      <td>0</td>\n",
       "      <td>68</td>\n",
       "      <td>35</td>\n",
       "      <td>0</td>\n",
       "      <td>32.000000</td>\n",
       "      <td>0.389</td>\n",
       "      <td>22</td>\n",
       "      <td>0</td>\n",
       "    </tr>\n",
       "    <tr>\n",
       "      <th>349</th>\n",
       "      <td>5</td>\n",
       "      <td>0</td>\n",
       "      <td>80</td>\n",
       "      <td>32</td>\n",
       "      <td>0</td>\n",
       "      <td>41.000000</td>\n",
       "      <td>0.346</td>\n",
       "      <td>37</td>\n",
       "      <td>1</td>\n",
       "    </tr>\n",
       "    <tr>\n",
       "      <th>502</th>\n",
       "      <td>6</td>\n",
       "      <td>0</td>\n",
       "      <td>68</td>\n",
       "      <td>41</td>\n",
       "      <td>0</td>\n",
       "      <td>39.000000</td>\n",
       "      <td>0.727</td>\n",
       "      <td>41</td>\n",
       "      <td>1</td>\n",
       "    </tr>\n",
       "  </tbody>\n",
       "</table>\n",
       "</div>"
      ],
      "text/plain": [
       "     Pregnancies  Glucose  BloodPressure  SkinThickness  Insulin        BMI  \\\n",
       "75             1        0             48             20        0  24.700001   \n",
       "182            1        0             74             20       23  27.700001   \n",
       "342            1        0             68             35        0  32.000000   \n",
       "349            5        0             80             32        0  41.000000   \n",
       "502            6        0             68             41        0  39.000000   \n",
       "\n",
       "     DiabetesPedigreeFunction  Age  Outcome  \n",
       "75                      0.140   22        0  \n",
       "182                     0.299   21        0  \n",
       "342                     0.389   22        0  \n",
       "349                     0.346   37        1  \n",
       "502                     0.727   41        1  "
      ]
     },
     "execution_count": 10,
     "metadata": {},
     "output_type": "execute_result"
    }
   ],
   "source": [
    "# NaN em Glucose\n",
    "\n",
    "data[data[\"Glucose\"] == 0]"
   ]
  },
  {
   "cell_type": "code",
   "execution_count": 11,
   "metadata": {
    "ExecuteTime": {
     "end_time": "2023-02-07T20:52:40.371078Z",
     "start_time": "2023-02-07T20:52:40.359530Z"
    },
    "scrolled": true
   },
   "outputs": [
    {
     "data": {
      "text/html": [
       "<div>\n",
       "<style scoped>\n",
       "    .dataframe tbody tr th:only-of-type {\n",
       "        vertical-align: middle;\n",
       "    }\n",
       "\n",
       "    .dataframe tbody tr th {\n",
       "        vertical-align: top;\n",
       "    }\n",
       "\n",
       "    .dataframe thead th {\n",
       "        text-align: right;\n",
       "    }\n",
       "</style>\n",
       "<table border=\"1\" class=\"dataframe\">\n",
       "  <thead>\n",
       "    <tr style=\"text-align: right;\">\n",
       "      <th></th>\n",
       "      <th>Pregnancies</th>\n",
       "      <th>Glucose</th>\n",
       "      <th>BloodPressure</th>\n",
       "      <th>SkinThickness</th>\n",
       "      <th>Insulin</th>\n",
       "      <th>BMI</th>\n",
       "      <th>DiabetesPedigreeFunction</th>\n",
       "      <th>Age</th>\n",
       "      <th>Outcome</th>\n",
       "    </tr>\n",
       "  </thead>\n",
       "  <tbody>\n",
       "    <tr>\n",
       "      <th>9</th>\n",
       "      <td>8</td>\n",
       "      <td>125</td>\n",
       "      <td>96</td>\n",
       "      <td>0</td>\n",
       "      <td>0</td>\n",
       "      <td>0.0</td>\n",
       "      <td>0.232</td>\n",
       "      <td>54</td>\n",
       "      <td>1</td>\n",
       "    </tr>\n",
       "    <tr>\n",
       "      <th>49</th>\n",
       "      <td>7</td>\n",
       "      <td>105</td>\n",
       "      <td>0</td>\n",
       "      <td>0</td>\n",
       "      <td>0</td>\n",
       "      <td>0.0</td>\n",
       "      <td>0.305</td>\n",
       "      <td>24</td>\n",
       "      <td>0</td>\n",
       "    </tr>\n",
       "    <tr>\n",
       "      <th>60</th>\n",
       "      <td>2</td>\n",
       "      <td>84</td>\n",
       "      <td>0</td>\n",
       "      <td>0</td>\n",
       "      <td>0</td>\n",
       "      <td>0.0</td>\n",
       "      <td>0.304</td>\n",
       "      <td>21</td>\n",
       "      <td>0</td>\n",
       "    </tr>\n",
       "    <tr>\n",
       "      <th>81</th>\n",
       "      <td>2</td>\n",
       "      <td>74</td>\n",
       "      <td>0</td>\n",
       "      <td>0</td>\n",
       "      <td>0</td>\n",
       "      <td>0.0</td>\n",
       "      <td>0.102</td>\n",
       "      <td>22</td>\n",
       "      <td>0</td>\n",
       "    </tr>\n",
       "    <tr>\n",
       "      <th>145</th>\n",
       "      <td>0</td>\n",
       "      <td>102</td>\n",
       "      <td>75</td>\n",
       "      <td>23</td>\n",
       "      <td>0</td>\n",
       "      <td>0.0</td>\n",
       "      <td>0.572</td>\n",
       "      <td>21</td>\n",
       "      <td>0</td>\n",
       "    </tr>\n",
       "    <tr>\n",
       "      <th>371</th>\n",
       "      <td>0</td>\n",
       "      <td>118</td>\n",
       "      <td>64</td>\n",
       "      <td>23</td>\n",
       "      <td>89</td>\n",
       "      <td>0.0</td>\n",
       "      <td>1.731</td>\n",
       "      <td>21</td>\n",
       "      <td>0</td>\n",
       "    </tr>\n",
       "    <tr>\n",
       "      <th>426</th>\n",
       "      <td>0</td>\n",
       "      <td>94</td>\n",
       "      <td>0</td>\n",
       "      <td>0</td>\n",
       "      <td>0</td>\n",
       "      <td>0.0</td>\n",
       "      <td>0.256</td>\n",
       "      <td>25</td>\n",
       "      <td>0</td>\n",
       "    </tr>\n",
       "    <tr>\n",
       "      <th>494</th>\n",
       "      <td>3</td>\n",
       "      <td>80</td>\n",
       "      <td>0</td>\n",
       "      <td>0</td>\n",
       "      <td>0</td>\n",
       "      <td>0.0</td>\n",
       "      <td>0.174</td>\n",
       "      <td>22</td>\n",
       "      <td>0</td>\n",
       "    </tr>\n",
       "    <tr>\n",
       "      <th>522</th>\n",
       "      <td>6</td>\n",
       "      <td>114</td>\n",
       "      <td>0</td>\n",
       "      <td>0</td>\n",
       "      <td>0</td>\n",
       "      <td>0.0</td>\n",
       "      <td>0.189</td>\n",
       "      <td>26</td>\n",
       "      <td>0</td>\n",
       "    </tr>\n",
       "    <tr>\n",
       "      <th>684</th>\n",
       "      <td>5</td>\n",
       "      <td>136</td>\n",
       "      <td>82</td>\n",
       "      <td>0</td>\n",
       "      <td>0</td>\n",
       "      <td>0.0</td>\n",
       "      <td>0.640</td>\n",
       "      <td>69</td>\n",
       "      <td>0</td>\n",
       "    </tr>\n",
       "    <tr>\n",
       "      <th>706</th>\n",
       "      <td>10</td>\n",
       "      <td>115</td>\n",
       "      <td>0</td>\n",
       "      <td>0</td>\n",
       "      <td>0</td>\n",
       "      <td>0.0</td>\n",
       "      <td>0.261</td>\n",
       "      <td>30</td>\n",
       "      <td>1</td>\n",
       "    </tr>\n",
       "  </tbody>\n",
       "</table>\n",
       "</div>"
      ],
      "text/plain": [
       "     Pregnancies  Glucose  BloodPressure  SkinThickness  Insulin  BMI  \\\n",
       "9              8      125             96              0        0  0.0   \n",
       "49             7      105              0              0        0  0.0   \n",
       "60             2       84              0              0        0  0.0   \n",
       "81             2       74              0              0        0  0.0   \n",
       "145            0      102             75             23        0  0.0   \n",
       "371            0      118             64             23       89  0.0   \n",
       "426            0       94              0              0        0  0.0   \n",
       "494            3       80              0              0        0  0.0   \n",
       "522            6      114              0              0        0  0.0   \n",
       "684            5      136             82              0        0  0.0   \n",
       "706           10      115              0              0        0  0.0   \n",
       "\n",
       "     DiabetesPedigreeFunction  Age  Outcome  \n",
       "9                       0.232   54        1  \n",
       "49                      0.305   24        0  \n",
       "60                      0.304   21        0  \n",
       "81                      0.102   22        0  \n",
       "145                     0.572   21        0  \n",
       "371                     1.731   21        0  \n",
       "426                     0.256   25        0  \n",
       "494                     0.174   22        0  \n",
       "522                     0.189   26        0  \n",
       "684                     0.640   69        0  \n",
       "706                     0.261   30        1  "
      ]
     },
     "execution_count": 11,
     "metadata": {},
     "output_type": "execute_result"
    }
   ],
   "source": [
    "# NaN em BMI\n",
    "\n",
    "data[data[\"BMI\"] == 0]"
   ]
  },
  {
   "cell_type": "markdown",
   "metadata": {},
   "source": [
    "Um número grande de instâncias que tem valor nulo em `BMI` são de pacientes não-diabéticos. Existem poucas instâncias nulas em `Glucose` e são relativamente homogêneas."
   ]
  },
  {
   "cell_type": "markdown",
   "metadata": {},
   "source": [
    "## Redifinindo dados faltantes e separação treino/teste"
   ]
  },
  {
   "cell_type": "markdown",
   "metadata": {},
   "source": [
    "A partir de agora corrigiremos os valores nulos por NaN e reservaremos nosso dataset de teste para o final."
   ]
  },
  {
   "cell_type": "code",
   "execution_count": 12,
   "metadata": {
    "ExecuteTime": {
     "end_time": "2023-02-07T20:52:47.559394Z",
     "start_time": "2023-02-07T20:52:47.535151Z"
    }
   },
   "outputs": [
    {
     "data": {
      "text/html": [
       "<div>\n",
       "<style scoped>\n",
       "    .dataframe tbody tr th:only-of-type {\n",
       "        vertical-align: middle;\n",
       "    }\n",
       "\n",
       "    .dataframe tbody tr th {\n",
       "        vertical-align: top;\n",
       "    }\n",
       "\n",
       "    .dataframe thead th {\n",
       "        text-align: right;\n",
       "    }\n",
       "</style>\n",
       "<table border=\"1\" class=\"dataframe\">\n",
       "  <thead>\n",
       "    <tr style=\"text-align: right;\">\n",
       "      <th></th>\n",
       "      <th>Pregnancies</th>\n",
       "      <th>Glucose</th>\n",
       "      <th>BloodPressure</th>\n",
       "      <th>SkinThickness</th>\n",
       "      <th>Insulin</th>\n",
       "      <th>BMI</th>\n",
       "      <th>DiabetesPedigreeFunction</th>\n",
       "      <th>Age</th>\n",
       "      <th>Outcome</th>\n",
       "    </tr>\n",
       "  </thead>\n",
       "  <tbody>\n",
       "    <tr>\n",
       "      <th>0</th>\n",
       "      <td>6</td>\n",
       "      <td>148.0</td>\n",
       "      <td>72.0</td>\n",
       "      <td>35.0</td>\n",
       "      <td>NaN</td>\n",
       "      <td>33.599998</td>\n",
       "      <td>0.627</td>\n",
       "      <td>50</td>\n",
       "      <td>1</td>\n",
       "    </tr>\n",
       "    <tr>\n",
       "      <th>1</th>\n",
       "      <td>1</td>\n",
       "      <td>85.0</td>\n",
       "      <td>66.0</td>\n",
       "      <td>29.0</td>\n",
       "      <td>NaN</td>\n",
       "      <td>26.600000</td>\n",
       "      <td>0.351</td>\n",
       "      <td>31</td>\n",
       "      <td>0</td>\n",
       "    </tr>\n",
       "    <tr>\n",
       "      <th>2</th>\n",
       "      <td>8</td>\n",
       "      <td>183.0</td>\n",
       "      <td>64.0</td>\n",
       "      <td>NaN</td>\n",
       "      <td>NaN</td>\n",
       "      <td>23.299999</td>\n",
       "      <td>0.672</td>\n",
       "      <td>32</td>\n",
       "      <td>1</td>\n",
       "    </tr>\n",
       "    <tr>\n",
       "      <th>3</th>\n",
       "      <td>1</td>\n",
       "      <td>89.0</td>\n",
       "      <td>66.0</td>\n",
       "      <td>23.0</td>\n",
       "      <td>94.0</td>\n",
       "      <td>28.100000</td>\n",
       "      <td>0.167</td>\n",
       "      <td>21</td>\n",
       "      <td>0</td>\n",
       "    </tr>\n",
       "    <tr>\n",
       "      <th>4</th>\n",
       "      <td>0</td>\n",
       "      <td>137.0</td>\n",
       "      <td>40.0</td>\n",
       "      <td>35.0</td>\n",
       "      <td>168.0</td>\n",
       "      <td>43.099998</td>\n",
       "      <td>2.288</td>\n",
       "      <td>33</td>\n",
       "      <td>1</td>\n",
       "    </tr>\n",
       "  </tbody>\n",
       "</table>\n",
       "</div>"
      ],
      "text/plain": [
       "   Pregnancies  Glucose  BloodPressure  SkinThickness  Insulin        BMI  \\\n",
       "0            6    148.0           72.0           35.0      NaN  33.599998   \n",
       "1            1     85.0           66.0           29.0      NaN  26.600000   \n",
       "2            8    183.0           64.0            NaN      NaN  23.299999   \n",
       "3            1     89.0           66.0           23.0     94.0  28.100000   \n",
       "4            0    137.0           40.0           35.0    168.0  43.099998   \n",
       "\n",
       "   DiabetesPedigreeFunction  Age  Outcome  \n",
       "0                     0.627   50        1  \n",
       "1                     0.351   31        0  \n",
       "2                     0.672   32        1  \n",
       "3                     0.167   21        0  \n",
       "4                     2.288   33        1  "
      ]
     },
     "execution_count": 12,
     "metadata": {},
     "output_type": "execute_result"
    }
   ],
   "source": [
    "# Vamos substituir 0 por NaN\n",
    "\n",
    "data_nan = data.copy()\n",
    "\n",
    "cols = [\"Glucose\", \"BloodPressure\", \"SkinThickness\", \"Insulin\", \"BMI\"]\n",
    "for col in cols:\n",
    "    data_nan[col] = data_nan[col].replace(0, np.nan)\n",
    "\n",
    "data_nan.head()"
   ]
  },
  {
   "cell_type": "code",
   "execution_count": 13,
   "metadata": {
    "ExecuteTime": {
     "end_time": "2023-02-07T20:52:48.312783Z",
     "start_time": "2023-02-07T20:52:48.301089Z"
    }
   },
   "outputs": [
    {
     "name": "stdout",
     "output_type": "stream",
     "text": [
      "<class 'pandas.core.frame.DataFrame'>\n",
      "RangeIndex: 768 entries, 0 to 767\n",
      "Data columns (total 9 columns):\n",
      " #   Column                    Non-Null Count  Dtype  \n",
      "---  ------                    --------------  -----  \n",
      " 0   Pregnancies               768 non-null    int16  \n",
      " 1   Glucose                   763 non-null    float64\n",
      " 2   BloodPressure             733 non-null    float64\n",
      " 3   SkinThickness             541 non-null    float64\n",
      " 4   Insulin                   394 non-null    float64\n",
      " 5   BMI                       757 non-null    float32\n",
      " 6   DiabetesPedigreeFunction  768 non-null    float32\n",
      " 7   Age                       768 non-null    int16  \n",
      " 8   Outcome                   768 non-null    int16  \n",
      "dtypes: float32(2), float64(4), int16(3)\n",
      "memory usage: 34.6 KB\n"
     ]
    }
   ],
   "source": [
    "data_nan.info()"
   ]
  },
  {
   "cell_type": "code",
   "execution_count": 14,
   "metadata": {
    "ExecuteTime": {
     "end_time": "2023-02-07T20:52:49.395555Z",
     "start_time": "2023-02-07T20:52:49.385002Z"
    }
   },
   "outputs": [],
   "source": [
    "# Separação de features e targets\n",
    "X = data_nan.drop('Outcome', axis=1)\n",
    "y = data_nan['Outcome']\n",
    "\n",
    "# Train test split\n",
    "X_train, X_test, y_train, y_test = train_test_split(X, y, train_size=0.8, stratify=y, random_state=42)"
   ]
  },
  {
   "cell_type": "code",
   "execution_count": 15,
   "metadata": {
    "ExecuteTime": {
     "end_time": "2023-02-07T20:52:54.068970Z",
     "start_time": "2023-02-07T20:52:54.065640Z"
    }
   },
   "outputs": [
    {
     "name": "stdout",
     "output_type": "stream",
     "text": [
      "Treino: 614\n",
      "Teste: 154\n"
     ]
    }
   ],
   "source": [
    "# Checando número de instâncias no treino e no teste e proporções\n",
    "\n",
    "print(f'Treino: {y_train.shape[0]}')\n",
    "print(f'Teste: {y_test.shape[0]}')"
   ]
  },
  {
   "cell_type": "code",
   "execution_count": 16,
   "metadata": {
    "ExecuteTime": {
     "end_time": "2023-02-07T20:52:55.032751Z",
     "start_time": "2023-02-07T20:52:55.023042Z"
    }
   },
   "outputs": [
    {
     "data": {
      "text/plain": [
       "0    65.104167\n",
       "1    34.895833\n",
       "Name: Outcome, dtype: float64"
      ]
     },
     "execution_count": 16,
     "metadata": {},
     "output_type": "execute_result"
    }
   ],
   "source": [
    "# Dataset completo\n",
    "y.value_counts()*100 / y.value_counts().sum()"
   ]
  },
  {
   "cell_type": "code",
   "execution_count": 17,
   "metadata": {
    "ExecuteTime": {
     "end_time": "2023-02-07T20:52:55.516033Z",
     "start_time": "2023-02-07T20:52:55.507248Z"
    }
   },
   "outputs": [
    {
     "data": {
      "text/plain": [
       "0    65.14658\n",
       "1    34.85342\n",
       "Name: Outcome, dtype: float64"
      ]
     },
     "execution_count": 17,
     "metadata": {},
     "output_type": "execute_result"
    }
   ],
   "source": [
    "# Treino\n",
    "y_train.value_counts()*100 / y_train.value_counts().sum()"
   ]
  },
  {
   "cell_type": "code",
   "execution_count": 18,
   "metadata": {
    "ExecuteTime": {
     "end_time": "2023-02-07T20:52:56.418232Z",
     "start_time": "2023-02-07T20:52:56.406668Z"
    }
   },
   "outputs": [
    {
     "data": {
      "text/plain": [
       "0    64.935065\n",
       "1    35.064935\n",
       "Name: Outcome, dtype: float64"
      ]
     },
     "execution_count": 18,
     "metadata": {},
     "output_type": "execute_result"
    }
   ],
   "source": [
    "# Teste\n",
    "y_test.value_counts()*100 / y_test.value_counts().sum()"
   ]
  },
  {
   "cell_type": "code",
   "execution_count": 19,
   "metadata": {
    "ExecuteTime": {
     "end_time": "2023-02-07T20:52:57.210901Z",
     "start_time": "2023-02-07T20:52:57.204558Z"
    }
   },
   "outputs": [
    {
     "data": {
      "text/plain": [
       "0    100\n",
       "1     54\n",
       "Name: Outcome, dtype: int64"
      ]
     },
     "execution_count": 19,
     "metadata": {},
     "output_type": "execute_result"
    }
   ],
   "source": [
    "y_test.value_counts()"
   ]
  },
  {
   "cell_type": "markdown",
   "metadata": {},
   "source": [
    "## EDA (Análise exploratória de dados)"
   ]
  },
  {
   "cell_type": "markdown",
   "metadata": {},
   "source": [
    "Aqui vamos plotar alguns gráficos para verificar a distribuição das varíaveis. Optei por retirar os dados nulos do plot para facilitar a visualização."
   ]
  },
  {
   "cell_type": "code",
   "execution_count": 21,
   "metadata": {
    "ExecuteTime": {
     "end_time": "2023-02-07T20:53:40.659056Z",
     "start_time": "2023-02-07T20:53:40.654868Z"
    }
   },
   "outputs": [],
   "source": [
    "def plot_histgram_and_boxplot(data, feature):\n",
    "    plt.figure(figsize=(10,4))\n",
    "    \n",
    "    plt.subplot(1,2,1)\n",
    "    sns.histplot(data=data, x=feature, hue=\"Outcome\")\n",
    "\n",
    "    plt.subplot(1,2,2)\n",
    "    sns.boxplot(data=data, x=\"Outcome\", y=feature)\n",
    "    \n",
    "    plt.suptitle(feature)\n",
    "    plt.show()"
   ]
  },
  {
   "cell_type": "code",
   "execution_count": 22,
   "metadata": {
    "ExecuteTime": {
     "end_time": "2023-02-07T20:53:41.638243Z",
     "start_time": "2023-02-07T20:53:41.191615Z"
    }
   },
   "outputs": [
    {
     "data": {
      "image/png": "[encoded data removed]",
      "text/plain": [
       "<Figure size 720x288 with 2 Axes>"
      ]
     },
     "metadata": {
      "needs_background": "light"
     },
     "output_type": "display_data"
    }
   ],
   "source": [
    "plot_histgram_and_boxplot(X_train.join(y_train), \"Pregnancies\")"
   ]
  },
  {
   "cell_type": "code",
   "execution_count": 23,
   "metadata": {
    "ExecuteTime": {
     "end_time": "2023-02-07T20:53:43.609276Z",
     "start_time": "2023-02-07T20:53:43.134496Z"
    },
    "scrolled": true
   },
   "outputs": [
    {
     "data": {
      "image/png": "[encoded data removed]",
      "text/plain": [
       "<Figure size 720x288 with 2 Axes>"
      ]
     },
     "metadata": {
      "needs_background": "light"
     },
     "output_type": "display_data"
    }
   ],
   "source": [
    "plot_histgram_and_boxplot(X_train.join(y_train), \"Glucose\")"
   ]
  },
  {
   "cell_type": "code",
   "execution_count": 24,
   "metadata": {
    "ExecuteTime": {
     "end_time": "2023-02-07T20:53:44.191808Z",
     "start_time": "2023-02-07T20:53:44.152393Z"
    }
   },
   "outputs": [
    {
     "data": {
      "text/html": [
       "<div>\n",
       "<style scoped>\n",
       "    .dataframe tbody tr th:only-of-type {\n",
       "        vertical-align: middle;\n",
       "    }\n",
       "\n",
       "    .dataframe tbody tr th {\n",
       "        vertical-align: top;\n",
       "    }\n",
       "\n",
       "    .dataframe thead tr th {\n",
       "        text-align: left;\n",
       "    }\n",
       "\n",
       "    .dataframe thead tr:last-of-type th {\n",
       "        text-align: right;\n",
       "    }\n",
       "</style>\n",
       "<table border=\"1\" class=\"dataframe\">\n",
       "  <thead>\n",
       "    <tr>\n",
       "      <th></th>\n",
       "      <th colspan=\"8\" halign=\"left\">Glucose</th>\n",
       "    </tr>\n",
       "    <tr>\n",
       "      <th></th>\n",
       "      <th>count</th>\n",
       "      <th>mean</th>\n",
       "      <th>std</th>\n",
       "      <th>min</th>\n",
       "      <th>25%</th>\n",
       "      <th>50%</th>\n",
       "      <th>75%</th>\n",
       "      <th>max</th>\n",
       "    </tr>\n",
       "    <tr>\n",
       "      <th>Outcome</th>\n",
       "      <th></th>\n",
       "      <th></th>\n",
       "      <th></th>\n",
       "      <th></th>\n",
       "      <th></th>\n",
       "      <th></th>\n",
       "      <th></th>\n",
       "      <th></th>\n",
       "    </tr>\n",
       "  </thead>\n",
       "  <tbody>\n",
       "    <tr>\n",
       "      <th>0</th>\n",
       "      <td>398.0</td>\n",
       "      <td>110.404523</td>\n",
       "      <td>23.507642</td>\n",
       "      <td>56.0</td>\n",
       "      <td>94.0</td>\n",
       "      <td>108.0</td>\n",
       "      <td>124.0</td>\n",
       "      <td>197.0</td>\n",
       "    </tr>\n",
       "    <tr>\n",
       "      <th>1</th>\n",
       "      <td>212.0</td>\n",
       "      <td>142.910377</td>\n",
       "      <td>29.707204</td>\n",
       "      <td>80.0</td>\n",
       "      <td>119.0</td>\n",
       "      <td>141.5</td>\n",
       "      <td>168.0</td>\n",
       "      <td>199.0</td>\n",
       "    </tr>\n",
       "  </tbody>\n",
       "</table>\n",
       "</div>"
      ],
      "text/plain": [
       "        Glucose                                                         \n",
       "          count        mean        std   min    25%    50%    75%    max\n",
       "Outcome                                                                 \n",
       "0         398.0  110.404523  23.507642  56.0   94.0  108.0  124.0  197.0\n",
       "1         212.0  142.910377  29.707204  80.0  119.0  141.5  168.0  199.0"
      ]
     },
     "execution_count": 24,
     "metadata": {},
     "output_type": "execute_result"
    }
   ],
   "source": [
    "# Algumas métricas de Glucose separadas por Outcome\n",
    "\n",
    "X_train.join(y_train).loc[:, ['Outcome', 'Glucose']].groupby('Outcome').describe()"
   ]
  },
  {
   "cell_type": "markdown",
   "metadata": {},
   "source": [
    "As médias são razoavelmente diferentes, mas os desvios são relativamentos próximos."
   ]
  },
  {
   "cell_type": "code",
   "execution_count": 25,
   "metadata": {
    "ExecuteTime": {
     "end_time": "2023-02-07T20:53:47.326162Z",
     "start_time": "2023-02-07T20:53:46.921162Z"
    }
   },
   "outputs": [
    {
     "data": {
      "image/png": "[encoded data removed]",
      "text/plain": [
       "<Figure size 720x288 with 2 Axes>"
      ]
     },
     "metadata": {
      "needs_background": "light"
     },
     "output_type": "display_data"
    }
   ],
   "source": [
    "plot_histgram_and_boxplot(X_train.join(y_train), \"BloodPressure\")"
   ]
  },
  {
   "cell_type": "code",
   "execution_count": 26,
   "metadata": {
    "ExecuteTime": {
     "end_time": "2023-02-07T20:53:48.119110Z",
     "start_time": "2023-02-07T20:53:47.629961Z"
    }
   },
   "outputs": [
    {
     "data": {
      "image/png": "[encoded data removed]",
      "text/plain": [
       "<Figure size 720x288 with 2 Axes>"
      ]
     },
     "metadata": {
      "needs_background": "light"
     },
     "output_type": "display_data"
    }
   ],
   "source": [
    "plot_histgram_and_boxplot(X_train.join(y_train), \"SkinThickness\")"
   ]
  },
  {
   "cell_type": "code",
   "execution_count": 27,
   "metadata": {
    "ExecuteTime": {
     "end_time": "2023-02-07T20:53:48.735316Z",
     "start_time": "2023-02-07T20:53:48.243211Z"
    }
   },
   "outputs": [
    {
     "data": {
      "image/png": "[encoded data removed]",
      "text/plain": [
       "<Figure size 720x288 with 2 Axes>"
      ]
     },
     "metadata": {
      "needs_background": "light"
     },
     "output_type": "display_data"
    }
   ],
   "source": [
    "plot_histgram_and_boxplot(X_train.join(y_train), \"Insulin\")"
   ]
  },
  {
   "cell_type": "code",
   "execution_count": 28,
   "metadata": {
    "ExecuteTime": {
     "end_time": "2023-02-07T20:53:49.339647Z",
     "start_time": "2023-02-07T20:53:48.845124Z"
    },
    "scrolled": true
   },
   "outputs": [
    {
     "data": {
      "image/png": "[encoded data removed]",
      "text/plain": [
       "<Figure size 720x288 with 2 Axes>"
      ]
     },
     "metadata": {
      "needs_background": "light"
     },
     "output_type": "display_data"
    }
   ],
   "source": [
    "plot_histgram_and_boxplot(X_train.join(y_train), \"BMI\")"
   ]
  },
  {
   "cell_type": "code",
   "execution_count": 29,
   "metadata": {
    "ExecuteTime": {
     "end_time": "2023-02-07T20:53:50.149436Z",
     "start_time": "2023-02-07T20:53:49.743211Z"
    }
   },
   "outputs": [
    {
     "data": {
      "image/png": "[encoded data removed]",
      "text/plain": [
       "<Figure size 720x288 with 2 Axes>"
      ]
     },
     "metadata": {
      "needs_background": "light"
     },
     "output_type": "display_data"
    }
   ],
   "source": [
    "plot_histgram_and_boxplot(X_train.join(y_train), \"DiabetesPedigreeFunction\")"
   ]
  },
  {
   "cell_type": "code",
   "execution_count": 30,
   "metadata": {
    "ExecuteTime": {
     "end_time": "2023-02-07T20:53:51.015788Z",
     "start_time": "2023-02-07T20:53:50.574730Z"
    }
   },
   "outputs": [
    {
     "data": {
      "image/png": "[encoded data removed]",
      "text/plain": [
       "<Figure size 720x288 with 2 Axes>"
      ]
     },
     "metadata": {
      "needs_background": "light"
     },
     "output_type": "display_data"
    }
   ],
   "source": [
    "plot_histgram_and_boxplot(X_train.join(y_train), \"Age\")"
   ]
  },
  {
   "cell_type": "code",
   "execution_count": 31,
   "metadata": {
    "ExecuteTime": {
     "end_time": "2023-02-07T20:53:51.753527Z",
     "start_time": "2023-02-07T20:53:51.577314Z"
    }
   },
   "outputs": [
    {
     "data": {
      "image/png": "[encoded data removed]",
      "text/plain": [
       "<Figure size 432x288 with 1 Axes>"
      ]
     },
     "metadata": {
      "needs_background": "light"
     },
     "output_type": "display_data"
    }
   ],
   "source": [
    "sns.countplot(data=X_train.join(y_train),  x='Outcome');"
   ]
  },
  {
   "cell_type": "code",
   "execution_count": 32,
   "metadata": {
    "ExecuteTime": {
     "end_time": "2023-02-07T20:53:55.299050Z",
     "start_time": "2023-02-07T20:53:54.689655Z"
    },
    "scrolled": false
   },
   "outputs": [
    {
     "name": "stdout",
     "output_type": "stream",
     "text": [
      "Outcome                     1.000000\n",
      "Glucose                     0.514676\n",
      "Insulin                     0.351211\n",
      "BMI                         0.330770\n",
      "SkinThickness               0.279891\n",
      "Age                         0.240676\n",
      "Pregnancies                 0.208173\n",
      "BloodPressure               0.187674\n",
      "DiabetesPedigreeFunction    0.165312\n",
      "Name: Outcome, dtype: float64\n"
     ]
    },
    {
     "data": {
      "image/png": "[encoded data removed]",
      "text/plain": [
       "<Figure size 576x504 with 2 Axes>"
      ]
     },
     "metadata": {
      "needs_background": "light"
     },
     "output_type": "display_data"
    }
   ],
   "source": [
    "def correlacao(data):\n",
    "    corr_matrix = data.corr()\n",
    "    print(corr_matrix[\"Outcome\"].sort_values(ascending=False))   \n",
    "\n",
    "correlacao(X_train.join(y_train))\n",
    "\n",
    "plt.figure(figsize=(8,7))\n",
    "sns.heatmap(data=X_train.join(y_train).corr(), annot=True);"
   ]
  },
  {
   "cell_type": "markdown",
   "metadata": {},
   "source": [
    "A partir da EDA podemos concluir que nossa *target* `Outcome` é suficientemente balanceada e é bem correlacionada com `Glucose`, `BMI`, `Age` e `Preganancies`. Entretanto, parece já existir uma dependência entre `Age` e `Preganancies`. Também parece haver algum grau de codepêndencia entre `SkinThickness`, `BMI` e `Insulin`."
   ]
  },
  {
   "cell_type": "markdown",
   "metadata": {},
   "source": [
    "## Modelo de referência"
   ]
  },
  {
   "cell_type": "markdown",
   "metadata": {
    "ExecuteTime": {
     "end_time": "2023-01-12T23:01:30.912750Z",
     "start_time": "2023-01-12T23:01:30.897515Z"
    }
   },
   "source": [
    "Nosso modelo heurístico é baseado no fato que a taxa de glicose deve ser o parâmetro mais importante para determinar se um paciente é diabético. Dito isto, vamos tentar achar um valor ideal de `Glucose` que nos dê a melhor acurácia."
   ]
  },
  {
   "cell_type": "code",
   "execution_count": 33,
   "metadata": {
    "ExecuteTime": {
     "end_time": "2023-02-07T20:56:12.007008Z",
     "start_time": "2023-02-07T20:56:11.998042Z"
    }
   },
   "outputs": [],
   "source": [
    "# Criar um X,y para modelo de referência, dropando os NaNs\n",
    "\n",
    "filtro_nan = X_train['Glucose'].isna()\n",
    "index_nan = X_train[filtro_nan].index.tolist()\n",
    "\n",
    "X_train_heuristic = X_train[['Glucose']].drop(index=index_nan)\n",
    "y_train_heuristic = y_train.drop(index=index_nan)"
   ]
  },
  {
   "cell_type": "code",
   "execution_count": 42,
   "metadata": {
    "ExecuteTime": {
     "end_time": "2023-02-07T21:03:03.675878Z",
     "start_time": "2023-02-07T21:03:02.892765Z"
    },
    "scrolled": false
   },
   "outputs": [],
   "source": [
    "# Treinando o modelo\n",
    "\n",
    "glucose_thr = np.arange(62, 198, 1)\n",
    "accuracy_list = []\n",
    "recall_list = []\n",
    "precision_list = []\n",
    "f1_list = []\n",
    "\n",
    "def test_glucose(gl, thr):\n",
    "    if gl >= thr:\n",
    "        return 1\n",
    "    else:\n",
    "        return 0\n",
    "    \n",
    "for thr in glucose_thr:\n",
    "    outcome_predict = X_train_heuristic[\"Glucose\"].apply(test_glucose, thr=thr)\n",
    "    \n",
    "    accuracy = np.round(accuracy_score(y_train_heuristic, outcome_predict), 4)\n",
    "    precision = np.round(precision_score(y_train_heuristic, outcome_predict), 4)\n",
    "    recall = np.round(recall_score(y_train_heuristic, outcome_predict), 4)\n",
    "    f1 = np.round(f1_score(y_train_heuristic, outcome_predict), 4)\n",
    "    \n",
    "    accuracy_list.append(accuracy)\n",
    "    precision_list.append(precision)\n",
    "    recall_list.append(recall)\n",
    "    f1_list.append(f1)"
   ]
  },
  {
   "cell_type": "markdown",
   "metadata": {},
   "source": [
    "Utilizaremos o cruzamento entre precision e recall: ainda conservamos um bom recall, temos um alguma precisão e estamos um bom ponto de acurácia."
   ]
  },
  {
   "cell_type": "code",
   "execution_count": 46,
   "metadata": {
    "ExecuteTime": {
     "end_time": "2023-02-07T21:04:30.136074Z",
     "start_time": "2023-02-07T21:04:30.130058Z"
    }
   },
   "outputs": [],
   "source": [
    "# Encontrando o ponto de acurácia máxima\n",
    "\n",
    "accuracy_array = np.array(accuracy_list)\n",
    "idx = accuracy_array.argmax()\n",
    "\n",
    "train_recall = recall_list[idx]\n",
    "train_precision = precision_list[idx]\n",
    "train_accuracy = accuracy_list[idx]\n",
    "train_f1 = f1_list[idx]\n",
    "\n",
    "thr_heuristic = glucose_thr[idx]"
   ]
  },
  {
   "cell_type": "code",
   "execution_count": 47,
   "metadata": {
    "ExecuteTime": {
     "end_time": "2023-02-07T21:04:30.787381Z",
     "start_time": "2023-02-07T21:04:30.568053Z"
    }
   },
   "outputs": [
    {
     "data": {
      "image/png": "[encoded data removed]",
      "text/plain": [
       "<Figure size 432x288 with 1 Axes>"
      ]
     },
     "metadata": {
      "needs_background": "light"
     },
     "output_type": "display_data"
    }
   ],
   "source": [
    "plt.plot(glucose_thr, accuracy_list, label='Accuracy')\n",
    "plt.plot(glucose_thr, precision_list, label='Precision')\n",
    "plt.plot(glucose_thr, recall_list, label='Recall')\n",
    "plt.plot(glucose_thr, f1_list, label='F1')\n",
    "plt.hlines(y=train_accuracy, xmin=60, xmax=thr_heuristic, linestyle=':', linewidth=1, color='r')\n",
    "plt.vlines(x=thr_heuristic, ymin=0.0, ymax=train_accuracy, linestyle=':', linewidth=1, color='r')\n",
    "plt.xlabel(\"Limite de glicose\")\n",
    "plt.legend()\n",
    "plt.show()"
   ]
  },
  {
   "cell_type": "code",
   "execution_count": 48,
   "metadata": {
    "ExecuteTime": {
     "end_time": "2023-02-07T21:04:56.546200Z",
     "start_time": "2023-02-07T21:04:56.541492Z"
    }
   },
   "outputs": [
    {
     "name": "stdout",
     "output_type": "stream",
     "text": [
      "Métricas de treino:\n",
      "Acurácia: 0.7623\n",
      "Precisão: 0.741\n",
      "Recall: 0.4858\n",
      "F1: 0.5869\n"
     ]
    }
   ],
   "source": [
    "# Print das métricas de treino\n",
    "\n",
    "print(\"Métricas de treino:\")\n",
    "print(f\"Acurácia: {train_accuracy}\")\n",
    "print(f\"Precisão: {train_precision}\")\n",
    "print(f\"Recall: {train_recall}\")\n",
    "print(f\"F1: {train_f1}\")"
   ]
  },
  {
   "cell_type": "markdown",
   "metadata": {},
   "source": [
    "Finalmente, vamos avaliar o modelo com os dados de teste. Essas métricas serão uma das nossas referências para avaliar a performace no final."
   ]
  },
  {
   "cell_type": "code",
   "execution_count": 49,
   "metadata": {
    "ExecuteTime": {
     "end_time": "2023-02-07T21:05:04.705452Z",
     "start_time": "2023-02-07T21:05:04.700055Z"
    }
   },
   "outputs": [],
   "source": [
    "# Removendo NaN do teste\n",
    "\n",
    "filtro_nan = X_test['Glucose'].isna()\n",
    "index_nan = X_test[filtro_nan].index.tolist()\n",
    "\n",
    "X_test_heuristic = X_test[['Glucose']].drop(index=index_nan)\n",
    "y_test_heuristic = y_test.drop(index=index_nan)"
   ]
  },
  {
   "cell_type": "code",
   "execution_count": 50,
   "metadata": {
    "ExecuteTime": {
     "end_time": "2023-02-07T21:06:03.551936Z",
     "start_time": "2023-02-07T21:06:03.538441Z"
    },
    "scrolled": true
   },
   "outputs": [
    {
     "name": "stdout",
     "output_type": "stream",
     "text": [
      "Métricas de teste:\n",
      "Acurácia: 0.7059\n",
      "Precisão: 0.6216\n",
      "Recall: 0.4259\n",
      "F1: 0.5055\n"
     ]
    }
   ],
   "source": [
    "# Predict no dataset de teste\n",
    "\n",
    "outcome_predict = X_test_heuristic[\"Glucose\"].apply(test_glucose, thr=thr_heuristic)\n",
    "\n",
    "accuracy = np.round(accuracy_score(y_test_heuristic, outcome_predict), 4)\n",
    "precision = np.round(precision_score(y_test_heuristic, outcome_predict), 4)\n",
    "recall = np.round(recall_score(y_test_heuristic, outcome_predict), 4)\n",
    "f1 = np.round(f1_score(y_test_heuristic, outcome_predict), 4)\n",
    "\n",
    "print(\"Métricas de teste:\")\n",
    "print(f\"Acurácia: {accuracy}\")\n",
    "print(f\"Precisão: {precision}\")\n",
    "print(f\"Recall: {recall}\")\n",
    "print(f\"F1: {f1}\")\n"
   ]
  },
  {
   "cell_type": "markdown",
   "metadata": {},
   "source": [
    "Ao final também iremos comparar a matriz de confusão:"
   ]
  },
  {
   "cell_type": "code",
   "execution_count": 51,
   "metadata": {
    "ExecuteTime": {
     "end_time": "2023-02-07T21:07:37.032512Z",
     "start_time": "2023-02-07T21:07:36.839574Z"
    },
    "scrolled": true
   },
   "outputs": [
    {
     "data": {
      "image/png": "[encoded data removed]",
      "text/plain": [
       "<Figure size 432x288 with 2 Axes>"
      ]
     },
     "metadata": {
      "needs_background": "light"
     },
     "output_type": "display_data"
    }
   ],
   "source": [
    "# Matriz de confusão para o modelo heurístico\n",
    "\n",
    "cm_heuristic = confusion_matrix(y_test_heuristic, outcome_predict)\n",
    "ConfusionMatrixDisplay(cm_heuristic).plot();"
   ]
  },
  {
   "cell_type": "markdown",
   "metadata": {},
   "source": [
    "Naturalmente a acurácia é menor com os dados de teste, mas o recall desse modelo é significativamente baixo. Em particular tivemos um grande número de **falsos negativos**: pacientes que eram diabéticos mas que receberam diagnóstico negativo. Esse tipo de erro causa muito impacto nos custos de tratamento."
   ]
  },
  {
   "cell_type": "markdown",
   "metadata": {},
   "source": [
    "# Baseline ML"
   ]
  },
  {
   "cell_type": "markdown",
   "metadata": {},
   "source": [
    "Começaremos aqui a construir um modelo simples de machine learning que sirva de baseline. Faremos o mínimo tratamento dos dados ou otimizações nos modelos no momento. Utilizaremos **validação cruzada** uma vez que temos poucas instâncias no dataset e reservaremos o dataset de teste para a avaliação final."
   ]
  },
  {
   "cell_type": "code",
   "execution_count": 52,
   "metadata": {
    "ExecuteTime": {
     "end_time": "2023-02-07T21:07:44.367117Z",
     "start_time": "2023-02-07T21:07:44.359331Z"
    }
   },
   "outputs": [],
   "source": [
    "# Definindo uma função para avaliar os modelos com validação cruzada\n",
    "\n",
    "def relatorio_cross_val(estimator, X_train, y_train, cv=5):\n",
    "    \"\"\"Calcula acurácia, precisão e recall utilizando cross validation\"\"\"\n",
    "    \n",
    "    cv_accuracy_score = cross_val_score(estimator, X_train, y_train, cv=cv, scoring=\"accuracy\")\n",
    "    cv_precision_score = cross_val_score(estimator, X_train, y_train, cv=cv, scoring=\"precision\")\n",
    "    cv_recall_score = cross_val_score(estimator, X_train, y_train, cv=cv, scoring=\"recall\")\n",
    "    \n",
    "    cv_accuracy_mean_score = cv_accuracy_score.mean()\n",
    "    cv_accuracy_std_score = cv_accuracy_score.std()\n",
    "    \n",
    "    cv_precision_mean_score = cv_precision_score.mean()\n",
    "    cv_precision_std_score = cv_precision_score.std()\n",
    "    \n",
    "    cv_recall_mean_score = cv_recall_score.mean()\n",
    "    cv_recall_std_score = cv_recall_score.std()\n",
    "    \n",
    "    print(f'Modelo: {estimator}')\n",
    "    print(f\"Acurácia média: {np.round(cv_accuracy_mean_score, 4)} (std={np.round(cv_accuracy_std_score, 4)})\")\n",
    "    print(f\"Precisão média: {np.round(cv_precision_mean_score, 4)} (std={np.round(cv_precision_std_score, 4)})\")\n",
    "    print(f\"Recall médio: {np.round(cv_recall_mean_score, 4)} (std={np.round(cv_recall_std_score, 4)})\")"
   ]
  },
  {
   "cell_type": "code",
   "execution_count": 53,
   "metadata": {
    "ExecuteTime": {
     "end_time": "2023-02-07T21:07:45.062731Z",
     "start_time": "2023-02-07T21:07:45.056942Z"
    },
    "scrolled": true
   },
   "outputs": [],
   "source": [
    "# Voltando os NaNs para zero\n",
    "\n",
    "X_train_fillna = X_train.fillna(0)"
   ]
  },
  {
   "cell_type": "markdown",
   "metadata": {},
   "source": [
    "Começaremos com uma **decision tree** para ganhar algum insight sobre os dados:"
   ]
  },
  {
   "cell_type": "code",
   "execution_count": 54,
   "metadata": {
    "ExecuteTime": {
     "end_time": "2023-02-07T21:07:50.405932Z",
     "start_time": "2023-02-07T21:07:50.278375Z"
    }
   },
   "outputs": [
    {
     "name": "stdout",
     "output_type": "stream",
     "text": [
      "Modelo: DecisionTreeClassifier(max_depth=2, random_state=42)\n",
      "Acurácia média: 0.7525 (std=0.0311)\n",
      "Precisão média: 0.7967 (std=0.0641)\n",
      "Recall médio: 0.3882 (std=0.0802)\n"
     ]
    }
   ],
   "source": [
    "# Decision tree\n",
    "\n",
    "tree_clf = DecisionTreeClassifier(max_depth=2, random_state=42)\n",
    "tree_clf.fit(X_train_fillna, y_train)\n",
    "relatorio_cross_val(tree_clf, X_train_fillna, y_train)"
   ]
  },
  {
   "cell_type": "code",
   "execution_count": 55,
   "metadata": {
    "ExecuteTime": {
     "end_time": "2023-02-07T21:07:58.035829Z",
     "start_time": "2023-02-07T21:07:57.614456Z"
    }
   },
   "outputs": [
    {
     "data": {
      "image/png": "[encoded data removed]",
      "text/plain": [
       "<Figure size 864x720 with 1 Axes>"
      ]
     },
     "metadata": {
      "needs_background": "light"
     },
     "output_type": "display_data"
    }
   ],
   "source": [
    "# Plotando árvore\n",
    "\n",
    "fig = plt.figure(figsize=(12,10))\n",
    "_ = tree.plot_tree(tree_clf, \n",
    "                   feature_names=X_train.columns,  \n",
    "                   class_names=True,\n",
    "                   filled=True)"
   ]
  },
  {
   "cell_type": "markdown",
   "metadata": {},
   "source": [
    "Mesmo com uma árvore simples, já temos uma acurácia média de 73,46%. Também confirmamos algumas expectativas: `Glucose` e `BMI` são variáveis importantes nesse problema."
   ]
  },
  {
   "cell_type": "markdown",
   "metadata": {},
   "source": [
    "Também podemos treinar uma **regressão logística**, já que nem todas as features entraram na decision tree. Nesse caso, precisamos normalizar os dados."
   ]
  },
  {
   "cell_type": "code",
   "execution_count": 56,
   "metadata": {
    "ExecuteTime": {
     "end_time": "2023-02-07T21:08:49.855607Z",
     "start_time": "2023-02-07T21:08:49.759181Z"
    },
    "scrolled": true
   },
   "outputs": [
    {
     "name": "stdout",
     "output_type": "stream",
     "text": [
      "Modelo: LogisticRegression()\n",
      "Acurácia média: 0.7785 (std=0.0126)\n",
      "Precisão média: 0.7442 (std=0.0473)\n",
      "Recall médio: 0.5656 (std=0.0466)\n"
     ]
    }
   ],
   "source": [
    "# Regressão logística\n",
    "\n",
    "log_clf = LogisticRegression()\n",
    "\n",
    "std_scaler = StandardScaler()\n",
    "X_train_sc = std_scaler.fit_transform(X_train_fillna)\n",
    "\n",
    "relatorio_cross_val(log_clf, X_train_sc, y_train)"
   ]
  },
  {
   "cell_type": "code",
   "execution_count": 57,
   "metadata": {
    "ExecuteTime": {
     "end_time": "2023-02-07T21:08:53.014403Z",
     "start_time": "2023-02-07T21:08:52.885175Z"
    }
   },
   "outputs": [
    {
     "name": "stdout",
     "output_type": "stream",
     "text": [
      "Modelo: LogisticRegression(class_weight='balanced')\n",
      "Acurácia média: 0.7508 (std=0.0439)\n",
      "Precisão média: 0.6343 (std=0.0724)\n",
      "Recall médio: 0.7103 (std=0.0233)\n"
     ]
    }
   ],
   "source": [
    "# Regressão logística (balanced)\n",
    "\n",
    "log_clf = LogisticRegression(class_weight='balanced')\n",
    "\n",
    "std_scaler = StandardScaler()\n",
    "X_train_sc = std_scaler.fit_transform(X_train_fillna)\n",
    "\n",
    "relatorio_cross_val(log_clf, X_train_sc, y_train)"
   ]
  },
  {
   "cell_type": "code",
   "execution_count": 58,
   "metadata": {
    "ExecuteTime": {
     "end_time": "2023-02-07T21:09:45.952758Z",
     "start_time": "2023-02-07T21:09:43.428836Z"
    },
    "scrolled": true
   },
   "outputs": [
    {
     "name": "stdout",
     "output_type": "stream",
     "text": [
      "Modelo: RandomForestClassifier(random_state=42)\n",
      "Acurácia média: 0.7655 (std=0.0336)\n",
      "Precisão média: 0.6984 (std=0.0677)\n",
      "Recall médio: 0.589 (std=0.0653)\n"
     ]
    }
   ],
   "source": [
    "# Random Forest\n",
    "forest_clf = RandomForestClassifier(random_state=42)\n",
    "forest_clf.fit(X_train_fillna, y_train)\n",
    "relatorio_cross_val(forest_clf, X_train_fillna, y_train)"
   ]
  },
  {
   "cell_type": "code",
   "execution_count": 59,
   "metadata": {
    "ExecuteTime": {
     "end_time": "2023-02-07T21:10:22.326901Z",
     "start_time": "2023-02-07T21:10:19.662113Z"
    }
   },
   "outputs": [
    {
     "name": "stdout",
     "output_type": "stream",
     "text": [
      "Modelo: RandomForestClassifier(class_weight='balanced', random_state=42)\n",
      "Acurácia média: 0.7622 (std=0.0377)\n",
      "Precisão média: 0.7031 (std=0.0825)\n",
      "Recall médio: 0.5654 (std=0.0596)\n"
     ]
    }
   ],
   "source": [
    "# Random Forest\n",
    "forest_clf = RandomForestClassifier(class_weight='balanced', random_state=42)\n",
    "forest_clf.fit(X_train_fillna, y_train)\n",
    "relatorio_cross_val(forest_clf, X_train_fillna, y_train)"
   ]
  },
  {
   "cell_type": "markdown",
   "metadata": {},
   "source": [
    "A partir da floresta treinada podemos extrair a importância de cada feature."
   ]
  },
  {
   "cell_type": "code",
   "execution_count": 60,
   "metadata": {
    "ExecuteTime": {
     "end_time": "2023-02-07T21:11:06.251145Z",
     "start_time": "2023-02-07T21:11:06.227929Z"
    }
   },
   "outputs": [
    {
     "data": {
      "text/html": [
       "<div>\n",
       "<style scoped>\n",
       "    .dataframe tbody tr th:only-of-type {\n",
       "        vertical-align: middle;\n",
       "    }\n",
       "\n",
       "    .dataframe tbody tr th {\n",
       "        vertical-align: top;\n",
       "    }\n",
       "\n",
       "    .dataframe thead th {\n",
       "        text-align: right;\n",
       "    }\n",
       "</style>\n",
       "<table border=\"1\" class=\"dataframe\">\n",
       "  <thead>\n",
       "    <tr style=\"text-align: right;\">\n",
       "      <th></th>\n",
       "      <th>feature</th>\n",
       "      <th>importance</th>\n",
       "    </tr>\n",
       "  </thead>\n",
       "  <tbody>\n",
       "    <tr>\n",
       "      <th>0</th>\n",
       "      <td>Glucose</td>\n",
       "      <td>0.273926</td>\n",
       "    </tr>\n",
       "    <tr>\n",
       "      <th>1</th>\n",
       "      <td>BMI</td>\n",
       "      <td>0.172930</td>\n",
       "    </tr>\n",
       "    <tr>\n",
       "      <th>2</th>\n",
       "      <td>Age</td>\n",
       "      <td>0.127564</td>\n",
       "    </tr>\n",
       "    <tr>\n",
       "      <th>3</th>\n",
       "      <td>DiabetesPedigreeFunction</td>\n",
       "      <td>0.123809</td>\n",
       "    </tr>\n",
       "    <tr>\n",
       "      <th>4</th>\n",
       "      <td>BloodPressure</td>\n",
       "      <td>0.081105</td>\n",
       "    </tr>\n",
       "    <tr>\n",
       "      <th>5</th>\n",
       "      <td>Pregnancies</td>\n",
       "      <td>0.080497</td>\n",
       "    </tr>\n",
       "    <tr>\n",
       "      <th>6</th>\n",
       "      <td>Insulin</td>\n",
       "      <td>0.071293</td>\n",
       "    </tr>\n",
       "    <tr>\n",
       "      <th>7</th>\n",
       "      <td>SkinThickness</td>\n",
       "      <td>0.068875</td>\n",
       "    </tr>\n",
       "  </tbody>\n",
       "</table>\n",
       "</div>"
      ],
      "text/plain": [
       "                    feature  importance\n",
       "0                   Glucose    0.273926\n",
       "1                       BMI    0.172930\n",
       "2                       Age    0.127564\n",
       "3  DiabetesPedigreeFunction    0.123809\n",
       "4             BloodPressure    0.081105\n",
       "5               Pregnancies    0.080497\n",
       "6                   Insulin    0.071293\n",
       "7             SkinThickness    0.068875"
      ]
     },
     "execution_count": 60,
     "metadata": {},
     "output_type": "execute_result"
    }
   ],
   "source": [
    "feature_importance = pd.DataFrame(zip(X_train_fillna.columns, forest_clf.feature_importances_),\n",
    "                                  columns=['feature', 'importance']).sort_values(by='importance', \n",
    "                                                                                 ascending=False).reset_index(drop=True)\n",
    "feature_importance"
   ]
  },
  {
   "cell_type": "code",
   "execution_count": 61,
   "metadata": {
    "ExecuteTime": {
     "end_time": "2023-02-07T21:11:08.709359Z",
     "start_time": "2023-02-07T21:11:08.475637Z"
    }
   },
   "outputs": [
    {
     "data": {
      "image/png": "[encoded data removed]",
      "text/plain": [
       "<Figure size 1008x288 with 1 Axes>"
      ]
     },
     "metadata": {
      "needs_background": "light"
     },
     "output_type": "display_data"
    }
   ],
   "source": [
    "plt.figure(figsize=(14,4))\n",
    "chart = sns.barplot(data=feature_importance, x='feature', y='importance')\n",
    "chart.set_xticklabels(chart.get_xticklabels(), rotation=45)\n",
    "plt.show()"
   ]
  },
  {
   "cell_type": "markdown",
   "metadata": {},
   "source": [
    "Confirmamos que `Glucose`, `BMI` e `Age` são variáveis importantes."
   ]
  },
  {
   "cell_type": "code",
   "execution_count": 62,
   "metadata": {
    "ExecuteTime": {
     "end_time": "2023-02-07T21:11:14.675957Z",
     "start_time": "2023-02-07T21:11:14.499487Z"
    }
   },
   "outputs": [
    {
     "name": "stdout",
     "output_type": "stream",
     "text": [
      "Modelo: SVC(kernel='linear')\n",
      "Acurácia média: 0.7753 (std=0.0185)\n",
      "Precisão média: 0.73 (std=0.0446)\n",
      "Recall médio: 0.5703 (std=0.0382)\n"
     ]
    }
   ],
   "source": [
    "# Support Vector Machine\n",
    "\n",
    "svc_clf = SVC(kernel='linear')\n",
    "relatorio_cross_val(svc_clf, X_train_sc, y_train)"
   ]
  },
  {
   "cell_type": "code",
   "execution_count": 63,
   "metadata": {
    "ExecuteTime": {
     "end_time": "2023-02-07T21:11:17.198964Z",
     "start_time": "2023-02-07T21:11:16.995534Z"
    }
   },
   "outputs": [
    {
     "name": "stdout",
     "output_type": "stream",
     "text": [
      "Modelo: SVC(class_weight='balanced', kernel='linear')\n",
      "Acurácia média: 0.7541 (std=0.0387)\n",
      "Precisão média: 0.6439 (std=0.0632)\n",
      "Recall médio: 0.6777 (std=0.0463)\n"
     ]
    }
   ],
   "source": [
    "# Support Vector Machine (balanceado)\n",
    "\n",
    "svc_clf = SVC(kernel='linear', class_weight='balanced')\n",
    "relatorio_cross_val(svc_clf, X_train_sc, y_train)"
   ]
  },
  {
   "cell_type": "markdown",
   "metadata": {},
   "source": [
    "Com esses modelos simples de ML já temos resultados significativamente melhores que o modelo heurístico. Usar pesos com o parâmetro `class_weight` reduz um pouco a acurácia mas melhora nosso recall, o que é interessante para o tipo de problema que estamos resolvendo."
   ]
  },
  {
   "cell_type": "markdown",
   "metadata": {},
   "source": [
    "# Tratamento dos dados"
   ]
  },
  {
   "cell_type": "markdown",
   "metadata": {},
   "source": [
    "Podemos limpar um pouco os dados antes de tentar modelos ML mais elaborados. Nessa seção, trataremos os dados faltantes e os outliers."
   ]
  },
  {
   "cell_type": "code",
   "execution_count": 64,
   "metadata": {
    "ExecuteTime": {
     "end_time": "2023-02-07T21:11:48.391387Z",
     "start_time": "2023-02-07T21:11:48.387584Z"
    }
   },
   "outputs": [],
   "source": [
    "# Modelos para avaliação\n",
    "\n",
    "log_clf = LogisticRegression(class_weight='balanced')\n",
    "forest_clf = RandomForestClassifier(random_state=42, class_weight='balanced')\n",
    "svc_clf = SVC(kernel='linear', class_weight='balanced')"
   ]
  },
  {
   "cell_type": "code",
   "execution_count": 65,
   "metadata": {
    "ExecuteTime": {
     "end_time": "2023-02-07T21:11:54.982398Z",
     "start_time": "2023-02-07T21:11:52.283227Z"
    },
    "scrolled": true
   },
   "outputs": [
    {
     "name": "stdout",
     "output_type": "stream",
     "text": [
      "Modelo: LogisticRegression(class_weight='balanced')\n",
      "Acurácia média: 0.7508 (std=0.0439)\n",
      "Precisão média: 0.6343 (std=0.0724)\n",
      "Recall médio: 0.7103 (std=0.0233)\n",
      "\n",
      "Modelo: RandomForestClassifier(class_weight='balanced', random_state=42)\n",
      "Acurácia média: 0.7638 (std=0.0333)\n",
      "Precisão média: 0.7052 (std=0.0715)\n",
      "Recall médio: 0.5654 (std=0.0596)\n",
      "\n",
      "Modelo: SVC(class_weight='balanced', kernel='linear')\n",
      "Acurácia média: 0.7541 (std=0.0387)\n",
      "Precisão média: 0.6439 (std=0.0632)\n",
      "Recall médio: 0.6777 (std=0.0463)\n"
     ]
    }
   ],
   "source": [
    "# Avaliação sem tratamento (apenas scaling)\n",
    "\n",
    "std_scaler = StandardScaler()\n",
    "X_train_tr = std_scaler.fit_transform(X_train_fillna)\n",
    "\n",
    "relatorio_cross_val(log_clf, X_train_tr, y_train)\n",
    "print()\n",
    "relatorio_cross_val(forest_clf, X_train_tr, y_train)\n",
    "print()\n",
    "relatorio_cross_val(svc_clf, X_train_tr, y_train)"
   ]
  },
  {
   "cell_type": "markdown",
   "metadata": {},
   "source": [
    "### Lidando com dados faltantes"
   ]
  },
  {
   "cell_type": "markdown",
   "metadata": {},
   "source": [
    "Vamos comparar o SimpleImputer (testando média e mediana) e o KNNImputer."
   ]
  },
  {
   "cell_type": "code",
   "execution_count": 66,
   "metadata": {
    "ExecuteTime": {
     "end_time": "2023-02-07T21:23:49.274280Z",
     "start_time": "2023-02-07T21:23:46.474012Z"
    }
   },
   "outputs": [
    {
     "name": "stdout",
     "output_type": "stream",
     "text": [
      "Modelo: LogisticRegression(class_weight='balanced')\n",
      "Acurácia média: 0.759 (std=0.0277)\n",
      "Precisão média: 0.6445 (std=0.0478)\n",
      "Recall médio: 0.7011 (std=0.0327)\n",
      "\n",
      "Modelo: RandomForestClassifier(class_weight='balanced', random_state=42)\n",
      "Acurácia média: 0.7606 (std=0.0244)\n",
      "Precisão média: 0.6912 (std=0.0462)\n",
      "Recall médio: 0.5702 (std=0.0691)\n",
      "\n",
      "Modelo: SVC(class_weight='balanced', kernel='linear')\n",
      "Acurácia média: 0.7558 (std=0.0287)\n",
      "Precisão média: 0.6456 (std=0.0469)\n",
      "Recall médio: 0.6732 (std=0.0367)\n"
     ]
    }
   ],
   "source": [
    "# Testando SimpleImputer (mean)\n",
    "\n",
    "sim_imp = SimpleImputer(strategy='mean')\n",
    "std_scaler = StandardScaler()\n",
    "\n",
    "treat_steps = [('imputer', sim_imp), ('scaler', std_scaler)]\n",
    "treat_pipeline = Pipeline(treat_steps)\n",
    "X_train_tr = treat_pipeline.fit_transform(X_train)\n",
    "\n",
    "\n",
    "relatorio_cross_val(log_clf, X_train_tr, y_train)\n",
    "print()\n",
    "relatorio_cross_val(forest_clf, X_train_tr, y_train)\n",
    "print()\n",
    "relatorio_cross_val(svc_clf, X_train_tr, y_train)"
   ]
  },
  {
   "cell_type": "code",
   "execution_count": 68,
   "metadata": {
    "ExecuteTime": {
     "end_time": "2023-02-07T21:25:21.841877Z",
     "start_time": "2023-02-07T21:25:19.226788Z"
    }
   },
   "outputs": [
    {
     "name": "stdout",
     "output_type": "stream",
     "text": [
      "Modelo: LogisticRegression(class_weight='balanced')\n",
      "Acurácia média: 0.7541 (std=0.0348)\n",
      "Precisão média: 0.6373 (std=0.0564)\n",
      "Recall médio: 0.7011 (std=0.0327)\n",
      "\n",
      "Modelo: RandomForestClassifier(class_weight='balanced', random_state=42)\n",
      "Acurácia média: 0.7671 (std=0.0221)\n",
      "Precisão média: 0.7006 (std=0.0524)\n",
      "Recall médio: 0.5888 (std=0.0596)\n",
      "\n",
      "Modelo: SVC(class_weight='balanced', kernel='linear')\n",
      "Acurácia média: 0.7541 (std=0.0362)\n",
      "Precisão média: 0.6432 (std=0.057)\n",
      "Recall médio: 0.6779 (std=0.0381)\n"
     ]
    }
   ],
   "source": [
    "# Testando SimpleImputer (median)\n",
    "\n",
    "sim_imp = SimpleImputer(strategy='median')\n",
    "std_scaler = StandardScaler()\n",
    "\n",
    "treat_steps = [('imputer', sim_imp), ('scaler', std_scaler)]\n",
    "treat_pipeline = Pipeline(treat_steps)\n",
    "X_train_tr = treat_pipeline.fit_transform(X_train)\n",
    "\n",
    "\n",
    "relatorio_cross_val(log_clf, X_train_tr, y_train)\n",
    "print()\n",
    "relatorio_cross_val(forest_clf, X_train_tr, y_train)\n",
    "print()\n",
    "relatorio_cross_val(svc_clf, X_train_tr, y_train)"
   ]
  },
  {
   "cell_type": "code",
   "execution_count": 75,
   "metadata": {
    "ExecuteTime": {
     "end_time": "2023-02-07T21:28:32.964430Z",
     "start_time": "2023-02-07T21:28:30.054523Z"
    }
   },
   "outputs": [
    {
     "name": "stdout",
     "output_type": "stream",
     "text": [
      "Modelo: LogisticRegression(class_weight='balanced')\n",
      "Acurácia média: 0.7525 (std=0.0374)\n",
      "Precisão média: 0.6351 (std=0.0595)\n",
      "Recall médio: 0.7011 (std=0.0327)\n",
      "\n",
      "Modelo: RandomForestClassifier(class_weight='balanced', random_state=42)\n",
      "Acurácia média: 0.7703 (std=0.0239)\n",
      "Precisão média: 0.7011 (std=0.0576)\n",
      "Recall médio: 0.6029 (std=0.0408)\n",
      "\n",
      "Modelo: SVC(class_weight='balanced', kernel='linear')\n",
      "Acurácia média: 0.7606 (std=0.0276)\n",
      "Precisão média: 0.6551 (std=0.0498)\n",
      "Recall médio: 0.6731 (std=0.0311)\n"
     ]
    }
   ],
   "source": [
    "# Testando KNNImputer\n",
    "\n",
    "knn_imp = KNNImputer(n_neighbors=15)\n",
    "std_scaler = StandardScaler()\n",
    "\n",
    "treat_steps = [('imputer', knn_imp), ('scaler', std_scaler)]\n",
    "treat_pipeline = Pipeline(treat_steps)\n",
    "X_train_tr = treat_pipeline.fit_transform(X_train)\n",
    "\n",
    "relatorio_cross_val(log_clf, X_train_tr, y_train)\n",
    "print()\n",
    "relatorio_cross_val(forest_clf, X_train_tr, y_train)\n",
    "print()\n",
    "relatorio_cross_val(svc_clf, X_train_tr, y_train)"
   ]
  },
  {
   "cell_type": "markdown",
   "metadata": {},
   "source": [
    "Vamos usar o tratamento do `KNNImputer` com a `n_neighbors=15`. Antes de prosseguir vamos analisar novamente os dados após o tratamento."
   ]
  },
  {
   "cell_type": "code",
   "execution_count": 87,
   "metadata": {
    "ExecuteTime": {
     "end_time": "2023-02-07T21:31:55.468886Z",
     "start_time": "2023-02-07T21:31:55.364333Z"
    },
    "scrolled": true
   },
   "outputs": [
    {
     "data": {
      "text/html": [
       "<div>\n",
       "<style scoped>\n",
       "    .dataframe tbody tr th:only-of-type {\n",
       "        vertical-align: middle;\n",
       "    }\n",
       "\n",
       "    .dataframe tbody tr th {\n",
       "        vertical-align: top;\n",
       "    }\n",
       "\n",
       "    .dataframe thead th {\n",
       "        text-align: right;\n",
       "    }\n",
       "</style>\n",
       "<table border=\"1\" class=\"dataframe\">\n",
       "  <thead>\n",
       "    <tr style=\"text-align: right;\">\n",
       "      <th></th>\n",
       "      <th>Pregnancies</th>\n",
       "      <th>Glucose</th>\n",
       "      <th>BloodPressure</th>\n",
       "      <th>SkinThickness</th>\n",
       "      <th>Insulin</th>\n",
       "      <th>BMI</th>\n",
       "      <th>DiabetesPedigreeFunction</th>\n",
       "      <th>Age</th>\n",
       "    </tr>\n",
       "  </thead>\n",
       "  <tbody>\n",
       "    <tr>\n",
       "      <th>353</th>\n",
       "      <td>1.0</td>\n",
       "      <td>90.0</td>\n",
       "      <td>62.0</td>\n",
       "      <td>12.0</td>\n",
       "      <td>43.000000</td>\n",
       "      <td>27.200001</td>\n",
       "      <td>0.580</td>\n",
       "      <td>24.0</td>\n",
       "    </tr>\n",
       "    <tr>\n",
       "      <th>711</th>\n",
       "      <td>5.0</td>\n",
       "      <td>126.0</td>\n",
       "      <td>78.0</td>\n",
       "      <td>27.0</td>\n",
       "      <td>22.000000</td>\n",
       "      <td>29.600000</td>\n",
       "      <td>0.439</td>\n",
       "      <td>40.0</td>\n",
       "    </tr>\n",
       "    <tr>\n",
       "      <th>373</th>\n",
       "      <td>2.0</td>\n",
       "      <td>105.0</td>\n",
       "      <td>58.0</td>\n",
       "      <td>40.0</td>\n",
       "      <td>94.000000</td>\n",
       "      <td>34.900002</td>\n",
       "      <td>0.225</td>\n",
       "      <td>25.0</td>\n",
       "    </tr>\n",
       "    <tr>\n",
       "      <th>46</th>\n",
       "      <td>1.0</td>\n",
       "      <td>146.0</td>\n",
       "      <td>56.0</td>\n",
       "      <td>27.2</td>\n",
       "      <td>207.733333</td>\n",
       "      <td>29.700001</td>\n",
       "      <td>0.564</td>\n",
       "      <td>29.0</td>\n",
       "    </tr>\n",
       "    <tr>\n",
       "      <th>682</th>\n",
       "      <td>0.0</td>\n",
       "      <td>95.0</td>\n",
       "      <td>64.0</td>\n",
       "      <td>39.0</td>\n",
       "      <td>105.000000</td>\n",
       "      <td>44.599998</td>\n",
       "      <td>0.366</td>\n",
       "      <td>22.0</td>\n",
       "    </tr>\n",
       "  </tbody>\n",
       "</table>\n",
       "</div>"
      ],
      "text/plain": [
       "     Pregnancies  Glucose  BloodPressure  SkinThickness     Insulin  \\\n",
       "353          1.0     90.0           62.0           12.0   43.000000   \n",
       "711          5.0    126.0           78.0           27.0   22.000000   \n",
       "373          2.0    105.0           58.0           40.0   94.000000   \n",
       "46           1.0    146.0           56.0           27.2  207.733333   \n",
       "682          0.0     95.0           64.0           39.0  105.000000   \n",
       "\n",
       "           BMI  DiabetesPedigreeFunction   Age  \n",
       "353  27.200001                     0.580  24.0  \n",
       "711  29.600000                     0.439  40.0  \n",
       "373  34.900002                     0.225  25.0  \n",
       "46   29.700001                     0.564  29.0  \n",
       "682  44.599998                     0.366  22.0  "
      ]
     },
     "execution_count": 87,
     "metadata": {},
     "output_type": "execute_result"
    }
   ],
   "source": [
    "# Reconstruindo o dataframe\n",
    "\n",
    "X_train_impute = pd.DataFrame(knn_imp.fit_transform(X_train), \n",
    "                              columns=X_train.columns, \n",
    "                              index=X_train.index)\n",
    "\n",
    "X_train_impute.head()"
   ]
  },
  {
   "cell_type": "code",
   "execution_count": 88,
   "metadata": {
    "ExecuteTime": {
     "end_time": "2023-02-07T21:31:56.619567Z",
     "start_time": "2023-02-07T21:31:56.219826Z"
    }
   },
   "outputs": [
    {
     "data": {
      "image/png": "[encoded data removed]",
      "text/plain": [
       "<Figure size 720x288 with 2 Axes>"
      ]
     },
     "metadata": {
      "needs_background": "light"
     },
     "output_type": "display_data"
    }
   ],
   "source": [
    "plot_histgram_and_boxplot(X_train_impute.join(y_train), \"Pregnancies\")"
   ]
  },
  {
   "cell_type": "code",
   "execution_count": 89,
   "metadata": {
    "ExecuteTime": {
     "end_time": "2023-02-07T21:31:57.261170Z",
     "start_time": "2023-02-07T21:31:56.814101Z"
    },
    "scrolled": true
   },
   "outputs": [
    {
     "data": {
      "image/png": "[encoded data removed]",
      "text/plain": [
       "<Figure size 720x288 with 2 Axes>"
      ]
     },
     "metadata": {
      "needs_background": "light"
     },
     "output_type": "display_data"
    }
   ],
   "source": [
    "plot_histgram_and_boxplot(X_train_impute.join(y_train), \"Glucose\")"
   ]
  },
  {
   "cell_type": "code",
   "execution_count": 90,
   "metadata": {
    "ExecuteTime": {
     "end_time": "2023-02-07T21:31:57.940679Z",
     "start_time": "2023-02-07T21:31:57.468364Z"
    }
   },
   "outputs": [
    {
     "data": {
      "image/png": "[encoded data removed]",
      "text/plain": [
       "<Figure size 720x288 with 2 Axes>"
      ]
     },
     "metadata": {
      "needs_background": "light"
     },
     "output_type": "display_data"
    }
   ],
   "source": [
    "plot_histgram_and_boxplot(X_train_impute.join(y_train), \"BloodPressure\")"
   ]
  },
  {
   "cell_type": "code",
   "execution_count": 91,
   "metadata": {
    "ExecuteTime": {
     "end_time": "2023-02-07T21:31:58.799272Z",
     "start_time": "2023-02-07T21:31:58.181201Z"
    }
   },
   "outputs": [
    {
     "data": {
      "image/png": "[encoded data removed]",
      "text/plain": [
       "<Figure size 720x288 with 2 Axes>"
      ]
     },
     "metadata": {
      "needs_background": "light"
     },
     "output_type": "display_data"
    }
   ],
   "source": [
    "plot_histgram_and_boxplot(X_train_impute.join(y_train), \"SkinThickness\")"
   ]
  },
  {
   "cell_type": "code",
   "execution_count": 92,
   "metadata": {
    "ExecuteTime": {
     "end_time": "2023-02-07T21:31:59.492126Z",
     "start_time": "2023-02-07T21:31:58.993222Z"
    },
    "scrolled": true
   },
   "outputs": [
    {
     "data": {
      "image/png": "[encoded data removed]",
      "text/plain": [
       "<Figure size 720x288 with 2 Axes>"
      ]
     },
     "metadata": {
      "needs_background": "light"
     },
     "output_type": "display_data"
    }
   ],
   "source": [
    "plot_histgram_and_boxplot(X_train_impute.join(y_train), \"Insulin\")"
   ]
  },
  {
   "cell_type": "code",
   "execution_count": 93,
   "metadata": {
    "ExecuteTime": {
     "end_time": "2023-02-07T21:32:00.140755Z",
     "start_time": "2023-02-07T21:31:59.731153Z"
    }
   },
   "outputs": [
    {
     "data": {
      "image/png": "[encoded data removed]",
      "text/plain": [
       "<Figure size 720x288 with 2 Axes>"
      ]
     },
     "metadata": {
      "needs_background": "light"
     },
     "output_type": "display_data"
    }
   ],
   "source": [
    "plot_histgram_and_boxplot(X_train_impute.join(y_train), \"Age\")"
   ]
  },
  {
   "cell_type": "code",
   "execution_count": 94,
   "metadata": {
    "ExecuteTime": {
     "end_time": "2023-02-07T21:32:00.814958Z",
     "start_time": "2023-02-07T21:32:00.343294Z"
    }
   },
   "outputs": [
    {
     "data": {
      "image/png": "[encoded data removed]",
      "text/plain": [
       "<Figure size 720x288 with 2 Axes>"
      ]
     },
     "metadata": {
      "needs_background": "light"
     },
     "output_type": "display_data"
    }
   ],
   "source": [
    "plot_histgram_and_boxplot(X_train_impute.join(y_train), \"DiabetesPedigreeFunction\")"
   ]
  },
  {
   "cell_type": "code",
   "execution_count": 95,
   "metadata": {
    "ExecuteTime": {
     "end_time": "2023-02-07T21:32:01.468264Z",
     "start_time": "2023-02-07T21:32:01.036617Z"
    },
    "scrolled": true
   },
   "outputs": [
    {
     "data": {
      "image/png": "[encoded data removed]",
      "text/plain": [
       "<Figure size 720x288 with 2 Axes>"
      ]
     },
     "metadata": {
      "needs_background": "light"
     },
     "output_type": "display_data"
    }
   ],
   "source": [
    "plot_histgram_and_boxplot(X_train_impute.join(y_train), \"BMI\")"
   ]
  },
  {
   "cell_type": "markdown",
   "metadata": {},
   "source": [
    "Vamos verificar novamente a matriz de correlação."
   ]
  },
  {
   "cell_type": "code",
   "execution_count": 96,
   "metadata": {
    "ExecuteTime": {
     "end_time": "2023-02-07T21:32:01.692616Z",
     "start_time": "2023-02-07T21:32:01.678861Z"
    },
    "scrolled": false
   },
   "outputs": [
    {
     "name": "stdout",
     "output_type": "stream",
     "text": [
      "Outcome                     1.000000\n",
      "Glucose                     0.514116\n",
      "Insulin                     0.377782\n",
      "BMI                         0.330768\n",
      "SkinThickness               0.286682\n",
      "Age                         0.240676\n",
      "Pregnancies                 0.208173\n",
      "BloodPressure               0.184225\n",
      "DiabetesPedigreeFunction    0.165312\n",
      "Name: Outcome, dtype: float64\n"
     ]
    }
   ],
   "source": [
    "corr_matrix = X_train_impute.join(y_train).corr()\n",
    "print(corr_matrix[\"Outcome\"].sort_values(ascending=False))"
   ]
  },
  {
   "cell_type": "markdown",
   "metadata": {},
   "source": [
    "As distribuições se mantiveram sem muitas distorções. Nota-se que temos uma melhor correlação de diversas features com o target."
   ]
  },
  {
   "cell_type": "markdown",
   "metadata": {},
   "source": [
    "### Log transformation"
   ]
  },
  {
   "cell_type": "markdown",
   "metadata": {},
   "source": [
    "A distribuição da `DiabetesPedigreeFunction` parece muito inviesada. Aplicar um logaritmo torna ela mais normal:"
   ]
  },
  {
   "cell_type": "code",
   "execution_count": 161,
   "metadata": {
    "ExecuteTime": {
     "end_time": "2023-02-07T23:28:27.438130Z",
     "start_time": "2023-02-07T23:28:27.434576Z"
    }
   },
   "outputs": [],
   "source": [
    "X_train_log = X_train_impute.copy()"
   ]
  },
  {
   "cell_type": "code",
   "execution_count": 162,
   "metadata": {
    "ExecuteTime": {
     "end_time": "2023-02-07T23:28:27.761745Z",
     "start_time": "2023-02-07T23:28:27.737776Z"
    }
   },
   "outputs": [
    {
     "data": {
      "text/html": [
       "<div>\n",
       "<style scoped>\n",
       "    .dataframe tbody tr th:only-of-type {\n",
       "        vertical-align: middle;\n",
       "    }\n",
       "\n",
       "    .dataframe tbody tr th {\n",
       "        vertical-align: top;\n",
       "    }\n",
       "\n",
       "    .dataframe thead th {\n",
       "        text-align: right;\n",
       "    }\n",
       "</style>\n",
       "<table border=\"1\" class=\"dataframe\">\n",
       "  <thead>\n",
       "    <tr style=\"text-align: right;\">\n",
       "      <th></th>\n",
       "      <th>Pregnancies</th>\n",
       "      <th>Glucose</th>\n",
       "      <th>BloodPressure</th>\n",
       "      <th>SkinThickness</th>\n",
       "      <th>Insulin</th>\n",
       "      <th>BMI</th>\n",
       "      <th>DiabetesPedigreeFunction</th>\n",
       "      <th>Age</th>\n",
       "      <th>log_Insulin</th>\n",
       "      <th>log_DiabetesPedigreeFunction</th>\n",
       "    </tr>\n",
       "  </thead>\n",
       "  <tbody>\n",
       "    <tr>\n",
       "      <th>353</th>\n",
       "      <td>1.0</td>\n",
       "      <td>90.0</td>\n",
       "      <td>62.0</td>\n",
       "      <td>12.000000</td>\n",
       "      <td>43.000000</td>\n",
       "      <td>27.200001</td>\n",
       "      <td>0.580</td>\n",
       "      <td>24.0</td>\n",
       "      <td>3.761200</td>\n",
       "      <td>-0.544727</td>\n",
       "    </tr>\n",
       "    <tr>\n",
       "      <th>711</th>\n",
       "      <td>5.0</td>\n",
       "      <td>126.0</td>\n",
       "      <td>78.0</td>\n",
       "      <td>27.000000</td>\n",
       "      <td>22.000000</td>\n",
       "      <td>29.600000</td>\n",
       "      <td>0.439</td>\n",
       "      <td>40.0</td>\n",
       "      <td>3.091042</td>\n",
       "      <td>-0.823256</td>\n",
       "    </tr>\n",
       "    <tr>\n",
       "      <th>373</th>\n",
       "      <td>2.0</td>\n",
       "      <td>105.0</td>\n",
       "      <td>58.0</td>\n",
       "      <td>40.000000</td>\n",
       "      <td>94.000000</td>\n",
       "      <td>34.900002</td>\n",
       "      <td>0.225</td>\n",
       "      <td>25.0</td>\n",
       "      <td>4.543295</td>\n",
       "      <td>-1.491655</td>\n",
       "    </tr>\n",
       "    <tr>\n",
       "      <th>46</th>\n",
       "      <td>1.0</td>\n",
       "      <td>146.0</td>\n",
       "      <td>56.0</td>\n",
       "      <td>27.200000</td>\n",
       "      <td>207.733333</td>\n",
       "      <td>29.700001</td>\n",
       "      <td>0.564</td>\n",
       "      <td>29.0</td>\n",
       "      <td>5.336255</td>\n",
       "      <td>-0.572701</td>\n",
       "    </tr>\n",
       "    <tr>\n",
       "      <th>682</th>\n",
       "      <td>0.0</td>\n",
       "      <td>95.0</td>\n",
       "      <td>64.0</td>\n",
       "      <td>39.000000</td>\n",
       "      <td>105.000000</td>\n",
       "      <td>44.599998</td>\n",
       "      <td>0.366</td>\n",
       "      <td>22.0</td>\n",
       "      <td>4.653960</td>\n",
       "      <td>-1.005122</td>\n",
       "    </tr>\n",
       "    <tr>\n",
       "      <th>...</th>\n",
       "      <td>...</td>\n",
       "      <td>...</td>\n",
       "      <td>...</td>\n",
       "      <td>...</td>\n",
       "      <td>...</td>\n",
       "      <td>...</td>\n",
       "      <td>...</td>\n",
       "      <td>...</td>\n",
       "      <td>...</td>\n",
       "      <td>...</td>\n",
       "    </tr>\n",
       "    <tr>\n",
       "      <th>451</th>\n",
       "      <td>2.0</td>\n",
       "      <td>134.0</td>\n",
       "      <td>70.0</td>\n",
       "      <td>26.800000</td>\n",
       "      <td>148.933333</td>\n",
       "      <td>28.900000</td>\n",
       "      <td>0.542</td>\n",
       "      <td>23.0</td>\n",
       "      <td>5.003499</td>\n",
       "      <td>-0.612489</td>\n",
       "    </tr>\n",
       "    <tr>\n",
       "      <th>113</th>\n",
       "      <td>4.0</td>\n",
       "      <td>76.0</td>\n",
       "      <td>62.0</td>\n",
       "      <td>26.666667</td>\n",
       "      <td>57.533333</td>\n",
       "      <td>34.000000</td>\n",
       "      <td>0.391</td>\n",
       "      <td>25.0</td>\n",
       "      <td>4.052364</td>\n",
       "      <td>-0.939048</td>\n",
       "    </tr>\n",
       "    <tr>\n",
       "      <th>556</th>\n",
       "      <td>1.0</td>\n",
       "      <td>97.0</td>\n",
       "      <td>70.0</td>\n",
       "      <td>40.000000</td>\n",
       "      <td>103.066667</td>\n",
       "      <td>38.099998</td>\n",
       "      <td>0.218</td>\n",
       "      <td>30.0</td>\n",
       "      <td>4.635376</td>\n",
       "      <td>-1.523260</td>\n",
       "    </tr>\n",
       "    <tr>\n",
       "      <th>667</th>\n",
       "      <td>10.0</td>\n",
       "      <td>111.0</td>\n",
       "      <td>70.0</td>\n",
       "      <td>27.000000</td>\n",
       "      <td>125.133333</td>\n",
       "      <td>27.500000</td>\n",
       "      <td>0.141</td>\n",
       "      <td>40.0</td>\n",
       "      <td>4.829380</td>\n",
       "      <td>-1.958995</td>\n",
       "    </tr>\n",
       "    <tr>\n",
       "      <th>107</th>\n",
       "      <td>4.0</td>\n",
       "      <td>144.0</td>\n",
       "      <td>58.0</td>\n",
       "      <td>28.000000</td>\n",
       "      <td>140.000000</td>\n",
       "      <td>29.500000</td>\n",
       "      <td>0.287</td>\n",
       "      <td>37.0</td>\n",
       "      <td>4.941642</td>\n",
       "      <td>-1.248273</td>\n",
       "    </tr>\n",
       "  </tbody>\n",
       "</table>\n",
       "<p>614 rows × 10 columns</p>\n",
       "</div>"
      ],
      "text/plain": [
       "     Pregnancies  Glucose  BloodPressure  SkinThickness     Insulin  \\\n",
       "353          1.0     90.0           62.0      12.000000   43.000000   \n",
       "711          5.0    126.0           78.0      27.000000   22.000000   \n",
       "373          2.0    105.0           58.0      40.000000   94.000000   \n",
       "46           1.0    146.0           56.0      27.200000  207.733333   \n",
       "682          0.0     95.0           64.0      39.000000  105.000000   \n",
       "..           ...      ...            ...            ...         ...   \n",
       "451          2.0    134.0           70.0      26.800000  148.933333   \n",
       "113          4.0     76.0           62.0      26.666667   57.533333   \n",
       "556          1.0     97.0           70.0      40.000000  103.066667   \n",
       "667         10.0    111.0           70.0      27.000000  125.133333   \n",
       "107          4.0    144.0           58.0      28.000000  140.000000   \n",
       "\n",
       "           BMI  DiabetesPedigreeFunction   Age  log_Insulin  \\\n",
       "353  27.200001                     0.580  24.0     3.761200   \n",
       "711  29.600000                     0.439  40.0     3.091042   \n",
       "373  34.900002                     0.225  25.0     4.543295   \n",
       "46   29.700001                     0.564  29.0     5.336255   \n",
       "682  44.599998                     0.366  22.0     4.653960   \n",
       "..         ...                       ...   ...          ...   \n",
       "451  28.900000                     0.542  23.0     5.003499   \n",
       "113  34.000000                     0.391  25.0     4.052364   \n",
       "556  38.099998                     0.218  30.0     4.635376   \n",
       "667  27.500000                     0.141  40.0     4.829380   \n",
       "107  29.500000                     0.287  37.0     4.941642   \n",
       "\n",
       "     log_DiabetesPedigreeFunction  \n",
       "353                     -0.544727  \n",
       "711                     -0.823256  \n",
       "373                     -1.491655  \n",
       "46                      -0.572701  \n",
       "682                     -1.005122  \n",
       "..                            ...  \n",
       "451                     -0.612489  \n",
       "113                     -0.939048  \n",
       "556                     -1.523260  \n",
       "667                     -1.958995  \n",
       "107                     -1.248273  \n",
       "\n",
       "[614 rows x 10 columns]"
      ]
     },
     "execution_count": 162,
     "metadata": {},
     "output_type": "execute_result"
    }
   ],
   "source": [
    "X_train_impute"
   ]
  },
  {
   "cell_type": "code",
   "execution_count": null,
   "metadata": {
    "ExecuteTime": {
     "end_time": "2023-02-07T23:28:27.940377Z",
     "start_time": "2023-02-07T23:28:27.893Z"
    }
   },
   "outputs": [],
   "source": [
    "X_train_log['LogInsulin'] = np.log(X_train_log['Insulin'])\n",
    "plot_histgram_and_boxplot(X_train_log.join(y_train), \"LogInsulin\")"
   ]
  },
  {
   "cell_type": "code",
   "execution_count": null,
   "metadata": {
    "ExecuteTime": {
     "end_time": "2023-02-07T23:28:28.176578Z",
     "start_time": "2023-02-07T23:28:28.089Z"
    }
   },
   "outputs": [],
   "source": [
    "X_train_log['LogDiabetesPedigreeFunction'] = np.log(X_train_log['DiabetesPedigreeFunction'])\n",
    "plot_histgram_and_boxplot(X_train_log.join(y_train), \"LogDiabetesPedigreeFunction\")"
   ]
  },
  {
   "cell_type": "code",
   "execution_count": null,
   "metadata": {
    "ExecuteTime": {
     "end_time": "2023-02-07T23:28:28.408637Z",
     "start_time": "2023-02-07T23:28:28.291Z"
    },
    "scrolled": true
   },
   "outputs": [],
   "source": [
    "correlacao(X_train_log.join(y_train))"
   ]
  },
  {
   "cell_type": "markdown",
   "metadata": {},
   "source": [
    "As distribuições parecem mais normais e as correlações melhoraram."
   ]
  },
  {
   "cell_type": "code",
   "execution_count": 163,
   "metadata": {
    "ExecuteTime": {
     "end_time": "2023-02-07T23:28:28.794037Z",
     "start_time": "2023-02-07T23:28:28.771271Z"
    },
    "scrolled": false
   },
   "outputs": [
    {
     "data": {
      "text/html": [
       "<div>\n",
       "<style scoped>\n",
       "    .dataframe tbody tr th:only-of-type {\n",
       "        vertical-align: middle;\n",
       "    }\n",
       "\n",
       "    .dataframe tbody tr th {\n",
       "        vertical-align: top;\n",
       "    }\n",
       "\n",
       "    .dataframe thead th {\n",
       "        text-align: right;\n",
       "    }\n",
       "</style>\n",
       "<table border=\"1\" class=\"dataframe\">\n",
       "  <thead>\n",
       "    <tr style=\"text-align: right;\">\n",
       "      <th></th>\n",
       "      <th>Pregnancies</th>\n",
       "      <th>Glucose</th>\n",
       "      <th>BloodPressure</th>\n",
       "      <th>SkinThickness</th>\n",
       "      <th>BMI</th>\n",
       "      <th>Age</th>\n",
       "      <th>log_Insulin</th>\n",
       "      <th>log_DiabetesPedigreeFunction</th>\n",
       "    </tr>\n",
       "  </thead>\n",
       "  <tbody>\n",
       "    <tr>\n",
       "      <th>353</th>\n",
       "      <td>1.0</td>\n",
       "      <td>90.0</td>\n",
       "      <td>62.0</td>\n",
       "      <td>12.0</td>\n",
       "      <td>27.200001</td>\n",
       "      <td>24.0</td>\n",
       "      <td>3.761200</td>\n",
       "      <td>-0.544727</td>\n",
       "    </tr>\n",
       "    <tr>\n",
       "      <th>711</th>\n",
       "      <td>5.0</td>\n",
       "      <td>126.0</td>\n",
       "      <td>78.0</td>\n",
       "      <td>27.0</td>\n",
       "      <td>29.600000</td>\n",
       "      <td>40.0</td>\n",
       "      <td>3.091042</td>\n",
       "      <td>-0.823256</td>\n",
       "    </tr>\n",
       "    <tr>\n",
       "      <th>373</th>\n",
       "      <td>2.0</td>\n",
       "      <td>105.0</td>\n",
       "      <td>58.0</td>\n",
       "      <td>40.0</td>\n",
       "      <td>34.900002</td>\n",
       "      <td>25.0</td>\n",
       "      <td>4.543295</td>\n",
       "      <td>-1.491655</td>\n",
       "    </tr>\n",
       "    <tr>\n",
       "      <th>46</th>\n",
       "      <td>1.0</td>\n",
       "      <td>146.0</td>\n",
       "      <td>56.0</td>\n",
       "      <td>27.2</td>\n",
       "      <td>29.700001</td>\n",
       "      <td>29.0</td>\n",
       "      <td>5.336255</td>\n",
       "      <td>-0.572701</td>\n",
       "    </tr>\n",
       "    <tr>\n",
       "      <th>682</th>\n",
       "      <td>0.0</td>\n",
       "      <td>95.0</td>\n",
       "      <td>64.0</td>\n",
       "      <td>39.0</td>\n",
       "      <td>44.599998</td>\n",
       "      <td>22.0</td>\n",
       "      <td>4.653960</td>\n",
       "      <td>-1.005122</td>\n",
       "    </tr>\n",
       "  </tbody>\n",
       "</table>\n",
       "</div>"
      ],
      "text/plain": [
       "     Pregnancies  Glucose  BloodPressure  SkinThickness        BMI   Age  \\\n",
       "353          1.0     90.0           62.0           12.0  27.200001  24.0   \n",
       "711          5.0    126.0           78.0           27.0  29.600000  40.0   \n",
       "373          2.0    105.0           58.0           40.0  34.900002  25.0   \n",
       "46           1.0    146.0           56.0           27.2  29.700001  29.0   \n",
       "682          0.0     95.0           64.0           39.0  44.599998  22.0   \n",
       "\n",
       "     log_Insulin  log_DiabetesPedigreeFunction  \n",
       "353     3.761200                     -0.544727  \n",
       "711     3.091042                     -0.823256  \n",
       "373     4.543295                     -1.491655  \n",
       "46      5.336255                     -0.572701  \n",
       "682     4.653960                     -1.005122  "
      ]
     },
     "execution_count": 163,
     "metadata": {},
     "output_type": "execute_result"
    }
   ],
   "source": [
    "drop = [\"DiabetesPedigreeFunction\", \"Insulin\"]\n",
    "X_train_log = X_train_log.drop(drop, axis=1)\n",
    "X_train_log.head()"
   ]
  },
  {
   "cell_type": "code",
   "execution_count": 164,
   "metadata": {
    "ExecuteTime": {
     "end_time": "2023-02-07T23:28:32.039166Z",
     "start_time": "2023-02-07T23:28:29.257363Z"
    },
    "scrolled": true
   },
   "outputs": [
    {
     "name": "stdout",
     "output_type": "stream",
     "text": [
      "Modelo: LogisticRegression(class_weight='balanced')\n",
      "Acurácia média: 0.7557 (std=0.0256)\n",
      "Precisão média: 0.632 (std=0.0383)\n",
      "Recall médio: 0.7243 (std=0.0453)\n",
      "\n",
      "Modelo: RandomForestClassifier(class_weight='balanced', random_state=42)\n",
      "Acurácia média: 0.7671 (std=0.0197)\n",
      "Precisão média: 0.695 (std=0.0452)\n",
      "Recall médio: 0.5982 (std=0.0441)\n",
      "\n",
      "Modelo: SVC(class_weight='balanced', kernel='linear')\n",
      "Acurácia média: 0.7557 (std=0.0112)\n",
      "Precisão média: 0.6366 (std=0.0205)\n",
      "Recall médio: 0.701 (std=0.0336)\n"
     ]
    }
   ],
   "source": [
    "X_train_sc = std_scaler.fit_transform(X_train_log)\n",
    "\n",
    "relatorio_cross_val(log_clf, X_train_sc, y_train)\n",
    "print()\n",
    "relatorio_cross_val(forest_clf, X_train_sc, y_train)\n",
    "print()\n",
    "relatorio_cross_val(svc_clf, X_train_sc, y_train)"
   ]
  },
  {
   "cell_type": "code",
   "execution_count": null,
   "metadata": {
    "ExecuteTime": {
     "end_time": "2023-02-07T23:28:32.181515Z",
     "start_time": "2023-02-07T23:28:30.270Z"
    }
   },
   "outputs": [],
   "source": [
    "# Criado um estimador customizado para log_transform\n",
    "\n",
    "class CustomLogTransform(BaseEstimator, TransformerMixin):\n",
    "    def __init__(self, cols):\n",
    "        self.cols_ = cols  # Columns to be transformed\n",
    "    \n",
    "    def fit(self, X, y=None):\n",
    "        return self\n",
    "    \n",
    "    def transform(self, X, y=None):\n",
    "        self.X = X\n",
    "        for col_ in self.cols_:\n",
    "            self.renamed_col_ = 'log_'+ col_\n",
    "            self.X[self.renamed_col_] = np.log(self.X[col_])\n",
    "        self.X = self.X.drop(self.cols_, axis=1)\n",
    "        return self.X"
   ]
  },
  {
   "cell_type": "code",
   "execution_count": null,
   "metadata": {
    "ExecuteTime": {
     "end_time": "2023-02-07T23:28:32.187589Z",
     "start_time": "2023-02-07T23:28:31.557Z"
    }
   },
   "outputs": [],
   "source": [
    "# Testing and building the transformed dataframe\n",
    "\n",
    "log_transform = CustomLogTransform(['Insulin', 'DiabetesPedigreeFunction'])\n",
    "X_train_log = log_transform.fit_transform(X_train_impute)"
   ]
  },
  {
   "cell_type": "code",
   "execution_count": 165,
   "metadata": {
    "ExecuteTime": {
     "end_time": "2023-02-07T23:28:33.146192Z",
     "start_time": "2023-02-07T23:28:33.130718Z"
    }
   },
   "outputs": [
    {
     "data": {
      "text/html": [
       "<div>\n",
       "<style scoped>\n",
       "    .dataframe tbody tr th:only-of-type {\n",
       "        vertical-align: middle;\n",
       "    }\n",
       "\n",
       "    .dataframe tbody tr th {\n",
       "        vertical-align: top;\n",
       "    }\n",
       "\n",
       "    .dataframe thead th {\n",
       "        text-align: right;\n",
       "    }\n",
       "</style>\n",
       "<table border=\"1\" class=\"dataframe\">\n",
       "  <thead>\n",
       "    <tr style=\"text-align: right;\">\n",
       "      <th></th>\n",
       "      <th>Pregnancies</th>\n",
       "      <th>Glucose</th>\n",
       "      <th>BloodPressure</th>\n",
       "      <th>SkinThickness</th>\n",
       "      <th>BMI</th>\n",
       "      <th>Age</th>\n",
       "      <th>log_Insulin</th>\n",
       "      <th>log_DiabetesPedigreeFunction</th>\n",
       "    </tr>\n",
       "  </thead>\n",
       "  <tbody>\n",
       "    <tr>\n",
       "      <th>353</th>\n",
       "      <td>1.0</td>\n",
       "      <td>90.0</td>\n",
       "      <td>62.0</td>\n",
       "      <td>12.0</td>\n",
       "      <td>27.200001</td>\n",
       "      <td>24.0</td>\n",
       "      <td>3.761200</td>\n",
       "      <td>-0.544727</td>\n",
       "    </tr>\n",
       "    <tr>\n",
       "      <th>711</th>\n",
       "      <td>5.0</td>\n",
       "      <td>126.0</td>\n",
       "      <td>78.0</td>\n",
       "      <td>27.0</td>\n",
       "      <td>29.600000</td>\n",
       "      <td>40.0</td>\n",
       "      <td>3.091042</td>\n",
       "      <td>-0.823256</td>\n",
       "    </tr>\n",
       "    <tr>\n",
       "      <th>373</th>\n",
       "      <td>2.0</td>\n",
       "      <td>105.0</td>\n",
       "      <td>58.0</td>\n",
       "      <td>40.0</td>\n",
       "      <td>34.900002</td>\n",
       "      <td>25.0</td>\n",
       "      <td>4.543295</td>\n",
       "      <td>-1.491655</td>\n",
       "    </tr>\n",
       "    <tr>\n",
       "      <th>46</th>\n",
       "      <td>1.0</td>\n",
       "      <td>146.0</td>\n",
       "      <td>56.0</td>\n",
       "      <td>27.2</td>\n",
       "      <td>29.700001</td>\n",
       "      <td>29.0</td>\n",
       "      <td>5.336255</td>\n",
       "      <td>-0.572701</td>\n",
       "    </tr>\n",
       "    <tr>\n",
       "      <th>682</th>\n",
       "      <td>0.0</td>\n",
       "      <td>95.0</td>\n",
       "      <td>64.0</td>\n",
       "      <td>39.0</td>\n",
       "      <td>44.599998</td>\n",
       "      <td>22.0</td>\n",
       "      <td>4.653960</td>\n",
       "      <td>-1.005122</td>\n",
       "    </tr>\n",
       "  </tbody>\n",
       "</table>\n",
       "</div>"
      ],
      "text/plain": [
       "     Pregnancies  Glucose  BloodPressure  SkinThickness        BMI   Age  \\\n",
       "353          1.0     90.0           62.0           12.0  27.200001  24.0   \n",
       "711          5.0    126.0           78.0           27.0  29.600000  40.0   \n",
       "373          2.0    105.0           58.0           40.0  34.900002  25.0   \n",
       "46           1.0    146.0           56.0           27.2  29.700001  29.0   \n",
       "682          0.0     95.0           64.0           39.0  44.599998  22.0   \n",
       "\n",
       "     log_Insulin  log_DiabetesPedigreeFunction  \n",
       "353     3.761200                     -0.544727  \n",
       "711     3.091042                     -0.823256  \n",
       "373     4.543295                     -1.491655  \n",
       "46      5.336255                     -0.572701  \n",
       "682     4.653960                     -1.005122  "
      ]
     },
     "execution_count": 165,
     "metadata": {},
     "output_type": "execute_result"
    }
   ],
   "source": [
    "X_train_log.head()"
   ]
  },
  {
   "cell_type": "markdown",
   "metadata": {},
   "source": [
    "Os resultados desse tratamento foram interessantes. Vamos usá-los."
   ]
  },
  {
   "cell_type": "markdown",
   "metadata": {},
   "source": [
    "### Binning"
   ]
  },
  {
   "cell_type": "markdown",
   "metadata": {},
   "source": [
    "Vamos tentar agora agrupar dados para reduzir o ruído de alguma feature. Como discutido, fazer esse tratamento isso na `Age` talvez ajude nosso modelo. "
   ]
  },
  {
   "cell_type": "code",
   "execution_count": 221,
   "metadata": {
    "ExecuteTime": {
     "end_time": "2023-02-07T00:15:38.248668Z",
     "start_time": "2023-02-07T00:15:38.222000Z"
    }
   },
   "outputs": [
    {
     "data": {
      "text/html": [
       "<div>\n",
       "<style scoped>\n",
       "    .dataframe tbody tr th:only-of-type {\n",
       "        vertical-align: middle;\n",
       "    }\n",
       "\n",
       "    .dataframe tbody tr th {\n",
       "        vertical-align: top;\n",
       "    }\n",
       "\n",
       "    .dataframe thead th {\n",
       "        text-align: right;\n",
       "    }\n",
       "</style>\n",
       "<table border=\"1\" class=\"dataframe\">\n",
       "  <thead>\n",
       "    <tr style=\"text-align: right;\">\n",
       "      <th></th>\n",
       "      <th>Pregnancies</th>\n",
       "      <th>Glucose</th>\n",
       "      <th>BloodPressure</th>\n",
       "      <th>SkinThickness</th>\n",
       "      <th>Insulin</th>\n",
       "      <th>BMI</th>\n",
       "      <th>DiabetesPedigreeFunction</th>\n",
       "      <th>Age</th>\n",
       "    </tr>\n",
       "  </thead>\n",
       "  <tbody>\n",
       "    <tr>\n",
       "      <th>353</th>\n",
       "      <td>1.0</td>\n",
       "      <td>90.0</td>\n",
       "      <td>62.0</td>\n",
       "      <td>12.000000</td>\n",
       "      <td>43.00000</td>\n",
       "      <td>27.200001</td>\n",
       "      <td>0.580</td>\n",
       "      <td>24.0</td>\n",
       "    </tr>\n",
       "    <tr>\n",
       "      <th>711</th>\n",
       "      <td>5.0</td>\n",
       "      <td>126.0</td>\n",
       "      <td>78.0</td>\n",
       "      <td>27.000000</td>\n",
       "      <td>22.00000</td>\n",
       "      <td>29.600000</td>\n",
       "      <td>0.439</td>\n",
       "      <td>40.0</td>\n",
       "    </tr>\n",
       "    <tr>\n",
       "      <th>373</th>\n",
       "      <td>2.0</td>\n",
       "      <td>105.0</td>\n",
       "      <td>58.0</td>\n",
       "      <td>40.000000</td>\n",
       "      <td>94.00000</td>\n",
       "      <td>34.900002</td>\n",
       "      <td>0.225</td>\n",
       "      <td>25.0</td>\n",
       "    </tr>\n",
       "    <tr>\n",
       "      <th>46</th>\n",
       "      <td>1.0</td>\n",
       "      <td>146.0</td>\n",
       "      <td>56.0</td>\n",
       "      <td>29.059226</td>\n",
       "      <td>149.07716</td>\n",
       "      <td>29.700001</td>\n",
       "      <td>0.564</td>\n",
       "      <td>29.0</td>\n",
       "    </tr>\n",
       "    <tr>\n",
       "      <th>682</th>\n",
       "      <td>0.0</td>\n",
       "      <td>95.0</td>\n",
       "      <td>64.0</td>\n",
       "      <td>39.000000</td>\n",
       "      <td>105.00000</td>\n",
       "      <td>44.599998</td>\n",
       "      <td>0.366</td>\n",
       "      <td>22.0</td>\n",
       "    </tr>\n",
       "  </tbody>\n",
       "</table>\n",
       "</div>"
      ],
      "text/plain": [
       "     Pregnancies  Glucose  BloodPressure  SkinThickness    Insulin        BMI  \\\n",
       "353          1.0     90.0           62.0      12.000000   43.00000  27.200001   \n",
       "711          5.0    126.0           78.0      27.000000   22.00000  29.600000   \n",
       "373          2.0    105.0           58.0      40.000000   94.00000  34.900002   \n",
       "46           1.0    146.0           56.0      29.059226  149.07716  29.700001   \n",
       "682          0.0     95.0           64.0      39.000000  105.00000  44.599998   \n",
       "\n",
       "     DiabetesPedigreeFunction   Age  \n",
       "353                     0.580  24.0  \n",
       "711                     0.439  40.0  \n",
       "373                     0.225  25.0  \n",
       "46                      0.564  29.0  \n",
       "682                     0.366  22.0  "
      ]
     },
     "execution_count": 221,
     "metadata": {},
     "output_type": "execute_result"
    }
   ],
   "source": [
    "X_train_bins = X_train_impute.copy()\n",
    "X_train_bins.head()"
   ]
  },
  {
   "cell_type": "markdown",
   "metadata": {},
   "source": [
    "Usaremos `KBinsDiscretizer`:"
   ]
  },
  {
   "cell_type": "code",
   "execution_count": 222,
   "metadata": {
    "ExecuteTime": {
     "end_time": "2023-02-07T00:15:38.478886Z",
     "start_time": "2023-02-07T00:15:38.252519Z"
    }
   },
   "outputs": [
    {
     "data": {
      "image/png": "[encoded data removed]",
      "text/plain": [
       "<Figure size 432x288 with 1 Axes>"
      ]
     },
     "metadata": {
      "needs_background": "light"
     },
     "output_type": "display_data"
    }
   ],
   "source": [
    "kbins = KBinsDiscretizer(n_bins=4, encode='ordinal', strategy='quantile')\n",
    "X_train_bins[\"New_Age\"] = kbins.fit_transform(X_train_bins[['Age']])\n",
    "\n",
    "sns.countplot(data=X_train_bins.join(y_train), x=\"New_Age\", hue='Outcome');"
   ]
  },
  {
   "cell_type": "code",
   "execution_count": 223,
   "metadata": {
    "ExecuteTime": {
     "end_time": "2023-02-07T00:15:38.491941Z",
     "start_time": "2023-02-07T00:15:38.483418Z"
    },
    "scrolled": false
   },
   "outputs": [
    {
     "name": "stdout",
     "output_type": "stream",
     "text": [
      "Outcome                     1.000000\n",
      "Glucose                     0.512656\n",
      "BMI                         0.328746\n",
      "New_Age                     0.309682\n",
      "Insulin                     0.252974\n",
      "Age                         0.240676\n",
      "SkinThickness               0.234398\n",
      "Pregnancies                 0.208173\n",
      "BloodPressure               0.183494\n",
      "DiabetesPedigreeFunction    0.165312\n",
      "Name: Outcome, dtype: float64\n"
     ]
    }
   ],
   "source": [
    "correlacao(X_train_bins.join(y_train))"
   ]
  },
  {
   "cell_type": "code",
   "execution_count": 224,
   "metadata": {
    "ExecuteTime": {
     "end_time": "2023-02-07T00:15:41.685749Z",
     "start_time": "2023-02-07T00:15:38.494128Z"
    }
   },
   "outputs": [
    {
     "name": "stdout",
     "output_type": "stream",
     "text": [
      "Modelo: LogisticRegression(class_weight='balanced')\n",
      "Acurácia média: 0.7671 (std=0.0351)\n",
      "Precisão média: 0.656 (std=0.0678)\n",
      "Recall médio: 0.7198 (std=0.0598)\n",
      "\n",
      "Modelo: RandomForestClassifier(class_weight='balanced', random_state=42)\n",
      "Acurácia média: 0.7622 (std=0.0337)\n",
      "Precisão média: 0.6964 (std=0.08)\n",
      "Recall médio: 0.5794 (std=0.0443)\n",
      "\n",
      "Modelo: SVC(class_weight='balanced', kernel='linear')\n",
      "Acurácia média: 0.7558 (std=0.0388)\n",
      "Precisão média: 0.6409 (std=0.0614)\n",
      "Recall médio: 0.6967 (std=0.0591)\n"
     ]
    }
   ],
   "source": [
    "# Testando o binning com regressão logística\n",
    "\n",
    "X_train_bins = X_train_bins.drop('Age', axis=1)\n",
    "\n",
    "std_scaler = StandardScaler()\n",
    "X_train_sc = std_scaler.fit_transform(X_train_bins)\n",
    "\n",
    "relatorio_cross_val(log_clf, X_train_sc, y_train)\n",
    "print()\n",
    "relatorio_cross_val(forest_clf, X_train_sc, y_train)\n",
    "print()\n",
    "relatorio_cross_val(svc_clf, X_train_sc, y_train)"
   ]
  },
  {
   "cell_type": "markdown",
   "metadata": {},
   "source": [
    "O tratamento é semelhante à uma condificação por faixa etária (criança, jovem, adulto, idoso). Temos resultados semelhantes, mas simplificamos nosso modelo. Seguiremos com esse tratamento."
   ]
  },
  {
   "cell_type": "markdown",
   "metadata": {},
   "source": [
    "## Quantile Scaling"
   ]
  },
  {
   "cell_type": "markdown",
   "metadata": {},
   "source": [
    "`BMI` parece ser uma feature importante, mas talvez precise ser ajustada e seus outliers tratados. Vamos testar um QuantileTransformer."
   ]
  },
  {
   "cell_type": "code",
   "execution_count": 225,
   "metadata": {
    "ExecuteTime": {
     "end_time": "2023-02-07T00:15:41.714432Z",
     "start_time": "2023-02-07T00:15:41.688490Z"
    },
    "scrolled": true
   },
   "outputs": [
    {
     "data": {
      "text/html": [
       "<div>\n",
       "<style scoped>\n",
       "    .dataframe tbody tr th:only-of-type {\n",
       "        vertical-align: middle;\n",
       "    }\n",
       "\n",
       "    .dataframe tbody tr th {\n",
       "        vertical-align: top;\n",
       "    }\n",
       "\n",
       "    .dataframe thead th {\n",
       "        text-align: right;\n",
       "    }\n",
       "</style>\n",
       "<table border=\"1\" class=\"dataframe\">\n",
       "  <thead>\n",
       "    <tr style=\"text-align: right;\">\n",
       "      <th></th>\n",
       "      <th>Pregnancies</th>\n",
       "      <th>Glucose</th>\n",
       "      <th>BloodPressure</th>\n",
       "      <th>SkinThickness</th>\n",
       "      <th>Insulin</th>\n",
       "      <th>BMI</th>\n",
       "      <th>DiabetesPedigreeFunction</th>\n",
       "      <th>New_Age</th>\n",
       "    </tr>\n",
       "  </thead>\n",
       "  <tbody>\n",
       "    <tr>\n",
       "      <th>353</th>\n",
       "      <td>1.0</td>\n",
       "      <td>90.0</td>\n",
       "      <td>62.0</td>\n",
       "      <td>12.000000</td>\n",
       "      <td>43.00000</td>\n",
       "      <td>27.200001</td>\n",
       "      <td>0.580</td>\n",
       "      <td>1.0</td>\n",
       "    </tr>\n",
       "    <tr>\n",
       "      <th>711</th>\n",
       "      <td>5.0</td>\n",
       "      <td>126.0</td>\n",
       "      <td>78.0</td>\n",
       "      <td>27.000000</td>\n",
       "      <td>22.00000</td>\n",
       "      <td>29.600000</td>\n",
       "      <td>0.439</td>\n",
       "      <td>2.0</td>\n",
       "    </tr>\n",
       "    <tr>\n",
       "      <th>373</th>\n",
       "      <td>2.0</td>\n",
       "      <td>105.0</td>\n",
       "      <td>58.0</td>\n",
       "      <td>40.000000</td>\n",
       "      <td>94.00000</td>\n",
       "      <td>34.900002</td>\n",
       "      <td>0.225</td>\n",
       "      <td>1.0</td>\n",
       "    </tr>\n",
       "    <tr>\n",
       "      <th>46</th>\n",
       "      <td>1.0</td>\n",
       "      <td>146.0</td>\n",
       "      <td>56.0</td>\n",
       "      <td>29.059226</td>\n",
       "      <td>149.07716</td>\n",
       "      <td>29.700001</td>\n",
       "      <td>0.564</td>\n",
       "      <td>2.0</td>\n",
       "    </tr>\n",
       "    <tr>\n",
       "      <th>682</th>\n",
       "      <td>0.0</td>\n",
       "      <td>95.0</td>\n",
       "      <td>64.0</td>\n",
       "      <td>39.000000</td>\n",
       "      <td>105.00000</td>\n",
       "      <td>44.599998</td>\n",
       "      <td>0.366</td>\n",
       "      <td>0.0</td>\n",
       "    </tr>\n",
       "  </tbody>\n",
       "</table>\n",
       "</div>"
      ],
      "text/plain": [
       "     Pregnancies  Glucose  BloodPressure  SkinThickness    Insulin        BMI  \\\n",
       "353          1.0     90.0           62.0      12.000000   43.00000  27.200001   \n",
       "711          5.0    126.0           78.0      27.000000   22.00000  29.600000   \n",
       "373          2.0    105.0           58.0      40.000000   94.00000  34.900002   \n",
       "46           1.0    146.0           56.0      29.059226  149.07716  29.700001   \n",
       "682          0.0     95.0           64.0      39.000000  105.00000  44.599998   \n",
       "\n",
       "     DiabetesPedigreeFunction  New_Age  \n",
       "353                     0.580      1.0  \n",
       "711                     0.439      2.0  \n",
       "373                     0.225      1.0  \n",
       "46                      0.564      2.0  \n",
       "682                     0.366      0.0  "
      ]
     },
     "execution_count": 225,
     "metadata": {},
     "output_type": "execute_result"
    }
   ],
   "source": [
    "X_train_scaling = X_train_bins.copy()\n",
    "X_train_scaling.head()"
   ]
  },
  {
   "cell_type": "code",
   "execution_count": 226,
   "metadata": {
    "ExecuteTime": {
     "end_time": "2023-02-07T00:15:41.727417Z",
     "start_time": "2023-02-07T00:15:41.717278Z"
    }
   },
   "outputs": [],
   "source": [
    "qt = QuantileTransformer(n_quantiles=3, random_state=42)\n",
    "X_train_scaling[['New_BMI']] = qt.fit_transform(X_train_scaling[['BMI']])"
   ]
  },
  {
   "cell_type": "code",
   "execution_count": 227,
   "metadata": {
    "ExecuteTime": {
     "end_time": "2023-02-07T00:15:41.732315Z",
     "start_time": "2023-02-07T00:15:41.729534Z"
    }
   },
   "outputs": [],
   "source": [
    "#plot_dist_box(X_train_scaling.join(y_train), \"New_BMI\")"
   ]
  },
  {
   "cell_type": "code",
   "execution_count": 228,
   "metadata": {
    "ExecuteTime": {
     "end_time": "2023-02-07T00:15:41.847999Z",
     "start_time": "2023-02-07T00:15:41.736137Z"
    },
    "scrolled": false
   },
   "outputs": [
    {
     "name": "stdout",
     "output_type": "stream",
     "text": [
      "Modelo: LogisticRegression()\n",
      "Acurácia média: 0.7834 (std=0.0273)\n",
      "Precisão média: 0.7309 (std=0.0604)\n",
      "Recall médio: 0.6078 (std=0.056)\n"
     ]
    }
   ],
   "source": [
    "# Testando o QuantileTransformer\n",
    "\n",
    "X_train_scaling = X_train_scaling.drop('BMI', axis=1)\n",
    "\n",
    "log_clf = LogisticRegression()\n",
    "\n",
    "std_scaler = StandardScaler()\n",
    "X_train_sc = std_scaler.fit_transform(X_train_scaling)\n",
    "\n",
    "log_clf.fit(X_train_sc, y_train)\n",
    "relatorio_cross_val(log_clf, X_train_sc, y_train)"
   ]
  },
  {
   "cell_type": "markdown",
   "metadata": {},
   "source": [
    "Essa transformação nos rendeu um bom resultado. Vamos seguir com ela."
   ]
  },
  {
   "cell_type": "code",
   "execution_count": 229,
   "metadata": {
    "ExecuteTime": {
     "end_time": "2023-02-07T00:15:41.856135Z",
     "start_time": "2023-02-07T00:15:41.850330Z"
    }
   },
   "outputs": [],
   "source": [
    "# # Pipeline final de tratamento\n",
    "\n",
    "# knn_imp = KNNImputer(n_neighbors=15)\n",
    "# kbins = KBinsDiscretizer(n_bins=3, encode='ordinal')\n",
    "# qt = QuantileTransformer(n_quantiles=3, random_state=42)\n",
    "# std_scaler = StandardScaler()\n",
    "\n",
    "# ct = ColumnTransformer([('kbins_Age', kbins, [7]), ('qt_BMI', qt, [5])], remainder='passthrough')\n",
    "\n",
    "# steps = [('imputer', knn_imp), \n",
    "#          ('kbins', kbins_age),\n",
    "#          ('scaler', std_scaler),\n",
    "#         ]\n",
    "\n",
    "# treatment_pipeline = Pipeline(steps)"
   ]
  },
  {
   "cell_type": "code",
   "execution_count": 230,
   "metadata": {
    "ExecuteTime": {
     "end_time": "2023-02-07T00:15:41.864966Z",
     "start_time": "2023-02-07T00:15:41.858357Z"
    }
   },
   "outputs": [],
   "source": [
    "# Pipeline simples de tratamento\n",
    "\n",
    "sim_imp = SimpleImputer()\n",
    "std_scaler = StandardScaler()\n",
    "\n",
    "steps = [('imputer', sim_imp),\n",
    "         ('scaler', std_scaler),\n",
    "        ]\n",
    "\n",
    "treatment_pipeline = Pipeline(steps)"
   ]
  },
  {
   "cell_type": "markdown",
   "metadata": {},
   "source": [
    "## Modelos finais"
   ]
  },
  {
   "cell_type": "code",
   "execution_count": 231,
   "metadata": {
    "ExecuteTime": {
     "end_time": "2023-02-07T00:15:41.879712Z",
     "start_time": "2023-02-07T00:15:41.869860Z"
    }
   },
   "outputs": [],
   "source": [
    "# Aplicando a pipeline ao treino\n",
    "X_train_tr = treatment_pipeline.fit_transform(X_train)"
   ]
  },
  {
   "cell_type": "markdown",
   "metadata": {},
   "source": [
    "### Logistic regression"
   ]
  },
  {
   "cell_type": "code",
   "execution_count": 232,
   "metadata": {
    "ExecuteTime": {
     "end_time": "2023-02-07T00:15:41.990887Z",
     "start_time": "2023-02-07T00:15:41.882608Z"
    }
   },
   "outputs": [
    {
     "name": "stdout",
     "output_type": "stream",
     "text": [
      "Modelo: LogisticRegression(class_weight='balanced')\n",
      "Acurácia média: 0.759 (std=0.0277)\n",
      "Precisão média: 0.6445 (std=0.0478)\n",
      "Recall médio: 0.7011 (std=0.0327)\n"
     ]
    }
   ],
   "source": [
    "log_clf = LogisticRegression(class_weight='balanced')\n",
    "log_clf.fit(X_train_tr, y_train)\n",
    "relatorio_cross_val(log_clf, X_train_tr, y_train)"
   ]
  },
  {
   "cell_type": "markdown",
   "metadata": {},
   "source": [
    "## Random Forest"
   ]
  },
  {
   "cell_type": "code",
   "execution_count": 233,
   "metadata": {
    "ExecuteTime": {
     "end_time": "2023-02-07T00:15:41.996517Z",
     "start_time": "2023-02-07T00:15:41.993314Z"
    }
   },
   "outputs": [],
   "source": [
    "# # Randomized Search CV para a Random Forest\n",
    "\n",
    "# forest_clf = RandomForestClassifier(max_depth=5, max_features=4, \n",
    "#                                     min_samples_split=30, n_estimators=500, \n",
    "#                                     random_state=42)\n",
    "\n",
    "# params_grid = {\"n_estimators\":np.linspace(100,1000,10, dtype=np.int), \n",
    "#                \"max_depth\":np.arange(4, 21, 1, dtype=np.int),\n",
    "#                \"min_samples_split\": [2,5,10,30],\n",
    "#                \"max_features\": [3,4,5,6,7]\n",
    "#               }\n",
    "# forest_randcv = RandomizedSearchCV(forest_clf, params_grid, n_iter=100, cv=3, scoring='accuracy', verbose=2, n_jobs=-1)\n",
    "# forest_randcv.fit(X_train_tr, y_train)\n",
    "\n",
    "# print(f'Melhor estimador:{forest_randcv.best_params_}')\n",
    "# relatorio_cross_val(forest_randcv.best_estimator_, X_train_tr, y_train)"
   ]
  },
  {
   "cell_type": "code",
   "execution_count": 234,
   "metadata": {
    "ExecuteTime": {
     "end_time": "2023-02-07T00:15:48.931301Z",
     "start_time": "2023-02-07T00:15:41.999035Z"
    }
   },
   "outputs": [
    {
     "name": "stdout",
     "output_type": "stream",
     "text": [
      "Modelo: RandomForestClassifier(class_weight='balanced', max_depth=15, max_features=5,\n",
      "                       n_estimators=200, random_state=42)\n",
      "Acurácia média: 0.7655 (std=0.0239)\n",
      "Precisão média: 0.6953 (std=0.0456)\n",
      "Recall médio: 0.5939 (std=0.0796)\n"
     ]
    }
   ],
   "source": [
    "# Vamos reservar um modelo treinado para fazer um ensemble\n",
    "\n",
    "forest_clf = RandomForestClassifier(max_depth=15, \n",
    "                                    max_features=5, \n",
    "                                    min_samples_split=2, \n",
    "                                    n_estimators=200,\n",
    "                                    class_weight='balanced',\n",
    "                                    random_state=42)\n",
    "\n",
    "forest_clf.fit(X_train_tr, y_train)\n",
    "relatorio_cross_val(forest_clf, X_train_tr, y_train)"
   ]
  },
  {
   "cell_type": "markdown",
   "metadata": {},
   "source": [
    "### XGBoost"
   ]
  },
  {
   "cell_type": "code",
   "execution_count": 235,
   "metadata": {
    "ExecuteTime": {
     "end_time": "2023-02-07T00:15:48.940004Z",
     "start_time": "2023-02-07T00:15:48.937323Z"
    },
    "scrolled": true
   },
   "outputs": [],
   "source": [
    "# # Randomized Search CV para a XGBoost\n",
    "\n",
    "# xgb_clf = XGBClassifier(learning_rate=0.07, max_depth=6, n_estimators=500, random_state=42)\n",
    "\n",
    "# params_grid = {\"n_estimators\":np.linspace(100,1000,10, dtype=np.int), \n",
    "#                \"max_depth\":np.arange(4, 21, 1, dtype=np.int),\n",
    "#                \"learning_rate\": np.linspace(0,1,11)\n",
    "#               }\n",
    "# xgb_randcv = RandomizedSearchCV(xgb_clf, params_grid, n_iter=100, cv=3, scoring='accuracy', verbose=3, n_jobs=-1)\n",
    "# xgb_randcv.fit(X_train_tr, y_train)\n",
    "\n",
    "# print(f'Melhor estimador:{xgb_randcv.best_params_}')\n",
    "# relatorio_cross_val(xgb_randcv.best_estimator_, X_train_tr, y_train)"
   ]
  },
  {
   "cell_type": "code",
   "execution_count": 236,
   "metadata": {
    "ExecuteTime": {
     "end_time": "2023-02-07T00:15:48.944960Z",
     "start_time": "2023-02-07T00:15:48.942174Z"
    }
   },
   "outputs": [],
   "source": [
    "# Grid Search CV para XGB\n",
    "\n",
    "# params = {\n",
    "#     \"learning_rate\": [0.06, 0.09, 0.1, 0.2],\n",
    "#     \"max_depth\":[4,5,6,7,8],\n",
    "#     \"n_estimators\":[100,200,500]}\n",
    "\n",
    "# grid_search_cv = GridSearchCV(xgb_clf, params, cv=3, scoring='accuracy', verbose=2, n_jobs=-1)\n",
    "# grid_search_cv.fit(X_train, y_train)\n",
    "# grid_search_cv.best_estimator_\n",
    "# grid_search_cv.best_score_"
   ]
  },
  {
   "cell_type": "code",
   "execution_count": 237,
   "metadata": {
    "ExecuteTime": {
     "end_time": "2023-02-07T00:16:30.904628Z",
     "start_time": "2023-02-07T00:15:48.947674Z"
    }
   },
   "outputs": [
    {
     "name": "stdout",
     "output_type": "stream",
     "text": [
      "Modelo: XGBClassifier(base_score=0.5, booster='gbtree', callbacks=None,\n",
      "              colsample_bylevel=1, colsample_bynode=1, colsample_bytree=1,\n",
      "              early_stopping_rounds=None, enable_categorical=False,\n",
      "              eval_metric=None, gamma=0, gpu_id=-1, grow_policy='depthwise',\n",
      "              importance_type=None, interaction_constraints='',\n",
      "              learning_rate=0.8, max_bin=256, max_cat_to_onehot=4,\n",
      "              max_delta_step=0, max_depth=5, max_leaves=0, min_child_weight=1,\n",
      "              missing=nan, monotone_constraints='()', n_estimators=500,\n",
      "              n_jobs=0, num_parallel_tree=1, predictor='auto', random_state=42,\n",
      "              reg_alpha=0, reg_lambda=1, ...)\n",
      "Acurácia média: 0.7053 (std=0.0317)\n",
      "Precisão média: 0.5869 (std=0.0562)\n",
      "Recall médio: 0.547 (std=0.0351)\n"
     ]
    }
   ],
   "source": [
    "# Vamos reservar um modelo treinado para fazer um ensemble\n",
    "\n",
    "xgb_clf = XGBClassifier(learning_rate=0.8, \n",
    "                        max_depth=5, \n",
    "                        n_estimators=500,\n",
    "                        \n",
    "                        random_state=42)\n",
    "\n",
    "xgb_clf.fit(X_train_tr, y_train)\n",
    "relatorio_cross_val(xgb_clf, X_train_tr, y_train)"
   ]
  },
  {
   "cell_type": "markdown",
   "metadata": {},
   "source": [
    "## Support-vector machine"
   ]
  },
  {
   "cell_type": "code",
   "execution_count": 238,
   "metadata": {
    "ExecuteTime": {
     "end_time": "2023-02-07T00:16:31.758596Z",
     "start_time": "2023-02-07T00:16:30.906747Z"
    }
   },
   "outputs": [
    {
     "name": "stdout",
     "output_type": "stream",
     "text": [
      "Modelo: SVC(class_weight='balanced', kernel='linear', probability=True)\n",
      "Acurácia média: 0.7558 (std=0.0287)\n",
      "Precisão média: 0.6456 (std=0.0469)\n",
      "Recall médio: 0.6732 (std=0.0367)\n"
     ]
    }
   ],
   "source": [
    "svc_clf = SVC(kernel='linear', C=1.0, probability=True, class_weight='balanced')\n",
    "svc_clf.fit(X_train_tr, y_train)\n",
    "relatorio_cross_val(svc_clf, X_train_tr, y_train)"
   ]
  },
  {
   "cell_type": "markdown",
   "metadata": {},
   "source": [
    "### Majority hard vote "
   ]
  },
  {
   "cell_type": "code",
   "execution_count": 239,
   "metadata": {
    "ExecuteTime": {
     "end_time": "2023-02-07T00:17:18.810768Z",
     "start_time": "2023-02-07T00:16:31.761823Z"
    }
   },
   "outputs": [
    {
     "name": "stdout",
     "output_type": "stream",
     "text": [
      "Modelo: VotingClassifier(estimators=[('forest',\n",
      "                              RandomForestClassifier(class_weight='balanced',\n",
      "                                                     max_depth=15,\n",
      "                                                     max_features=5,\n",
      "                                                     n_estimators=200,\n",
      "                                                     random_state=42)),\n",
      "                             ('xgb',\n",
      "                              XGBClassifier(base_score=0.5, booster='gbtree',\n",
      "                                            callbacks=None, colsample_bylevel=1,\n",
      "                                            colsample_bynode=1,\n",
      "                                            colsample_bytree=1,\n",
      "                                            early_stopping_rounds=None,\n",
      "                                            enable_categorical=False,\n",
      "                                            eval_metric=None, gamma=...\n",
      "                                            max_cat_to_onehot=4,\n",
      "                                            max_delta_step=0, max_depth=5,\n",
      "                                            max_leaves=0, min_child_weight=1,\n",
      "                                            missing=nan,\n",
      "                                            monotone_constraints='()',\n",
      "                                            n_estimators=500, n_jobs=0,\n",
      "                                            num_parallel_tree=1,\n",
      "                                            predictor='auto', random_state=42,\n",
      "                                            reg_alpha=0, reg_lambda=1, ...)),\n",
      "                             ('svc',\n",
      "                              SVC(class_weight='balanced', kernel='linear',\n",
      "                                  probability=True)),\n",
      "                             ('log',\n",
      "                              LogisticRegression(class_weight='balanced'))])\n",
      "Acurácia média: 0.7606 (std=0.0192)\n",
      "Precisão média: 0.6869 (std=0.0416)\n",
      "Recall médio: 0.5845 (std=0.0644)\n"
     ]
    }
   ],
   "source": [
    "estimators = [('forest', forest_clf), ('xgb', xgb_clf), ('svc', svc_clf), ('log', log_clf)]\n",
    "voting_hard_clf = VotingClassifier(estimators, voting='hard')\n",
    "voting_hard_clf.fit(X_train_tr, y_train)\n",
    "relatorio_cross_val(voting_hard_clf, X_train_tr, y_train)"
   ]
  },
  {
   "cell_type": "markdown",
   "metadata": {},
   "source": [
    "### Majority soft vote "
   ]
  },
  {
   "cell_type": "code",
   "execution_count": 240,
   "metadata": {
    "ExecuteTime": {
     "end_time": "2023-02-07T00:18:00.617146Z",
     "start_time": "2023-02-07T00:17:18.813458Z"
    }
   },
   "outputs": [
    {
     "name": "stdout",
     "output_type": "stream",
     "text": [
      "Modelo: VotingClassifier(estimators=[('forest',\n",
      "                              RandomForestClassifier(class_weight='balanced',\n",
      "                                                     max_depth=15,\n",
      "                                                     max_features=5,\n",
      "                                                     n_estimators=200,\n",
      "                                                     random_state=42)),\n",
      "                             ('xgb',\n",
      "                              XGBClassifier(base_score=0.5, booster='gbtree',\n",
      "                                            callbacks=None, colsample_bylevel=1,\n",
      "                                            colsample_bynode=1,\n",
      "                                            colsample_bytree=1,\n",
      "                                            early_stopping_rounds=None,\n",
      "                                            enable_categorical=False,\n",
      "                                            eval_metric=None, gamma=...\n",
      "                                            max_cat_to_onehot=4,\n",
      "                                            max_delta_step=0, max_depth=5,\n",
      "                                            max_leaves=0, min_child_weight=1,\n",
      "                                            missing=nan,\n",
      "                                            monotone_constraints='()',\n",
      "                                            n_estimators=500, n_jobs=0,\n",
      "                                            num_parallel_tree=1,\n",
      "                                            predictor='auto', random_state=42,\n",
      "                                            reg_alpha=0, reg_lambda=1, ...)),\n",
      "                             ('svc',\n",
      "                              SVC(class_weight='balanced', kernel='linear',\n",
      "                                  probability=True)),\n",
      "                             ('log',\n",
      "                              LogisticRegression(class_weight='balanced'))],\n",
      "                 voting='soft')\n",
      "Acurácia média: 0.7541 (std=0.0183)\n",
      "Precisão média: 0.6604 (std=0.0441)\n",
      "Recall médio: 0.6217 (std=0.0669)\n"
     ]
    }
   ],
   "source": [
    "estimators = [('forest', forest_clf), ('xgb', xgb_clf), ('svc', svc_clf), ('log', log_clf)]\n",
    "voting_soft_clf = VotingClassifier(estimators, voting='soft')\n",
    "voting_soft_clf.fit(X_train_tr, y_train)\n",
    "relatorio_cross_val(voting_soft_clf, X_train_tr, y_train)"
   ]
  },
  {
   "cell_type": "markdown",
   "metadata": {},
   "source": [
    "## Avaliação final do modelo"
   ]
  },
  {
   "cell_type": "code",
   "execution_count": 241,
   "metadata": {
    "ExecuteTime": {
     "end_time": "2023-02-07T00:18:00.633077Z",
     "start_time": "2023-02-07T00:18:00.619957Z"
    }
   },
   "outputs": [
    {
     "data": {
      "text/html": [
       "<div>\n",
       "<style scoped>\n",
       "    .dataframe tbody tr th:only-of-type {\n",
       "        vertical-align: middle;\n",
       "    }\n",
       "\n",
       "    .dataframe tbody tr th {\n",
       "        vertical-align: top;\n",
       "    }\n",
       "\n",
       "    .dataframe thead th {\n",
       "        text-align: right;\n",
       "    }\n",
       "</style>\n",
       "<table border=\"1\" class=\"dataframe\">\n",
       "  <thead>\n",
       "    <tr style=\"text-align: right;\">\n",
       "      <th></th>\n",
       "      <th>Pregnancies</th>\n",
       "      <th>Glucose</th>\n",
       "      <th>BloodPressure</th>\n",
       "      <th>SkinThickness</th>\n",
       "      <th>Insulin</th>\n",
       "      <th>BMI</th>\n",
       "      <th>DiabetesPedigreeFunction</th>\n",
       "      <th>Age</th>\n",
       "    </tr>\n",
       "  </thead>\n",
       "  <tbody>\n",
       "    <tr>\n",
       "      <th>44</th>\n",
       "      <td>7</td>\n",
       "      <td>159.0</td>\n",
       "      <td>64.0</td>\n",
       "      <td>NaN</td>\n",
       "      <td>NaN</td>\n",
       "      <td>27.400000</td>\n",
       "      <td>0.294</td>\n",
       "      <td>40</td>\n",
       "    </tr>\n",
       "    <tr>\n",
       "      <th>672</th>\n",
       "      <td>10</td>\n",
       "      <td>68.0</td>\n",
       "      <td>106.0</td>\n",
       "      <td>23.0</td>\n",
       "      <td>49.0</td>\n",
       "      <td>35.500000</td>\n",
       "      <td>0.285</td>\n",
       "      <td>47</td>\n",
       "    </tr>\n",
       "    <tr>\n",
       "      <th>700</th>\n",
       "      <td>2</td>\n",
       "      <td>122.0</td>\n",
       "      <td>76.0</td>\n",
       "      <td>27.0</td>\n",
       "      <td>200.0</td>\n",
       "      <td>35.900002</td>\n",
       "      <td>0.483</td>\n",
       "      <td>26</td>\n",
       "    </tr>\n",
       "    <tr>\n",
       "      <th>630</th>\n",
       "      <td>7</td>\n",
       "      <td>114.0</td>\n",
       "      <td>64.0</td>\n",
       "      <td>NaN</td>\n",
       "      <td>NaN</td>\n",
       "      <td>27.400000</td>\n",
       "      <td>0.732</td>\n",
       "      <td>34</td>\n",
       "    </tr>\n",
       "    <tr>\n",
       "      <th>81</th>\n",
       "      <td>2</td>\n",
       "      <td>74.0</td>\n",
       "      <td>NaN</td>\n",
       "      <td>NaN</td>\n",
       "      <td>NaN</td>\n",
       "      <td>NaN</td>\n",
       "      <td>0.102</td>\n",
       "      <td>22</td>\n",
       "    </tr>\n",
       "  </tbody>\n",
       "</table>\n",
       "</div>"
      ],
      "text/plain": [
       "     Pregnancies  Glucose  BloodPressure  SkinThickness  Insulin        BMI  \\\n",
       "44             7    159.0           64.0            NaN      NaN  27.400000   \n",
       "672           10     68.0          106.0           23.0     49.0  35.500000   \n",
       "700            2    122.0           76.0           27.0    200.0  35.900002   \n",
       "630            7    114.0           64.0            NaN      NaN  27.400000   \n",
       "81             2     74.0            NaN            NaN      NaN        NaN   \n",
       "\n",
       "     DiabetesPedigreeFunction  Age  \n",
       "44                      0.294   40  \n",
       "672                     0.285   47  \n",
       "700                     0.483   26  \n",
       "630                     0.732   34  \n",
       "81                      0.102   22  "
      ]
     },
     "execution_count": 241,
     "metadata": {},
     "output_type": "execute_result"
    }
   ],
   "source": [
    "X_test.head()"
   ]
  },
  {
   "cell_type": "code",
   "execution_count": 242,
   "metadata": {
    "ExecuteTime": {
     "end_time": "2023-02-07T00:18:00.650800Z",
     "start_time": "2023-02-07T00:18:00.635124Z"
    }
   },
   "outputs": [
    {
     "data": {
      "text/html": [
       "<style>#sk-container-id-1 {color: black;background-color: white;}#sk-container-id-1 pre{padding: 0;}#sk-container-id-1 div.sk-toggleable {background-color: white;}#sk-container-id-1 label.sk-toggleable__label {cursor: pointer;display: block;width: 100%;margin-bottom: 0;padding: 0.3em;box-sizing: border-box;text-align: center;}#sk-container-id-1 label.sk-toggleable__label-arrow:before {content: \"▸\";float: left;margin-right: 0.25em;color: #696969;}#sk-container-id-1 label.sk-toggleable__label-arrow:hover:before {color: black;}#sk-container-id-1 div.sk-estimator:hover label.sk-toggleable__label-arrow:before {color: black;}#sk-container-id-1 div.sk-toggleable__content {max-height: 0;max-width: 0;overflow: hidden;text-align: left;background-color: #f0f8ff;}#sk-container-id-1 div.sk-toggleable__content pre {margin: 0.2em;color: black;border-radius: 0.25em;background-color: #f0f8ff;}#sk-container-id-1 input.sk-toggleable__control:checked~div.sk-toggleable__content {max-height: 200px;max-width: 100%;overflow: auto;}#sk-container-id-1 input.sk-toggleable__control:checked~label.sk-toggleable__label-arrow:before {content: \"▾\";}#sk-container-id-1 div.sk-estimator input.sk-toggleable__control:checked~label.sk-toggleable__label {background-color: #d4ebff;}#sk-container-id-1 div.sk-label input.sk-toggleable__control:checked~label.sk-toggleable__label {background-color: #d4ebff;}#sk-container-id-1 input.sk-hidden--visually {border: 0;clip: rect(1px 1px 1px 1px);clip: rect(1px, 1px, 1px, 1px);height: 1px;margin: -1px;overflow: hidden;padding: 0;position: absolute;width: 1px;}#sk-container-id-1 div.sk-estimator {font-family: monospace;background-color: #f0f8ff;border: 1px dotted black;border-radius: 0.25em;box-sizing: border-box;margin-bottom: 0.5em;}#sk-container-id-1 div.sk-estimator:hover {background-color: #d4ebff;}#sk-container-id-1 div.sk-parallel-item::after {content: \"\";width: 100%;border-bottom: 1px solid gray;flex-grow: 1;}#sk-container-id-1 div.sk-label:hover label.sk-toggleable__label {background-color: #d4ebff;}#sk-container-id-1 div.sk-serial::before {content: \"\";position: absolute;border-left: 1px solid gray;box-sizing: border-box;top: 0;bottom: 0;left: 50%;z-index: 0;}#sk-container-id-1 div.sk-serial {display: flex;flex-direction: column;align-items: center;background-color: white;padding-right: 0.2em;padding-left: 0.2em;position: relative;}#sk-container-id-1 div.sk-item {position: relative;z-index: 1;}#sk-container-id-1 div.sk-parallel {display: flex;align-items: stretch;justify-content: center;background-color: white;position: relative;}#sk-container-id-1 div.sk-item::before, #sk-container-id-1 div.sk-parallel-item::before {content: \"\";position: absolute;border-left: 1px solid gray;box-sizing: border-box;top: 0;bottom: 0;left: 50%;z-index: -1;}#sk-container-id-1 div.sk-parallel-item {display: flex;flex-direction: column;z-index: 1;position: relative;background-color: white;}#sk-container-id-1 div.sk-parallel-item:first-child::after {align-self: flex-end;width: 50%;}#sk-container-id-1 div.sk-parallel-item:last-child::after {align-self: flex-start;width: 50%;}#sk-container-id-1 div.sk-parallel-item:only-child::after {width: 0;}#sk-container-id-1 div.sk-dashed-wrapped {border: 1px dashed gray;margin: 0 0.4em 0.5em 0.4em;box-sizing: border-box;padding-bottom: 0.4em;background-color: white;}#sk-container-id-1 div.sk-label label {font-family: monospace;font-weight: bold;display: inline-block;line-height: 1.2em;}#sk-container-id-1 div.sk-label-container {text-align: center;}#sk-container-id-1 div.sk-container {/* jupyter's `normalize.less` sets `[hidden] { display: none; }` but bootstrap.min.css set `[hidden] { display: none !important; }` so we also need the `!important` here to be able to override the default hidden behavior on the sphinx rendered scikit-learn.org. See: https://github.com/scikit-learn/scikit-learn/issues/21755 */display: inline-block !important;position: relative;}#sk-container-id-1 div.sk-text-repr-fallback {display: none;}</style><div id=\"sk-container-id-1\" class=\"sk-top-container\"><div class=\"sk-text-repr-fallback\"><pre>Pipeline(steps=[(&#x27;imputer&#x27;, SimpleImputer()), (&#x27;scaler&#x27;, StandardScaler())])</pre><b>In a Jupyter environment, please rerun this cell to show the HTML representation or trust the notebook. <br />On GitHub, the HTML representation is unable to render, please try loading this page with nbviewer.org.</b></div><div class=\"sk-container\" hidden><div class=\"sk-item sk-dashed-wrapped\"><div class=\"sk-label-container\"><div class=\"sk-label sk-toggleable\"><input class=\"sk-toggleable__control sk-hidden--visually\" id=\"sk-estimator-id-1\" type=\"checkbox\" ><label for=\"sk-estimator-id-1\" class=\"sk-toggleable__label sk-toggleable__label-arrow\">Pipeline</label><div class=\"sk-toggleable__content\"><pre>Pipeline(steps=[(&#x27;imputer&#x27;, SimpleImputer()), (&#x27;scaler&#x27;, StandardScaler())])</pre></div></div></div><div class=\"sk-serial\"><div class=\"sk-item\"><div class=\"sk-estimator sk-toggleable\"><input class=\"sk-toggleable__control sk-hidden--visually\" id=\"sk-estimator-id-2\" type=\"checkbox\" ><label for=\"sk-estimator-id-2\" class=\"sk-toggleable__label sk-toggleable__label-arrow\">SimpleImputer</label><div class=\"sk-toggleable__content\"><pre>SimpleImputer()</pre></div></div></div><div class=\"sk-item\"><div class=\"sk-estimator sk-toggleable\"><input class=\"sk-toggleable__control sk-hidden--visually\" id=\"sk-estimator-id-3\" type=\"checkbox\" ><label for=\"sk-estimator-id-3\" class=\"sk-toggleable__label sk-toggleable__label-arrow\">StandardScaler</label><div class=\"sk-toggleable__content\"><pre>StandardScaler()</pre></div></div></div></div></div></div></div>"
      ],
      "text/plain": [
       "Pipeline(steps=[('imputer', SimpleImputer()), ('scaler', StandardScaler())])"
      ]
     },
     "execution_count": 242,
     "metadata": {},
     "output_type": "execute_result"
    }
   ],
   "source": [
    "treatment_pipeline"
   ]
  },
  {
   "cell_type": "code",
   "execution_count": 243,
   "metadata": {
    "ExecuteTime": {
     "end_time": "2023-02-07T00:18:00.663394Z",
     "start_time": "2023-02-07T00:18:00.653747Z"
    }
   },
   "outputs": [],
   "source": [
    "# Tratamento dos dados de teste\n",
    "\n",
    "X_test_tr = treatment_pipeline.transform(X_test)"
   ]
  },
  {
   "cell_type": "code",
   "execution_count": 244,
   "metadata": {
    "ExecuteTime": {
     "end_time": "2023-02-07T00:18:00.674357Z",
     "start_time": "2023-02-07T00:18:00.666219Z"
    }
   },
   "outputs": [
    {
     "data": {
      "text/plain": [
       "array([[ 0.96054099,  1.24423407, -0.6641221 , ..., -0.74046812,\n",
       "        -0.55579092,  0.56103382],\n",
       "       [ 1.86648903, -1.79143019,  2.76023161, ...,  0.44746612,\n",
       "        -0.58306108,  1.15306018],\n",
       "       [-0.5493724 ,  0.009953  ,  0.31426467, ...,  0.50612976,\n",
       "         0.01688225, -0.6230189 ],\n",
       "       ...,\n",
       "       [-0.5493724 , -1.32440492, -1.64250887, ..., -0.57914367,\n",
       "         3.70138243, -0.70759409],\n",
       "       [ 0.05459296,  2.07820777,  0.47732914, ...,  0.66745393,\n",
       "        -0.64669142, -0.20014293],\n",
       "       [-0.85135507, -1.69135335,  0.47732914, ...,  0.11015158,\n",
       "        -0.16794882, -1.04589487]])"
      ]
     },
     "execution_count": 244,
     "metadata": {},
     "output_type": "execute_result"
    }
   ],
   "source": [
    "X_test_tr"
   ]
  },
  {
   "cell_type": "code",
   "execution_count": 245,
   "metadata": {
    "ExecuteTime": {
     "end_time": "2023-02-07T00:18:00.681705Z",
     "start_time": "2023-02-07T00:18:00.676622Z"
    }
   },
   "outputs": [],
   "source": [
    "def metrics_report(y_test, y_pred):\n",
    "    accuracy = np.round(accuracy_score(y_test, y_pred), 4)\n",
    "    precision = np.round(precision_score(y_test, y_pred), 4)\n",
    "    recall = np.round(recall_score(y_test, y_pred), 4)\n",
    "    print(f\"Accuracy score: {accuracy}\")\n",
    "    print(f\"Precision score: {precision}\")\n",
    "    print(f\"Recall score: {recall}\")\n",
    "    print(\"-------------------------- \\n\")"
   ]
  },
  {
   "cell_type": "code",
   "execution_count": 246,
   "metadata": {
    "ExecuteTime": {
     "end_time": "2023-02-07T00:18:00.878484Z",
     "start_time": "2023-02-07T00:18:00.684463Z"
    },
    "scrolled": false
   },
   "outputs": [
    {
     "name": "stdout",
     "output_type": "stream",
     "text": [
      "*Results for Random Forest \n",
      "\n",
      "Accuracy score: 0.7403\n",
      "Precision score: 0.6591\n",
      "Recall score: 0.537\n",
      "-------------------------- \n",
      "\n",
      "*Results for XGBoost \n",
      "\n",
      "Accuracy score: 0.7403\n",
      "Precision score: 0.64\n",
      "Recall score: 0.5926\n",
      "-------------------------- \n",
      "\n",
      "*Results for SVM \n",
      "\n",
      "Accuracy score: 0.7273\n",
      "Precision score: 0.5938\n",
      "Recall score: 0.7037\n",
      "-------------------------- \n",
      "\n",
      "*Results for Log. Reg. \n",
      "\n",
      "Accuracy score: 0.7338\n",
      "Precision score: 0.6032\n",
      "Recall score: 0.7037\n",
      "-------------------------- \n",
      "\n",
      "*Results for Hard voting \n",
      "\n",
      "Accuracy score: 0.7338\n",
      "Precision score: 0.6444\n",
      "Recall score: 0.537\n",
      "-------------------------- \n",
      "\n",
      "*Results for Soft voting \n",
      "\n",
      "Accuracy score: 0.7532\n",
      "Precision score: 0.6667\n",
      "Recall score: 0.5926\n",
      "-------------------------- \n",
      "\n"
     ]
    }
   ],
   "source": [
    "models = [forest_clf, xgb_clf, svc_clf, log_clf, voting_hard_clf, voting_soft_clf]\n",
    "models_names = [\"Random Forest\", \"XGBoost\", \"SVM\", \"Log. Reg.\", \"Hard voting\", \"Soft voting\"]\n",
    "\n",
    "for name, model in zip(models_names, models):\n",
    "    y_pred = model.predict(X_test_tr)\n",
    "    print(f\"*Results for {name} \\n\")\n",
    "    metrics_report(y_test, y_pred)"
   ]
  },
  {
   "cell_type": "markdown",
   "metadata": {},
   "source": [
    "# Conclusões"
   ]
  },
  {
   "cell_type": "code",
   "execution_count": 247,
   "metadata": {
    "ExecuteTime": {
     "end_time": "2023-02-07T00:18:00.883007Z",
     "start_time": "2023-02-07T00:18:00.880561Z"
    }
   },
   "outputs": [],
   "source": [
    "# Curva e ajuste recall-precisão\n",
    "# Curva ROC\n",
    "# Métricas"
   ]
  },
  {
   "cell_type": "code",
   "execution_count": 248,
   "metadata": {
    "ExecuteTime": {
     "end_time": "2023-02-07T00:18:01.110435Z",
     "start_time": "2023-02-07T00:18:00.885218Z"
    }
   },
   "outputs": [
    {
     "data": {
      "image/png": "[encoded data removed]",
      "text/plain": [
       "<Figure size 432x288 with 2 Axes>"
      ]
     },
     "metadata": {
      "needs_background": "light"
     },
     "output_type": "display_data"
    }
   ],
   "source": [
    "cm_ml = confusion_matrix(y_test, y_pred)\n",
    "ConfusionMatrixDisplay(cm_ml).plot();"
   ]
  },
  {
   "cell_type": "code",
   "execution_count": 249,
   "metadata": {
    "ExecuteTime": {
     "end_time": "2023-02-07T00:18:01.139529Z",
     "start_time": "2023-02-07T00:18:01.117638Z"
    }
   },
   "outputs": [],
   "source": [
    "# Ajuste de precisão/recall\n",
    "\n",
    "from sklearn.metrics import precision_recall_curve\n",
    "\n",
    "y_scores = cross_val_predict(log_clf, X_test_tr, y_test, cv=3, method=\"decision_function\")\n",
    "precisions, recalls, thresholds = precision_recall_curve(y_test, y_scores)"
   ]
  },
  {
   "cell_type": "code",
   "execution_count": 250,
   "metadata": {
    "ExecuteTime": {
     "end_time": "2023-02-07T00:18:01.353755Z",
     "start_time": "2023-02-07T00:18:01.142649Z"
    }
   },
   "outputs": [
    {
     "data": {
      "image/png": "[encoded data removed]",
      "text/plain": [
       "<Figure size 432x288 with 1 Axes>"
      ]
     },
     "metadata": {
      "needs_background": "light"
     },
     "output_type": "display_data"
    }
   ],
   "source": [
    "plt.plot(thresholds, precisions[:-1], label='Precision')\n",
    "plt.plot(thresholds, recalls[:-1], label='Recall')\n",
    "plt.legend()\n",
    "plt.show()"
   ]
  },
  {
   "cell_type": "code",
   "execution_count": 251,
   "metadata": {
    "ExecuteTime": {
     "end_time": "2023-02-07T00:18:01.545809Z",
     "start_time": "2023-02-07T00:18:01.356272Z"
    }
   },
   "outputs": [
    {
     "data": {
      "image/png": "[encoded data removed]",
      "text/plain": [
       "<Figure size 432x288 with 1 Axes>"
      ]
     },
     "metadata": {
      "needs_background": "light"
     },
     "output_type": "display_data"
    }
   ],
   "source": [
    "plt.plot(precisions, recalls)\n",
    "plt.ylabel('Precisão')\n",
    "plt.xlabel('Recall')\n",
    "plt.show()"
   ]
  },
  {
   "cell_type": "code",
   "execution_count": 252,
   "metadata": {
    "ExecuteTime": {
     "end_time": "2023-02-07T00:18:01.552628Z",
     "start_time": "2023-02-07T00:18:01.548102Z"
    }
   },
   "outputs": [],
   "source": [
    "# Considerar drop de features: Insulin e SkinThickness\n",
    "# Curva roc \n",
    "# Avaliar matriz de confusão e impacto financeiro do modelo"
   ]
  }
 ],
 "metadata": {
  "kernelspec": {
   "display_name": "Python 3",
   "language": "python",
   "name": "python3"
  },
  "language_info": {
   "codemirror_mode": {
    "name": "ipython",
    "version": 3
   },
   "file_extension": ".py",
   "mimetype": "text/x-python",
   "name": "python",
   "nbconvert_exporter": "python",
   "pygments_lexer": "ipython3",
   "version": "3.8.10"
  },
  "varInspector": {
   "cols": {
    "lenName": 16,
    "lenType": 16,
    "lenVar": 40
   },
   "kernels_config": {
    "python": {
     "delete_cmd_postfix": "",
     "delete_cmd_prefix": "del ",
     "library": "var_list.py",
     "varRefreshCmd": "print(var_dic_list())"
    },
    "r": {
     "delete_cmd_postfix": ") ",
     "delete_cmd_prefix": "rm(",
     "library": "var_list.r",
     "varRefreshCmd": "cat(var_dic_list()) "
    }
   },
   "types_to_exclude": [
    "module",
    "function",
    "builtin_function_or_method",
    "instance",
    "_Feature"
   ],
   "window_display": false
  }
 },
 "nbformat": 4,
 "nbformat_minor": 4
}
