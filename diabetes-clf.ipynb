{
 "cells": [
  {
   "cell_type": "markdown",
   "metadata": {},
   "source": [
    "# Modelo de previsão de diabetes \n",
    "\n",
    "![diabetes](files/img/header.jpeg)"
   ]
  },
  {
   "cell_type": "markdown",
   "metadata": {},
   "source": [
    "## Introdução\n",
    "\n",
    "Esse projeto tem como objetivo prever o diagnóstico de diabetes de um paciente dado um conjunto de dados de saúde. Temos então um problema de **classificação supervisionado**.\n"
   ]
  },
  {
   "cell_type": "markdown",
   "metadata": {},
   "source": [
    "## Sobre os dados\n",
    "\n",
    "\n",
    "Os dados são originalmente do estudo do *National Institute of Diabetes and Digestive and Kidney Diseases* e foram discutidos [neste artigo](http://). Os dados podem ser encontrados [aqui](https://www.kaggle.com/datasets/mathchi/diabetes-data-set). Todos os dados são de pacientes mulheres de pelo menos 21 anos de idade. As *features* são:\n",
    "\n",
    "* Pregnancies: Número de eventos de gravidez; \n",
    "* Glucose: Concentração de glicose plasmática;\n",
    "* BloodPressure: Pressão sanguínea diastólica ($mmHg$);\n",
    "* SkinThickness: Grossura da dobra da pele do tríceps ($mm$);\n",
    "* Insulin: Insulina sérica ($\\mu U/mL$);\n",
    "* BMI: *Body mass index*, Peso em $kg$ / (altura em $m$)$^2$;\n",
    "* DiabetesPedigreeFunction: mede a possibilidade de diabetes dado o histórico familiar;\n",
    "* Age: Idade (anos);\n",
    "* Outcome: Target, 0 para não-diabético, 1 para diabético.\n",
    "\n"
   ]
  },
  {
   "cell_type": "markdown",
   "metadata": {},
   "source": [
    "## Problema de negócio e avaliação do modelo\n",
    "\n",
    "O custo de exame e de prevenção são significativamente menores que os custos de tratamento da diabetes. Além disso, a detecção precoce facilita o tratamento (https://www.previva.com.br/reduzir-custo-do-diabetes/).\n",
    "\n",
    "Considerando essas informações, a métrica que utilizaremos para avaliar o modelo será o **recall**, uma vez que queremos diagnosticar o máximo de pacientes, ainda que perdendo precisão. Compararemos nossos resultados com um modelo empírico baseado na concentração de glicose. \n",
    "\n",
    "Utilizaremos os seguintes dados fictícios para simular o gasto público: o custo de tratamento é de $R\\$$ 200/paciente x mês, enquanto o custo de exame/prevenção é de $R\\$$ 50,00 / paciente x mês."
   ]
  },
  {
   "cell_type": "markdown",
   "metadata": {},
   "source": [
    "## Importando e explorando os dados"
   ]
  },
  {
   "cell_type": "code",
   "execution_count": 1,
   "metadata": {
    "ExecuteTime": {
     "end_time": "2023-01-23T21:00:36.711895Z",
     "start_time": "2023-01-23T21:00:34.846235Z"
    }
   },
   "outputs": [],
   "source": [
    "# Importando bibliotecas\n",
    "\n",
    "import numpy as np\n",
    "import pandas as pd\n",
    "import seaborn as sns\n",
    "import matplotlib\n",
    "import matplotlib.pyplot as plt\n",
    "from sklearn.model_selection import train_test_split, cross_val_score, GridSearchCV, cross_val_predict\n",
    "from sklearn.linear_model import LogisticRegression\n",
    "from sklearn.ensemble import RandomForestClassifier\n",
    "from sklearn.tree import DecisionTreeClassifier \n",
    "from sklearn import tree\n",
    "from sklearn.metrics import accuracy_score, precision_score, recall_score, f1_score\n",
    "from sklearn.pipeline import Pipeline\n",
    "from sklearn.impute import KNNImputer, SimpleImputer\n",
    "from sklearn.preprocessing import StandardScaler, KBinsDiscretizer"
   ]
  },
  {
   "cell_type": "code",
   "execution_count": 2,
   "metadata": {
    "ExecuteTime": {
     "end_time": "2023-01-23T21:00:36.749338Z",
     "start_time": "2023-01-23T21:00:36.723947Z"
    }
   },
   "outputs": [],
   "source": [
    "data = pd.read_csv(\"data/diabetes.csv\")"
   ]
  },
  {
   "cell_type": "code",
   "execution_count": 3,
   "metadata": {
    "ExecuteTime": {
     "end_time": "2023-01-23T21:00:36.810878Z",
     "start_time": "2023-01-23T21:00:36.786361Z"
    }
   },
   "outputs": [
    {
     "data": {
      "text/html": [
       "<div>\n",
       "<style scoped>\n",
       "    .dataframe tbody tr th:only-of-type {\n",
       "        vertical-align: middle;\n",
       "    }\n",
       "\n",
       "    .dataframe tbody tr th {\n",
       "        vertical-align: top;\n",
       "    }\n",
       "\n",
       "    .dataframe thead th {\n",
       "        text-align: right;\n",
       "    }\n",
       "</style>\n",
       "<table border=\"1\" class=\"dataframe\">\n",
       "  <thead>\n",
       "    <tr style=\"text-align: right;\">\n",
       "      <th></th>\n",
       "      <th>Pregnancies</th>\n",
       "      <th>Glucose</th>\n",
       "      <th>BloodPressure</th>\n",
       "      <th>SkinThickness</th>\n",
       "      <th>Insulin</th>\n",
       "      <th>BMI</th>\n",
       "      <th>DiabetesPedigreeFunction</th>\n",
       "      <th>Age</th>\n",
       "      <th>Outcome</th>\n",
       "    </tr>\n",
       "  </thead>\n",
       "  <tbody>\n",
       "    <tr>\n",
       "      <th>0</th>\n",
       "      <td>6</td>\n",
       "      <td>148</td>\n",
       "      <td>72</td>\n",
       "      <td>35</td>\n",
       "      <td>0</td>\n",
       "      <td>33.6</td>\n",
       "      <td>0.627</td>\n",
       "      <td>50</td>\n",
       "      <td>1</td>\n",
       "    </tr>\n",
       "    <tr>\n",
       "      <th>1</th>\n",
       "      <td>1</td>\n",
       "      <td>85</td>\n",
       "      <td>66</td>\n",
       "      <td>29</td>\n",
       "      <td>0</td>\n",
       "      <td>26.6</td>\n",
       "      <td>0.351</td>\n",
       "      <td>31</td>\n",
       "      <td>0</td>\n",
       "    </tr>\n",
       "    <tr>\n",
       "      <th>2</th>\n",
       "      <td>8</td>\n",
       "      <td>183</td>\n",
       "      <td>64</td>\n",
       "      <td>0</td>\n",
       "      <td>0</td>\n",
       "      <td>23.3</td>\n",
       "      <td>0.672</td>\n",
       "      <td>32</td>\n",
       "      <td>1</td>\n",
       "    </tr>\n",
       "    <tr>\n",
       "      <th>3</th>\n",
       "      <td>1</td>\n",
       "      <td>89</td>\n",
       "      <td>66</td>\n",
       "      <td>23</td>\n",
       "      <td>94</td>\n",
       "      <td>28.1</td>\n",
       "      <td>0.167</td>\n",
       "      <td>21</td>\n",
       "      <td>0</td>\n",
       "    </tr>\n",
       "    <tr>\n",
       "      <th>4</th>\n",
       "      <td>0</td>\n",
       "      <td>137</td>\n",
       "      <td>40</td>\n",
       "      <td>35</td>\n",
       "      <td>168</td>\n",
       "      <td>43.1</td>\n",
       "      <td>2.288</td>\n",
       "      <td>33</td>\n",
       "      <td>1</td>\n",
       "    </tr>\n",
       "  </tbody>\n",
       "</table>\n",
       "</div>"
      ],
      "text/plain": [
       "   Pregnancies  Glucose  BloodPressure  SkinThickness  Insulin   BMI  \\\n",
       "0            6      148             72             35        0  33.6   \n",
       "1            1       85             66             29        0  26.6   \n",
       "2            8      183             64              0        0  23.3   \n",
       "3            1       89             66             23       94  28.1   \n",
       "4            0      137             40             35      168  43.1   \n",
       "\n",
       "   DiabetesPedigreeFunction  Age  Outcome  \n",
       "0                     0.627   50        1  \n",
       "1                     0.351   31        0  \n",
       "2                     0.672   32        1  \n",
       "3                     0.167   21        0  \n",
       "4                     2.288   33        1  "
      ]
     },
     "execution_count": 3,
     "metadata": {},
     "output_type": "execute_result"
    }
   ],
   "source": [
    "data.head()"
   ]
  },
  {
   "cell_type": "code",
   "execution_count": 4,
   "metadata": {
    "ExecuteTime": {
     "end_time": "2023-01-23T21:00:37.175792Z",
     "start_time": "2023-01-23T21:00:37.123906Z"
    }
   },
   "outputs": [
    {
     "data": {
      "text/html": [
       "<div>\n",
       "<style scoped>\n",
       "    .dataframe tbody tr th:only-of-type {\n",
       "        vertical-align: middle;\n",
       "    }\n",
       "\n",
       "    .dataframe tbody tr th {\n",
       "        vertical-align: top;\n",
       "    }\n",
       "\n",
       "    .dataframe thead th {\n",
       "        text-align: right;\n",
       "    }\n",
       "</style>\n",
       "<table border=\"1\" class=\"dataframe\">\n",
       "  <thead>\n",
       "    <tr style=\"text-align: right;\">\n",
       "      <th></th>\n",
       "      <th>Pregnancies</th>\n",
       "      <th>Glucose</th>\n",
       "      <th>BloodPressure</th>\n",
       "      <th>SkinThickness</th>\n",
       "      <th>Insulin</th>\n",
       "      <th>BMI</th>\n",
       "      <th>DiabetesPedigreeFunction</th>\n",
       "      <th>Age</th>\n",
       "      <th>Outcome</th>\n",
       "    </tr>\n",
       "  </thead>\n",
       "  <tbody>\n",
       "    <tr>\n",
       "      <th>count</th>\n",
       "      <td>768.000000</td>\n",
       "      <td>768.000000</td>\n",
       "      <td>768.000000</td>\n",
       "      <td>768.000000</td>\n",
       "      <td>768.000000</td>\n",
       "      <td>768.000000</td>\n",
       "      <td>768.000000</td>\n",
       "      <td>768.000000</td>\n",
       "      <td>768.000000</td>\n",
       "    </tr>\n",
       "    <tr>\n",
       "      <th>mean</th>\n",
       "      <td>3.845052</td>\n",
       "      <td>120.894531</td>\n",
       "      <td>69.105469</td>\n",
       "      <td>20.536458</td>\n",
       "      <td>79.799479</td>\n",
       "      <td>31.992578</td>\n",
       "      <td>0.471876</td>\n",
       "      <td>33.240885</td>\n",
       "      <td>0.348958</td>\n",
       "    </tr>\n",
       "    <tr>\n",
       "      <th>std</th>\n",
       "      <td>3.369578</td>\n",
       "      <td>31.972618</td>\n",
       "      <td>19.355807</td>\n",
       "      <td>15.952218</td>\n",
       "      <td>115.244002</td>\n",
       "      <td>7.884160</td>\n",
       "      <td>0.331329</td>\n",
       "      <td>11.760232</td>\n",
       "      <td>0.476951</td>\n",
       "    </tr>\n",
       "    <tr>\n",
       "      <th>min</th>\n",
       "      <td>0.000000</td>\n",
       "      <td>0.000000</td>\n",
       "      <td>0.000000</td>\n",
       "      <td>0.000000</td>\n",
       "      <td>0.000000</td>\n",
       "      <td>0.000000</td>\n",
       "      <td>0.078000</td>\n",
       "      <td>21.000000</td>\n",
       "      <td>0.000000</td>\n",
       "    </tr>\n",
       "    <tr>\n",
       "      <th>25%</th>\n",
       "      <td>1.000000</td>\n",
       "      <td>99.000000</td>\n",
       "      <td>62.000000</td>\n",
       "      <td>0.000000</td>\n",
       "      <td>0.000000</td>\n",
       "      <td>27.300000</td>\n",
       "      <td>0.243750</td>\n",
       "      <td>24.000000</td>\n",
       "      <td>0.000000</td>\n",
       "    </tr>\n",
       "    <tr>\n",
       "      <th>50%</th>\n",
       "      <td>3.000000</td>\n",
       "      <td>117.000000</td>\n",
       "      <td>72.000000</td>\n",
       "      <td>23.000000</td>\n",
       "      <td>30.500000</td>\n",
       "      <td>32.000000</td>\n",
       "      <td>0.372500</td>\n",
       "      <td>29.000000</td>\n",
       "      <td>0.000000</td>\n",
       "    </tr>\n",
       "    <tr>\n",
       "      <th>75%</th>\n",
       "      <td>6.000000</td>\n",
       "      <td>140.250000</td>\n",
       "      <td>80.000000</td>\n",
       "      <td>32.000000</td>\n",
       "      <td>127.250000</td>\n",
       "      <td>36.600000</td>\n",
       "      <td>0.626250</td>\n",
       "      <td>41.000000</td>\n",
       "      <td>1.000000</td>\n",
       "    </tr>\n",
       "    <tr>\n",
       "      <th>max</th>\n",
       "      <td>17.000000</td>\n",
       "      <td>199.000000</td>\n",
       "      <td>122.000000</td>\n",
       "      <td>99.000000</td>\n",
       "      <td>846.000000</td>\n",
       "      <td>67.100000</td>\n",
       "      <td>2.420000</td>\n",
       "      <td>81.000000</td>\n",
       "      <td>1.000000</td>\n",
       "    </tr>\n",
       "  </tbody>\n",
       "</table>\n",
       "</div>"
      ],
      "text/plain": [
       "       Pregnancies     Glucose  BloodPressure  SkinThickness     Insulin  \\\n",
       "count   768.000000  768.000000     768.000000     768.000000  768.000000   \n",
       "mean      3.845052  120.894531      69.105469      20.536458   79.799479   \n",
       "std       3.369578   31.972618      19.355807      15.952218  115.244002   \n",
       "min       0.000000    0.000000       0.000000       0.000000    0.000000   \n",
       "25%       1.000000   99.000000      62.000000       0.000000    0.000000   \n",
       "50%       3.000000  117.000000      72.000000      23.000000   30.500000   \n",
       "75%       6.000000  140.250000      80.000000      32.000000  127.250000   \n",
       "max      17.000000  199.000000     122.000000      99.000000  846.000000   \n",
       "\n",
       "              BMI  DiabetesPedigreeFunction         Age     Outcome  \n",
       "count  768.000000                768.000000  768.000000  768.000000  \n",
       "mean    31.992578                  0.471876   33.240885    0.348958  \n",
       "std      7.884160                  0.331329   11.760232    0.476951  \n",
       "min      0.000000                  0.078000   21.000000    0.000000  \n",
       "25%     27.300000                  0.243750   24.000000    0.000000  \n",
       "50%     32.000000                  0.372500   29.000000    0.000000  \n",
       "75%     36.600000                  0.626250   41.000000    1.000000  \n",
       "max     67.100000                  2.420000   81.000000    1.000000  "
      ]
     },
     "execution_count": 4,
     "metadata": {},
     "output_type": "execute_result"
    }
   ],
   "source": [
    "data.describe()"
   ]
  },
  {
   "cell_type": "code",
   "execution_count": 5,
   "metadata": {
    "ExecuteTime": {
     "end_time": "2023-01-23T21:00:37.638105Z",
     "start_time": "2023-01-23T21:00:37.619206Z"
    },
    "scrolled": false
   },
   "outputs": [
    {
     "name": "stdout",
     "output_type": "stream",
     "text": [
      "<class 'pandas.core.frame.DataFrame'>\n",
      "RangeIndex: 768 entries, 0 to 767\n",
      "Data columns (total 9 columns):\n",
      " #   Column                    Non-Null Count  Dtype  \n",
      "---  ------                    --------------  -----  \n",
      " 0   Pregnancies               768 non-null    int64  \n",
      " 1   Glucose                   768 non-null    int64  \n",
      " 2   BloodPressure             768 non-null    int64  \n",
      " 3   SkinThickness             768 non-null    int64  \n",
      " 4   Insulin                   768 non-null    int64  \n",
      " 5   BMI                       768 non-null    float64\n",
      " 6   DiabetesPedigreeFunction  768 non-null    float64\n",
      " 7   Age                       768 non-null    int64  \n",
      " 8   Outcome                   768 non-null    int64  \n",
      "dtypes: float64(2), int64(7)\n",
      "memory usage: 54.1 KB\n"
     ]
    }
   ],
   "source": [
    "data.info()"
   ]
  },
  {
   "cell_type": "markdown",
   "metadata": {},
   "source": [
    "Não que seja necessário nesse caso, mas podemos reduzir o uso de memória alterando os dtypes."
   ]
  },
  {
   "cell_type": "code",
   "execution_count": 6,
   "metadata": {
    "ExecuteTime": {
     "end_time": "2023-01-23T21:00:38.512908Z",
     "start_time": "2023-01-23T21:00:38.501387Z"
    }
   },
   "outputs": [],
   "source": [
    "int_cols = list(data.select_dtypes('int64').columns) \n",
    "float_cols = list(data.select_dtypes('float64').columns)\n",
    "\n",
    "for col in int_cols:\n",
    "    data[col] = data[col].astype('int16')   # Não temos valores fora de [-32767, +32767]\n",
    "    \n",
    "for col in float_cols:\n",
    "    data[col] = data[col].astype('float32') # 32bits é suficiente para precisão que temos"
   ]
  },
  {
   "cell_type": "code",
   "execution_count": 7,
   "metadata": {
    "ExecuteTime": {
     "end_time": "2023-01-23T21:00:39.296602Z",
     "start_time": "2023-01-23T21:00:39.285681Z"
    },
    "scrolled": true
   },
   "outputs": [
    {
     "name": "stdout",
     "output_type": "stream",
     "text": [
      "<class 'pandas.core.frame.DataFrame'>\n",
      "RangeIndex: 768 entries, 0 to 767\n",
      "Data columns (total 9 columns):\n",
      " #   Column                    Non-Null Count  Dtype  \n",
      "---  ------                    --------------  -----  \n",
      " 0   Pregnancies               768 non-null    int16  \n",
      " 1   Glucose                   768 non-null    int16  \n",
      " 2   BloodPressure             768 non-null    int16  \n",
      " 3   SkinThickness             768 non-null    int16  \n",
      " 4   Insulin                   768 non-null    int16  \n",
      " 5   BMI                       768 non-null    float32\n",
      " 6   DiabetesPedigreeFunction  768 non-null    float32\n",
      " 7   Age                       768 non-null    int16  \n",
      " 8   Outcome                   768 non-null    int16  \n",
      "dtypes: float32(2), int16(7)\n",
      "memory usage: 16.6 KB\n"
     ]
    }
   ],
   "source": [
    "data.info()"
   ]
  },
  {
   "cell_type": "markdown",
   "metadata": {
    "ExecuteTime": {
     "end_time": "2023-01-20T20:47:05.199243Z",
     "start_time": "2023-01-20T20:47:05.191804Z"
    }
   },
   "source": [
    "Tivemos uma redução significativa de uso de memória."
   ]
  },
  {
   "cell_type": "code",
   "execution_count": 9,
   "metadata": {
    "ExecuteTime": {
     "end_time": "2023-01-23T21:00:40.601537Z",
     "start_time": "2023-01-23T21:00:40.589781Z"
    },
    "scrolled": true
   },
   "outputs": [
    {
     "name": "stdout",
     "output_type": "stream",
     "text": [
      "111 valores nulos (14.5 %) em Pregnancies.\n",
      "5 valores nulos (0.7 %) em Glucose.\n",
      "35 valores nulos (4.6 %) em BloodPressure.\n",
      "227 valores nulos (29.6 %) em SkinThickness.\n",
      "374 valores nulos (48.7 %) em Insulin.\n",
      "11 valores nulos (1.4 %) em BMI.\n",
      "0 valores nulos (0.0 %) em DiabetesPedigreeFunction.\n",
      "0 valores nulos (0.0 %) em Age.\n",
      "500 valores nulos (65.1 %) em Outcome.\n"
     ]
    }
   ],
   "source": [
    "# Checando valores nulos\n",
    "\n",
    "for col in data.columns:\n",
    "    print(f\"{data[col].eq(0).sum()} valores nulos ({100*data[col].eq(0).sum()/data.shape[0]:.1f} %) em {col}.\")"
   ]
  },
  {
   "cell_type": "markdown",
   "metadata": {},
   "source": [
    "Valores nulos de `Glucose`, `BloodPressure`, `SkinThickness`, `Insulin` e `BMI` são na verdade dados faltantes (NaN). A coluna `Insulin` possui uma quantidade significativa de NaN."
   ]
  },
  {
   "cell_type": "markdown",
   "metadata": {},
   "source": [
    "Vamos inspecionar um pouco mais as colunas de Glucose e BMI:"
   ]
  },
  {
   "cell_type": "code",
   "execution_count": 10,
   "metadata": {
    "ExecuteTime": {
     "end_time": "2023-01-23T21:00:41.290850Z",
     "start_time": "2023-01-23T21:00:41.276594Z"
    },
    "scrolled": true
   },
   "outputs": [
    {
     "data": {
      "text/html": [
       "<div>\n",
       "<style scoped>\n",
       "    .dataframe tbody tr th:only-of-type {\n",
       "        vertical-align: middle;\n",
       "    }\n",
       "\n",
       "    .dataframe tbody tr th {\n",
       "        vertical-align: top;\n",
       "    }\n",
       "\n",
       "    .dataframe thead th {\n",
       "        text-align: right;\n",
       "    }\n",
       "</style>\n",
       "<table border=\"1\" class=\"dataframe\">\n",
       "  <thead>\n",
       "    <tr style=\"text-align: right;\">\n",
       "      <th></th>\n",
       "      <th>Pregnancies</th>\n",
       "      <th>Glucose</th>\n",
       "      <th>BloodPressure</th>\n",
       "      <th>SkinThickness</th>\n",
       "      <th>Insulin</th>\n",
       "      <th>BMI</th>\n",
       "      <th>DiabetesPedigreeFunction</th>\n",
       "      <th>Age</th>\n",
       "      <th>Outcome</th>\n",
       "    </tr>\n",
       "  </thead>\n",
       "  <tbody>\n",
       "    <tr>\n",
       "      <th>75</th>\n",
       "      <td>1</td>\n",
       "      <td>0</td>\n",
       "      <td>48</td>\n",
       "      <td>20</td>\n",
       "      <td>0</td>\n",
       "      <td>24.700001</td>\n",
       "      <td>0.140</td>\n",
       "      <td>22</td>\n",
       "      <td>0</td>\n",
       "    </tr>\n",
       "    <tr>\n",
       "      <th>182</th>\n",
       "      <td>1</td>\n",
       "      <td>0</td>\n",
       "      <td>74</td>\n",
       "      <td>20</td>\n",
       "      <td>23</td>\n",
       "      <td>27.700001</td>\n",
       "      <td>0.299</td>\n",
       "      <td>21</td>\n",
       "      <td>0</td>\n",
       "    </tr>\n",
       "    <tr>\n",
       "      <th>342</th>\n",
       "      <td>1</td>\n",
       "      <td>0</td>\n",
       "      <td>68</td>\n",
       "      <td>35</td>\n",
       "      <td>0</td>\n",
       "      <td>32.000000</td>\n",
       "      <td>0.389</td>\n",
       "      <td>22</td>\n",
       "      <td>0</td>\n",
       "    </tr>\n",
       "    <tr>\n",
       "      <th>349</th>\n",
       "      <td>5</td>\n",
       "      <td>0</td>\n",
       "      <td>80</td>\n",
       "      <td>32</td>\n",
       "      <td>0</td>\n",
       "      <td>41.000000</td>\n",
       "      <td>0.346</td>\n",
       "      <td>37</td>\n",
       "      <td>1</td>\n",
       "    </tr>\n",
       "    <tr>\n",
       "      <th>502</th>\n",
       "      <td>6</td>\n",
       "      <td>0</td>\n",
       "      <td>68</td>\n",
       "      <td>41</td>\n",
       "      <td>0</td>\n",
       "      <td>39.000000</td>\n",
       "      <td>0.727</td>\n",
       "      <td>41</td>\n",
       "      <td>1</td>\n",
       "    </tr>\n",
       "  </tbody>\n",
       "</table>\n",
       "</div>"
      ],
      "text/plain": [
       "     Pregnancies  Glucose  BloodPressure  SkinThickness  Insulin        BMI  \\\n",
       "75             1        0             48             20        0  24.700001   \n",
       "182            1        0             74             20       23  27.700001   \n",
       "342            1        0             68             35        0  32.000000   \n",
       "349            5        0             80             32        0  41.000000   \n",
       "502            6        0             68             41        0  39.000000   \n",
       "\n",
       "     DiabetesPedigreeFunction  Age  Outcome  \n",
       "75                      0.140   22        0  \n",
       "182                     0.299   21        0  \n",
       "342                     0.389   22        0  \n",
       "349                     0.346   37        1  \n",
       "502                     0.727   41        1  "
      ]
     },
     "execution_count": 10,
     "metadata": {},
     "output_type": "execute_result"
    }
   ],
   "source": [
    "# NaN em Glucose\n",
    "\n",
    "data[data[\"Glucose\"] == 0]"
   ]
  },
  {
   "cell_type": "code",
   "execution_count": 11,
   "metadata": {
    "ExecuteTime": {
     "end_time": "2023-01-23T21:00:41.636337Z",
     "start_time": "2023-01-23T21:00:41.620830Z"
    },
    "scrolled": true
   },
   "outputs": [
    {
     "data": {
      "text/html": [
       "<div>\n",
       "<style scoped>\n",
       "    .dataframe tbody tr th:only-of-type {\n",
       "        vertical-align: middle;\n",
       "    }\n",
       "\n",
       "    .dataframe tbody tr th {\n",
       "        vertical-align: top;\n",
       "    }\n",
       "\n",
       "    .dataframe thead th {\n",
       "        text-align: right;\n",
       "    }\n",
       "</style>\n",
       "<table border=\"1\" class=\"dataframe\">\n",
       "  <thead>\n",
       "    <tr style=\"text-align: right;\">\n",
       "      <th></th>\n",
       "      <th>Pregnancies</th>\n",
       "      <th>Glucose</th>\n",
       "      <th>BloodPressure</th>\n",
       "      <th>SkinThickness</th>\n",
       "      <th>Insulin</th>\n",
       "      <th>BMI</th>\n",
       "      <th>DiabetesPedigreeFunction</th>\n",
       "      <th>Age</th>\n",
       "      <th>Outcome</th>\n",
       "    </tr>\n",
       "  </thead>\n",
       "  <tbody>\n",
       "    <tr>\n",
       "      <th>9</th>\n",
       "      <td>8</td>\n",
       "      <td>125</td>\n",
       "      <td>96</td>\n",
       "      <td>0</td>\n",
       "      <td>0</td>\n",
       "      <td>0.0</td>\n",
       "      <td>0.232</td>\n",
       "      <td>54</td>\n",
       "      <td>1</td>\n",
       "    </tr>\n",
       "    <tr>\n",
       "      <th>49</th>\n",
       "      <td>7</td>\n",
       "      <td>105</td>\n",
       "      <td>0</td>\n",
       "      <td>0</td>\n",
       "      <td>0</td>\n",
       "      <td>0.0</td>\n",
       "      <td>0.305</td>\n",
       "      <td>24</td>\n",
       "      <td>0</td>\n",
       "    </tr>\n",
       "    <tr>\n",
       "      <th>60</th>\n",
       "      <td>2</td>\n",
       "      <td>84</td>\n",
       "      <td>0</td>\n",
       "      <td>0</td>\n",
       "      <td>0</td>\n",
       "      <td>0.0</td>\n",
       "      <td>0.304</td>\n",
       "      <td>21</td>\n",
       "      <td>0</td>\n",
       "    </tr>\n",
       "    <tr>\n",
       "      <th>81</th>\n",
       "      <td>2</td>\n",
       "      <td>74</td>\n",
       "      <td>0</td>\n",
       "      <td>0</td>\n",
       "      <td>0</td>\n",
       "      <td>0.0</td>\n",
       "      <td>0.102</td>\n",
       "      <td>22</td>\n",
       "      <td>0</td>\n",
       "    </tr>\n",
       "    <tr>\n",
       "      <th>145</th>\n",
       "      <td>0</td>\n",
       "      <td>102</td>\n",
       "      <td>75</td>\n",
       "      <td>23</td>\n",
       "      <td>0</td>\n",
       "      <td>0.0</td>\n",
       "      <td>0.572</td>\n",
       "      <td>21</td>\n",
       "      <td>0</td>\n",
       "    </tr>\n",
       "    <tr>\n",
       "      <th>371</th>\n",
       "      <td>0</td>\n",
       "      <td>118</td>\n",
       "      <td>64</td>\n",
       "      <td>23</td>\n",
       "      <td>89</td>\n",
       "      <td>0.0</td>\n",
       "      <td>1.731</td>\n",
       "      <td>21</td>\n",
       "      <td>0</td>\n",
       "    </tr>\n",
       "    <tr>\n",
       "      <th>426</th>\n",
       "      <td>0</td>\n",
       "      <td>94</td>\n",
       "      <td>0</td>\n",
       "      <td>0</td>\n",
       "      <td>0</td>\n",
       "      <td>0.0</td>\n",
       "      <td>0.256</td>\n",
       "      <td>25</td>\n",
       "      <td>0</td>\n",
       "    </tr>\n",
       "    <tr>\n",
       "      <th>494</th>\n",
       "      <td>3</td>\n",
       "      <td>80</td>\n",
       "      <td>0</td>\n",
       "      <td>0</td>\n",
       "      <td>0</td>\n",
       "      <td>0.0</td>\n",
       "      <td>0.174</td>\n",
       "      <td>22</td>\n",
       "      <td>0</td>\n",
       "    </tr>\n",
       "    <tr>\n",
       "      <th>522</th>\n",
       "      <td>6</td>\n",
       "      <td>114</td>\n",
       "      <td>0</td>\n",
       "      <td>0</td>\n",
       "      <td>0</td>\n",
       "      <td>0.0</td>\n",
       "      <td>0.189</td>\n",
       "      <td>26</td>\n",
       "      <td>0</td>\n",
       "    </tr>\n",
       "    <tr>\n",
       "      <th>684</th>\n",
       "      <td>5</td>\n",
       "      <td>136</td>\n",
       "      <td>82</td>\n",
       "      <td>0</td>\n",
       "      <td>0</td>\n",
       "      <td>0.0</td>\n",
       "      <td>0.640</td>\n",
       "      <td>69</td>\n",
       "      <td>0</td>\n",
       "    </tr>\n",
       "    <tr>\n",
       "      <th>706</th>\n",
       "      <td>10</td>\n",
       "      <td>115</td>\n",
       "      <td>0</td>\n",
       "      <td>0</td>\n",
       "      <td>0</td>\n",
       "      <td>0.0</td>\n",
       "      <td>0.261</td>\n",
       "      <td>30</td>\n",
       "      <td>1</td>\n",
       "    </tr>\n",
       "  </tbody>\n",
       "</table>\n",
       "</div>"
      ],
      "text/plain": [
       "     Pregnancies  Glucose  BloodPressure  SkinThickness  Insulin  BMI  \\\n",
       "9              8      125             96              0        0  0.0   \n",
       "49             7      105              0              0        0  0.0   \n",
       "60             2       84              0              0        0  0.0   \n",
       "81             2       74              0              0        0  0.0   \n",
       "145            0      102             75             23        0  0.0   \n",
       "371            0      118             64             23       89  0.0   \n",
       "426            0       94              0              0        0  0.0   \n",
       "494            3       80              0              0        0  0.0   \n",
       "522            6      114              0              0        0  0.0   \n",
       "684            5      136             82              0        0  0.0   \n",
       "706           10      115              0              0        0  0.0   \n",
       "\n",
       "     DiabetesPedigreeFunction  Age  Outcome  \n",
       "9                       0.232   54        1  \n",
       "49                      0.305   24        0  \n",
       "60                      0.304   21        0  \n",
       "81                      0.102   22        0  \n",
       "145                     0.572   21        0  \n",
       "371                     1.731   21        0  \n",
       "426                     0.256   25        0  \n",
       "494                     0.174   22        0  \n",
       "522                     0.189   26        0  \n",
       "684                     0.640   69        0  \n",
       "706                     0.261   30        1  "
      ]
     },
     "execution_count": 11,
     "metadata": {},
     "output_type": "execute_result"
    }
   ],
   "source": [
    "# NaN em BMI\n",
    "\n",
    "data[data[\"BMI\"] == 0]"
   ]
  },
  {
   "cell_type": "markdown",
   "metadata": {},
   "source": [
    "Um número grande de instâncias que tem valor nulo em `BMI` são de pacientes não-diabéticos. Existem poucas instâncias nulas em `Glucose` e são relativamente homogêneas."
   ]
  },
  {
   "cell_type": "markdown",
   "metadata": {},
   "source": [
    "## EDA (Análise exploratória de dados)"
   ]
  },
  {
   "cell_type": "markdown",
   "metadata": {},
   "source": [
    "Aqui vamos plotar alguns gráficos para verificar a distribuição das varíaveis. Optei por retirar os dados nulos do plot para facilitar a visualização."
   ]
  },
  {
   "cell_type": "code",
   "execution_count": 12,
   "metadata": {
    "ExecuteTime": {
     "end_time": "2023-01-23T21:00:43.062093Z",
     "start_time": "2023-01-23T21:00:42.654056Z"
    },
    "scrolled": true
   },
   "outputs": [
    {
     "data": {
      "image/png": "[encoded data removed]",
      "text/plain": [
       "<Figure size 432x288 with 1 Axes>"
      ]
     },
     "metadata": {
      "needs_background": "light"
     },
     "output_type": "display_data"
    }
   ],
   "source": [
    "_ = sns.histplot(data, x=\"Pregnancies\", hue=\"Outcome\", discrete=True)"
   ]
  },
  {
   "cell_type": "code",
   "execution_count": 13,
   "metadata": {
    "ExecuteTime": {
     "end_time": "2023-01-23T21:00:43.402662Z",
     "start_time": "2023-01-23T21:00:43.083893Z"
    },
    "scrolled": true
   },
   "outputs": [
    {
     "data": {
      "image/png": "[encoded data removed]",
      "text/plain": [
       "<Figure size 432x288 with 1 Axes>"
      ]
     },
     "metadata": {
      "needs_background": "light"
     },
     "output_type": "display_data"
    }
   ],
   "source": [
    "_ = sns.histplot(data[data[\"Glucose\"] != 0], x=\"Glucose\", hue=\"Outcome\")"
   ]
  },
  {
   "cell_type": "code",
   "execution_count": 14,
   "metadata": {
    "ExecuteTime": {
     "end_time": "2023-01-23T21:00:43.464520Z",
     "start_time": "2023-01-23T21:00:43.420693Z"
    }
   },
   "outputs": [
    {
     "data": {
      "text/html": [
       "<div>\n",
       "<style scoped>\n",
       "    .dataframe tbody tr th:only-of-type {\n",
       "        vertical-align: middle;\n",
       "    }\n",
       "\n",
       "    .dataframe tbody tr th {\n",
       "        vertical-align: top;\n",
       "    }\n",
       "\n",
       "    .dataframe thead tr th {\n",
       "        text-align: left;\n",
       "    }\n",
       "\n",
       "    .dataframe thead tr:last-of-type th {\n",
       "        text-align: right;\n",
       "    }\n",
       "</style>\n",
       "<table border=\"1\" class=\"dataframe\">\n",
       "  <thead>\n",
       "    <tr>\n",
       "      <th></th>\n",
       "      <th colspan=\"8\" halign=\"left\">Glucose</th>\n",
       "    </tr>\n",
       "    <tr>\n",
       "      <th></th>\n",
       "      <th>count</th>\n",
       "      <th>mean</th>\n",
       "      <th>std</th>\n",
       "      <th>min</th>\n",
       "      <th>25%</th>\n",
       "      <th>50%</th>\n",
       "      <th>75%</th>\n",
       "      <th>max</th>\n",
       "    </tr>\n",
       "    <tr>\n",
       "      <th>Outcome</th>\n",
       "      <th></th>\n",
       "      <th></th>\n",
       "      <th></th>\n",
       "      <th></th>\n",
       "      <th></th>\n",
       "      <th></th>\n",
       "      <th></th>\n",
       "      <th></th>\n",
       "    </tr>\n",
       "  </thead>\n",
       "  <tbody>\n",
       "    <tr>\n",
       "      <th>0</th>\n",
       "      <td>497.0</td>\n",
       "      <td>110.643863</td>\n",
       "      <td>24.776906</td>\n",
       "      <td>44.0</td>\n",
       "      <td>93.0</td>\n",
       "      <td>107.0</td>\n",
       "      <td>125.0</td>\n",
       "      <td>197.0</td>\n",
       "    </tr>\n",
       "    <tr>\n",
       "      <th>1</th>\n",
       "      <td>266.0</td>\n",
       "      <td>142.319549</td>\n",
       "      <td>29.599199</td>\n",
       "      <td>78.0</td>\n",
       "      <td>119.0</td>\n",
       "      <td>140.0</td>\n",
       "      <td>167.0</td>\n",
       "      <td>199.0</td>\n",
       "    </tr>\n",
       "  </tbody>\n",
       "</table>\n",
       "</div>"
      ],
      "text/plain": [
       "        Glucose                                                         \n",
       "          count        mean        std   min    25%    50%    75%    max\n",
       "Outcome                                                                 \n",
       "0         497.0  110.643863  24.776906  44.0   93.0  107.0  125.0  197.0\n",
       "1         266.0  142.319549  29.599199  78.0  119.0  140.0  167.0  199.0"
      ]
     },
     "execution_count": 14,
     "metadata": {},
     "output_type": "execute_result"
    }
   ],
   "source": [
    "# Algumas métricas separadas para outcomes\n",
    "\n",
    "data.loc[data['Glucose'] > 0,['Outcome', 'Glucose']].groupby('Outcome').describe()"
   ]
  },
  {
   "cell_type": "markdown",
   "metadata": {},
   "source": [
    "As médias são razoavelmente diferentes, mas os desvios são relativamentos próximos."
   ]
  },
  {
   "cell_type": "code",
   "execution_count": 15,
   "metadata": {
    "ExecuteTime": {
     "end_time": "2023-01-23T21:00:44.198633Z",
     "start_time": "2023-01-23T21:00:43.783551Z"
    }
   },
   "outputs": [
    {
     "data": {
      "image/png": "[encoded data removed]",
      "text/plain": [
       "<Figure size 432x288 with 1 Axes>"
      ]
     },
     "metadata": {
      "needs_background": "light"
     },
     "output_type": "display_data"
    }
   ],
   "source": [
    "_ = sns.histplot(data[data[\"BloodPressure\"] != 0], x=\"BloodPressure\", hue=\"Outcome\")"
   ]
  },
  {
   "cell_type": "code",
   "execution_count": 16,
   "metadata": {
    "ExecuteTime": {
     "end_time": "2023-01-23T21:00:44.578968Z",
     "start_time": "2023-01-23T21:00:44.213722Z"
    }
   },
   "outputs": [
    {
     "data": {
      "image/png": "[encoded data removed]",
      "text/plain": [
       "<Figure size 432x288 with 1 Axes>"
      ]
     },
     "metadata": {
      "needs_background": "light"
     },
     "output_type": "display_data"
    }
   ],
   "source": [
    "_ = sns.histplot(data[data[\"SkinThickness\"] != 0], x=\"SkinThickness\", hue=\"Outcome\")"
   ]
  },
  {
   "cell_type": "code",
   "execution_count": 17,
   "metadata": {
    "ExecuteTime": {
     "end_time": "2023-01-23T21:00:45.032339Z",
     "start_time": "2023-01-23T21:00:44.597832Z"
    }
   },
   "outputs": [
    {
     "data": {
      "image/png": "[encoded data removed]",
      "text/plain": [
       "<Figure size 432x288 with 1 Axes>"
      ]
     },
     "metadata": {
      "needs_background": "light"
     },
     "output_type": "display_data"
    }
   ],
   "source": [
    "_ = sns.histplot(data[data[\"Insulin\"] != 0], x=\"Insulin\", hue=\"Outcome\")"
   ]
  },
  {
   "cell_type": "code",
   "execution_count": 18,
   "metadata": {
    "ExecuteTime": {
     "end_time": "2023-01-23T21:00:45.259596Z",
     "start_time": "2023-01-23T21:00:45.050760Z"
    }
   },
   "outputs": [
    {
     "data": {
      "image/png": "[encoded data removed]",
      "text/plain": [
       "<Figure size 432x288 with 1 Axes>"
      ]
     },
     "metadata": {
      "needs_background": "light"
     },
     "output_type": "display_data"
    }
   ],
   "source": [
    "_ = sns.boxplot(data=data[data[\"Insulin\"] != 0], x=\"Outcome\", y=\"Insulin\")"
   ]
  },
  {
   "cell_type": "code",
   "execution_count": 19,
   "metadata": {
    "ExecuteTime": {
     "end_time": "2023-01-23T21:00:45.638985Z",
     "start_time": "2023-01-23T21:00:45.277874Z"
    }
   },
   "outputs": [
    {
     "data": {
      "image/png": "[encoded data removed]",
      "text/plain": [
       "<Figure size 432x288 with 1 Axes>"
      ]
     },
     "metadata": {
      "needs_background": "light"
     },
     "output_type": "display_data"
    }
   ],
   "source": [
    "_ = sns.histplot(data[data[\"BMI\"] != 0], x=\"BMI\", hue=\"Outcome\")"
   ]
  },
  {
   "cell_type": "code",
   "execution_count": 20,
   "metadata": {
    "ExecuteTime": {
     "end_time": "2023-01-23T21:00:46.039385Z",
     "start_time": "2023-01-23T21:00:45.667443Z"
    }
   },
   "outputs": [
    {
     "data": {
      "image/png": "[encoded data removed]",
      "text/plain": [
       "<Figure size 432x288 with 1 Axes>"
      ]
     },
     "metadata": {
      "needs_background": "light"
     },
     "output_type": "display_data"
    }
   ],
   "source": [
    "_ = sns.histplot(data, x=\"DiabetesPedigreeFunction\", hue=\"Outcome\")"
   ]
  },
  {
   "cell_type": "code",
   "execution_count": 21,
   "metadata": {
    "ExecuteTime": {
     "end_time": "2023-01-23T21:00:46.445484Z",
     "start_time": "2023-01-23T21:00:46.056536Z"
    }
   },
   "outputs": [
    {
     "data": {
      "image/png": "[encoded data removed]",
      "text/plain": [
       "<Figure size 432x288 with 1 Axes>"
      ]
     },
     "metadata": {
      "needs_background": "light"
     },
     "output_type": "display_data"
    }
   ],
   "source": [
    "_ = sns.histplot(data, x=\"Age\", hue=\"Outcome\")"
   ]
  },
  {
   "cell_type": "code",
   "execution_count": 22,
   "metadata": {
    "ExecuteTime": {
     "end_time": "2023-01-23T21:00:46.752367Z",
     "start_time": "2023-01-23T21:00:46.462623Z"
    }
   },
   "outputs": [
    {
     "data": {
      "image/png": "[encoded data removed]",
      "text/plain": [
       "<Figure size 432x288 with 1 Axes>"
      ]
     },
     "metadata": {
      "needs_background": "light"
     },
     "output_type": "display_data"
    }
   ],
   "source": [
    "_ = sns.histplot(data, x=\"Outcome\", hue=\"Outcome\")"
   ]
  },
  {
   "cell_type": "code",
   "execution_count": 23,
   "metadata": {
    "ExecuteTime": {
     "end_time": "2023-01-23T21:00:47.398559Z",
     "start_time": "2023-01-23T21:00:46.768347Z"
    },
    "scrolled": false
   },
   "outputs": [
    {
     "name": "stdout",
     "output_type": "stream",
     "text": [
      "Outcome                     1.000000\n",
      "Glucose                     0.466581\n",
      "BMI                         0.292695\n",
      "Age                         0.238356\n",
      "Pregnancies                 0.221898\n",
      "DiabetesPedigreeFunction    0.173844\n",
      "Insulin                     0.130548\n",
      "SkinThickness               0.074752\n",
      "BloodPressure               0.065068\n",
      "Name: Outcome, dtype: float64\n"
     ]
    },
    {
     "data": {
      "image/png": "[encoded data removed]",
      "text/plain": [
       "<Figure size 576x504 with 2 Axes>"
      ]
     },
     "metadata": {
      "needs_background": "light"
     },
     "output_type": "display_data"
    }
   ],
   "source": [
    "def correlacao(data):\n",
    "    corr_matrix = data.corr()\n",
    "    print(corr_matrix[\"Outcome\"].sort_values(ascending=False))   \n",
    "\n",
    "correlacao(data)\n",
    "\n",
    "plt.figure(figsize=(8,7))\n",
    "_ = sns.heatmap(data=data.corr(), annot=True)"
   ]
  },
  {
   "cell_type": "markdown",
   "metadata": {},
   "source": [
    "A partir da EDA podemos concluir que nossa *target* `Outcome` é suficientemente balanceada e é bem correlacionada com `Glucose`, `BMI`, `Age` e `Preganancies`. Entretanto, parece já existir uma dependência entre `Age` e `Preganancies`. Também parece haver algum grau de codepêndencia entre `SkinThickness`, `BMI` e `Insulin`."
   ]
  },
  {
   "cell_type": "markdown",
   "metadata": {},
   "source": [
    "## Redifinindo dados faltantes e separação treino/teste"
   ]
  },
  {
   "cell_type": "markdown",
   "metadata": {},
   "source": [
    "A partir de agora corrigiremos os valores nulos por NaN e reservaremos nosso dataset de teste para o final."
   ]
  },
  {
   "cell_type": "code",
   "execution_count": 24,
   "metadata": {
    "ExecuteTime": {
     "end_time": "2023-01-23T21:00:48.812374Z",
     "start_time": "2023-01-23T21:00:48.780745Z"
    },
    "scrolled": false
   },
   "outputs": [
    {
     "data": {
      "text/html": [
       "<div>\n",
       "<style scoped>\n",
       "    .dataframe tbody tr th:only-of-type {\n",
       "        vertical-align: middle;\n",
       "    }\n",
       "\n",
       "    .dataframe tbody tr th {\n",
       "        vertical-align: top;\n",
       "    }\n",
       "\n",
       "    .dataframe thead th {\n",
       "        text-align: right;\n",
       "    }\n",
       "</style>\n",
       "<table border=\"1\" class=\"dataframe\">\n",
       "  <thead>\n",
       "    <tr style=\"text-align: right;\">\n",
       "      <th></th>\n",
       "      <th>Pregnancies</th>\n",
       "      <th>Glucose</th>\n",
       "      <th>BloodPressure</th>\n",
       "      <th>SkinThickness</th>\n",
       "      <th>Insulin</th>\n",
       "      <th>BMI</th>\n",
       "      <th>DiabetesPedigreeFunction</th>\n",
       "      <th>Age</th>\n",
       "      <th>Outcome</th>\n",
       "    </tr>\n",
       "  </thead>\n",
       "  <tbody>\n",
       "    <tr>\n",
       "      <th>0</th>\n",
       "      <td>6</td>\n",
       "      <td>148.0</td>\n",
       "      <td>72.0</td>\n",
       "      <td>35.0</td>\n",
       "      <td>NaN</td>\n",
       "      <td>33.599998</td>\n",
       "      <td>0.627</td>\n",
       "      <td>50</td>\n",
       "      <td>1</td>\n",
       "    </tr>\n",
       "    <tr>\n",
       "      <th>1</th>\n",
       "      <td>1</td>\n",
       "      <td>85.0</td>\n",
       "      <td>66.0</td>\n",
       "      <td>29.0</td>\n",
       "      <td>NaN</td>\n",
       "      <td>26.600000</td>\n",
       "      <td>0.351</td>\n",
       "      <td>31</td>\n",
       "      <td>0</td>\n",
       "    </tr>\n",
       "    <tr>\n",
       "      <th>2</th>\n",
       "      <td>8</td>\n",
       "      <td>183.0</td>\n",
       "      <td>64.0</td>\n",
       "      <td>NaN</td>\n",
       "      <td>NaN</td>\n",
       "      <td>23.299999</td>\n",
       "      <td>0.672</td>\n",
       "      <td>32</td>\n",
       "      <td>1</td>\n",
       "    </tr>\n",
       "    <tr>\n",
       "      <th>3</th>\n",
       "      <td>1</td>\n",
       "      <td>89.0</td>\n",
       "      <td>66.0</td>\n",
       "      <td>23.0</td>\n",
       "      <td>94.0</td>\n",
       "      <td>28.100000</td>\n",
       "      <td>0.167</td>\n",
       "      <td>21</td>\n",
       "      <td>0</td>\n",
       "    </tr>\n",
       "    <tr>\n",
       "      <th>4</th>\n",
       "      <td>0</td>\n",
       "      <td>137.0</td>\n",
       "      <td>40.0</td>\n",
       "      <td>35.0</td>\n",
       "      <td>168.0</td>\n",
       "      <td>43.099998</td>\n",
       "      <td>2.288</td>\n",
       "      <td>33</td>\n",
       "      <td>1</td>\n",
       "    </tr>\n",
       "  </tbody>\n",
       "</table>\n",
       "</div>"
      ],
      "text/plain": [
       "   Pregnancies  Glucose  BloodPressure  SkinThickness  Insulin        BMI  \\\n",
       "0            6    148.0           72.0           35.0      NaN  33.599998   \n",
       "1            1     85.0           66.0           29.0      NaN  26.600000   \n",
       "2            8    183.0           64.0            NaN      NaN  23.299999   \n",
       "3            1     89.0           66.0           23.0     94.0  28.100000   \n",
       "4            0    137.0           40.0           35.0    168.0  43.099998   \n",
       "\n",
       "   DiabetesPedigreeFunction  Age  Outcome  \n",
       "0                     0.627   50        1  \n",
       "1                     0.351   31        0  \n",
       "2                     0.672   32        1  \n",
       "3                     0.167   21        0  \n",
       "4                     2.288   33        1  "
      ]
     },
     "execution_count": 24,
     "metadata": {},
     "output_type": "execute_result"
    }
   ],
   "source": [
    "# Vamos substituir 0 por NaN e salvar um novo csv\n",
    "\n",
    "data_tr = data.copy()\n",
    "\n",
    "cols = [\"Glucose\", \"BloodPressure\", \"SkinThickness\", \"Insulin\", \"BMI\"]\n",
    "for col in cols:\n",
    "    data_tr[col] = data_tr[col].replace(0, np.nan)\n",
    "\n",
    "data_tr.to_csv('data/data_tr.csv', index=False)\n",
    "\n",
    "data_tr.head()"
   ]
  },
  {
   "cell_type": "code",
   "execution_count": 25,
   "metadata": {
    "ExecuteTime": {
     "end_time": "2023-01-23T21:00:49.270079Z",
     "start_time": "2023-01-23T21:00:49.259334Z"
    }
   },
   "outputs": [
    {
     "name": "stdout",
     "output_type": "stream",
     "text": [
      "<class 'pandas.core.frame.DataFrame'>\n",
      "RangeIndex: 768 entries, 0 to 767\n",
      "Data columns (total 9 columns):\n",
      " #   Column                    Non-Null Count  Dtype  \n",
      "---  ------                    --------------  -----  \n",
      " 0   Pregnancies               768 non-null    int16  \n",
      " 1   Glucose                   763 non-null    float64\n",
      " 2   BloodPressure             733 non-null    float64\n",
      " 3   SkinThickness             541 non-null    float64\n",
      " 4   Insulin                   394 non-null    float64\n",
      " 5   BMI                       757 non-null    float32\n",
      " 6   DiabetesPedigreeFunction  768 non-null    float32\n",
      " 7   Age                       768 non-null    int16  \n",
      " 8   Outcome                   768 non-null    int16  \n",
      "dtypes: float32(2), float64(4), int16(3)\n",
      "memory usage: 34.6 KB\n"
     ]
    }
   ],
   "source": [
    "data_tr.info()"
   ]
  },
  {
   "cell_type": "markdown",
   "metadata": {
    "ExecuteTime": {
     "end_time": "2023-01-20T20:56:29.111709Z",
     "start_time": "2023-01-20T20:56:29.098666Z"
    }
   },
   "source": [
    "As colunas que tinham NaN viram floats uma vez que esse tipo de dado não é suportado por integers."
   ]
  },
  {
   "cell_type": "code",
   "execution_count": 26,
   "metadata": {
    "ExecuteTime": {
     "end_time": "2023-01-23T21:00:50.355847Z",
     "start_time": "2023-01-23T21:00:50.348589Z"
    }
   },
   "outputs": [],
   "source": [
    "# Separação de features e targets\n",
    "X = data_tr.drop('Outcome', axis=1)\n",
    "y = data_tr['Outcome']\n",
    "\n",
    "# Train test split\n",
    "X_train, X_test, y_train, y_test = train_test_split(X, y, train_size=0.85, random_state=42)"
   ]
  },
  {
   "cell_type": "markdown",
   "metadata": {},
   "source": [
    "## Modelo de referência"
   ]
  },
  {
   "cell_type": "markdown",
   "metadata": {
    "ExecuteTime": {
     "end_time": "2023-01-12T23:01:30.912750Z",
     "start_time": "2023-01-12T23:01:30.897515Z"
    }
   },
   "source": [
    "Nosso modelo heurístico é baseado no fato que a taxa de glicose deve ser o parâmetro mais importante para determinar se um paciente é diabético. Dito isto, vamos tentar achar um valor ideal de `Glucose` que nos dê o melhor resultado."
   ]
  },
  {
   "cell_type": "code",
   "execution_count": 27,
   "metadata": {
    "ExecuteTime": {
     "end_time": "2023-01-23T21:00:51.480431Z",
     "start_time": "2023-01-23T21:00:51.468933Z"
    }
   },
   "outputs": [],
   "source": [
    "# Criar um X,y para modelo de referência, dropando os NaNs\n",
    "\n",
    "filtro_nan = X_train['Glucose'].isna()\n",
    "index_nan = X_train[filtro_nan].index.tolist()\n",
    "\n",
    "X_train_heuristic = X_train[['Glucose']].drop(index=index_nan)\n",
    "y_train_heuristic = y_train.drop(index=index_nan)"
   ]
  },
  {
   "cell_type": "code",
   "execution_count": 28,
   "metadata": {
    "ExecuteTime": {
     "end_time": "2023-01-23T21:00:52.583706Z",
     "start_time": "2023-01-23T21:00:51.944241Z"
    },
    "scrolled": false
   },
   "outputs": [],
   "source": [
    "# Treinando o modelo\n",
    "\n",
    "glucose_thr = np.arange(62, 198, 1)\n",
    "accuracy_list = []\n",
    "recall_list = []\n",
    "precision_list = []\n",
    "\n",
    "def test_glucose(gl, thr):\n",
    "    if gl >= thr:\n",
    "        return 1\n",
    "    else:\n",
    "        return 0\n",
    "    \n",
    "for thr in glucose_thr:\n",
    "    outcome_predict = X_train_heuristic[\"Glucose\"].apply(test_glucose, thr=thr)\n",
    "    \n",
    "    accuracy = np.round(accuracy_score(y_train_heuristic, outcome_predict), 4)\n",
    "    precision = np.round(precision_score(y_train_heuristic, outcome_predict), 4)\n",
    "    recall = np.round(recall_score(y_train_heuristic, outcome_predict), 4)\n",
    "    \n",
    "    accuracy_list.append(accuracy)\n",
    "    precision_list.append(precision)\n",
    "    recall_list.append(recall)"
   ]
  },
  {
   "cell_type": "markdown",
   "metadata": {},
   "source": [
    "Utilizaremos o cruzamento entre precision e recall: ainda conservamos um bom recall, temos um alguma precisão e estamos um bom ponto de acurácia."
   ]
  },
  {
   "cell_type": "code",
   "execution_count": 29,
   "metadata": {
    "ExecuteTime": {
     "end_time": "2023-01-23T21:00:53.708958Z",
     "start_time": "2023-01-23T21:00:53.702582Z"
    }
   },
   "outputs": [],
   "source": [
    "idx = np.where(np.isclose(np.array(precision_list), np.array(recall_list), rtol=4e-2))[0][0]\n",
    "thr_heuristic = glucose_thr[idx]\n",
    "train_recall = recall_list[idx]\n",
    "train_precision = precision_list[idx]\n",
    "train_accuracy = accuracy_list[idx]"
   ]
  },
  {
   "cell_type": "code",
   "execution_count": 30,
   "metadata": {
    "ExecuteTime": {
     "end_time": "2023-01-23T21:00:55.989194Z",
     "start_time": "2023-01-23T21:00:55.749564Z"
    }
   },
   "outputs": [
    {
     "data": {
      "image/png": "[encoded data removed]",
      "text/plain": [
       "<Figure size 432x288 with 1 Axes>"
      ]
     },
     "metadata": {
      "needs_background": "light"
     },
     "output_type": "display_data"
    }
   ],
   "source": [
    "plt.plot(glucose_thr, accuracy_list, label='Accuracy')\n",
    "plt.plot(glucose_thr, precision_list, label='Precision')\n",
    "plt.plot(glucose_thr, recall_list, label='Recall')\n",
    "plt.hlines(y=train_recall, xmin=60, xmax=thr_heuristic, linestyle=':', linewidth=1, color='r')\n",
    "plt.vlines(x=thr_heuristic, ymin=0.0, ymax=train_recall, linestyle=':', linewidth=1, color='r')\n",
    "plt.xlabel(\"Limite de glicose\")\n",
    "plt.legend()\n",
    "plt.show()"
   ]
  },
  {
   "cell_type": "code",
   "execution_count": 31,
   "metadata": {
    "ExecuteTime": {
     "end_time": "2023-01-23T21:00:58.560556Z",
     "start_time": "2023-01-23T21:00:58.556415Z"
    }
   },
   "outputs": [
    {
     "name": "stdout",
     "output_type": "stream",
     "text": [
      "Métricas de treino:\n",
      "Acurácia: 0.7372\n",
      "Precisão: 0.6228\n",
      "Recall: 0.6283\n"
     ]
    }
   ],
   "source": [
    "# Print das métricas de treino\n",
    "\n",
    "print(\"Métricas de treino:\")\n",
    "print(f\"Acurácia: {train_accuracy}\")\n",
    "print(f\"Precisão: {train_precision}\")\n",
    "print(f\"Recall: {train_recall}\")"
   ]
  },
  {
   "cell_type": "markdown",
   "metadata": {},
   "source": [
    "Finalmente, vamos avaliar o modelo com os dados de teste. Essas métricas serão uma das nossas referências para avaliar a performace no final."
   ]
  },
  {
   "cell_type": "code",
   "execution_count": 32,
   "metadata": {
    "ExecuteTime": {
     "end_time": "2023-01-23T21:00:59.915265Z",
     "start_time": "2023-01-23T21:00:59.909470Z"
    }
   },
   "outputs": [],
   "source": [
    "# Removendo NaN do teste\n",
    "\n",
    "filtro_nan = X_test['Glucose'].isna()\n",
    "index_nan = X_test[filtro_nan].index.tolist()\n",
    "\n",
    "X_test_heuristic = X_train[['Glucose']].drop(index=index_nan)\n",
    "y_test_heuristic = y_train.drop(index=index_nan)"
   ]
  },
  {
   "cell_type": "code",
   "execution_count": 33,
   "metadata": {
    "ExecuteTime": {
     "end_time": "2023-01-23T21:01:00.564758Z",
     "start_time": "2023-01-23T21:01:00.551310Z"
    }
   },
   "outputs": [
    {
     "name": "stdout",
     "output_type": "stream",
     "text": [
      "Métricas de teste:\n",
      "Acurácia: 0.7362\n",
      "Precisão: 0.6228\n",
      "Recall: 0.6228\n"
     ]
    }
   ],
   "source": [
    "# Predict no dataset de teste\n",
    "\n",
    "outcome_predict = X_test_heuristic[\"Glucose\"].apply(test_glucose, thr=thr_heuristic)\n",
    "\n",
    "accuracy = np.round(accuracy_score(y_test_heuristic, outcome_predict), 4)\n",
    "precision = np.round(precision_score(y_test_heuristic, outcome_predict), 4)\n",
    "recall = np.round(recall_score(y_test_heuristic, outcome_predict), 4)\n",
    "\n",
    "print(\"Métricas de teste:\")\n",
    "print(f\"Acurácia: {accuracy}\")\n",
    "print(f\"Precisão: {precision}\")\n",
    "print(f\"Recall: {recall}\")"
   ]
  },
  {
   "cell_type": "markdown",
   "metadata": {},
   "source": [
    "# Baseline ML"
   ]
  },
  {
   "cell_type": "markdown",
   "metadata": {},
   "source": [
    "Começaremos aqui a construir um modelo simples de machine learning que sirva de baseline. Faremos o mínimo tratamento dos dados ou otimizações nos modelos no momento. Utilizaremos **validação cruzada** uma vez que temos poucas instâncias no dataset e reservaremos o dataset de teste para a avaliação final."
   ]
  },
  {
   "cell_type": "code",
   "execution_count": 35,
   "metadata": {
    "ExecuteTime": {
     "end_time": "2023-01-23T21:01:32.355589Z",
     "start_time": "2023-01-23T21:01:32.349539Z"
    }
   },
   "outputs": [],
   "source": [
    "# Definindo uma função para avaliar os modelos com validação cruzada\n",
    "\n",
    "def relatorio_cross_val(estimator, X_train, y_train):\n",
    "    \"\"\"Calcula acurácia, precisão e recall utilizando cross validation\"\"\"\n",
    "    \n",
    "    cv_accuracy_score = cross_val_score(estimator, X_train, y_train, cv=3, scoring=\"accuracy\")\n",
    "    cv_precision_score = cross_val_score(estimator, X_train, y_train, cv=3, scoring=\"precision\")\n",
    "    cv_recall_score = cross_val_score(estimator, X_train, y_train, cv=3, scoring=\"recall\")\n",
    "    \n",
    "    cv_accuracy_mean_score = cv_accuracy_score.mean()\n",
    "    cv_accuracy_std_score = cv_accuracy_score.std()\n",
    "    \n",
    "    cv_precision_mean_score = cv_precision_score.mean()\n",
    "    cv_precision_std_score = cv_precision_score.std()\n",
    "    \n",
    "    cv_recall_mean_score = cv_recall_score.mean()\n",
    "    cv_recall_std_score = cv_recall_score.std()\n",
    "    \n",
    "    print(f\"Acurácia média: {np.round(cv_accuracy_mean_score, 4)} (std={np.round(cv_accuracy_std_score, 4)})\")\n",
    "    print(f\"Precisão média: {np.round(cv_precision_mean_score, 4)} (std={np.round(cv_precision_std_score, 4)})\")\n",
    "    print(f\"Recall médio: {np.round(cv_recall_mean_score, 4)} (std={np.round(cv_recall_std_score, 4)})\")"
   ]
  },
  {
   "cell_type": "code",
   "execution_count": 36,
   "metadata": {
    "ExecuteTime": {
     "end_time": "2023-01-23T21:01:32.897552Z",
     "start_time": "2023-01-23T21:01:32.894638Z"
    },
    "scrolled": true
   },
   "outputs": [],
   "source": [
    "# Voltando os NaNs para zero\n",
    "\n",
    "X_train_fillna = X_train.fillna(0)"
   ]
  },
  {
   "cell_type": "markdown",
   "metadata": {},
   "source": [
    "Começaremos com uma *decision tree* para ganhar algum insight sobre os dados:"
   ]
  },
  {
   "cell_type": "code",
   "execution_count": 37,
   "metadata": {
    "ExecuteTime": {
     "end_time": "2023-01-23T21:01:39.569460Z",
     "start_time": "2023-01-23T21:01:39.479425Z"
    }
   },
   "outputs": [
    {
     "name": "stdout",
     "output_type": "stream",
     "text": [
      "Acurácia média: 0.7362 (std=0.0176)\n",
      "Precisão média: 0.7241 (std=0.0287)\n",
      "Recall médio: 0.4079 (std=0.1211)\n"
     ]
    }
   ],
   "source": [
    "# Decision tree\n",
    "\n",
    "tree_clf = DecisionTreeClassifier(max_depth=2, random_state=42)\n",
    "tree_clf.fit(X_train_fillna, y_train)\n",
    "\n",
    "relatorio_cross_val(tree_clf, X_train_fillna, y_train)"
   ]
  },
  {
   "cell_type": "code",
   "execution_count": 38,
   "metadata": {
    "ExecuteTime": {
     "end_time": "2023-01-23T21:01:53.827055Z",
     "start_time": "2023-01-23T21:01:53.384046Z"
    }
   },
   "outputs": [
    {
     "data": {
      "image/png": "[encoded data removed]",
      "text/plain": [
       "<Figure size 864x720 with 1 Axes>"
      ]
     },
     "metadata": {
      "needs_background": "light"
     },
     "output_type": "display_data"
    }
   ],
   "source": [
    "# Plotando árvore\n",
    "\n",
    "fig = plt.figure(figsize=(12,10))\n",
    "_ = tree.plot_tree(tree_clf, \n",
    "                   feature_names=X_train.columns,  \n",
    "                   class_names=True,\n",
    "                   filled=True)"
   ]
  },
  {
   "cell_type": "markdown",
   "metadata": {},
   "source": [
    "Mesmo com uma árvore simples, já temos uma acurácia média de 73,62%. Também confirmamos algumas expectativas: `Glucose`, `Age` e `BMI` são variáveis importantes nesse problema."
   ]
  },
  {
   "cell_type": "markdown",
   "metadata": {},
   "source": [
    "Também podemos treinar uma regressão logística, já que nem todas as features entraram na decision tree. Nesse caso, precisamos normalizar os dados."
   ]
  },
  {
   "cell_type": "code",
   "execution_count": 39,
   "metadata": {
    "ExecuteTime": {
     "end_time": "2023-01-23T21:02:17.891501Z",
     "start_time": "2023-01-23T21:02:17.723141Z"
    },
    "scrolled": true
   },
   "outputs": [
    {
     "name": "stdout",
     "output_type": "stream",
     "text": [
      "Acurácia média: 0.7622 (std=0.0245)\n",
      "Precisão média: 0.7021 (std=0.0337)\n",
      "Recall médio: 0.5526 (std=0.0598)\n"
     ]
    }
   ],
   "source": [
    "# Regressão logística\n",
    "\n",
    "log_clf = LogisticRegression()\n",
    "\n",
    "std_scaler = StandardScaler()\n",
    "X_train_sc = std_scaler.fit_transform(X_train_fillna)\n",
    "\n",
    "log_clf.fit(X_train_sc, y_train)\n",
    "relatorio_cross_val(log_clf, X_train_sc, y_train)"
   ]
  },
  {
   "cell_type": "code",
   "execution_count": 49,
   "metadata": {
    "ExecuteTime": {
     "end_time": "2023-01-23T21:10:43.828979Z",
     "start_time": "2023-01-23T21:10:36.044241Z"
    },
    "scrolled": true
   },
   "outputs": [
    {
     "name": "stdout",
     "output_type": "stream",
     "text": [
      "Acurácia média: 0.773 (std=0.016)\n",
      "Precisão média: 0.7254 (std=0.0323)\n",
      "Recall médio: 0.5658 (std=0.0322)\n"
     ]
    }
   ],
   "source": [
    "# Random Forest. Escolhi alguns hiperparâmetros.\n",
    "\n",
    "forest_clf = RandomForestClassifier(n_estimators=500, max_depth=6, random_state=42)\n",
    "forest_clf.fit(X_train_sc, y_train)\n",
    "relatorio_cross_val(forest_clf, X_train_sc, y_train)"
   ]
  },
  {
   "cell_type": "markdown",
   "metadata": {},
   "source": [
    "A partir da floresta treinada podemos extrair a importância de cada feature."
   ]
  },
  {
   "cell_type": "code",
   "execution_count": 58,
   "metadata": {
    "ExecuteTime": {
     "end_time": "2023-01-23T21:17:23.228708Z",
     "start_time": "2023-01-23T21:17:23.166154Z"
    }
   },
   "outputs": [
    {
     "name": "stdout",
     "output_type": "stream",
     "text": [
      "Pregnancies 0.08\n",
      "Glucose 0.33\n",
      "BloodPressure 0.06\n",
      "SkinThickness 0.05\n",
      "Insulin 0.07\n",
      "BMI 0.16\n",
      "DiabetesPedigreeFunction 0.09\n",
      "Age 0.16\n"
     ]
    }
   ],
   "source": [
    "# Feature importance\n",
    "\n",
    "for name, score in zip(list(X_train.columns), list(forest_clf.feature_importances_)):\n",
    "    print(name, np.round(score, 2))"
   ]
  },
  {
   "cell_type": "markdown",
   "metadata": {},
   "source": [
    "Novamente, vemos que `Glucose`, `BMI` e `Age` são variáveis importantes. \n",
    "\n",
    "Com esses modelos simples de ML temos uma acurácia melhor, mas nosso recall é significativamente menor. Mais tarde ajustaremos para otimizar o recall."
   ]
  },
  {
   "cell_type": "code",
   "execution_count": null,
   "metadata": {},
   "outputs": [],
   "source": [
    "# Mover a seção abaixo para a avaliação final do documento"
   ]
  },
  {
   "cell_type": "code",
   "execution_count": 60,
   "metadata": {
    "ExecuteTime": {
     "end_time": "2023-01-21T23:50:35.810557Z",
     "start_time": "2023-01-21T23:50:35.789888Z"
    }
   },
   "outputs": [],
   "source": [
    "# Ajuste de precisão/recall\n",
    "\n",
    "from sklearn.metrics import precision_recall_curve\n",
    "\n",
    "y_scores = cross_val_predict(log_clf, X_train_sc, y_train, cv=3, method=\"decision_function\")\n",
    "precisions, recalls, thresholds = precision_recall_curve(y_train, y_scores)"
   ]
  },
  {
   "cell_type": "code",
   "execution_count": 83,
   "metadata": {
    "ExecuteTime": {
     "end_time": "2023-01-22T00:01:42.410435Z",
     "start_time": "2023-01-22T00:01:42.210251Z"
    }
   },
   "outputs": [
    {
     "data": {
      "image/png": "[encoded data removed]",
      "text/plain": [
       "<Figure size 432x288 with 1 Axes>"
      ]
     },
     "metadata": {
      "needs_background": "light"
     },
     "output_type": "display_data"
    }
   ],
   "source": [
    "plt.plot(thresholds, precisions[:-1], label='Precision')\n",
    "plt.plot(thresholds, recalls[:-1], label='Recall')\n",
    "plt.legend()\n",
    "plt.show()"
   ]
  },
  {
   "cell_type": "code",
   "execution_count": 73,
   "metadata": {
    "ExecuteTime": {
     "end_time": "2023-01-21T23:54:34.063624Z",
     "start_time": "2023-01-21T23:54:33.862736Z"
    }
   },
   "outputs": [
    {
     "data": {
      "image/png": "[encoded data removed]",
      "text/plain": [
       "<Figure size 432x288 with 1 Axes>"
      ]
     },
     "metadata": {
      "needs_background": "light"
     },
     "output_type": "display_data"
    }
   ],
   "source": [
    "plt.plot(precisions, recalls)\n",
    "plt.ylabel('Precisão')\n",
    "plt.xlabel('Recall')\n",
    "plt.show()"
   ]
  },
  {
   "cell_type": "markdown",
   "metadata": {},
   "source": [
    "# Tratamento dos dados"
   ]
  },
  {
   "cell_type": "markdown",
   "metadata": {},
   "source": [
    "Podemos limpar um pouco os dados antes de tentar modelos ML mais elaborados. Nessa seção, trataremos os dados faltantes e os outliers."
   ]
  },
  {
   "cell_type": "markdown",
   "metadata": {},
   "source": [
    "### Lidando com dados faltantes"
   ]
  },
  {
   "cell_type": "markdown",
   "metadata": {},
   "source": [
    "Vamos comparar o SimpleImputer (testando média e mediana) e o KNNImputer."
   ]
  },
  {
   "cell_type": "code",
   "execution_count": 66,
   "metadata": {
    "ExecuteTime": {
     "end_time": "2023-01-23T21:24:12.684540Z",
     "start_time": "2023-01-23T21:24:12.622036Z"
    }
   },
   "outputs": [
    {
     "name": "stdout",
     "output_type": "stream",
     "text": [
      "Acurácia média: 0.7638 (std=0.0124)\n",
      "Precisão média: 0.7098 (std=0.0139)\n",
      "Recall médio: 0.5482 (std=0.0377)\n"
     ]
    }
   ],
   "source": [
    "# Testando SimpleImputer\n",
    "\n",
    "sim_imp = SimpleImputer(strategy='mean')\n",
    "std_scaler = StandardScaler()\n",
    "log_clf = LogisticRegression()\n",
    "\n",
    "treat_steps = [('imputer', sim_imp), ('scaler', std_scaler)]\n",
    "treat_pipeline = Pipeline(treat_steps)\n",
    "X_train_tr = treat_pipeline.fit_transform(X_train)\n",
    "\n",
    "relatorio_cross_val(log_clf, X_train_tr, y_train)"
   ]
  },
  {
   "cell_type": "code",
   "execution_count": 64,
   "metadata": {
    "ExecuteTime": {
     "end_time": "2023-01-23T21:23:39.699178Z",
     "start_time": "2023-01-23T21:23:39.579724Z"
    }
   },
   "outputs": [
    {
     "name": "stdout",
     "output_type": "stream",
     "text": [
      "Acurácia média: 0.7684 (std=0.0174)\n",
      "Precisão média: 0.714 (std=0.0178)\n",
      "Recall médio: 0.5614 (std=0.0484)\n"
     ]
    }
   ],
   "source": [
    "# Testando KNNImputer\n",
    "\n",
    "knn_imp = KNNImputer(n_neighbors=3)\n",
    "std_scaler = StandardScaler()\n",
    "log_clf = LogisticRegression()\n",
    "\n",
    "treat_steps = [('imputer', knn_imp), ('scaler', std_scaler)]\n",
    "treat_pipeline = Pipeline(treat_steps)\n",
    "X_train_tr = treat_pipeline.fit_transform(X_train)\n",
    "\n",
    "relatorio_cross_val(log_clf, X_train_tr, y_train)"
   ]
  },
  {
   "cell_type": "markdown",
   "metadata": {},
   "source": [
    "Vamos usar o tratamento do `KNNImputer`. Antes de prosseguir vamos analisar novamente os dados após o tratamento."
   ]
  },
  {
   "cell_type": "code",
   "execution_count": 67,
   "metadata": {
    "ExecuteTime": {
     "end_time": "2023-01-23T21:24:28.125928Z",
     "start_time": "2023-01-23T21:24:28.052629Z"
    }
   },
   "outputs": [],
   "source": [
    "# Reconstruindo o dataframe\n",
    "\n",
    "X_train_tr_full = pd.DataFrame(knn_imp.fit_transform(X_train), \n",
    "                               columns=X_train.columns, \n",
    "                               index=X_train.index).join(y_train.to_frame())"
   ]
  },
  {
   "cell_type": "code",
   "execution_count": 68,
   "metadata": {
    "ExecuteTime": {
     "end_time": "2023-01-23T21:24:35.704069Z",
     "start_time": "2023-01-23T21:24:35.685911Z"
    }
   },
   "outputs": [
    {
     "data": {
      "text/html": [
       "<div>\n",
       "<style scoped>\n",
       "    .dataframe tbody tr th:only-of-type {\n",
       "        vertical-align: middle;\n",
       "    }\n",
       "\n",
       "    .dataframe tbody tr th {\n",
       "        vertical-align: top;\n",
       "    }\n",
       "\n",
       "    .dataframe thead th {\n",
       "        text-align: right;\n",
       "    }\n",
       "</style>\n",
       "<table border=\"1\" class=\"dataframe\">\n",
       "  <thead>\n",
       "    <tr style=\"text-align: right;\">\n",
       "      <th></th>\n",
       "      <th>Pregnancies</th>\n",
       "      <th>Glucose</th>\n",
       "      <th>BloodPressure</th>\n",
       "      <th>SkinThickness</th>\n",
       "      <th>Insulin</th>\n",
       "      <th>BMI</th>\n",
       "      <th>DiabetesPedigreeFunction</th>\n",
       "      <th>Age</th>\n",
       "      <th>Outcome</th>\n",
       "    </tr>\n",
       "  </thead>\n",
       "  <tbody>\n",
       "    <tr>\n",
       "      <th>227</th>\n",
       "      <td>3.0</td>\n",
       "      <td>162.0</td>\n",
       "      <td>52.0</td>\n",
       "      <td>38.000000</td>\n",
       "      <td>349.666667</td>\n",
       "      <td>37.200001</td>\n",
       "      <td>0.652</td>\n",
       "      <td>24.0</td>\n",
       "      <td>1</td>\n",
       "    </tr>\n",
       "    <tr>\n",
       "      <th>168</th>\n",
       "      <td>4.0</td>\n",
       "      <td>110.0</td>\n",
       "      <td>66.0</td>\n",
       "      <td>35.000000</td>\n",
       "      <td>107.333333</td>\n",
       "      <td>31.900000</td>\n",
       "      <td>0.471</td>\n",
       "      <td>29.0</td>\n",
       "      <td>0</td>\n",
       "    </tr>\n",
       "    <tr>\n",
       "      <th>513</th>\n",
       "      <td>2.0</td>\n",
       "      <td>91.0</td>\n",
       "      <td>62.0</td>\n",
       "      <td>18.000000</td>\n",
       "      <td>48.666667</td>\n",
       "      <td>27.299999</td>\n",
       "      <td>0.525</td>\n",
       "      <td>22.0</td>\n",
       "      <td>0</td>\n",
       "    </tr>\n",
       "    <tr>\n",
       "      <th>7</th>\n",
       "      <td>10.0</td>\n",
       "      <td>115.0</td>\n",
       "      <td>70.0</td>\n",
       "      <td>37.666667</td>\n",
       "      <td>145.000000</td>\n",
       "      <td>35.299999</td>\n",
       "      <td>0.134</td>\n",
       "      <td>29.0</td>\n",
       "      <td>0</td>\n",
       "    </tr>\n",
       "    <tr>\n",
       "      <th>196</th>\n",
       "      <td>1.0</td>\n",
       "      <td>105.0</td>\n",
       "      <td>58.0</td>\n",
       "      <td>16.666667</td>\n",
       "      <td>179.000000</td>\n",
       "      <td>24.299999</td>\n",
       "      <td>0.187</td>\n",
       "      <td>21.0</td>\n",
       "      <td>0</td>\n",
       "    </tr>\n",
       "  </tbody>\n",
       "</table>\n",
       "</div>"
      ],
      "text/plain": [
       "     Pregnancies  Glucose  BloodPressure  SkinThickness     Insulin  \\\n",
       "227          3.0    162.0           52.0      38.000000  349.666667   \n",
       "168          4.0    110.0           66.0      35.000000  107.333333   \n",
       "513          2.0     91.0           62.0      18.000000   48.666667   \n",
       "7           10.0    115.0           70.0      37.666667  145.000000   \n",
       "196          1.0    105.0           58.0      16.666667  179.000000   \n",
       "\n",
       "           BMI  DiabetesPedigreeFunction   Age  Outcome  \n",
       "227  37.200001                     0.652  24.0        1  \n",
       "168  31.900000                     0.471  29.0        0  \n",
       "513  27.299999                     0.525  22.0        0  \n",
       "7    35.299999                     0.134  29.0        0  \n",
       "196  24.299999                     0.187  21.0        0  "
      ]
     },
     "execution_count": 68,
     "metadata": {},
     "output_type": "execute_result"
    }
   ],
   "source": [
    "X_train_tr_full.head()"
   ]
  },
  {
   "cell_type": "code",
   "execution_count": 69,
   "metadata": {
    "ExecuteTime": {
     "end_time": "2023-01-23T21:24:51.979319Z",
     "start_time": "2023-01-23T21:24:51.974329Z"
    }
   },
   "outputs": [],
   "source": [
    "def plot_dist_box(data, column):\n",
    "    \"Plota histograma e boxplot de uma coluna\"\n",
    "    fig, ax = plt.subplots(1, 2, figsize=(10, 4))\n",
    "    sns.histplot(data=data, x=column, hue=\"Outcome\", ax=ax[0])\n",
    "    sns.boxplot(data=data, x=column, ax=ax[1])\n",
    "    plt.show()"
   ]
  },
  {
   "cell_type": "code",
   "execution_count": 70,
   "metadata": {
    "ExecuteTime": {
     "end_time": "2023-01-23T21:24:52.793112Z",
     "start_time": "2023-01-23T21:24:52.410320Z"
    }
   },
   "outputs": [
    {
     "data": {
      "image/png": "[encoded data removed]",
      "text/plain": [
       "<Figure size 720x288 with 2 Axes>"
      ]
     },
     "metadata": {
      "needs_background": "light"
     },
     "output_type": "display_data"
    }
   ],
   "source": [
    "plot_dist_box(X_train_tr_full, \"Pregnancies\")"
   ]
  },
  {
   "cell_type": "code",
   "execution_count": 71,
   "metadata": {
    "ExecuteTime": {
     "end_time": "2023-01-23T21:24:55.040368Z",
     "start_time": "2023-01-23T21:24:54.639440Z"
    },
    "scrolled": true
   },
   "outputs": [
    {
     "data": {
      "image/png": "[encoded data removed]",
      "text/plain": [
       "<Figure size 720x288 with 2 Axes>"
      ]
     },
     "metadata": {
      "needs_background": "light"
     },
     "output_type": "display_data"
    }
   ],
   "source": [
    "plot_dist_box(X_train_tr_full, \"Glucose\")"
   ]
  },
  {
   "cell_type": "code",
   "execution_count": 72,
   "metadata": {
    "ExecuteTime": {
     "end_time": "2023-01-23T21:24:55.628503Z",
     "start_time": "2023-01-23T21:24:55.123948Z"
    }
   },
   "outputs": [
    {
     "data": {
      "image/png": "[encoded data removed]",
      "text/plain": [
       "<Figure size 720x288 with 2 Axes>"
      ]
     },
     "metadata": {
      "needs_background": "light"
     },
     "output_type": "display_data"
    }
   ],
   "source": [
    "plot_dist_box(X_train_tr_full, \"BloodPressure\")"
   ]
  },
  {
   "cell_type": "code",
   "execution_count": 73,
   "metadata": {
    "ExecuteTime": {
     "end_time": "2023-01-23T21:24:57.593306Z",
     "start_time": "2023-01-23T21:24:57.222870Z"
    }
   },
   "outputs": [
    {
     "data": {
      "image/png": "[encoded data removed]",
      "text/plain": [
       "<Figure size 720x288 with 2 Axes>"
      ]
     },
     "metadata": {
      "needs_background": "light"
     },
     "output_type": "display_data"
    }
   ],
   "source": [
    "plot_dist_box(X_train_tr_full, \"SkinThickness\")"
   ]
  },
  {
   "cell_type": "code",
   "execution_count": 74,
   "metadata": {
    "ExecuteTime": {
     "end_time": "2023-01-23T21:24:58.357819Z",
     "start_time": "2023-01-23T21:24:57.737879Z"
    },
    "scrolled": true
   },
   "outputs": [
    {
     "data": {
      "image/png": "[encoded data removed]",
      "text/plain": [
       "<Figure size 720x288 with 2 Axes>"
      ]
     },
     "metadata": {
      "needs_background": "light"
     },
     "output_type": "display_data"
    }
   ],
   "source": [
    "plot_dist_box(X_train_tr_full, \"Insulin\")"
   ]
  },
  {
   "cell_type": "code",
   "execution_count": 75,
   "metadata": {
    "ExecuteTime": {
     "end_time": "2023-01-23T21:24:58.896157Z",
     "start_time": "2023-01-23T21:24:58.433355Z"
    }
   },
   "outputs": [
    {
     "data": {
      "image/png": "[encoded data removed]",
      "text/plain": [
       "<Figure size 720x288 with 2 Axes>"
      ]
     },
     "metadata": {
      "needs_background": "light"
     },
     "output_type": "display_data"
    }
   ],
   "source": [
    "plot_dist_box(X_train_tr_full, \"Age\")"
   ]
  },
  {
   "cell_type": "code",
   "execution_count": 76,
   "metadata": {
    "ExecuteTime": {
     "end_time": "2023-01-23T21:24:59.473008Z",
     "start_time": "2023-01-23T21:24:58.997663Z"
    }
   },
   "outputs": [
    {
     "data": {
      "image/png": "[encoded data removed]",
      "text/plain": [
       "<Figure size 720x288 with 2 Axes>"
      ]
     },
     "metadata": {
      "needs_background": "light"
     },
     "output_type": "display_data"
    }
   ],
   "source": [
    "plot_dist_box(X_train_tr_full, \"DiabetesPedigreeFunction\")"
   ]
  },
  {
   "cell_type": "code",
   "execution_count": 77,
   "metadata": {
    "ExecuteTime": {
     "end_time": "2023-01-23T21:25:00.039727Z",
     "start_time": "2023-01-23T21:24:59.589375Z"
    },
    "scrolled": true
   },
   "outputs": [
    {
     "data": {
      "image/png": "[encoded data removed]",
      "text/plain": [
       "<Figure size 720x288 with 2 Axes>"
      ]
     },
     "metadata": {
      "needs_background": "light"
     },
     "output_type": "display_data"
    }
   ],
   "source": [
    "plot_dist_box(X_train_tr_full, \"BMI\")"
   ]
  },
  {
   "cell_type": "markdown",
   "metadata": {},
   "source": [
    "Vamos verificar novamente a matriz de correlação."
   ]
  },
  {
   "cell_type": "code",
   "execution_count": 78,
   "metadata": {
    "ExecuteTime": {
     "end_time": "2023-01-23T21:25:12.174097Z",
     "start_time": "2023-01-23T21:25:12.167946Z"
    },
    "scrolled": true
   },
   "outputs": [
    {
     "name": "stdout",
     "output_type": "stream",
     "text": [
      "Outcome                     1.000000\n",
      "Glucose                     0.497759\n",
      "BMI                         0.315918\n",
      "Insulin                     0.301607\n",
      "Age                         0.278958\n",
      "SkinThickness               0.262065\n",
      "Pregnancies                 0.233916\n",
      "BloodPressure               0.176481\n",
      "DiabetesPedigreeFunction    0.158570\n",
      "Name: Outcome, dtype: float64\n"
     ]
    }
   ],
   "source": [
    "corr_matrix = X_train_tr_full.corr()\n",
    "print(corr_matrix[\"Outcome\"].sort_values(ascending=False))"
   ]
  },
  {
   "cell_type": "markdown",
   "metadata": {},
   "source": [
    " Nota-se que temos uma melhor correlação com o target."
   ]
  },
  {
   "cell_type": "code",
   "execution_count": 80,
   "metadata": {
    "ExecuteTime": {
     "end_time": "2023-01-23T21:26:36.599659Z",
     "start_time": "2023-01-23T21:26:36.579721Z"
    }
   },
   "outputs": [],
   "source": [
    "# Salvando o csv com os NaNs tratados\n",
    "\n",
    "X_train_tr_full.to_csv('X_train_tr_full.csv', index=True)"
   ]
  },
  {
   "cell_type": "markdown",
   "metadata": {},
   "source": [
    "### Tratando outliers"
   ]
  },
  {
   "cell_type": "markdown",
   "metadata": {},
   "source": [
    "A distribuição da `DiabetesPedigreeFunction` e `Insulin` parecem muito inviesados. Aplicar um logaritmo torna ela mais normal:"
   ]
  },
  {
   "cell_type": "code",
   "execution_count": 98,
   "metadata": {
    "ExecuteTime": {
     "end_time": "2023-01-23T21:59:57.362974Z",
     "start_time": "2023-01-23T21:59:56.918923Z"
    }
   },
   "outputs": [
    {
     "data": {
      "image/png": "[encoded data removed]",
      "text/plain": [
       "<Figure size 720x288 with 2 Axes>"
      ]
     },
     "metadata": {
      "needs_background": "light"
     },
     "output_type": "display_data"
    }
   ],
   "source": [
    "X_train_tr_full['LogDiabetesPedigreeFunction'] = np.log(X_train_tr_full['DiabetesPedigreeFunction'])\n",
    "plot_dist_box(X_train_tr_full, \"LogDiabetesPedigreeFunction\")"
   ]
  },
  {
   "cell_type": "code",
   "execution_count": 99,
   "metadata": {
    "ExecuteTime": {
     "end_time": "2023-01-23T21:59:57.885785Z",
     "start_time": "2023-01-23T21:59:57.468244Z"
    }
   },
   "outputs": [
    {
     "data": {
      "image/png": "[encoded data removed]",
      "text/plain": [
       "<Figure size 720x288 with 2 Axes>"
      ]
     },
     "metadata": {
      "needs_background": "light"
     },
     "output_type": "display_data"
    }
   ],
   "source": [
    "X_train_tr_full['LogInsulin'] = np.log(X_train_tr_full['Insulin'])\n",
    "plot_dist_box(X_train_tr_full, \"LogInsulin\")"
   ]
  },
  {
   "cell_type": "code",
   "execution_count": 100,
   "metadata": {
    "ExecuteTime": {
     "end_time": "2023-01-23T21:59:58.006287Z",
     "start_time": "2023-01-23T21:59:58.000104Z"
    },
    "scrolled": true
   },
   "outputs": [
    {
     "name": "stdout",
     "output_type": "stream",
     "text": [
      "Outcome                        1.000000\n",
      "Glucose                        0.497759\n",
      "LogInsulin                     0.353477\n",
      "BMI                            0.315918\n",
      "Insulin                        0.301607\n",
      "Age                            0.278958\n",
      "SkinThickness                  0.262065\n",
      "Pregnancies                    0.233916\n",
      "BloodPressure                  0.176481\n",
      "LogDiabetesPedigreeFunction    0.173109\n",
      "DiabetesPedigreeFunction       0.158570\n",
      "Name: Outcome, dtype: float64\n"
     ]
    }
   ],
   "source": [
    "correlacao(X_train_tr_full)"
   ]
  },
  {
   "cell_type": "markdown",
   "metadata": {},
   "source": [
    "As distribuições parecem mais normais e as correlações melhoraram. Vamos verificar a performace. "
   ]
  },
  {
   "cell_type": "code",
   "execution_count": 102,
   "metadata": {
    "ExecuteTime": {
     "end_time": "2023-01-23T22:00:25.370019Z",
     "start_time": "2023-01-23T22:00:25.354814Z"
    },
    "scrolled": true
   },
   "outputs": [
    {
     "data": {
      "text/html": [
       "<div>\n",
       "<style scoped>\n",
       "    .dataframe tbody tr th:only-of-type {\n",
       "        vertical-align: middle;\n",
       "    }\n",
       "\n",
       "    .dataframe tbody tr th {\n",
       "        vertical-align: top;\n",
       "    }\n",
       "\n",
       "    .dataframe thead th {\n",
       "        text-align: right;\n",
       "    }\n",
       "</style>\n",
       "<table border=\"1\" class=\"dataframe\">\n",
       "  <thead>\n",
       "    <tr style=\"text-align: right;\">\n",
       "      <th></th>\n",
       "      <th>Pregnancies</th>\n",
       "      <th>Glucose</th>\n",
       "      <th>BloodPressure</th>\n",
       "      <th>SkinThickness</th>\n",
       "      <th>BMI</th>\n",
       "      <th>Age</th>\n",
       "      <th>LogDiabetesPedigreeFunction</th>\n",
       "      <th>LogInsulin</th>\n",
       "    </tr>\n",
       "  </thead>\n",
       "  <tbody>\n",
       "    <tr>\n",
       "      <th>227</th>\n",
       "      <td>3.0</td>\n",
       "      <td>162.0</td>\n",
       "      <td>52.0</td>\n",
       "      <td>38.000000</td>\n",
       "      <td>37.200001</td>\n",
       "      <td>24.0</td>\n",
       "      <td>-0.427711</td>\n",
       "      <td>5.856980</td>\n",
       "    </tr>\n",
       "    <tr>\n",
       "      <th>168</th>\n",
       "      <td>4.0</td>\n",
       "      <td>110.0</td>\n",
       "      <td>66.0</td>\n",
       "      <td>35.000000</td>\n",
       "      <td>31.900000</td>\n",
       "      <td>29.0</td>\n",
       "      <td>-0.752897</td>\n",
       "      <td>4.675939</td>\n",
       "    </tr>\n",
       "    <tr>\n",
       "      <th>513</th>\n",
       "      <td>2.0</td>\n",
       "      <td>91.0</td>\n",
       "      <td>62.0</td>\n",
       "      <td>18.000000</td>\n",
       "      <td>27.299999</td>\n",
       "      <td>22.0</td>\n",
       "      <td>-0.644357</td>\n",
       "      <td>3.884994</td>\n",
       "    </tr>\n",
       "    <tr>\n",
       "      <th>7</th>\n",
       "      <td>10.0</td>\n",
       "      <td>115.0</td>\n",
       "      <td>70.0</td>\n",
       "      <td>37.666667</td>\n",
       "      <td>35.299999</td>\n",
       "      <td>29.0</td>\n",
       "      <td>-2.009915</td>\n",
       "      <td>4.976734</td>\n",
       "    </tr>\n",
       "    <tr>\n",
       "      <th>196</th>\n",
       "      <td>1.0</td>\n",
       "      <td>105.0</td>\n",
       "      <td>58.0</td>\n",
       "      <td>16.666667</td>\n",
       "      <td>24.299999</td>\n",
       "      <td>21.0</td>\n",
       "      <td>-1.676647</td>\n",
       "      <td>5.187386</td>\n",
       "    </tr>\n",
       "  </tbody>\n",
       "</table>\n",
       "</div>"
      ],
      "text/plain": [
       "     Pregnancies  Glucose  BloodPressure  SkinThickness        BMI   Age  \\\n",
       "227          3.0    162.0           52.0      38.000000  37.200001  24.0   \n",
       "168          4.0    110.0           66.0      35.000000  31.900000  29.0   \n",
       "513          2.0     91.0           62.0      18.000000  27.299999  22.0   \n",
       "7           10.0    115.0           70.0      37.666667  35.299999  29.0   \n",
       "196          1.0    105.0           58.0      16.666667  24.299999  21.0   \n",
       "\n",
       "     LogDiabetesPedigreeFunction  LogInsulin  \n",
       "227                    -0.427711    5.856980  \n",
       "168                    -0.752897    4.675939  \n",
       "513                    -0.644357    3.884994  \n",
       "7                      -2.009915    4.976734  \n",
       "196                    -1.676647    5.187386  "
      ]
     },
     "execution_count": 102,
     "metadata": {},
     "output_type": "execute_result"
    }
   ],
   "source": [
    "drop = [\"Outcome\", \"Insulin\", \"DiabetesPedigreeFunction\"]\n",
    "X_train_tr = X_train_tr_full.drop(drop, axis=1)\n",
    "X_train_tr.head()"
   ]
  },
  {
   "cell_type": "code",
   "execution_count": 103,
   "metadata": {
    "ExecuteTime": {
     "end_time": "2023-01-23T22:00:25.820350Z",
     "start_time": "2023-01-23T22:00:25.731521Z"
    }
   },
   "outputs": [
    {
     "name": "stdout",
     "output_type": "stream",
     "text": [
      "Acurácia média: 0.7607 (std=0.0177)\n",
      "Precisão média: 0.6974 (std=0.0192)\n",
      "Recall médio: 0.557 (std=0.0611)\n"
     ]
    }
   ],
   "source": [
    "log_clf = LogisticRegression()\n",
    "\n",
    "std_scaler = StandardScaler()\n",
    "X_train_sc = std_scaler.fit_transform(X_train_tr)\n",
    "\n",
    "log_clf.fit(X_train_sc, y_train)\n",
    "relatorio_cross_val(log_clf, X_train_sc, y_train)"
   ]
  },
  {
   "cell_type": "markdown",
   "metadata": {},
   "source": [
    "Apesar das correlações melhorarem, nosso modelo teve uma performace pior. Vamos seguir sem esse tratamento."
   ]
  },
  {
   "cell_type": "code",
   "execution_count": 104,
   "metadata": {
    "ExecuteTime": {
     "end_time": "2023-01-23T22:00:39.475443Z",
     "start_time": "2023-01-23T22:00:39.471573Z"
    }
   },
   "outputs": [],
   "source": [
    "X_train_full = X_train_tr_full.drop([\"LogDiabetesPedigreeFunction\", \"LogInsulin\"], axis=1)"
   ]
  },
  {
   "cell_type": "markdown",
   "metadata": {},
   "source": [
    "### Binning"
   ]
  },
  {
   "cell_type": "markdown",
   "metadata": {},
   "source": [
    "Vamos tentar agora agrupar dados para reduzir o ruído de alguma feature. Como discutido, fazer esse tratamento isso na `Age` talvez ajude nosso modelo. "
   ]
  },
  {
   "cell_type": "code",
   "execution_count": 105,
   "metadata": {
    "ExecuteTime": {
     "end_time": "2023-01-23T22:01:12.740605Z",
     "start_time": "2023-01-23T22:01:12.720537Z"
    }
   },
   "outputs": [
    {
     "data": {
      "text/html": [
       "<div>\n",
       "<style scoped>\n",
       "    .dataframe tbody tr th:only-of-type {\n",
       "        vertical-align: middle;\n",
       "    }\n",
       "\n",
       "    .dataframe tbody tr th {\n",
       "        vertical-align: top;\n",
       "    }\n",
       "\n",
       "    .dataframe thead th {\n",
       "        text-align: right;\n",
       "    }\n",
       "</style>\n",
       "<table border=\"1\" class=\"dataframe\">\n",
       "  <thead>\n",
       "    <tr style=\"text-align: right;\">\n",
       "      <th></th>\n",
       "      <th>Pregnancies</th>\n",
       "      <th>Glucose</th>\n",
       "      <th>BloodPressure</th>\n",
       "      <th>SkinThickness</th>\n",
       "      <th>Insulin</th>\n",
       "      <th>BMI</th>\n",
       "      <th>DiabetesPedigreeFunction</th>\n",
       "      <th>Age</th>\n",
       "      <th>Outcome</th>\n",
       "    </tr>\n",
       "  </thead>\n",
       "  <tbody>\n",
       "    <tr>\n",
       "      <th>227</th>\n",
       "      <td>3.0</td>\n",
       "      <td>162.0</td>\n",
       "      <td>52.0</td>\n",
       "      <td>38.000000</td>\n",
       "      <td>349.666667</td>\n",
       "      <td>37.200001</td>\n",
       "      <td>0.652</td>\n",
       "      <td>24.0</td>\n",
       "      <td>1</td>\n",
       "    </tr>\n",
       "    <tr>\n",
       "      <th>168</th>\n",
       "      <td>4.0</td>\n",
       "      <td>110.0</td>\n",
       "      <td>66.0</td>\n",
       "      <td>35.000000</td>\n",
       "      <td>107.333333</td>\n",
       "      <td>31.900000</td>\n",
       "      <td>0.471</td>\n",
       "      <td>29.0</td>\n",
       "      <td>0</td>\n",
       "    </tr>\n",
       "    <tr>\n",
       "      <th>513</th>\n",
       "      <td>2.0</td>\n",
       "      <td>91.0</td>\n",
       "      <td>62.0</td>\n",
       "      <td>18.000000</td>\n",
       "      <td>48.666667</td>\n",
       "      <td>27.299999</td>\n",
       "      <td>0.525</td>\n",
       "      <td>22.0</td>\n",
       "      <td>0</td>\n",
       "    </tr>\n",
       "    <tr>\n",
       "      <th>7</th>\n",
       "      <td>10.0</td>\n",
       "      <td>115.0</td>\n",
       "      <td>70.0</td>\n",
       "      <td>37.666667</td>\n",
       "      <td>145.000000</td>\n",
       "      <td>35.299999</td>\n",
       "      <td>0.134</td>\n",
       "      <td>29.0</td>\n",
       "      <td>0</td>\n",
       "    </tr>\n",
       "    <tr>\n",
       "      <th>196</th>\n",
       "      <td>1.0</td>\n",
       "      <td>105.0</td>\n",
       "      <td>58.0</td>\n",
       "      <td>16.666667</td>\n",
       "      <td>179.000000</td>\n",
       "      <td>24.299999</td>\n",
       "      <td>0.187</td>\n",
       "      <td>21.0</td>\n",
       "      <td>0</td>\n",
       "    </tr>\n",
       "  </tbody>\n",
       "</table>\n",
       "</div>"
      ],
      "text/plain": [
       "     Pregnancies  Glucose  BloodPressure  SkinThickness     Insulin  \\\n",
       "227          3.0    162.0           52.0      38.000000  349.666667   \n",
       "168          4.0    110.0           66.0      35.000000  107.333333   \n",
       "513          2.0     91.0           62.0      18.000000   48.666667   \n",
       "7           10.0    115.0           70.0      37.666667  145.000000   \n",
       "196          1.0    105.0           58.0      16.666667  179.000000   \n",
       "\n",
       "           BMI  DiabetesPedigreeFunction   Age  Outcome  \n",
       "227  37.200001                     0.652  24.0        1  \n",
       "168  31.900000                     0.471  29.0        0  \n",
       "513  27.299999                     0.525  22.0        0  \n",
       "7    35.299999                     0.134  29.0        0  \n",
       "196  24.299999                     0.187  21.0        0  "
      ]
     },
     "execution_count": 105,
     "metadata": {},
     "output_type": "execute_result"
    }
   ],
   "source": [
    "X_train_full.head()"
   ]
  },
  {
   "cell_type": "markdown",
   "metadata": {},
   "source": [
    "Usaremos `KBinsDiscretizer`:"
   ]
  },
  {
   "cell_type": "code",
   "execution_count": 106,
   "metadata": {
    "ExecuteTime": {
     "end_time": "2023-01-23T22:01:35.657141Z",
     "start_time": "2023-01-23T22:01:35.647315Z"
    }
   },
   "outputs": [],
   "source": [
    "kbins = KBinsDiscretizer(n_bins=4, encode='ordinal')\n",
    "X_train_full[\"New_Age\"] = kbins.fit_transform(X_train_full[['Age']])"
   ]
  },
  {
   "cell_type": "code",
   "execution_count": 107,
   "metadata": {
    "ExecuteTime": {
     "end_time": "2023-01-23T22:01:36.761903Z",
     "start_time": "2023-01-23T22:01:36.519242Z"
    },
    "scrolled": true
   },
   "outputs": [
    {
     "data": {
      "image/png": "[encoded data removed]",
      "text/plain": [
       "<Figure size 432x288 with 1 Axes>"
      ]
     },
     "metadata": {
      "needs_background": "light"
     },
     "output_type": "display_data"
    }
   ],
   "source": [
    "_ = sns.histplot(X_train_full, x=\"New_Age\", hue=\"Outcome\", discrete=True)"
   ]
  },
  {
   "cell_type": "code",
   "execution_count": 108,
   "metadata": {
    "ExecuteTime": {
     "end_time": "2023-01-23T22:01:39.241251Z",
     "start_time": "2023-01-23T22:01:39.234347Z"
    }
   },
   "outputs": [
    {
     "name": "stdout",
     "output_type": "stream",
     "text": [
      "Outcome                     1.000000\n",
      "Glucose                     0.497759\n",
      "New_Age                     0.349550\n",
      "BMI                         0.315918\n",
      "Insulin                     0.301607\n",
      "Age                         0.278958\n",
      "SkinThickness               0.262065\n",
      "Pregnancies                 0.233916\n",
      "BloodPressure               0.176481\n",
      "DiabetesPedigreeFunction    0.158570\n",
      "Name: Outcome, dtype: float64\n"
     ]
    }
   ],
   "source": [
    "correlacao(X_train_full)"
   ]
  },
  {
   "cell_type": "code",
   "execution_count": 109,
   "metadata": {
    "ExecuteTime": {
     "end_time": "2023-01-23T22:01:43.219070Z",
     "start_time": "2023-01-23T22:01:43.127997Z"
    }
   },
   "outputs": [
    {
     "name": "stdout",
     "output_type": "stream",
     "text": [
      "Acurácia média: 0.7745 (std=0.014)\n",
      "Precisão média: 0.7172 (std=0.0225)\n",
      "Recall médio: 0.5877 (std=0.0434)\n"
     ]
    }
   ],
   "source": [
    "# Testando o binning com regressão logística\n",
    "\n",
    "X_train_tr = X_train_full.drop(['Outcome', 'Age'], axis=1)\n",
    "log_clf = LogisticRegression()\n",
    "\n",
    "std_scaler = StandardScaler()\n",
    "X_train_sc = std_scaler.fit_transform(X_train_tr)\n",
    "\n",
    "log_clf.fit(X_train_sc, y_train)\n",
    "relatorio_cross_val(log_clf, X_train_sc, y_train)"
   ]
  },
  {
   "cell_type": "markdown",
   "metadata": {},
   "source": [
    "O tratamento é semelhante à uma condificação por faixa etária (criança, jovem, adulto, idoso). A correlação e as outras métricas melhoraram. Seguiremos com esse tratamento."
   ]
  },
  {
   "cell_type": "code",
   "execution_count": 111,
   "metadata": {
    "ExecuteTime": {
     "end_time": "2023-01-23T22:03:14.201435Z",
     "start_time": "2023-01-23T22:03:14.186647Z"
    }
   },
   "outputs": [],
   "source": [
    "# Salvando resultados\n",
    "X_train_tr.to_csv('X_train_tr_full.csv', index=True)"
   ]
  },
  {
   "cell_type": "markdown",
   "metadata": {},
   "source": [
    "## Tratamento de outliers"
   ]
  },
  {
   "cell_type": "code",
   "execution_count": 132,
   "metadata": {
    "ExecuteTime": {
     "end_time": "2023-01-23T22:13:50.839367Z",
     "start_time": "2023-01-23T22:13:50.814582Z"
    }
   },
   "outputs": [
    {
     "data": {
      "text/html": [
       "<div>\n",
       "<style scoped>\n",
       "    .dataframe tbody tr th:only-of-type {\n",
       "        vertical-align: middle;\n",
       "    }\n",
       "\n",
       "    .dataframe tbody tr th {\n",
       "        vertical-align: top;\n",
       "    }\n",
       "\n",
       "    .dataframe thead th {\n",
       "        text-align: right;\n",
       "    }\n",
       "</style>\n",
       "<table border=\"1\" class=\"dataframe\">\n",
       "  <thead>\n",
       "    <tr style=\"text-align: right;\">\n",
       "      <th></th>\n",
       "      <th>Pregnancies</th>\n",
       "      <th>Glucose</th>\n",
       "      <th>BloodPressure</th>\n",
       "      <th>SkinThickness</th>\n",
       "      <th>Insulin</th>\n",
       "      <th>BMI</th>\n",
       "      <th>DiabetesPedigreeFunction</th>\n",
       "      <th>New_Age</th>\n",
       "    </tr>\n",
       "  </thead>\n",
       "  <tbody>\n",
       "    <tr>\n",
       "      <th>227</th>\n",
       "      <td>3.0</td>\n",
       "      <td>162.0</td>\n",
       "      <td>52.0</td>\n",
       "      <td>38.000000</td>\n",
       "      <td>349.666667</td>\n",
       "      <td>37.200001</td>\n",
       "      <td>0.652</td>\n",
       "      <td>1.0</td>\n",
       "    </tr>\n",
       "    <tr>\n",
       "      <th>168</th>\n",
       "      <td>4.0</td>\n",
       "      <td>110.0</td>\n",
       "      <td>66.0</td>\n",
       "      <td>35.000000</td>\n",
       "      <td>107.333333</td>\n",
       "      <td>31.900000</td>\n",
       "      <td>0.471</td>\n",
       "      <td>2.0</td>\n",
       "    </tr>\n",
       "    <tr>\n",
       "      <th>513</th>\n",
       "      <td>2.0</td>\n",
       "      <td>91.0</td>\n",
       "      <td>62.0</td>\n",
       "      <td>18.000000</td>\n",
       "      <td>48.666667</td>\n",
       "      <td>27.299999</td>\n",
       "      <td>0.525</td>\n",
       "      <td>0.0</td>\n",
       "    </tr>\n",
       "    <tr>\n",
       "      <th>7</th>\n",
       "      <td>10.0</td>\n",
       "      <td>115.0</td>\n",
       "      <td>70.0</td>\n",
       "      <td>37.666667</td>\n",
       "      <td>145.000000</td>\n",
       "      <td>35.299999</td>\n",
       "      <td>0.134</td>\n",
       "      <td>2.0</td>\n",
       "    </tr>\n",
       "    <tr>\n",
       "      <th>196</th>\n",
       "      <td>1.0</td>\n",
       "      <td>105.0</td>\n",
       "      <td>58.0</td>\n",
       "      <td>16.666667</td>\n",
       "      <td>179.000000</td>\n",
       "      <td>24.299999</td>\n",
       "      <td>0.187</td>\n",
       "      <td>0.0</td>\n",
       "    </tr>\n",
       "  </tbody>\n",
       "</table>\n",
       "</div>"
      ],
      "text/plain": [
       "     Pregnancies  Glucose  BloodPressure  SkinThickness     Insulin  \\\n",
       "227          3.0    162.0           52.0      38.000000  349.666667   \n",
       "168          4.0    110.0           66.0      35.000000  107.333333   \n",
       "513          2.0     91.0           62.0      18.000000   48.666667   \n",
       "7           10.0    115.0           70.0      37.666667  145.000000   \n",
       "196          1.0    105.0           58.0      16.666667  179.000000   \n",
       "\n",
       "           BMI  DiabetesPedigreeFunction  New_Age  \n",
       "227  37.200001                     0.652      1.0  \n",
       "168  31.900000                     0.471      2.0  \n",
       "513  27.299999                     0.525      0.0  \n",
       "7    35.299999                     0.134      2.0  \n",
       "196  24.299999                     0.187      0.0  "
      ]
     },
     "execution_count": 132,
     "metadata": {},
     "output_type": "execute_result"
    }
   ],
   "source": [
    "X_train_full = pd.read_csv('X_train_tr_full.csv', index_col=0)\n",
    "X_train_full.head()"
   ]
  },
  {
   "cell_type": "markdown",
   "metadata": {},
   "source": [
    "Para remover os outliers utilizaremos o método de `winsorize`."
   ]
  },
  {
   "cell_type": "code",
   "execution_count": 133,
   "metadata": {
    "ExecuteTime": {
     "end_time": "2023-01-23T22:13:51.648256Z",
     "start_time": "2023-01-23T22:13:51.638055Z"
    }
   },
   "outputs": [],
   "source": [
    "from scipy.stats.mstats import winsorize\n",
    "winsorize_list = [\"Pregnancies\", \"Glucose\", \"BloodPressure\", \"SkinThickness\", \"BMI\", \"Insulin\"]\n",
    "\n",
    "for col in winsorize_list:\n",
    "    X_train_full[\"Win_\"+col] = winsorize(X_train_full[col], limits=(0.01, 0.02))"
   ]
  },
  {
   "cell_type": "code",
   "execution_count": 134,
   "metadata": {
    "ExecuteTime": {
     "end_time": "2023-01-23T22:13:52.200349Z",
     "start_time": "2023-01-23T22:13:52.191294Z"
    }
   },
   "outputs": [
    {
     "name": "stdout",
     "output_type": "stream",
     "text": [
      "Outcome                     1.000000\n",
      "Win_Glucose                 0.498909\n",
      "Glucose                     0.497759\n",
      "New_Age                     0.349550\n",
      "Win_Insulin                 0.321224\n",
      "Win_BMI                     0.316090\n",
      "BMI                         0.315918\n",
      "Insulin                     0.301607\n",
      "Win_SkinThickness           0.265912\n",
      "SkinThickness               0.262065\n",
      "Pregnancies                 0.233916\n",
      "Win_Pregnancies             0.231643\n",
      "Win_BloodPressure           0.182173\n",
      "BloodPressure               0.176481\n",
      "DiabetesPedigreeFunction    0.158570\n",
      "Name: Outcome, dtype: float64\n"
     ]
    }
   ],
   "source": [
    "correlacao(X_train_full.join(y_train))"
   ]
  },
  {
   "cell_type": "code",
   "execution_count": 135,
   "metadata": {
    "ExecuteTime": {
     "end_time": "2023-01-23T22:13:53.359038Z",
     "start_time": "2023-01-23T22:13:52.997422Z"
    }
   },
   "outputs": [
    {
     "data": {
      "image/png": "[encoded data removed]",
      "text/plain": [
       "<Figure size 720x288 with 2 Axes>"
      ]
     },
     "metadata": {
      "needs_background": "light"
     },
     "output_type": "display_data"
    }
   ],
   "source": [
    "plot_dist_box(X_train_full.join(y_train), \"Win_Pregnancies\")"
   ]
  },
  {
   "cell_type": "code",
   "execution_count": 136,
   "metadata": {
    "ExecuteTime": {
     "end_time": "2023-01-23T22:13:55.885276Z",
     "start_time": "2023-01-23T22:13:55.568671Z"
    }
   },
   "outputs": [
    {
     "data": {
      "image/png": "[encoded data removed]",
      "text/plain": [
       "<Figure size 720x288 with 2 Axes>"
      ]
     },
     "metadata": {
      "needs_background": "light"
     },
     "output_type": "display_data"
    }
   ],
   "source": [
    "plot_dist_box(X_train_full.join(y_train), \"Win_Glucose\")"
   ]
  },
  {
   "cell_type": "code",
   "execution_count": 137,
   "metadata": {
    "ExecuteTime": {
     "end_time": "2023-01-23T22:13:56.417660Z",
     "start_time": "2023-01-23T22:13:56.015565Z"
    }
   },
   "outputs": [
    {
     "data": {
      "image/png": "[encoded data removed]",
      "text/plain": [
       "<Figure size 720x288 with 2 Axes>"
      ]
     },
     "metadata": {
      "needs_background": "light"
     },
     "output_type": "display_data"
    }
   ],
   "source": [
    "plot_dist_box(X_train_full.join(y_train), \"Win_BloodPressure\")"
   ]
  },
  {
   "cell_type": "code",
   "execution_count": 138,
   "metadata": {
    "ExecuteTime": {
     "end_time": "2023-01-23T22:13:56.930006Z",
     "start_time": "2023-01-23T22:13:56.533008Z"
    },
    "scrolled": true
   },
   "outputs": [
    {
     "data": {
      "image/png": "[encoded data removed]",
      "text/plain": [
       "<Figure size 720x288 with 2 Axes>"
      ]
     },
     "metadata": {
      "needs_background": "light"
     },
     "output_type": "display_data"
    }
   ],
   "source": [
    "plot_dist_box(X_train_full.join(y_train), \"Win_BMI\")"
   ]
  },
  {
   "cell_type": "code",
   "execution_count": 139,
   "metadata": {
    "ExecuteTime": {
     "end_time": "2023-01-23T22:13:57.432664Z",
     "start_time": "2023-01-23T22:13:57.064210Z"
    }
   },
   "outputs": [
    {
     "data": {
      "image/png": "[encoded data removed]",
      "text/plain": [
       "<Figure size 720x288 with 2 Axes>"
      ]
     },
     "metadata": {
      "needs_background": "light"
     },
     "output_type": "display_data"
    }
   ],
   "source": [
    "plot_dist_box(X_train_full.join(y_train), \"Win_SkinThickness\")"
   ]
  },
  {
   "cell_type": "code",
   "execution_count": 140,
   "metadata": {
    "ExecuteTime": {
     "end_time": "2023-01-23T22:13:58.979265Z",
     "start_time": "2023-01-23T22:13:58.638983Z"
    }
   },
   "outputs": [
    {
     "data": {
      "image/png": "[encoded data removed]",
      "text/plain": [
       "<Figure size 720x288 with 2 Axes>"
      ]
     },
     "metadata": {
      "needs_background": "light"
     },
     "output_type": "display_data"
    }
   ],
   "source": [
    "plot_dist_box(X_train_full.join(y_train), \"Win_Insulin\")"
   ]
  },
  {
   "cell_type": "code",
   "execution_count": 141,
   "metadata": {
    "ExecuteTime": {
     "end_time": "2023-01-23T22:13:59.516834Z",
     "start_time": "2023-01-23T22:13:59.496023Z"
    },
    "scrolled": true
   },
   "outputs": [
    {
     "data": {
      "text/html": [
       "<div>\n",
       "<style scoped>\n",
       "    .dataframe tbody tr th:only-of-type {\n",
       "        vertical-align: middle;\n",
       "    }\n",
       "\n",
       "    .dataframe tbody tr th {\n",
       "        vertical-align: top;\n",
       "    }\n",
       "\n",
       "    .dataframe thead th {\n",
       "        text-align: right;\n",
       "    }\n",
       "</style>\n",
       "<table border=\"1\" class=\"dataframe\">\n",
       "  <thead>\n",
       "    <tr style=\"text-align: right;\">\n",
       "      <th></th>\n",
       "      <th>DiabetesPedigreeFunction</th>\n",
       "      <th>New_Age</th>\n",
       "      <th>Win_Pregnancies</th>\n",
       "      <th>Win_Glucose</th>\n",
       "      <th>Win_BloodPressure</th>\n",
       "      <th>Win_SkinThickness</th>\n",
       "      <th>Win_BMI</th>\n",
       "      <th>Win_Insulin</th>\n",
       "    </tr>\n",
       "  </thead>\n",
       "  <tbody>\n",
       "    <tr>\n",
       "      <th>227</th>\n",
       "      <td>0.652</td>\n",
       "      <td>1.0</td>\n",
       "      <td>3.0</td>\n",
       "      <td>162.0</td>\n",
       "      <td>52.0</td>\n",
       "      <td>38.000000</td>\n",
       "      <td>37.200001</td>\n",
       "      <td>349.666667</td>\n",
       "    </tr>\n",
       "    <tr>\n",
       "      <th>168</th>\n",
       "      <td>0.471</td>\n",
       "      <td>2.0</td>\n",
       "      <td>4.0</td>\n",
       "      <td>110.0</td>\n",
       "      <td>66.0</td>\n",
       "      <td>35.000000</td>\n",
       "      <td>31.900000</td>\n",
       "      <td>107.333333</td>\n",
       "    </tr>\n",
       "    <tr>\n",
       "      <th>513</th>\n",
       "      <td>0.525</td>\n",
       "      <td>0.0</td>\n",
       "      <td>2.0</td>\n",
       "      <td>91.0</td>\n",
       "      <td>62.0</td>\n",
       "      <td>18.000000</td>\n",
       "      <td>27.299999</td>\n",
       "      <td>48.666667</td>\n",
       "    </tr>\n",
       "    <tr>\n",
       "      <th>7</th>\n",
       "      <td>0.134</td>\n",
       "      <td>2.0</td>\n",
       "      <td>10.0</td>\n",
       "      <td>115.0</td>\n",
       "      <td>70.0</td>\n",
       "      <td>37.666667</td>\n",
       "      <td>35.299999</td>\n",
       "      <td>145.000000</td>\n",
       "    </tr>\n",
       "    <tr>\n",
       "      <th>196</th>\n",
       "      <td>0.187</td>\n",
       "      <td>0.0</td>\n",
       "      <td>1.0</td>\n",
       "      <td>105.0</td>\n",
       "      <td>58.0</td>\n",
       "      <td>16.666667</td>\n",
       "      <td>24.299999</td>\n",
       "      <td>179.000000</td>\n",
       "    </tr>\n",
       "  </tbody>\n",
       "</table>\n",
       "</div>"
      ],
      "text/plain": [
       "     DiabetesPedigreeFunction  New_Age  Win_Pregnancies  Win_Glucose  \\\n",
       "227                     0.652      1.0              3.0        162.0   \n",
       "168                     0.471      2.0              4.0        110.0   \n",
       "513                     0.525      0.0              2.0         91.0   \n",
       "7                       0.134      2.0             10.0        115.0   \n",
       "196                     0.187      0.0              1.0        105.0   \n",
       "\n",
       "     Win_BloodPressure  Win_SkinThickness    Win_BMI  Win_Insulin  \n",
       "227               52.0          38.000000  37.200001   349.666667  \n",
       "168               66.0          35.000000  31.900000   107.333333  \n",
       "513               62.0          18.000000  27.299999    48.666667  \n",
       "7                 70.0          37.666667  35.299999   145.000000  \n",
       "196               58.0          16.666667  24.299999   179.000000  "
      ]
     },
     "execution_count": 141,
     "metadata": {},
     "output_type": "execute_result"
    }
   ],
   "source": [
    "X_train_tr = X_train_full.drop(winsorize_list, axis=1)\n",
    "X_train_tr.head()"
   ]
  },
  {
   "cell_type": "code",
   "execution_count": 142,
   "metadata": {
    "ExecuteTime": {
     "end_time": "2023-01-23T22:14:04.436032Z",
     "start_time": "2023-01-23T22:14:04.349904Z"
    }
   },
   "outputs": [
    {
     "name": "stdout",
     "output_type": "stream",
     "text": [
      "Acurácia média: 0.773 (std=0.0178)\n",
      "Precisão média: 0.7111 (std=0.0302)\n",
      "Recall médio: 0.5921 (std=0.0387)\n"
     ]
    }
   ],
   "source": [
    "log_clf = LogisticRegression()\n",
    "\n",
    "std_scaler = StandardScaler()\n",
    "X_train_sc = std_scaler.fit_transform(X_train_tr)\n",
    "\n",
    "log_clf.fit(X_train_sc, y_train)\n",
    "relatorio_cross_val(log_clf, X_train_sc, y_train)"
   ]
  },
  {
   "cell_type": "markdown",
   "metadata": {},
   "source": [
    "Perdemos um pouco de acúracia mas melhoramos o recall. Seguiremos com esse tratamento."
   ]
  },
  {
   "cell_type": "markdown",
   "metadata": {},
   "source": [
    "## Modelos finais"
   ]
  },
  {
   "cell_type": "code",
   "execution_count": null,
   "metadata": {},
   "outputs": [],
   "source": [
    "# Função para avaliação dos resultados utilizando o dataset de teste\n",
    "    \n",
    "def relatorio_metricas(y_train, y_pred):\n",
    "    \"\"\"Calcula e imprime acurácia, precisão e recall.\"\"\"\n",
    "    accuracy = np.round(accuracy_score(y_train, y_pred), 4)\n",
    "    precision = np.round(precision_score(y_train, y_pred), 4)\n",
    "    recall = np.round(recall_score(y_train, y_pred), 4)\n",
    "    print(f\"Acurácia: {accuracy}\")\n",
    "    print(f\"Precisão: {precision}\")\n",
    "    print(f\"Recall: {recall}\")"
   ]
  },
  {
   "cell_type": "code",
   "execution_count": 143,
   "metadata": {
    "ExecuteTime": {
     "end_time": "2023-01-23T22:15:41.632850Z",
     "start_time": "2023-01-23T22:15:41.615407Z"
    }
   },
   "outputs": [
    {
     "data": {
      "text/html": [
       "<div>\n",
       "<style scoped>\n",
       "    .dataframe tbody tr th:only-of-type {\n",
       "        vertical-align: middle;\n",
       "    }\n",
       "\n",
       "    .dataframe tbody tr th {\n",
       "        vertical-align: top;\n",
       "    }\n",
       "\n",
       "    .dataframe thead th {\n",
       "        text-align: right;\n",
       "    }\n",
       "</style>\n",
       "<table border=\"1\" class=\"dataframe\">\n",
       "  <thead>\n",
       "    <tr style=\"text-align: right;\">\n",
       "      <th></th>\n",
       "      <th>DiabetesPedigreeFunction</th>\n",
       "      <th>New_Age</th>\n",
       "      <th>Win_Pregnancies</th>\n",
       "      <th>Win_Glucose</th>\n",
       "      <th>Win_BloodPressure</th>\n",
       "      <th>Win_SkinThickness</th>\n",
       "      <th>Win_BMI</th>\n",
       "      <th>Win_Insulin</th>\n",
       "    </tr>\n",
       "  </thead>\n",
       "  <tbody>\n",
       "    <tr>\n",
       "      <th>227</th>\n",
       "      <td>0.532966</td>\n",
       "      <td>-0.492427</td>\n",
       "      <td>-0.243030</td>\n",
       "      <td>1.343993</td>\n",
       "      <td>-1.739592</td>\n",
       "      <td>1.027813</td>\n",
       "      <td>0.762404</td>\n",
       "      <td>2.168740</td>\n",
       "    </tr>\n",
       "    <tr>\n",
       "      <th>168</th>\n",
       "      <td>-0.002496</td>\n",
       "      <td>0.409434</td>\n",
       "      <td>0.061107</td>\n",
       "      <td>-0.392633</td>\n",
       "      <td>-0.522531</td>\n",
       "      <td>0.695460</td>\n",
       "      <td>-0.045472</td>\n",
       "      <td>-0.452751</td>\n",
       "    </tr>\n",
       "    <tr>\n",
       "      <th>513</th>\n",
       "      <td>0.157255</td>\n",
       "      <td>-1.394288</td>\n",
       "      <td>-0.547168</td>\n",
       "      <td>-1.027169</td>\n",
       "      <td>-0.870263</td>\n",
       "      <td>-1.187872</td>\n",
       "      <td>-0.746647</td>\n",
       "      <td>-1.087390</td>\n",
       "    </tr>\n",
       "    <tr>\n",
       "      <th>7</th>\n",
       "      <td>-0.999459</td>\n",
       "      <td>0.409434</td>\n",
       "      <td>1.885932</td>\n",
       "      <td>-0.225649</td>\n",
       "      <td>-0.174799</td>\n",
       "      <td>0.990885</td>\n",
       "      <td>0.472788</td>\n",
       "      <td>-0.045284</td>\n",
       "    </tr>\n",
       "    <tr>\n",
       "      <th>196</th>\n",
       "      <td>-0.842667</td>\n",
       "      <td>-1.394288</td>\n",
       "      <td>-0.851305</td>\n",
       "      <td>-0.559616</td>\n",
       "      <td>-1.217994</td>\n",
       "      <td>-1.335585</td>\n",
       "      <td>-1.203935</td>\n",
       "      <td>0.322518</td>\n",
       "    </tr>\n",
       "  </tbody>\n",
       "</table>\n",
       "</div>"
      ],
      "text/plain": [
       "     DiabetesPedigreeFunction   New_Age  Win_Pregnancies  Win_Glucose  \\\n",
       "227                  0.532966 -0.492427        -0.243030     1.343993   \n",
       "168                 -0.002496  0.409434         0.061107    -0.392633   \n",
       "513                  0.157255 -1.394288        -0.547168    -1.027169   \n",
       "7                   -0.999459  0.409434         1.885932    -0.225649   \n",
       "196                 -0.842667 -1.394288        -0.851305    -0.559616   \n",
       "\n",
       "     Win_BloodPressure  Win_SkinThickness   Win_BMI  Win_Insulin  \n",
       "227          -1.739592           1.027813  0.762404     2.168740  \n",
       "168          -0.522531           0.695460 -0.045472    -0.452751  \n",
       "513          -0.870263          -1.187872 -0.746647    -1.087390  \n",
       "7            -0.174799           0.990885  0.472788    -0.045284  \n",
       "196          -1.217994          -1.335585 -1.203935     0.322518  "
      ]
     },
     "execution_count": 143,
     "metadata": {},
     "output_type": "execute_result"
    }
   ],
   "source": [
    "# Reescalando\n",
    "\n",
    "X_train_sc = pd.DataFrame(X_train_sc, columns=X_train_tr.columns, index=X_train_tr.index)\n",
    "X_train_sc.head()"
   ]
  },
  {
   "cell_type": "markdown",
   "metadata": {},
   "source": [
    "### Random Forest"
   ]
  },
  {
   "cell_type": "code",
   "execution_count": 148,
   "metadata": {
    "ExecuteTime": {
     "end_time": "2023-01-23T22:17:52.187800Z",
     "start_time": "2023-01-23T22:17:39.171304Z"
    }
   },
   "outputs": [
    {
     "name": "stdout",
     "output_type": "stream",
     "text": [
      "Acurácia média: 0.7623 (std=0.0169)\n",
      "Precisão média: 0.6984 (std=0.0185)\n",
      "Recall médio: 0.5614 (std=0.0484)\n"
     ]
    }
   ],
   "source": [
    "forest_clf = RandomForestClassifier(max_depth=5, max_features=7, \n",
    "                                    min_samples_split=30, n_estimators=700, \n",
    "                                    random_state=42)\n",
    "forest_clf.fit(X_train_sc, y_train)\n",
    "relatorio_cross_val(forest_clf, X_train_sc, y_train)"
   ]
  },
  {
   "cell_type": "code",
   "execution_count": 149,
   "metadata": {
    "ExecuteTime": {
     "end_time": "2023-01-23T22:17:52.339092Z",
     "start_time": "2023-01-23T22:17:52.335915Z"
    }
   },
   "outputs": [],
   "source": [
    "# # Randomized cv\n",
    "\n",
    "# from sklearn.model_selection import RandomizedSearchCV\n",
    "\n",
    "# params_grid = {\"n_estimators\":np.linspace(100,1000,10, dtype=np.int), \n",
    "#                \"max_depth\":np.arange(4, 21, 1, dtype=np.int),\n",
    "#                \"min_samples_split\": [2,5,10,30],\n",
    "#                \"max_features\": [3,4,5,6,7]\n",
    "#               }\n",
    "# rand_search_cv = RandomizedSearchCV(forest_clf, params_grid, n_iter=100, cv=3, scoring='accuracy', verbose=2, n_jobs=-1)\n",
    "# rand_search_cv.fit(X_train_sc, y_train)\n",
    "# print(rand_search_cv.best_estimator_)\n",
    "# print(rand_search_cv.best_score_)"
   ]
  },
  {
   "cell_type": "code",
   "execution_count": 150,
   "metadata": {
    "ExecuteTime": {
     "end_time": "2023-01-23T22:17:52.478392Z",
     "start_time": "2023-01-23T22:17:52.474554Z"
    }
   },
   "outputs": [],
   "source": [
    "# Best params for forest_clf are: \n",
    "# RandomForestClassifier(max_depth=5, max_features=7, min_samples_split=30, n_estimators=700, random_state=42)"
   ]
  },
  {
   "cell_type": "markdown",
   "metadata": {},
   "source": [
    "### XGBoost"
   ]
  },
  {
   "cell_type": "code",
   "execution_count": 151,
   "metadata": {
    "ExecuteTime": {
     "end_time": "2023-01-23T22:18:10.482574Z",
     "start_time": "2023-01-23T22:17:52.639683Z"
    }
   },
   "outputs": [
    {
     "name": "stdout",
     "output_type": "stream",
     "text": [
      "Acurácia média: 0.7485 (std=0.0053)\n",
      "Precisão média: 0.6511 (std=0.0053)\n",
      "Recall médio: 0.6053 (std=0.0387)\n"
     ]
    }
   ],
   "source": [
    "from xgboost import XGBClassifier\n",
    "\n",
    "xgb_clf = XGBClassifier(learning_rate=0.07, max_depth=6, random_state=42, n_estimators=500)\n",
    "xgb_clf.fit(X_train_sc, y_train)\n",
    "relatorio_cross_val(xgb_clf, X_train_sc, y_train)"
   ]
  },
  {
   "cell_type": "code",
   "execution_count": 152,
   "metadata": {
    "ExecuteTime": {
     "end_time": "2023-01-23T22:18:10.627799Z",
     "start_time": "2023-01-23T22:18:10.622658Z"
    }
   },
   "outputs": [],
   "source": [
    "# grid search cv para XGB\n",
    "\n",
    "# params = {\n",
    "#     \"learning_rate\": [0.06, 0.09, 0.1, 0.2],\n",
    "#     \"max_depth\":[4,5,6,7,8],\n",
    "#     \"n_estimators\":[100,200,500]}\n",
    "\n",
    "# grid_search_cv = GridSearchCV(xgb_clf, params, cv=3, scoring='accuracy', verbose=2, n_jobs=-1)\n",
    "# grid_search_cv.fit(X_train, y_train)\n",
    "# grid_search_cv.best_estimator_\n",
    "# grid_search_cv.best_score_"
   ]
  },
  {
   "cell_type": "code",
   "execution_count": 153,
   "metadata": {
    "ExecuteTime": {
     "end_time": "2023-01-23T22:18:10.765293Z",
     "start_time": "2023-01-23T22:18:10.762132Z"
    }
   },
   "outputs": [],
   "source": [
    "# Melhores params para XGB são:\n",
    "# XGBClassifier(learning_rate=0.07, max_depth=6, random_state=42, n_estimators=500)"
   ]
  },
  {
   "cell_type": "markdown",
   "metadata": {},
   "source": [
    "## Support-vector machine"
   ]
  },
  {
   "cell_type": "code",
   "execution_count": 154,
   "metadata": {
    "ExecuteTime": {
     "end_time": "2023-01-23T22:18:11.300871Z",
     "start_time": "2023-01-23T22:18:10.901096Z"
    }
   },
   "outputs": [
    {
     "name": "stdout",
     "output_type": "stream",
     "text": [
      "Acurácia média: 0.7622 (std=0.0126)\n",
      "Precisão média: 0.7039 (std=0.0305)\n",
      "Recall médio: 0.557 (std=0.0434)\n"
     ]
    }
   ],
   "source": [
    "from sklearn.svm import SVC\n",
    "\n",
    "svc_clf = SVC(kernel='linear', probability=True)\n",
    "svc_clf.fit(X_train_sc, y_train)\n",
    "relatorio_cross_val(svc_clf, X_train_sc, y_train)"
   ]
  },
  {
   "cell_type": "markdown",
   "metadata": {},
   "source": [
    "### Logistic regression"
   ]
  },
  {
   "cell_type": "code",
   "execution_count": 155,
   "metadata": {
    "ExecuteTime": {
     "end_time": "2023-01-23T22:18:11.539017Z",
     "start_time": "2023-01-23T22:18:11.449453Z"
    }
   },
   "outputs": [
    {
     "name": "stdout",
     "output_type": "stream",
     "text": [
      "Acurácia média: 0.773 (std=0.0178)\n",
      "Precisão média: 0.7111 (std=0.0302)\n",
      "Recall médio: 0.5921 (std=0.0387)\n"
     ]
    }
   ],
   "source": [
    "log_clf = LogisticRegression()\n",
    "log_clf.fit(X_train_sc, y_train)\n",
    "relatorio_cross_val(log_clf, X_train_sc, y_train)"
   ]
  },
  {
   "cell_type": "markdown",
   "metadata": {},
   "source": [
    "### Majority hard vote "
   ]
  },
  {
   "cell_type": "code",
   "execution_count": 156,
   "metadata": {
    "ExecuteTime": {
     "end_time": "2023-01-23T22:18:43.812486Z",
     "start_time": "2023-01-23T22:18:11.691443Z"
    }
   },
   "outputs": [
    {
     "name": "stdout",
     "output_type": "stream",
     "text": [
      "Acurácia média: 0.7577 (std=0.0094)\n",
      "Precisão média: 0.7108 (std=0.0046)\n",
      "Recall médio: 0.5175 (std=0.0447)\n"
     ]
    }
   ],
   "source": [
    "from sklearn.ensemble import VotingClassifier\n",
    "\n",
    "estimators = [('forest', forest_clf), ('xgb', xgb_clf), ('svc', svc_clf), ('log', log_clf)]\n",
    "voting_hard_clf = VotingClassifier(estimators, voting='hard')\n",
    "voting_hard_clf.fit(X_train_sc, y_train)\n",
    "relatorio_cross_val(voting_hard_clf, X_train_sc, y_train)"
   ]
  },
  {
   "cell_type": "markdown",
   "metadata": {},
   "source": [
    "### Majority soft vote "
   ]
  },
  {
   "cell_type": "code",
   "execution_count": 158,
   "metadata": {
    "ExecuteTime": {
     "end_time": "2023-01-23T22:20:22.279264Z",
     "start_time": "2023-01-23T22:19:51.100305Z"
    }
   },
   "outputs": [
    {
     "name": "stdout",
     "output_type": "stream",
     "text": [
      "Acurácia média: 0.7653 (std=0.0038)\n",
      "Precisão média: 0.6857 (std=0.0136)\n",
      "Recall médio: 0.6096 (std=0.0377)\n"
     ]
    }
   ],
   "source": [
    "estimators = [('forest', forest_clf), ('xgb', xgb_clf), ('log', log_clf)]\n",
    "voting_soft_clf = VotingClassifier(estimators, voting='soft')\n",
    "voting_soft_clf.fit(X_train_sc, y_train)\n",
    "relatorio_cross_val(voting_soft_clf, X_train_sc, y_train)"
   ]
  },
  {
   "cell_type": "markdown",
   "metadata": {},
   "source": [
    "## Avaliação final do modelo"
   ]
  },
  {
   "cell_type": "code",
   "execution_count": 159,
   "metadata": {
    "ExecuteTime": {
     "end_time": "2023-01-23T22:20:22.518631Z",
     "start_time": "2023-01-23T22:20:22.492303Z"
    }
   },
   "outputs": [
    {
     "ename": "NameError",
     "evalue": "name 'imp' is not defined",
     "output_type": "error",
     "traceback": [
      "\u001b[0;31m---------------------------------------------------------------------------\u001b[0m",
      "\u001b[0;31mNameError\u001b[0m                                 Traceback (most recent call last)",
      "\u001b[0;32m<ipython-input-159-9b35810fe82c>\u001b[0m in \u001b[0;36m<module>\u001b[0;34m\u001b[0m\n\u001b[1;32m      2\u001b[0m \u001b[0;34m\u001b[0m\u001b[0m\n\u001b[1;32m      3\u001b[0m \u001b[0;31m# Imputando\u001b[0m\u001b[0;34m\u001b[0m\u001b[0;34m\u001b[0m\u001b[0;34m\u001b[0m\u001b[0m\n\u001b[0;32m----> 4\u001b[0;31m \u001b[0mX_test_tr\u001b[0m \u001b[0;34m=\u001b[0m \u001b[0mimp\u001b[0m\u001b[0;34m.\u001b[0m\u001b[0mtransform\u001b[0m\u001b[0;34m(\u001b[0m\u001b[0mX_test\u001b[0m\u001b[0;34m)\u001b[0m\u001b[0;34m\u001b[0m\u001b[0;34m\u001b[0m\u001b[0m\n\u001b[0m\u001b[1;32m      5\u001b[0m \u001b[0mX_test_tr\u001b[0m \u001b[0;34m=\u001b[0m \u001b[0mpd\u001b[0m\u001b[0;34m.\u001b[0m\u001b[0mDataFrame\u001b[0m\u001b[0;34m(\u001b[0m\u001b[0mX_test_tr\u001b[0m\u001b[0;34m,\u001b[0m \u001b[0mcolumns\u001b[0m\u001b[0;34m=\u001b[0m\u001b[0mX_test\u001b[0m\u001b[0;34m.\u001b[0m\u001b[0mcolumns\u001b[0m\u001b[0;34m,\u001b[0m \u001b[0mindex\u001b[0m\u001b[0;34m=\u001b[0m\u001b[0mX_test\u001b[0m\u001b[0;34m.\u001b[0m\u001b[0mindex\u001b[0m\u001b[0;34m)\u001b[0m\u001b[0;34m\u001b[0m\u001b[0;34m\u001b[0m\u001b[0m\n\u001b[1;32m      6\u001b[0m \u001b[0;34m\u001b[0m\u001b[0m\n",
      "\u001b[0;31mNameError\u001b[0m: name 'imp' is not defined"
     ]
    }
   ],
   "source": [
    "# Tratamento dos dados de teste\n",
    "\n",
    "# Imputando\n",
    "X_test_tr = imp.transform(X_test)\n",
    "X_test_tr = pd.DataFrame(X_test_tr, columns=X_test.columns, index=X_test.index)\n",
    "\n",
    "# Criando variaveis log\n",
    "\n",
    "X_test_tr['LogDiabetesPedigreeFunction'] = np.log(X_test_tr['DiabetesPedigreeFunction'])\n",
    "X_test_tr['LogInsulin'] = np.log(X_test_tr['Insulin'])\n",
    "drop = [\"Insulin\", \"DiabetesPedigreeFunction\"]\n",
    "X_test_tr = X_test_tr.drop(drop, axis=1)\n",
    "\n",
    "# Binning\n",
    "X_test_tr[\"New_Age\"] = kbins.transform(X_test_tr[['Age']])\n",
    "X_test_tr = X_test_tr.drop(\"Age\", axis=1)\n",
    "\n",
    "# Outliers\n",
    "\n",
    "winsorize_list = [\"Pregnancies\", \"Glucose\", \"BloodPressure\", \"SkinThickness\", \"BMI\", \"LogInsulin\"]\n",
    "\n",
    "for col in winsorize_list:\n",
    "    X_test_tr[\"Win_\"+col] = winsorize(X_test_tr[col], limits=(0.01, 0.02))\n",
    "\n",
    "X_test_tr = X_test_tr.drop(winsorize_list, axis=1)\n",
    "\n",
    "\n",
    "# Scaling\n",
    "X_test_sc = std_scaler.transform(X_test_tr)\n",
    "X_test_sc = pd.DataFrame(X_test_sc, columns=X_test_tr.columns, index=X_test_tr.index)\n",
    "\n",
    "X_test_sc.head()"
   ]
  },
  {
   "cell_type": "code",
   "execution_count": null,
   "metadata": {
    "ExecuteTime": {
     "end_time": "2023-01-23T22:20:22.523546Z",
     "start_time": "2023-01-23T22:19:59.143Z"
    },
    "scrolled": false
   },
   "outputs": [],
   "source": [
    "def metrics_report(y_train, y_pred):\n",
    "    accuracy = np.round(accuracy_score(y_train, y_pred), 4)\n",
    "    precision = np.round(precision_score(y_train, y_pred), 4)\n",
    "    recall = np.round(recall_score(y_train, y_pred), 4)\n",
    "    f1 = np.round(f1_score(y_train, y_pred), 4)\n",
    "    print(f\"Accuracy score: {accuracy}\")\n",
    "    print(f\"Precision score: {precision}\")\n",
    "    print(f\"Recall score: {recall}\")\n",
    "    print(f\"F1 score: {f1}\")\n",
    "    print(\"-------------------------- \\n\")\n",
    "\n",
    "models = [forest_clf, xgb_clf, svc_clf, log_clf, voting_hard_clf, voting_soft_clf]\n",
    "models_names = [\"Random Forest\", \"XGBoost\", \"SVM\", \"Log. Reg.\", \"Hard voting\", \"Soft voting\"]\n",
    "\n",
    "for name, model in zip(models_names, models):\n",
    "    y_pred = model.predict(X_test_sc)\n",
    "    print(f\"*Results for {name} \\n\")\n",
    "    metrics_report(y_test, y_pred)"
   ]
  },
  {
   "cell_type": "code",
   "execution_count": null,
   "metadata": {
    "ExecuteTime": {
     "end_time": "2023-01-23T22:20:22.526988Z",
     "start_time": "2023-01-23T22:20:00.545Z"
    }
   },
   "outputs": [],
   "source": [
    "# Incluir modelo simplificado com PCA e plot Voronoi\n",
    "# Incluir comparação com RandomForest além da LogisticRegression\n",
    "# Incluir avaliação final do modelo com o dataset de teste\n",
    "# Incluir \n",
    "# Avaliar matriz de confusão e impacto financeiro do modelo"
   ]
  }
 ],
 "metadata": {
  "kernelspec": {
   "display_name": "Python 3",
   "language": "python",
   "name": "python3"
  },
  "language_info": {
   "codemirror_mode": {
    "name": "ipython",
    "version": 3
   },
   "file_extension": ".py",
   "mimetype": "text/x-python",
   "name": "python",
   "nbconvert_exporter": "python",
   "pygments_lexer": "ipython3",
   "version": "3.8.10"
  },
  "varInspector": {
   "cols": {
    "lenName": 16,
    "lenType": 16,
    "lenVar": 40
   },
   "kernels_config": {
    "python": {
     "delete_cmd_postfix": "",
     "delete_cmd_prefix": "del ",
     "library": "var_list.py",
     "varRefreshCmd": "print(var_dic_list())"
    },
    "r": {
     "delete_cmd_postfix": ") ",
     "delete_cmd_prefix": "rm(",
     "library": "var_list.r",
     "varRefreshCmd": "cat(var_dic_list()) "
    }
   },
   "types_to_exclude": [
    "module",
    "function",
    "builtin_function_or_method",
    "instance",
    "_Feature"
   ],
   "window_display": false
  }
 },
 "nbformat": 4,
 "nbformat_minor": 4
}
