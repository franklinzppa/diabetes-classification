{
 "cells": [
  {
   "cell_type": "markdown",
   "metadata": {},
   "source": [
    "## Introdução\n",
    "\n",
    "Esse projeto tem como objetivo prever o diagnóstico de diabetes de um paciente dado um conjunto de dados de saúde. Temos então um problema de **classificação supervisionado offline**.\n"
   ]
  },
  {
   "cell_type": "markdown",
   "metadata": {},
   "source": [
    "## Sobre os dados\n",
    "\n",
    "\n",
    "Os dados são originalmente do estudo do *National Institute of Diabetes and Digestive and Kidney Diseases* e foram discutidos [neste artigo](http://). Os dados podem ser encontrados [aqui](https://www.kaggle.com/datasets/mathchi/diabetes-data-set). Todos os dados são de pacientes mulheres de pelo menos 21 anos de idade. As *features* são:\n",
    "\n",
    "* **Pregnancies**: Número de eventos de gravidez; \n",
    "* **Glucose**: Concentração de glicose plasmática;\n",
    "* **BloodPressure**: Pressão sanguínea diastólica ($mmHg$);\n",
    "* **SkinThickness**: Grossura da dobra da pele do tríceps ($mm$);\n",
    "* **Insulin**: Insulina sérica ($\\mu U/mL$);\n",
    "* **BMI**: *Body mass index*, Peso em $kg$ / (altura em $m$)$^2$;\n",
    "* **DiabetesPedigreeFunction**: mede a possibilidade de diabetes dado o histórico familiar;\n",
    "* **Age**: Idade (anos);\n",
    "* **Outcome**: Target, 0 para não-diabético, 1 para diabético.\n",
    "\n"
   ]
  },
  {
   "cell_type": "markdown",
   "metadata": {},
   "source": [
    "## Problema de negócio e avaliação do modelo\n",
    "\n",
    "O custo de exame e de prevenção são significativamente menores que os custos de tratamento da diabetes. Além disso, a detecção precoce facilita o tratamento (https://www.previva.com.br/reduzir-custo-do-diabetes/).\n",
    "\n",
    "A principal métrica que utilizaremos para avaliar o modelo será o **recall**, mas também analisaremos a acurácia, precisão e F1 dos modelos. Compararemos nossos resultados com um modelo heurístico baseado na concentração de glicose."
   ]
  },
  {
   "cell_type": "markdown",
   "metadata": {},
   "source": [
    "## Importando e explorando os dados"
   ]
  },
  {
   "cell_type": "code",
   "execution_count": 1,
   "metadata": {
    "ExecuteTime": {
     "end_time": "2023-06-09T14:12:22.347841Z",
     "start_time": "2023-06-09T14:12:20.408005Z"
    }
   },
   "outputs": [],
   "source": [
    "# Importando bibliotecas\n",
    "\n",
    "import numpy as np\n",
    "import pandas as pd\n",
    "import seaborn as sns\n",
    "import matplotlib\n",
    "import matplotlib.pyplot as plt\n",
    "from sklearn.model_selection import (train_test_split, cross_val_score,\n",
    "                                     GridSearchCV, RandomizedSearchCV)\n",
    "\n",
    "from sklearn.metrics import (accuracy_score, precision_score,\n",
    "                             recall_score, f1_score,\n",
    "                             confusion_matrix, ConfusionMatrixDisplay)\n",
    "\n",
    "\n",
    "from sklearn.linear_model import LogisticRegression\n",
    "from sklearn.ensemble import RandomForestClassifier, VotingClassifier\n",
    "from sklearn.tree import DecisionTreeClassifier\n",
    "from sklearn.svm import SVC\n",
    "from sklearn import tree\n",
    "from sklearn.pipeline import Pipeline\n",
    "from sklearn.impute import KNNImputer, SimpleImputer\n",
    "from sklearn.preprocessing import StandardScaler, KBinsDiscretizer, QuantileTransformer, FunctionTransformer\n",
    "from sklearn.compose import ColumnTransformer"
   ]
  },
  {
   "cell_type": "code",
   "execution_count": 2,
   "metadata": {
    "ExecuteTime": {
     "end_time": "2023-06-09T14:12:22.380059Z",
     "start_time": "2023-06-09T14:12:22.364647Z"
    }
   },
   "outputs": [],
   "source": [
    "data = pd.read_csv(\"data/diabetes.csv\")"
   ]
  },
  {
   "cell_type": "code",
   "execution_count": 3,
   "metadata": {
    "ExecuteTime": {
     "end_time": "2023-06-09T14:12:22.459672Z",
     "start_time": "2023-06-09T14:12:22.428684Z"
    }
   },
   "outputs": [
    {
     "data": {
      "text/html": [
       "<div>\n",
       "<style scoped>\n",
       "    .dataframe tbody tr th:only-of-type {\n",
       "        vertical-align: middle;\n",
       "    }\n",
       "\n",
       "    .dataframe tbody tr th {\n",
       "        vertical-align: top;\n",
       "    }\n",
       "\n",
       "    .dataframe thead th {\n",
       "        text-align: right;\n",
       "    }\n",
       "</style>\n",
       "<table border=\"1\" class=\"dataframe\">\n",
       "  <thead>\n",
       "    <tr style=\"text-align: right;\">\n",
       "      <th></th>\n",
       "      <th>Pregnancies</th>\n",
       "      <th>Glucose</th>\n",
       "      <th>BloodPressure</th>\n",
       "      <th>SkinThickness</th>\n",
       "      <th>Insulin</th>\n",
       "      <th>BMI</th>\n",
       "      <th>DiabetesPedigreeFunction</th>\n",
       "      <th>Age</th>\n",
       "      <th>Outcome</th>\n",
       "    </tr>\n",
       "  </thead>\n",
       "  <tbody>\n",
       "    <tr>\n",
       "      <th>0</th>\n",
       "      <td>6</td>\n",
       "      <td>148</td>\n",
       "      <td>72</td>\n",
       "      <td>35</td>\n",
       "      <td>0</td>\n",
       "      <td>33.6</td>\n",
       "      <td>0.627</td>\n",
       "      <td>50</td>\n",
       "      <td>1</td>\n",
       "    </tr>\n",
       "    <tr>\n",
       "      <th>1</th>\n",
       "      <td>1</td>\n",
       "      <td>85</td>\n",
       "      <td>66</td>\n",
       "      <td>29</td>\n",
       "      <td>0</td>\n",
       "      <td>26.6</td>\n",
       "      <td>0.351</td>\n",
       "      <td>31</td>\n",
       "      <td>0</td>\n",
       "    </tr>\n",
       "    <tr>\n",
       "      <th>2</th>\n",
       "      <td>8</td>\n",
       "      <td>183</td>\n",
       "      <td>64</td>\n",
       "      <td>0</td>\n",
       "      <td>0</td>\n",
       "      <td>23.3</td>\n",
       "      <td>0.672</td>\n",
       "      <td>32</td>\n",
       "      <td>1</td>\n",
       "    </tr>\n",
       "    <tr>\n",
       "      <th>3</th>\n",
       "      <td>1</td>\n",
       "      <td>89</td>\n",
       "      <td>66</td>\n",
       "      <td>23</td>\n",
       "      <td>94</td>\n",
       "      <td>28.1</td>\n",
       "      <td>0.167</td>\n",
       "      <td>21</td>\n",
       "      <td>0</td>\n",
       "    </tr>\n",
       "    <tr>\n",
       "      <th>4</th>\n",
       "      <td>0</td>\n",
       "      <td>137</td>\n",
       "      <td>40</td>\n",
       "      <td>35</td>\n",
       "      <td>168</td>\n",
       "      <td>43.1</td>\n",
       "      <td>2.288</td>\n",
       "      <td>33</td>\n",
       "      <td>1</td>\n",
       "    </tr>\n",
       "  </tbody>\n",
       "</table>\n",
       "</div>"
      ],
      "text/plain": [
       "   Pregnancies  Glucose  BloodPressure  SkinThickness  Insulin   BMI  \\\n",
       "0            6      148             72             35        0  33.6   \n",
       "1            1       85             66             29        0  26.6   \n",
       "2            8      183             64              0        0  23.3   \n",
       "3            1       89             66             23       94  28.1   \n",
       "4            0      137             40             35      168  43.1   \n",
       "\n",
       "   DiabetesPedigreeFunction  Age  Outcome  \n",
       "0                     0.627   50        1  \n",
       "1                     0.351   31        0  \n",
       "2                     0.672   32        1  \n",
       "3                     0.167   21        0  \n",
       "4                     2.288   33        1  "
      ]
     },
     "execution_count": 3,
     "metadata": {},
     "output_type": "execute_result"
    }
   ],
   "source": [
    "data.head()"
   ]
  },
  {
   "cell_type": "code",
   "execution_count": 4,
   "metadata": {
    "ExecuteTime": {
     "end_time": "2023-06-09T14:12:24.222517Z",
     "start_time": "2023-06-09T14:12:24.179630Z"
    }
   },
   "outputs": [
    {
     "data": {
      "text/html": [
       "<div>\n",
       "<style scoped>\n",
       "    .dataframe tbody tr th:only-of-type {\n",
       "        vertical-align: middle;\n",
       "    }\n",
       "\n",
       "    .dataframe tbody tr th {\n",
       "        vertical-align: top;\n",
       "    }\n",
       "\n",
       "    .dataframe thead th {\n",
       "        text-align: right;\n",
       "    }\n",
       "</style>\n",
       "<table border=\"1\" class=\"dataframe\">\n",
       "  <thead>\n",
       "    <tr style=\"text-align: right;\">\n",
       "      <th></th>\n",
       "      <th>Pregnancies</th>\n",
       "      <th>Glucose</th>\n",
       "      <th>BloodPressure</th>\n",
       "      <th>SkinThickness</th>\n",
       "      <th>Insulin</th>\n",
       "      <th>BMI</th>\n",
       "      <th>DiabetesPedigreeFunction</th>\n",
       "      <th>Age</th>\n",
       "      <th>Outcome</th>\n",
       "    </tr>\n",
       "  </thead>\n",
       "  <tbody>\n",
       "    <tr>\n",
       "      <th>count</th>\n",
       "      <td>768.000000</td>\n",
       "      <td>768.000000</td>\n",
       "      <td>768.000000</td>\n",
       "      <td>768.000000</td>\n",
       "      <td>768.000000</td>\n",
       "      <td>768.000000</td>\n",
       "      <td>768.000000</td>\n",
       "      <td>768.000000</td>\n",
       "      <td>768.000000</td>\n",
       "    </tr>\n",
       "    <tr>\n",
       "      <th>mean</th>\n",
       "      <td>3.845052</td>\n",
       "      <td>120.894531</td>\n",
       "      <td>69.105469</td>\n",
       "      <td>20.536458</td>\n",
       "      <td>79.799479</td>\n",
       "      <td>31.992578</td>\n",
       "      <td>0.471876</td>\n",
       "      <td>33.240885</td>\n",
       "      <td>0.348958</td>\n",
       "    </tr>\n",
       "    <tr>\n",
       "      <th>std</th>\n",
       "      <td>3.369578</td>\n",
       "      <td>31.972618</td>\n",
       "      <td>19.355807</td>\n",
       "      <td>15.952218</td>\n",
       "      <td>115.244002</td>\n",
       "      <td>7.884160</td>\n",
       "      <td>0.331329</td>\n",
       "      <td>11.760232</td>\n",
       "      <td>0.476951</td>\n",
       "    </tr>\n",
       "    <tr>\n",
       "      <th>min</th>\n",
       "      <td>0.000000</td>\n",
       "      <td>0.000000</td>\n",
       "      <td>0.000000</td>\n",
       "      <td>0.000000</td>\n",
       "      <td>0.000000</td>\n",
       "      <td>0.000000</td>\n",
       "      <td>0.078000</td>\n",
       "      <td>21.000000</td>\n",
       "      <td>0.000000</td>\n",
       "    </tr>\n",
       "    <tr>\n",
       "      <th>25%</th>\n",
       "      <td>1.000000</td>\n",
       "      <td>99.000000</td>\n",
       "      <td>62.000000</td>\n",
       "      <td>0.000000</td>\n",
       "      <td>0.000000</td>\n",
       "      <td>27.300000</td>\n",
       "      <td>0.243750</td>\n",
       "      <td>24.000000</td>\n",
       "      <td>0.000000</td>\n",
       "    </tr>\n",
       "    <tr>\n",
       "      <th>50%</th>\n",
       "      <td>3.000000</td>\n",
       "      <td>117.000000</td>\n",
       "      <td>72.000000</td>\n",
       "      <td>23.000000</td>\n",
       "      <td>30.500000</td>\n",
       "      <td>32.000000</td>\n",
       "      <td>0.372500</td>\n",
       "      <td>29.000000</td>\n",
       "      <td>0.000000</td>\n",
       "    </tr>\n",
       "    <tr>\n",
       "      <th>75%</th>\n",
       "      <td>6.000000</td>\n",
       "      <td>140.250000</td>\n",
       "      <td>80.000000</td>\n",
       "      <td>32.000000</td>\n",
       "      <td>127.250000</td>\n",
       "      <td>36.600000</td>\n",
       "      <td>0.626250</td>\n",
       "      <td>41.000000</td>\n",
       "      <td>1.000000</td>\n",
       "    </tr>\n",
       "    <tr>\n",
       "      <th>max</th>\n",
       "      <td>17.000000</td>\n",
       "      <td>199.000000</td>\n",
       "      <td>122.000000</td>\n",
       "      <td>99.000000</td>\n",
       "      <td>846.000000</td>\n",
       "      <td>67.100000</td>\n",
       "      <td>2.420000</td>\n",
       "      <td>81.000000</td>\n",
       "      <td>1.000000</td>\n",
       "    </tr>\n",
       "  </tbody>\n",
       "</table>\n",
       "</div>"
      ],
      "text/plain": [
       "       Pregnancies     Glucose  BloodPressure  SkinThickness     Insulin  \\\n",
       "count   768.000000  768.000000     768.000000     768.000000  768.000000   \n",
       "mean      3.845052  120.894531      69.105469      20.536458   79.799479   \n",
       "std       3.369578   31.972618      19.355807      15.952218  115.244002   \n",
       "min       0.000000    0.000000       0.000000       0.000000    0.000000   \n",
       "25%       1.000000   99.000000      62.000000       0.000000    0.000000   \n",
       "50%       3.000000  117.000000      72.000000      23.000000   30.500000   \n",
       "75%       6.000000  140.250000      80.000000      32.000000  127.250000   \n",
       "max      17.000000  199.000000     122.000000      99.000000  846.000000   \n",
       "\n",
       "              BMI  DiabetesPedigreeFunction         Age     Outcome  \n",
       "count  768.000000                768.000000  768.000000  768.000000  \n",
       "mean    31.992578                  0.471876   33.240885    0.348958  \n",
       "std      7.884160                  0.331329   11.760232    0.476951  \n",
       "min      0.000000                  0.078000   21.000000    0.000000  \n",
       "25%     27.300000                  0.243750   24.000000    0.000000  \n",
       "50%     32.000000                  0.372500   29.000000    0.000000  \n",
       "75%     36.600000                  0.626250   41.000000    1.000000  \n",
       "max     67.100000                  2.420000   81.000000    1.000000  "
      ]
     },
     "execution_count": 4,
     "metadata": {},
     "output_type": "execute_result"
    }
   ],
   "source": [
    "data.describe()"
   ]
  },
  {
   "cell_type": "code",
   "execution_count": 6,
   "metadata": {
    "ExecuteTime": {
     "end_time": "2023-06-09T14:12:44.863405Z",
     "start_time": "2023-06-09T14:12:44.856736Z"
    }
   },
   "outputs": [
    {
     "data": {
      "text/plain": [
       "0"
      ]
     },
     "execution_count": 6,
     "metadata": {},
     "output_type": "execute_result"
    }
   ],
   "source": [
    "# Checando linhas duplicadas\n",
    "\n",
    "data.duplicated().sum()"
   ]
  },
  {
   "cell_type": "code",
   "execution_count": 7,
   "metadata": {
    "ExecuteTime": {
     "end_time": "2023-06-09T14:12:46.478712Z",
     "start_time": "2023-06-09T14:12:46.459859Z"
    },
    "scrolled": false
   },
   "outputs": [
    {
     "name": "stdout",
     "output_type": "stream",
     "text": [
      "<class 'pandas.core.frame.DataFrame'>\n",
      "RangeIndex: 768 entries, 0 to 767\n",
      "Data columns (total 9 columns):\n",
      " #   Column                    Non-Null Count  Dtype  \n",
      "---  ------                    --------------  -----  \n",
      " 0   Pregnancies               768 non-null    int64  \n",
      " 1   Glucose                   768 non-null    int64  \n",
      " 2   BloodPressure             768 non-null    int64  \n",
      " 3   SkinThickness             768 non-null    int64  \n",
      " 4   Insulin                   768 non-null    int64  \n",
      " 5   BMI                       768 non-null    float64\n",
      " 6   DiabetesPedigreeFunction  768 non-null    float64\n",
      " 7   Age                       768 non-null    int64  \n",
      " 8   Outcome                   768 non-null    int64  \n",
      "dtypes: float64(2), int64(7)\n",
      "memory usage: 54.1 KB\n"
     ]
    }
   ],
   "source": [
    "data.info()"
   ]
  },
  {
   "cell_type": "markdown",
   "metadata": {},
   "source": [
    "Não que seja necessário nesse caso, mas podemos reduzir o uso de memória alterando os dtypes."
   ]
  },
  {
   "cell_type": "code",
   "execution_count": 8,
   "metadata": {
    "ExecuteTime": {
     "end_time": "2023-06-09T14:13:48.140047Z",
     "start_time": "2023-06-09T14:13:48.127778Z"
    }
   },
   "outputs": [],
   "source": [
    "# Reduzindo o uso de memória\n",
    "\n",
    "int_cols = list(data.select_dtypes('int64').columns) \n",
    "float_cols = list(data.select_dtypes('float64').columns)\n",
    "\n",
    "for col in int_cols:\n",
    "    data[col] = data[col].astype('int32')\n",
    "    \n",
    "for col in float_cols:\n",
    "    data[col] = data[col].astype('float32')"
   ]
  },
  {
   "cell_type": "code",
   "execution_count": 9,
   "metadata": {
    "ExecuteTime": {
     "end_time": "2023-06-09T14:13:50.393684Z",
     "start_time": "2023-06-09T14:13:50.379025Z"
    },
    "scrolled": true
   },
   "outputs": [
    {
     "name": "stdout",
     "output_type": "stream",
     "text": [
      "<class 'pandas.core.frame.DataFrame'>\n",
      "RangeIndex: 768 entries, 0 to 767\n",
      "Data columns (total 9 columns):\n",
      " #   Column                    Non-Null Count  Dtype  \n",
      "---  ------                    --------------  -----  \n",
      " 0   Pregnancies               768 non-null    int32  \n",
      " 1   Glucose                   768 non-null    int32  \n",
      " 2   BloodPressure             768 non-null    int32  \n",
      " 3   SkinThickness             768 non-null    int32  \n",
      " 4   Insulin                   768 non-null    int32  \n",
      " 5   BMI                       768 non-null    float32\n",
      " 6   DiabetesPedigreeFunction  768 non-null    float32\n",
      " 7   Age                       768 non-null    int32  \n",
      " 8   Outcome                   768 non-null    int32  \n",
      "dtypes: float32(2), int32(7)\n",
      "memory usage: 27.1 KB\n"
     ]
    }
   ],
   "source": [
    "data.info()"
   ]
  },
  {
   "cell_type": "markdown",
   "metadata": {
    "ExecuteTime": {
     "end_time": "2023-01-20T20:47:05.199243Z",
     "start_time": "2023-01-20T20:47:05.191804Z"
    }
   },
   "source": [
    "Tivemos uma redução significativa de uso de memória."
   ]
  },
  {
   "cell_type": "code",
   "execution_count": 10,
   "metadata": {
    "ExecuteTime": {
     "end_time": "2023-06-09T14:14:06.968816Z",
     "start_time": "2023-06-09T14:14:06.959013Z"
    },
    "scrolled": true
   },
   "outputs": [
    {
     "name": "stdout",
     "output_type": "stream",
     "text": [
      "111 valores nulos (14.5 %) em Pregnancies.\n",
      "5 valores nulos (0.7 %) em Glucose.\n",
      "35 valores nulos (4.6 %) em BloodPressure.\n",
      "227 valores nulos (29.6 %) em SkinThickness.\n",
      "374 valores nulos (48.7 %) em Insulin.\n",
      "11 valores nulos (1.4 %) em BMI.\n",
      "0 valores nulos (0.0 %) em DiabetesPedigreeFunction.\n",
      "0 valores nulos (0.0 %) em Age.\n",
      "500 valores nulos (65.1 %) em Outcome.\n"
     ]
    }
   ],
   "source": [
    "# Checando valores nulos\n",
    "\n",
    "for col in data.columns:\n",
    "    print(f\"{data[col].eq(0).sum()} valores nulos ({100*data[col].eq(0).sum()/data.shape[0]:.1f} %) em {col}.\")"
   ]
  },
  {
   "cell_type": "markdown",
   "metadata": {},
   "source": [
    "Valores nulos de `Glucose`, `BloodPressure`, `SkinThickness`, `Insulin` e `BMI` são na verdade dados faltantes (NaN). A coluna `Insulin` possui uma quantidade significativa de NaN."
   ]
  },
  {
   "cell_type": "markdown",
   "metadata": {},
   "source": [
    "Vamos inspecionar um pouco mais as colunas de `Glucose` e `BMI`:"
   ]
  },
  {
   "cell_type": "code",
   "execution_count": 11,
   "metadata": {
    "ExecuteTime": {
     "end_time": "2023-06-09T14:14:31.889394Z",
     "start_time": "2023-06-09T14:14:31.872320Z"
    },
    "scrolled": true
   },
   "outputs": [
    {
     "data": {
      "text/html": [
       "<div>\n",
       "<style scoped>\n",
       "    .dataframe tbody tr th:only-of-type {\n",
       "        vertical-align: middle;\n",
       "    }\n",
       "\n",
       "    .dataframe tbody tr th {\n",
       "        vertical-align: top;\n",
       "    }\n",
       "\n",
       "    .dataframe thead th {\n",
       "        text-align: right;\n",
       "    }\n",
       "</style>\n",
       "<table border=\"1\" class=\"dataframe\">\n",
       "  <thead>\n",
       "    <tr style=\"text-align: right;\">\n",
       "      <th></th>\n",
       "      <th>Pregnancies</th>\n",
       "      <th>Glucose</th>\n",
       "      <th>BloodPressure</th>\n",
       "      <th>SkinThickness</th>\n",
       "      <th>Insulin</th>\n",
       "      <th>BMI</th>\n",
       "      <th>DiabetesPedigreeFunction</th>\n",
       "      <th>Age</th>\n",
       "      <th>Outcome</th>\n",
       "    </tr>\n",
       "  </thead>\n",
       "  <tbody>\n",
       "    <tr>\n",
       "      <th>75</th>\n",
       "      <td>1</td>\n",
       "      <td>0</td>\n",
       "      <td>48</td>\n",
       "      <td>20</td>\n",
       "      <td>0</td>\n",
       "      <td>24.700001</td>\n",
       "      <td>0.140</td>\n",
       "      <td>22</td>\n",
       "      <td>0</td>\n",
       "    </tr>\n",
       "    <tr>\n",
       "      <th>182</th>\n",
       "      <td>1</td>\n",
       "      <td>0</td>\n",
       "      <td>74</td>\n",
       "      <td>20</td>\n",
       "      <td>23</td>\n",
       "      <td>27.700001</td>\n",
       "      <td>0.299</td>\n",
       "      <td>21</td>\n",
       "      <td>0</td>\n",
       "    </tr>\n",
       "    <tr>\n",
       "      <th>342</th>\n",
       "      <td>1</td>\n",
       "      <td>0</td>\n",
       "      <td>68</td>\n",
       "      <td>35</td>\n",
       "      <td>0</td>\n",
       "      <td>32.000000</td>\n",
       "      <td>0.389</td>\n",
       "      <td>22</td>\n",
       "      <td>0</td>\n",
       "    </tr>\n",
       "    <tr>\n",
       "      <th>349</th>\n",
       "      <td>5</td>\n",
       "      <td>0</td>\n",
       "      <td>80</td>\n",
       "      <td>32</td>\n",
       "      <td>0</td>\n",
       "      <td>41.000000</td>\n",
       "      <td>0.346</td>\n",
       "      <td>37</td>\n",
       "      <td>1</td>\n",
       "    </tr>\n",
       "    <tr>\n",
       "      <th>502</th>\n",
       "      <td>6</td>\n",
       "      <td>0</td>\n",
       "      <td>68</td>\n",
       "      <td>41</td>\n",
       "      <td>0</td>\n",
       "      <td>39.000000</td>\n",
       "      <td>0.727</td>\n",
       "      <td>41</td>\n",
       "      <td>1</td>\n",
       "    </tr>\n",
       "  </tbody>\n",
       "</table>\n",
       "</div>"
      ],
      "text/plain": [
       "     Pregnancies  Glucose  BloodPressure  SkinThickness  Insulin        BMI  \\\n",
       "75             1        0             48             20        0  24.700001   \n",
       "182            1        0             74             20       23  27.700001   \n",
       "342            1        0             68             35        0  32.000000   \n",
       "349            5        0             80             32        0  41.000000   \n",
       "502            6        0             68             41        0  39.000000   \n",
       "\n",
       "     DiabetesPedigreeFunction  Age  Outcome  \n",
       "75                      0.140   22        0  \n",
       "182                     0.299   21        0  \n",
       "342                     0.389   22        0  \n",
       "349                     0.346   37        1  \n",
       "502                     0.727   41        1  "
      ]
     },
     "execution_count": 11,
     "metadata": {},
     "output_type": "execute_result"
    }
   ],
   "source": [
    "# NaN em Glucose\n",
    "\n",
    "data[data[\"Glucose\"] == 0]"
   ]
  },
  {
   "cell_type": "code",
   "execution_count": 13,
   "metadata": {
    "ExecuteTime": {
     "end_time": "2023-06-09T14:15:36.908639Z",
     "start_time": "2023-06-09T14:15:36.896977Z"
    },
    "scrolled": true
   },
   "outputs": [
    {
     "data": {
      "text/html": [
       "<div>\n",
       "<style scoped>\n",
       "    .dataframe tbody tr th:only-of-type {\n",
       "        vertical-align: middle;\n",
       "    }\n",
       "\n",
       "    .dataframe tbody tr th {\n",
       "        vertical-align: top;\n",
       "    }\n",
       "\n",
       "    .dataframe thead th {\n",
       "        text-align: right;\n",
       "    }\n",
       "</style>\n",
       "<table border=\"1\" class=\"dataframe\">\n",
       "  <thead>\n",
       "    <tr style=\"text-align: right;\">\n",
       "      <th></th>\n",
       "      <th>Pregnancies</th>\n",
       "      <th>Glucose</th>\n",
       "      <th>BloodPressure</th>\n",
       "      <th>SkinThickness</th>\n",
       "      <th>Insulin</th>\n",
       "      <th>BMI</th>\n",
       "      <th>DiabetesPedigreeFunction</th>\n",
       "      <th>Age</th>\n",
       "      <th>Outcome</th>\n",
       "    </tr>\n",
       "  </thead>\n",
       "  <tbody>\n",
       "    <tr>\n",
       "      <th>9</th>\n",
       "      <td>8</td>\n",
       "      <td>125</td>\n",
       "      <td>96</td>\n",
       "      <td>0</td>\n",
       "      <td>0</td>\n",
       "      <td>0.0</td>\n",
       "      <td>0.232</td>\n",
       "      <td>54</td>\n",
       "      <td>1</td>\n",
       "    </tr>\n",
       "    <tr>\n",
       "      <th>49</th>\n",
       "      <td>7</td>\n",
       "      <td>105</td>\n",
       "      <td>0</td>\n",
       "      <td>0</td>\n",
       "      <td>0</td>\n",
       "      <td>0.0</td>\n",
       "      <td>0.305</td>\n",
       "      <td>24</td>\n",
       "      <td>0</td>\n",
       "    </tr>\n",
       "    <tr>\n",
       "      <th>60</th>\n",
       "      <td>2</td>\n",
       "      <td>84</td>\n",
       "      <td>0</td>\n",
       "      <td>0</td>\n",
       "      <td>0</td>\n",
       "      <td>0.0</td>\n",
       "      <td>0.304</td>\n",
       "      <td>21</td>\n",
       "      <td>0</td>\n",
       "    </tr>\n",
       "    <tr>\n",
       "      <th>81</th>\n",
       "      <td>2</td>\n",
       "      <td>74</td>\n",
       "      <td>0</td>\n",
       "      <td>0</td>\n",
       "      <td>0</td>\n",
       "      <td>0.0</td>\n",
       "      <td>0.102</td>\n",
       "      <td>22</td>\n",
       "      <td>0</td>\n",
       "    </tr>\n",
       "    <tr>\n",
       "      <th>145</th>\n",
       "      <td>0</td>\n",
       "      <td>102</td>\n",
       "      <td>75</td>\n",
       "      <td>23</td>\n",
       "      <td>0</td>\n",
       "      <td>0.0</td>\n",
       "      <td>0.572</td>\n",
       "      <td>21</td>\n",
       "      <td>0</td>\n",
       "    </tr>\n",
       "    <tr>\n",
       "      <th>371</th>\n",
       "      <td>0</td>\n",
       "      <td>118</td>\n",
       "      <td>64</td>\n",
       "      <td>23</td>\n",
       "      <td>89</td>\n",
       "      <td>0.0</td>\n",
       "      <td>1.731</td>\n",
       "      <td>21</td>\n",
       "      <td>0</td>\n",
       "    </tr>\n",
       "    <tr>\n",
       "      <th>426</th>\n",
       "      <td>0</td>\n",
       "      <td>94</td>\n",
       "      <td>0</td>\n",
       "      <td>0</td>\n",
       "      <td>0</td>\n",
       "      <td>0.0</td>\n",
       "      <td>0.256</td>\n",
       "      <td>25</td>\n",
       "      <td>0</td>\n",
       "    </tr>\n",
       "    <tr>\n",
       "      <th>494</th>\n",
       "      <td>3</td>\n",
       "      <td>80</td>\n",
       "      <td>0</td>\n",
       "      <td>0</td>\n",
       "      <td>0</td>\n",
       "      <td>0.0</td>\n",
       "      <td>0.174</td>\n",
       "      <td>22</td>\n",
       "      <td>0</td>\n",
       "    </tr>\n",
       "    <tr>\n",
       "      <th>522</th>\n",
       "      <td>6</td>\n",
       "      <td>114</td>\n",
       "      <td>0</td>\n",
       "      <td>0</td>\n",
       "      <td>0</td>\n",
       "      <td>0.0</td>\n",
       "      <td>0.189</td>\n",
       "      <td>26</td>\n",
       "      <td>0</td>\n",
       "    </tr>\n",
       "    <tr>\n",
       "      <th>684</th>\n",
       "      <td>5</td>\n",
       "      <td>136</td>\n",
       "      <td>82</td>\n",
       "      <td>0</td>\n",
       "      <td>0</td>\n",
       "      <td>0.0</td>\n",
       "      <td>0.640</td>\n",
       "      <td>69</td>\n",
       "      <td>0</td>\n",
       "    </tr>\n",
       "    <tr>\n",
       "      <th>706</th>\n",
       "      <td>10</td>\n",
       "      <td>115</td>\n",
       "      <td>0</td>\n",
       "      <td>0</td>\n",
       "      <td>0</td>\n",
       "      <td>0.0</td>\n",
       "      <td>0.261</td>\n",
       "      <td>30</td>\n",
       "      <td>1</td>\n",
       "    </tr>\n",
       "  </tbody>\n",
       "</table>\n",
       "</div>"
      ],
      "text/plain": [
       "     Pregnancies  Glucose  BloodPressure  SkinThickness  Insulin  BMI  \\\n",
       "9              8      125             96              0        0  0.0   \n",
       "49             7      105              0              0        0  0.0   \n",
       "60             2       84              0              0        0  0.0   \n",
       "81             2       74              0              0        0  0.0   \n",
       "145            0      102             75             23        0  0.0   \n",
       "371            0      118             64             23       89  0.0   \n",
       "426            0       94              0              0        0  0.0   \n",
       "494            3       80              0              0        0  0.0   \n",
       "522            6      114              0              0        0  0.0   \n",
       "684            5      136             82              0        0  0.0   \n",
       "706           10      115              0              0        0  0.0   \n",
       "\n",
       "     DiabetesPedigreeFunction  Age  Outcome  \n",
       "9                       0.232   54        1  \n",
       "49                      0.305   24        0  \n",
       "60                      0.304   21        0  \n",
       "81                      0.102   22        0  \n",
       "145                     0.572   21        0  \n",
       "371                     1.731   21        0  \n",
       "426                     0.256   25        0  \n",
       "494                     0.174   22        0  \n",
       "522                     0.189   26        0  \n",
       "684                     0.640   69        0  \n",
       "706                     0.261   30        1  "
      ]
     },
     "execution_count": 13,
     "metadata": {},
     "output_type": "execute_result"
    }
   ],
   "source": [
    "# NaN em BMI\n",
    "\n",
    "data[data[\"BMI\"] == 0]"
   ]
  },
  {
   "cell_type": "markdown",
   "metadata": {},
   "source": [
    "Um número grande de instâncias que tem valor nulo em `BMI` são de pacientes não-diabéticos. Existem poucas instâncias nulas em `Glucose` e são relativamente homogêneas."
   ]
  },
  {
   "cell_type": "markdown",
   "metadata": {},
   "source": [
    "## Redifinindo dados faltantes e separação treino/teste"
   ]
  },
  {
   "cell_type": "markdown",
   "metadata": {},
   "source": [
    "A partir de agora corrigiremos os valores nulos por NaN e reservaremos nosso dataset de teste para o final."
   ]
  },
  {
   "cell_type": "code",
   "execution_count": 14,
   "metadata": {
    "ExecuteTime": {
     "end_time": "2023-06-09T14:16:14.576923Z",
     "start_time": "2023-06-09T14:16:14.560489Z"
    }
   },
   "outputs": [
    {
     "data": {
      "text/html": [
       "<div>\n",
       "<style scoped>\n",
       "    .dataframe tbody tr th:only-of-type {\n",
       "        vertical-align: middle;\n",
       "    }\n",
       "\n",
       "    .dataframe tbody tr th {\n",
       "        vertical-align: top;\n",
       "    }\n",
       "\n",
       "    .dataframe thead th {\n",
       "        text-align: right;\n",
       "    }\n",
       "</style>\n",
       "<table border=\"1\" class=\"dataframe\">\n",
       "  <thead>\n",
       "    <tr style=\"text-align: right;\">\n",
       "      <th></th>\n",
       "      <th>Pregnancies</th>\n",
       "      <th>Glucose</th>\n",
       "      <th>BloodPressure</th>\n",
       "      <th>SkinThickness</th>\n",
       "      <th>Insulin</th>\n",
       "      <th>BMI</th>\n",
       "      <th>DiabetesPedigreeFunction</th>\n",
       "      <th>Age</th>\n",
       "      <th>Outcome</th>\n",
       "    </tr>\n",
       "  </thead>\n",
       "  <tbody>\n",
       "    <tr>\n",
       "      <th>0</th>\n",
       "      <td>6</td>\n",
       "      <td>148.0</td>\n",
       "      <td>72.0</td>\n",
       "      <td>35.0</td>\n",
       "      <td>NaN</td>\n",
       "      <td>33.599998</td>\n",
       "      <td>0.627</td>\n",
       "      <td>50</td>\n",
       "      <td>1</td>\n",
       "    </tr>\n",
       "    <tr>\n",
       "      <th>1</th>\n",
       "      <td>1</td>\n",
       "      <td>85.0</td>\n",
       "      <td>66.0</td>\n",
       "      <td>29.0</td>\n",
       "      <td>NaN</td>\n",
       "      <td>26.600000</td>\n",
       "      <td>0.351</td>\n",
       "      <td>31</td>\n",
       "      <td>0</td>\n",
       "    </tr>\n",
       "    <tr>\n",
       "      <th>2</th>\n",
       "      <td>8</td>\n",
       "      <td>183.0</td>\n",
       "      <td>64.0</td>\n",
       "      <td>NaN</td>\n",
       "      <td>NaN</td>\n",
       "      <td>23.299999</td>\n",
       "      <td>0.672</td>\n",
       "      <td>32</td>\n",
       "      <td>1</td>\n",
       "    </tr>\n",
       "    <tr>\n",
       "      <th>3</th>\n",
       "      <td>1</td>\n",
       "      <td>89.0</td>\n",
       "      <td>66.0</td>\n",
       "      <td>23.0</td>\n",
       "      <td>94.0</td>\n",
       "      <td>28.100000</td>\n",
       "      <td>0.167</td>\n",
       "      <td>21</td>\n",
       "      <td>0</td>\n",
       "    </tr>\n",
       "    <tr>\n",
       "      <th>4</th>\n",
       "      <td>0</td>\n",
       "      <td>137.0</td>\n",
       "      <td>40.0</td>\n",
       "      <td>35.0</td>\n",
       "      <td>168.0</td>\n",
       "      <td>43.099998</td>\n",
       "      <td>2.288</td>\n",
       "      <td>33</td>\n",
       "      <td>1</td>\n",
       "    </tr>\n",
       "  </tbody>\n",
       "</table>\n",
       "</div>"
      ],
      "text/plain": [
       "   Pregnancies  Glucose  BloodPressure  SkinThickness  Insulin        BMI  \\\n",
       "0            6    148.0           72.0           35.0      NaN  33.599998   \n",
       "1            1     85.0           66.0           29.0      NaN  26.600000   \n",
       "2            8    183.0           64.0            NaN      NaN  23.299999   \n",
       "3            1     89.0           66.0           23.0     94.0  28.100000   \n",
       "4            0    137.0           40.0           35.0    168.0  43.099998   \n",
       "\n",
       "   DiabetesPedigreeFunction  Age  Outcome  \n",
       "0                     0.627   50        1  \n",
       "1                     0.351   31        0  \n",
       "2                     0.672   32        1  \n",
       "3                     0.167   21        0  \n",
       "4                     2.288   33        1  "
      ]
     },
     "execution_count": 14,
     "metadata": {},
     "output_type": "execute_result"
    }
   ],
   "source": [
    "# Vamos substituir 0 por NaN\n",
    "\n",
    "data_nan = data.copy()\n",
    "\n",
    "cols = [\"Glucose\", \"BloodPressure\", \"SkinThickness\", \"Insulin\", \"BMI\"]\n",
    "for col in cols:\n",
    "    data_nan[col] = data_nan[col].replace(0, np.nan)\n",
    "\n",
    "data_nan.head()"
   ]
  },
  {
   "cell_type": "code",
   "execution_count": 15,
   "metadata": {
    "ExecuteTime": {
     "end_time": "2023-06-09T14:16:17.459909Z",
     "start_time": "2023-06-09T14:16:17.449958Z"
    }
   },
   "outputs": [
    {
     "name": "stdout",
     "output_type": "stream",
     "text": [
      "<class 'pandas.core.frame.DataFrame'>\n",
      "RangeIndex: 768 entries, 0 to 767\n",
      "Data columns (total 9 columns):\n",
      " #   Column                    Non-Null Count  Dtype  \n",
      "---  ------                    --------------  -----  \n",
      " 0   Pregnancies               768 non-null    int32  \n",
      " 1   Glucose                   763 non-null    float64\n",
      " 2   BloodPressure             733 non-null    float64\n",
      " 3   SkinThickness             541 non-null    float64\n",
      " 4   Insulin                   394 non-null    float64\n",
      " 5   BMI                       757 non-null    float32\n",
      " 6   DiabetesPedigreeFunction  768 non-null    float32\n",
      " 7   Age                       768 non-null    int32  \n",
      " 8   Outcome                   768 non-null    int32  \n",
      "dtypes: float32(2), float64(4), int32(3)\n",
      "memory usage: 39.1 KB\n"
     ]
    }
   ],
   "source": [
    "data_nan.info()"
   ]
  },
  {
   "cell_type": "code",
   "execution_count": 24,
   "metadata": {
    "ExecuteTime": {
     "end_time": "2023-06-09T14:18:35.084069Z",
     "start_time": "2023-06-09T14:18:35.075479Z"
    }
   },
   "outputs": [],
   "source": [
    "# Separação de features e targets\n",
    "X = data_nan.drop('Outcome', axis=1)\n",
    "y = data_nan['Outcome']\n",
    "\n",
    "# Train test split\n",
    "X_train, X_test, y_train, y_test = train_test_split(X, y, test_size=0.3, stratify=y, random_state=42)"
   ]
  },
  {
   "cell_type": "code",
   "execution_count": 25,
   "metadata": {
    "ExecuteTime": {
     "end_time": "2023-06-09T14:18:35.558995Z",
     "start_time": "2023-06-09T14:18:35.554586Z"
    }
   },
   "outputs": [
    {
     "name": "stdout",
     "output_type": "stream",
     "text": [
      "Treino: 537\n",
      "Teste: 231\n"
     ]
    }
   ],
   "source": [
    "# Checando número de instâncias no treino e no teste e proporções\n",
    "\n",
    "print(f'Treino: {y_train.shape[0]}')\n",
    "print(f'Teste: {y_test.shape[0]}')"
   ]
  },
  {
   "cell_type": "code",
   "execution_count": 26,
   "metadata": {
    "ExecuteTime": {
     "end_time": "2023-06-09T14:18:35.851176Z",
     "start_time": "2023-06-09T14:18:35.842544Z"
    }
   },
   "outputs": [
    {
     "data": {
      "text/plain": [
       "0    0.651042\n",
       "1    0.348958\n",
       "Name: Outcome, dtype: float64"
      ]
     },
     "execution_count": 26,
     "metadata": {},
     "output_type": "execute_result"
    }
   ],
   "source": [
    "# Proporções dos targets no dataset completo\n",
    "y.value_counts(normalize=True)"
   ]
  },
  {
   "cell_type": "code",
   "execution_count": 27,
   "metadata": {
    "ExecuteTime": {
     "end_time": "2023-06-09T14:18:36.377643Z",
     "start_time": "2023-06-09T14:18:36.371256Z"
    }
   },
   "outputs": [
    {
     "data": {
      "text/plain": [
       "0    0.651769\n",
       "1    0.348231\n",
       "Name: Outcome, dtype: float64"
      ]
     },
     "execution_count": 27,
     "metadata": {},
     "output_type": "execute_result"
    }
   ],
   "source": [
    "# Proporções dos targets no dataset de treino\n",
    "y_train.value_counts(normalize=True)"
   ]
  },
  {
   "cell_type": "code",
   "execution_count": 28,
   "metadata": {
    "ExecuteTime": {
     "end_time": "2023-06-09T14:18:36.910213Z",
     "start_time": "2023-06-09T14:18:36.902320Z"
    }
   },
   "outputs": [
    {
     "data": {
      "text/plain": [
       "0    0.649351\n",
       "1    0.350649\n",
       "Name: Outcome, dtype: float64"
      ]
     },
     "execution_count": 28,
     "metadata": {},
     "output_type": "execute_result"
    }
   ],
   "source": [
    "# Proporções dos targets no dataset de teste\n",
    "y_test.value_counts(normalize=True)"
   ]
  },
  {
   "cell_type": "code",
   "execution_count": 30,
   "metadata": {
    "ExecuteTime": {
     "end_time": "2023-06-09T14:19:03.800327Z",
     "start_time": "2023-06-09T14:19:03.790619Z"
    },
    "scrolled": true
   },
   "outputs": [
    {
     "data": {
      "text/plain": [
       "0    150\n",
       "1     81\n",
       "Name: Outcome, dtype: int64"
      ]
     },
     "execution_count": 30,
     "metadata": {},
     "output_type": "execute_result"
    }
   ],
   "source": [
    "# Números de instâncias por classe no teste\n",
    "y_test.value_counts()"
   ]
  },
  {
   "cell_type": "markdown",
   "metadata": {},
   "source": [
    "## EDA (Análise exploratória de dados)"
   ]
  },
  {
   "cell_type": "markdown",
   "metadata": {},
   "source": [
    "Aqui vamos plotar alguns gráficos para verificar a distribuição das varíaveis. Optei por retirar os dados nulos do plot para facilitar a visualização."
   ]
  },
  {
   "cell_type": "code",
   "execution_count": 31,
   "metadata": {
    "ExecuteTime": {
     "end_time": "2023-06-09T14:19:24.777714Z",
     "start_time": "2023-06-09T14:19:24.773676Z"
    }
   },
   "outputs": [],
   "source": [
    "def plot_histgram_and_boxplot(data, feature):\n",
    "    plt.figure(figsize=(10,4))\n",
    "    \n",
    "    plt.subplot(1,2,1)\n",
    "    sns.histplot(data=data, x=feature, hue=\"Outcome\")\n",
    "\n",
    "    plt.subplot(1,2,2)\n",
    "    sns.boxplot(data=data, x=\"Outcome\", y=feature)\n",
    "    \n",
    "    plt.suptitle(feature)\n",
    "    plt.show()"
   ]
  },
  {
   "cell_type": "code",
   "execution_count": 32,
   "metadata": {
    "ExecuteTime": {
     "end_time": "2023-06-09T14:19:29.201789Z",
     "start_time": "2023-06-09T14:19:28.723229Z"
    }
   },
   "outputs": [
    {
     "data": {
      "image/png": "[encoded data removed]",
      "text/plain": [
       "<Figure size 720x288 with 2 Axes>"
      ]
     },
     "metadata": {
      "needs_background": "light"
     },
     "output_type": "display_data"
    }
   ],
   "source": [
    "plot_histgram_and_boxplot(X_train.join(y_train), \"Pregnancies\")"
   ]
  },
  {
   "cell_type": "code",
   "execution_count": 33,
   "metadata": {
    "ExecuteTime": {
     "end_time": "2023-06-09T14:20:02.352251Z",
     "start_time": "2023-06-09T14:20:01.910783Z"
    },
    "scrolled": true
   },
   "outputs": [
    {
     "data": {
      "image/png": "[encoded data removed]",
      "text/plain": [
       "<Figure size 720x288 with 2 Axes>"
      ]
     },
     "metadata": {
      "needs_background": "light"
     },
     "output_type": "display_data"
    }
   ],
   "source": [
    "plot_histgram_and_boxplot(X_train.join(y_train), \"Glucose\")"
   ]
  },
  {
   "cell_type": "code",
   "execution_count": 34,
   "metadata": {
    "ExecuteTime": {
     "end_time": "2023-06-09T14:20:08.714971Z",
     "start_time": "2023-06-09T14:20:08.683690Z"
    }
   },
   "outputs": [
    {
     "data": {
      "text/html": [
       "<div>\n",
       "<style scoped>\n",
       "    .dataframe tbody tr th:only-of-type {\n",
       "        vertical-align: middle;\n",
       "    }\n",
       "\n",
       "    .dataframe tbody tr th {\n",
       "        vertical-align: top;\n",
       "    }\n",
       "\n",
       "    .dataframe thead tr th {\n",
       "        text-align: left;\n",
       "    }\n",
       "\n",
       "    .dataframe thead tr:last-of-type th {\n",
       "        text-align: right;\n",
       "    }\n",
       "</style>\n",
       "<table border=\"1\" class=\"dataframe\">\n",
       "  <thead>\n",
       "    <tr>\n",
       "      <th></th>\n",
       "      <th colspan=\"8\" halign=\"left\">Glucose</th>\n",
       "    </tr>\n",
       "    <tr>\n",
       "      <th></th>\n",
       "      <th>count</th>\n",
       "      <th>mean</th>\n",
       "      <th>std</th>\n",
       "      <th>min</th>\n",
       "      <th>25%</th>\n",
       "      <th>50%</th>\n",
       "      <th>75%</th>\n",
       "      <th>max</th>\n",
       "    </tr>\n",
       "    <tr>\n",
       "      <th>Outcome</th>\n",
       "      <th></th>\n",
       "      <th></th>\n",
       "      <th></th>\n",
       "      <th></th>\n",
       "      <th></th>\n",
       "      <th></th>\n",
       "      <th></th>\n",
       "      <th></th>\n",
       "    </tr>\n",
       "  </thead>\n",
       "  <tbody>\n",
       "    <tr>\n",
       "      <th>0</th>\n",
       "      <td>348.0</td>\n",
       "      <td>110.652299</td>\n",
       "      <td>23.818413</td>\n",
       "      <td>57.0</td>\n",
       "      <td>93.75</td>\n",
       "      <td>108.0</td>\n",
       "      <td>124.00</td>\n",
       "      <td>197.0</td>\n",
       "    </tr>\n",
       "    <tr>\n",
       "      <th>1</th>\n",
       "      <td>186.0</td>\n",
       "      <td>142.053763</td>\n",
       "      <td>29.810524</td>\n",
       "      <td>80.0</td>\n",
       "      <td>118.00</td>\n",
       "      <td>141.0</td>\n",
       "      <td>166.75</td>\n",
       "      <td>198.0</td>\n",
       "    </tr>\n",
       "  </tbody>\n",
       "</table>\n",
       "</div>"
      ],
      "text/plain": [
       "        Glucose                                                           \n",
       "          count        mean        std   min     25%    50%     75%    max\n",
       "Outcome                                                                   \n",
       "0         348.0  110.652299  23.818413  57.0   93.75  108.0  124.00  197.0\n",
       "1         186.0  142.053763  29.810524  80.0  118.00  141.0  166.75  198.0"
      ]
     },
     "execution_count": 34,
     "metadata": {},
     "output_type": "execute_result"
    }
   ],
   "source": [
    "# Algumas métricas de Glucose separadas por Outcome\n",
    "\n",
    "X_train.join(y_train).loc[:, ['Outcome', 'Glucose']].groupby('Outcome').describe()"
   ]
  },
  {
   "cell_type": "markdown",
   "metadata": {},
   "source": [
    "As médias são razoavelmente diferentes, mas os desvios são relativamentos próximos."
   ]
  },
  {
   "cell_type": "code",
   "execution_count": 35,
   "metadata": {
    "ExecuteTime": {
     "end_time": "2023-06-09T14:20:21.277337Z",
     "start_time": "2023-06-09T14:20:20.758281Z"
    }
   },
   "outputs": [
    {
     "data": {
      "image/png": "[encoded data removed]",
      "text/plain": [
       "<Figure size 720x288 with 2 Axes>"
      ]
     },
     "metadata": {
      "needs_background": "light"
     },
     "output_type": "display_data"
    }
   ],
   "source": [
    "plot_histgram_and_boxplot(X_train.join(y_train), \"BloodPressure\")"
   ]
  },
  {
   "cell_type": "code",
   "execution_count": 36,
   "metadata": {
    "ExecuteTime": {
     "end_time": "2023-06-09T14:20:25.752743Z",
     "start_time": "2023-06-09T14:20:25.344170Z"
    }
   },
   "outputs": [
    {
     "data": {
      "image/png": "[encoded data removed]",
      "text/plain": [
       "<Figure size 720x288 with 2 Axes>"
      ]
     },
     "metadata": {
      "needs_background": "light"
     },
     "output_type": "display_data"
    }
   ],
   "source": [
    "plot_histgram_and_boxplot(X_train.join(y_train), \"SkinThickness\")"
   ]
  },
  {
   "cell_type": "code",
   "execution_count": 37,
   "metadata": {
    "ExecuteTime": {
     "end_time": "2023-06-09T14:20:27.204731Z",
     "start_time": "2023-06-09T14:20:26.758886Z"
    }
   },
   "outputs": [
    {
     "data": {
      "image/png": "[encoded data removed]",
      "text/plain": [
       "<Figure size 720x288 with 2 Axes>"
      ]
     },
     "metadata": {
      "needs_background": "light"
     },
     "output_type": "display_data"
    }
   ],
   "source": [
    "plot_histgram_and_boxplot(X_train.join(y_train), \"Insulin\")"
   ]
  },
  {
   "cell_type": "code",
   "execution_count": 38,
   "metadata": {
    "ExecuteTime": {
     "end_time": "2023-06-09T14:20:28.135684Z",
     "start_time": "2023-06-09T14:20:27.691079Z"
    },
    "scrolled": true
   },
   "outputs": [
    {
     "data": {
      "image/png": "[encoded data removed]",
      "text/plain": [
       "<Figure size 720x288 with 2 Axes>"
      ]
     },
     "metadata": {
      "needs_background": "light"
     },
     "output_type": "display_data"
    }
   ],
   "source": [
    "plot_histgram_and_boxplot(X_train.join(y_train), \"BMI\")"
   ]
  },
  {
   "cell_type": "code",
   "execution_count": 39,
   "metadata": {
    "ExecuteTime": {
     "end_time": "2023-06-09T14:20:29.065102Z",
     "start_time": "2023-06-09T14:20:28.453086Z"
    }
   },
   "outputs": [
    {
     "data": {
      "image/png": "[encoded data removed]",
      "text/plain": [
       "<Figure size 720x288 with 2 Axes>"
      ]
     },
     "metadata": {
      "needs_background": "light"
     },
     "output_type": "display_data"
    }
   ],
   "source": [
    "plot_histgram_and_boxplot(X_train.join(y_train), \"DiabetesPedigreeFunction\")"
   ]
  },
  {
   "cell_type": "code",
   "execution_count": 40,
   "metadata": {
    "ExecuteTime": {
     "end_time": "2023-06-09T14:20:29.715254Z",
     "start_time": "2023-06-09T14:20:29.211042Z"
    }
   },
   "outputs": [
    {
     "data": {
      "image/png": "[encoded data removed]",
      "text/plain": [
       "<Figure size 720x288 with 2 Axes>"
      ]
     },
     "metadata": {
      "needs_background": "light"
     },
     "output_type": "display_data"
    }
   ],
   "source": [
    "plot_histgram_and_boxplot(X_train.join(y_train), \"Age\")"
   ]
  },
  {
   "cell_type": "code",
   "execution_count": 41,
   "metadata": {
    "ExecuteTime": {
     "end_time": "2023-06-09T14:20:30.651726Z",
     "start_time": "2023-06-09T14:20:30.442770Z"
    },
    "scrolled": true
   },
   "outputs": [
    {
     "data": {
      "image/png": "[encoded data removed]",
      "text/plain": [
       "<Figure size 432x288 with 1 Axes>"
      ]
     },
     "metadata": {
      "needs_background": "light"
     },
     "output_type": "display_data"
    }
   ],
   "source": [
    "sns.countplot(data=X_train.join(y_train),  x='Outcome');"
   ]
  },
  {
   "cell_type": "code",
   "execution_count": 49,
   "metadata": {
    "ExecuteTime": {
     "end_time": "2023-06-09T14:26:21.040236Z",
     "start_time": "2023-06-09T14:26:21.034279Z"
    }
   },
   "outputs": [],
   "source": [
    "def correlacao(data):\n",
    "    \"\"\"\n",
    "    Calcula coefiente de correlação (Spearman) das features com o target.\n",
    "    \"\"\"\n",
    "    corr_matrix = data.corr(method='spearman')\n",
    "    print(corr_matrix[\"Outcome\"].sort_values(ascending=False))  "
   ]
  },
  {
   "cell_type": "code",
   "execution_count": 50,
   "metadata": {
    "ExecuteTime": {
     "end_time": "2023-06-09T14:26:21.750967Z",
     "start_time": "2023-06-09T14:26:21.737464Z"
    }
   },
   "outputs": [
    {
     "name": "stdout",
     "output_type": "stream",
     "text": [
      "Outcome                     1.000000\n",
      "Glucose                     0.477206\n",
      "Insulin                     0.408592\n",
      "BMI                         0.306924\n",
      "Age                         0.291502\n",
      "SkinThickness               0.253378\n",
      "Pregnancies                 0.207352\n",
      "BloodPressure               0.188599\n",
      "DiabetesPedigreeFunction    0.153839\n",
      "Name: Outcome, dtype: float64\n"
     ]
    }
   ],
   "source": [
    "correlacao(X_train.join(y_train))"
   ]
  },
  {
   "cell_type": "code",
   "execution_count": 51,
   "metadata": {
    "ExecuteTime": {
     "end_time": "2023-06-09T14:26:56.983084Z",
     "start_time": "2023-06-09T14:26:56.466194Z"
    },
    "scrolled": false
   },
   "outputs": [
    {
     "data": {
      "image/png": "[encoded data removed]",
      "text/plain": [
       "<Figure size 576x504 with 2 Axes>"
      ]
     },
     "metadata": {
      "needs_background": "light"
     },
     "output_type": "display_data"
    }
   ],
   "source": [
    "# Correlação (Pearson) entre todas as features\n",
    "\n",
    "plt.figure(figsize=(8,7))\n",
    "sns.heatmap(data=X_train.corr(), annot=True);"
   ]
  },
  {
   "cell_type": "code",
   "execution_count": 52,
   "metadata": {
    "ExecuteTime": {
     "end_time": "2023-06-09T14:29:38.349275Z",
     "start_time": "2023-06-09T14:29:38.334220Z"
    }
   },
   "outputs": [
    {
     "data": {
      "text/html": [
       "<div>\n",
       "<style scoped>\n",
       "    .dataframe tbody tr th:only-of-type {\n",
       "        vertical-align: middle;\n",
       "    }\n",
       "\n",
       "    .dataframe tbody tr th {\n",
       "        vertical-align: top;\n",
       "    }\n",
       "\n",
       "    .dataframe thead th {\n",
       "        text-align: right;\n",
       "    }\n",
       "</style>\n",
       "<table border=\"1\" class=\"dataframe\">\n",
       "  <thead>\n",
       "    <tr style=\"text-align: right;\">\n",
       "      <th></th>\n",
       "      <th>Pregnancies</th>\n",
       "      <th>Glucose</th>\n",
       "      <th>BloodPressure</th>\n",
       "      <th>SkinThickness</th>\n",
       "      <th>Insulin</th>\n",
       "      <th>BMI</th>\n",
       "      <th>DiabetesPedigreeFunction</th>\n",
       "      <th>Age</th>\n",
       "    </tr>\n",
       "  </thead>\n",
       "  <tbody>\n",
       "    <tr>\n",
       "      <th>Pregnancies</th>\n",
       "      <td>1.000000</td>\n",
       "      <td>0.150844</td>\n",
       "      <td>0.206266</td>\n",
       "      <td>0.151273</td>\n",
       "      <td>0.167255</td>\n",
       "      <td>0.014023</td>\n",
       "      <td>-0.053033</td>\n",
       "      <td>0.526025</td>\n",
       "    </tr>\n",
       "    <tr>\n",
       "      <th>Glucose</th>\n",
       "      <td>0.150844</td>\n",
       "      <td>1.000000</td>\n",
       "      <td>0.212098</td>\n",
       "      <td>0.225636</td>\n",
       "      <td>0.605425</td>\n",
       "      <td>0.197783</td>\n",
       "      <td>0.115252</td>\n",
       "      <td>0.291124</td>\n",
       "    </tr>\n",
       "    <tr>\n",
       "      <th>BloodPressure</th>\n",
       "      <td>0.206266</td>\n",
       "      <td>0.212098</td>\n",
       "      <td>1.000000</td>\n",
       "      <td>0.220439</td>\n",
       "      <td>0.130892</td>\n",
       "      <td>0.259307</td>\n",
       "      <td>-0.027808</td>\n",
       "      <td>0.310865</td>\n",
       "    </tr>\n",
       "    <tr>\n",
       "      <th>SkinThickness</th>\n",
       "      <td>0.151273</td>\n",
       "      <td>0.225636</td>\n",
       "      <td>0.220439</td>\n",
       "      <td>1.000000</td>\n",
       "      <td>0.266078</td>\n",
       "      <td>0.652601</td>\n",
       "      <td>0.112280</td>\n",
       "      <td>0.159031</td>\n",
       "    </tr>\n",
       "    <tr>\n",
       "      <th>Insulin</th>\n",
       "      <td>0.167255</td>\n",
       "      <td>0.605425</td>\n",
       "      <td>0.130892</td>\n",
       "      <td>0.266078</td>\n",
       "      <td>1.000000</td>\n",
       "      <td>0.228691</td>\n",
       "      <td>0.223598</td>\n",
       "      <td>0.262166</td>\n",
       "    </tr>\n",
       "    <tr>\n",
       "      <th>BMI</th>\n",
       "      <td>0.014023</td>\n",
       "      <td>0.197783</td>\n",
       "      <td>0.259307</td>\n",
       "      <td>0.652601</td>\n",
       "      <td>0.228691</td>\n",
       "      <td>1.000000</td>\n",
       "      <td>0.147662</td>\n",
       "      <td>0.014409</td>\n",
       "    </tr>\n",
       "    <tr>\n",
       "      <th>DiabetesPedigreeFunction</th>\n",
       "      <td>-0.053033</td>\n",
       "      <td>0.115252</td>\n",
       "      <td>-0.027808</td>\n",
       "      <td>0.112280</td>\n",
       "      <td>0.223598</td>\n",
       "      <td>0.147662</td>\n",
       "      <td>1.000000</td>\n",
       "      <td>0.022122</td>\n",
       "    </tr>\n",
       "    <tr>\n",
       "      <th>Age</th>\n",
       "      <td>0.526025</td>\n",
       "      <td>0.291124</td>\n",
       "      <td>0.310865</td>\n",
       "      <td>0.159031</td>\n",
       "      <td>0.262166</td>\n",
       "      <td>0.014409</td>\n",
       "      <td>0.022122</td>\n",
       "      <td>1.000000</td>\n",
       "    </tr>\n",
       "  </tbody>\n",
       "</table>\n",
       "</div>"
      ],
      "text/plain": [
       "                          Pregnancies   Glucose  BloodPressure  SkinThickness  \\\n",
       "Pregnancies                  1.000000  0.150844       0.206266       0.151273   \n",
       "Glucose                      0.150844  1.000000       0.212098       0.225636   \n",
       "BloodPressure                0.206266  0.212098       1.000000       0.220439   \n",
       "SkinThickness                0.151273  0.225636       0.220439       1.000000   \n",
       "Insulin                      0.167255  0.605425       0.130892       0.266078   \n",
       "BMI                          0.014023  0.197783       0.259307       0.652601   \n",
       "DiabetesPedigreeFunction    -0.053033  0.115252      -0.027808       0.112280   \n",
       "Age                          0.526025  0.291124       0.310865       0.159031   \n",
       "\n",
       "                           Insulin       BMI  DiabetesPedigreeFunction  \\\n",
       "Pregnancies               0.167255  0.014023                 -0.053033   \n",
       "Glucose                   0.605425  0.197783                  0.115252   \n",
       "BloodPressure             0.130892  0.259307                 -0.027808   \n",
       "SkinThickness             0.266078  0.652601                  0.112280   \n",
       "Insulin                   1.000000  0.228691                  0.223598   \n",
       "BMI                       0.228691  1.000000                  0.147662   \n",
       "DiabetesPedigreeFunction  0.223598  0.147662                  1.000000   \n",
       "Age                       0.262166  0.014409                  0.022122   \n",
       "\n",
       "                               Age  \n",
       "Pregnancies               0.526025  \n",
       "Glucose                   0.291124  \n",
       "BloodPressure             0.310865  \n",
       "SkinThickness             0.159031  \n",
       "Insulin                   0.262166  \n",
       "BMI                       0.014409  \n",
       "DiabetesPedigreeFunction  0.022122  \n",
       "Age                       1.000000  "
      ]
     },
     "execution_count": 52,
     "metadata": {},
     "output_type": "execute_result"
    }
   ],
   "source": [
    "X_train.corr()"
   ]
  },
  {
   "cell_type": "markdown",
   "metadata": {},
   "source": [
    "A partir da EDA podemos concluir que nossa *target* `Outcome` é suficientemente balanceada e é bem correlacionada com `Glucose`, `BMI`, `Age` e `Preganancies`. Entretanto, parece já existir uma dependência entre `Age` e `Preganancies`. Também parece haver algum grau de codepêndencia entre `SkinThickness`, `BMI` e `Insulin`."
   ]
  },
  {
   "cell_type": "markdown",
   "metadata": {},
   "source": [
    "## Modelo de referência"
   ]
  },
  {
   "cell_type": "markdown",
   "metadata": {
    "ExecuteTime": {
     "end_time": "2023-01-12T23:01:30.912750Z",
     "start_time": "2023-01-12T23:01:30.897515Z"
    }
   },
   "source": [
    "Nosso modelo heurístico é baseado no fato que a taxa de glicose deve ser o parâmetro mais importante para determinar se um paciente é diabético. Dito isto, vamos tentar achar um valor ideal de `Glucose` que nos dê a melhor acurácia."
   ]
  },
  {
   "cell_type": "code",
   "execution_count": 58,
   "metadata": {
    "ExecuteTime": {
     "end_time": "2023-06-09T14:43:46.447380Z",
     "start_time": "2023-06-09T14:43:46.437442Z"
    }
   },
   "outputs": [],
   "source": [
    "# Criar um X,y para modelo de referência, dropando os NaNs\n",
    "\n",
    "filtro_nan = X_train['Glucose'].isna()\n",
    "index_nan = X_train[filtro_nan].index.tolist()\n",
    "\n",
    "X_train_heuristic = X_train[['Glucose']].drop(index=index_nan)\n",
    "y_train_heuristic = y_train.drop(index=index_nan)"
   ]
  },
  {
   "cell_type": "code",
   "execution_count": 59,
   "metadata": {
    "ExecuteTime": {
     "end_time": "2023-06-09T14:43:47.903626Z",
     "start_time": "2023-06-09T14:43:46.717824Z"
    },
    "scrolled": false
   },
   "outputs": [],
   "source": [
    "# Treinando o modelo\n",
    "\n",
    "glucose_thr = np.arange(62, 198, 1)\n",
    "accuracy_list = []\n",
    "recall_list = []\n",
    "precision_list = []\n",
    "f1_list = []\n",
    "\n",
    "def test_glucose(gl, thr):\n",
    "    if gl >= thr:\n",
    "        return 1\n",
    "    else:\n",
    "        return 0\n",
    "    \n",
    "for thr in glucose_thr:\n",
    "    outcome_predict = X_train_heuristic[\"Glucose\"].apply(test_glucose, thr=thr)\n",
    "    \n",
    "    accuracy = np.round(accuracy_score(y_train_heuristic, outcome_predict), 4)\n",
    "    precision = np.round(precision_score(y_train_heuristic, outcome_predict), 4)\n",
    "    recall = np.round(recall_score(y_train_heuristic, outcome_predict), 4)\n",
    "    f1 = np.round(f1_score(y_train_heuristic, outcome_predict), 4)\n",
    "    \n",
    "    accuracy_list.append(accuracy)\n",
    "    precision_list.append(precision)\n",
    "    recall_list.append(recall)\n",
    "    f1_list.append(f1)"
   ]
  },
  {
   "cell_type": "markdown",
   "metadata": {},
   "source": [
    "Utilizaremos o cruzamento entre precision e recall: ainda conservamos um bom recall, temos um alguma precisão e estamos um bom ponto de acurácia."
   ]
  },
  {
   "cell_type": "code",
   "execution_count": 60,
   "metadata": {
    "ExecuteTime": {
     "end_time": "2023-06-09T14:43:48.031344Z",
     "start_time": "2023-06-09T14:43:48.024255Z"
    }
   },
   "outputs": [],
   "source": [
    "# Encontrando o ponto de acurácia máxima\n",
    "\n",
    "accuracy_array = np.array(accuracy_list)\n",
    "idx = accuracy_array.argmax()\n",
    "\n",
    "train_recall = recall_list[idx]\n",
    "train_precision = precision_list[idx]\n",
    "train_accuracy = accuracy_list[idx]\n",
    "train_f1 = f1_list[idx]\n",
    "\n",
    "thr_heuristic = glucose_thr[idx]"
   ]
  },
  {
   "cell_type": "code",
   "execution_count": 61,
   "metadata": {
    "ExecuteTime": {
     "end_time": "2023-06-09T14:43:48.558566Z",
     "start_time": "2023-06-09T14:43:48.186332Z"
    }
   },
   "outputs": [
    {
     "data": {
      "image/png": "[encoded data removed]",
      "text/plain": [
       "<Figure size 432x288 with 1 Axes>"
      ]
     },
     "metadata": {
      "needs_background": "light"
     },
     "output_type": "display_data"
    }
   ],
   "source": [
    "plt.plot(glucose_thr, accuracy_list, label='Accuracy')\n",
    "plt.plot(glucose_thr, precision_list, label='Precision')\n",
    "plt.plot(glucose_thr, recall_list, label='Recall')\n",
    "plt.plot(glucose_thr, f1_list, label='F1')\n",
    "plt.hlines(y=train_accuracy, xmin=60, xmax=thr_heuristic, linestyle=':', linewidth=1, color='r')\n",
    "plt.vlines(x=thr_heuristic, ymin=0.0, ymax=train_accuracy, linestyle=':', linewidth=1, color='r')\n",
    "plt.xlabel(\"Limite de glicose\")\n",
    "plt.legend()\n",
    "plt.show()"
   ]
  },
  {
   "cell_type": "code",
   "execution_count": 62,
   "metadata": {
    "ExecuteTime": {
     "end_time": "2023-06-09T14:43:52.432056Z",
     "start_time": "2023-06-09T14:43:52.426712Z"
    }
   },
   "outputs": [
    {
     "name": "stdout",
     "output_type": "stream",
     "text": [
      "Métricas de treino:\n",
      "Acurácia: 0.7584\n",
      "Precisão: 0.6707\n",
      "Recall: 0.6022\n",
      "F1: 0.6346\n"
     ]
    }
   ],
   "source": [
    "# Print das métricas de treino\n",
    "\n",
    "print(\"Métricas de treino:\")\n",
    "print(f\"Acurácia: {train_accuracy}\")\n",
    "print(f\"Precisão: {train_precision}\")\n",
    "print(f\"Recall: {train_recall}\")\n",
    "print(f\"F1: {train_f1}\")"
   ]
  },
  {
   "cell_type": "markdown",
   "metadata": {},
   "source": [
    "Finalmente, vamos avaliar o modelo com os dados de teste. Essas métricas serão uma das nossas referências para avaliar a performace no final."
   ]
  },
  {
   "cell_type": "code",
   "execution_count": 63,
   "metadata": {
    "ExecuteTime": {
     "end_time": "2023-06-09T14:43:55.420347Z",
     "start_time": "2023-06-09T14:43:55.411436Z"
    }
   },
   "outputs": [],
   "source": [
    "# Removendo NaN do teste\n",
    "\n",
    "filtro_nan = X_test['Glucose'].isna()\n",
    "index_nan = X_test[filtro_nan].index.tolist()\n",
    "\n",
    "X_test_heuristic = X_test[['Glucose']].drop(index=index_nan)\n",
    "y_test_heuristic = y_test.drop(index=index_nan)"
   ]
  },
  {
   "cell_type": "code",
   "execution_count": 64,
   "metadata": {
    "ExecuteTime": {
     "end_time": "2023-06-09T14:44:14.907520Z",
     "start_time": "2023-06-09T14:44:14.883407Z"
    },
    "scrolled": true
   },
   "outputs": [
    {
     "name": "stdout",
     "output_type": "stream",
     "text": [
      "Métricas de teste:\n",
      "Acurácia: 0.6943\n",
      "Precisão: 0.5676\n",
      "Recall: 0.525\n",
      "F1: 0.5455\n"
     ]
    }
   ],
   "source": [
    "# Predict no dataset de teste\n",
    "\n",
    "outcome_predict = X_test_heuristic[\"Glucose\"].apply(test_glucose, thr=thr_heuristic)\n",
    "\n",
    "accuracy = np.round(accuracy_score(y_test_heuristic, outcome_predict), 4)\n",
    "precision = np.round(precision_score(y_test_heuristic, outcome_predict), 4)\n",
    "recall = np.round(recall_score(y_test_heuristic, outcome_predict), 4)\n",
    "f1 = np.round(f1_score(y_test_heuristic, outcome_predict), 4)\n",
    "\n",
    "print(\"Métricas de teste:\")\n",
    "print(f\"Acurácia: {accuracy}\")\n",
    "print(f\"Precisão: {precision}\")\n",
    "print(f\"Recall: {recall}\")\n",
    "print(f\"F1: {f1}\")\n"
   ]
  },
  {
   "cell_type": "markdown",
   "metadata": {},
   "source": [
    "Ao final também iremos comparar a matriz de confusão:"
   ]
  },
  {
   "cell_type": "code",
   "execution_count": 65,
   "metadata": {
    "ExecuteTime": {
     "end_time": "2023-06-09T14:44:16.351217Z",
     "start_time": "2023-06-09T14:44:16.098827Z"
    },
    "scrolled": true
   },
   "outputs": [
    {
     "data": {
      "image/png": "[encoded data removed]",
      "text/plain": [
       "<Figure size 432x288 with 2 Axes>"
      ]
     },
     "metadata": {
      "needs_background": "light"
     },
     "output_type": "display_data"
    }
   ],
   "source": [
    "# Matriz de confusão para o modelo heurístico\n",
    "\n",
    "cm_heuristic = confusion_matrix(y_test_heuristic, outcome_predict)\n",
    "ConfusionMatrixDisplay(cm_heuristic).plot();"
   ]
  },
  {
   "cell_type": "markdown",
   "metadata": {},
   "source": [
    "Naturalmente a acurácia é menor com os dados de teste, mas o recall desse modelo é significativamente baixo. Em particular tivemos um grande número de **falsos negativos**: pacientes que eram diabéticos mas que receberam diagnóstico negativo. Esse tipo de erro causa muito impacto nos custos de tratamento."
   ]
  },
  {
   "cell_type": "markdown",
   "metadata": {},
   "source": [
    "# Baseline ML"
   ]
  },
  {
   "cell_type": "code",
   "execution_count": 180,
   "metadata": {
    "ExecuteTime": {
     "end_time": "2023-06-09T16:40:58.433015Z",
     "start_time": "2023-06-09T16:40:58.424382Z"
    }
   },
   "outputs": [],
   "source": [
    "def relatorio_cross_val(estimator, X_train, y_train, cv=5):\n",
    "    \"\"\"Essa função será removida em prol da função validacao_cruzada.\"\"\"\n",
    "    \n",
    "    cv_accuracy_score = cross_val_score(estimator, X_train, y_train, cv=cv, scoring=\"accuracy\")\n",
    "    cv_precision_score = cross_val_score(estimator, X_train, y_train, cv=cv, scoring=\"precision\")\n",
    "    cv_recall_score = cross_val_score(estimator, X_train, y_train, cv=cv, scoring=\"recall\")\n",
    "    \n",
    "    cv_accuracy_mean_score = cv_accuracy_score.mean()\n",
    "    cv_accuracy_std_score = cv_accuracy_score.std()\n",
    "    \n",
    "    cv_precision_mean_score = cv_precision_score.mean()\n",
    "    cv_precision_std_score = cv_precision_score.std()\n",
    "    \n",
    "    cv_recall_mean_score = cv_recall_score.mean()\n",
    "    cv_recall_std_score = cv_recall_score.std()\n",
    "    \n",
    "    print(f'Modelo: {estimator}')\n",
    "    print(f\"Acurácia média: {np.round(cv_accuracy_mean_score, 4)} (std={np.round(cv_accuracy_std_score, 4)})\")\n",
    "    print(f\"Precisão média: {np.round(cv_precision_mean_score, 4)} (std={np.round(cv_precision_std_score, 4)})\")\n",
    "    print(f\"Recall médio: {np.round(cv_recall_mean_score, 4)} (std={np.round(cv_recall_std_score, 4)})\")"
   ]
  },
  {
   "cell_type": "markdown",
   "metadata": {},
   "source": [
    "Começaremos aqui a construir um modelo simples de machine learning que sirva de baseline. Faremos o mínimo tratamento dos dados ou otimizações nos modelos no momento. Utilizaremos **validação cruzada estratificada** uma vez que temos poucas instâncias no dataset e reservaremos o dataset de teste para a avaliação final."
   ]
  },
  {
   "cell_type": "code",
   "execution_count": 172,
   "metadata": {
    "ExecuteTime": {
     "end_time": "2023-06-09T16:39:00.017573Z",
     "start_time": "2023-06-09T16:39:00.003502Z"
    }
   },
   "outputs": [],
   "source": [
    "def validacao_cruzada(X, y, estimator, cv=5, return_estimator=False, treatment=None, balancer=None):\n",
    "    \"\"\"\n",
    "    Validação cruzada de n-folds, estratificada. Retorna médias da acurácia, precisão e recall.\n",
    "    Retorna estimador de acordo com a flag return_estimator.\n",
    "    Se houver balancer, faz balanceamento das classes.\n",
    "    \"\"\"\n",
    "\n",
    "    skf = StratifiedKFold(n_splits=cv, shuffle=True, random_state=42)\n",
    "\n",
    "    accuracy_array = np.zeros(cv)\n",
    "    precision_array = np.zeros(cv)\n",
    "    recall_array = np.zeros(cv)\n",
    "\n",
    "    for i, (train_index, validation_index) in enumerate(skf.split(X, y)):\n",
    "        # Split        \n",
    "        X_train_split = X.iloc[train_index]\n",
    "        y_train_split = y.iloc[train_index]\n",
    "        \n",
    "        X_val_split = X.iloc[validation_index]\n",
    "        y_val_split = y.iloc[validation_index]\n",
    "\n",
    "        # Tratamento\n",
    "        if treatment:\n",
    "            X_train_split = treatment.fit_transform(X_train_split, y_train_split)\n",
    "            X_val_split = treatment.fit_transform(X_val_split, y_val_split)\n",
    "        \n",
    "        # Balanceamento\n",
    "        \n",
    "        if balancer:\n",
    "            X_train_split, y_train_split = balancer.fit_resample(X_train_split, y_train_split)\n",
    "\n",
    "        # Fit e predict\n",
    "        estimator.fit(X_train_split, y_train_split)\n",
    "        y_pred = estimator.predict(X_val_split)\n",
    "\n",
    "        # Scoring\n",
    "\n",
    "        accuracy_array[i] = accuracy_score(y_val_split, y_pred)\n",
    "        precision_array[i] = precision_score(y_val_split, y_pred)\n",
    "        recall_array[i] = recall_score(y_val_split, y_pred)\n",
    "        \n",
    "    # Priting results\n",
    "    print(f'Modelo {estimator}')\n",
    "    print(f'Acurácia: {accuracy_array.mean()} (std={accuracy_array.std()})')\n",
    "    print(f'Precisão: {precision_array.mean()} (std={precision_array.std()})')\n",
    "    print(f'Recall: {recall_array.mean()} (std={recall_array.std()})')\n",
    "    \n",
    "    if return_estimator:\n",
    "        X = treatment.fit_transform(X, y)\n",
    "        \n",
    "        if balancer:\n",
    "            X, ybalancer.fit_resample(X, y)\n",
    "            \n",
    "        estimator.fit(X, y)\n",
    "        return estimator"
   ]
  },
  {
   "cell_type": "markdown",
   "metadata": {},
   "source": [
    "### Decision Tree"
   ]
  },
  {
   "cell_type": "markdown",
   "metadata": {},
   "source": [
    "Começaremos com uma **decision tree** para ganhar algum insight sobre os dados:"
   ]
  },
  {
   "cell_type": "code",
   "execution_count": 173,
   "metadata": {
    "ExecuteTime": {
     "end_time": "2023-06-09T16:39:01.551887Z",
     "start_time": "2023-06-09T16:39:01.441760Z"
    }
   },
   "outputs": [
    {
     "name": "stdout",
     "output_type": "stream",
     "text": [
      "Modelo DecisionTreeClassifier(max_depth=2, random_state=42)\n",
      "Acurácia: 0.7467462789892696 (std=0.014770672745993956)\n",
      "Precisão: 0.6896303441889181 (std=0.08044744958208114)\n",
      "Recall: 0.5406827880512092 (std=0.09529564073659845)\n"
     ]
    }
   ],
   "source": [
    "# Decision Tree\n",
    "\n",
    "imp = SimpleImputer(strategy='constant', fill_value=0)\n",
    "tree_clf = DecisionTreeClassifier(max_depth=2, random_state=42)\n",
    "\n",
    "tree_clf = validacao_cruzada(X_train, y_train, tree_clf, return_estimator=True, treatment=imp)"
   ]
  },
  {
   "cell_type": "code",
   "execution_count": 174,
   "metadata": {
    "ExecuteTime": {
     "end_time": "2023-06-09T16:39:02.867141Z",
     "start_time": "2023-06-09T16:39:02.447782Z"
    }
   },
   "outputs": [
    {
     "data": {
      "image/png": "[encoded data removed]",
      "text/plain": [
       "<Figure size 864x720 with 1 Axes>"
      ]
     },
     "metadata": {
      "needs_background": "light"
     },
     "output_type": "display_data"
    }
   ],
   "source": [
    "# Plotando árvore\n",
    "\n",
    "fig = plt.figure(figsize=(12,10))\n",
    "_ = tree.plot_tree(tree_clf, \n",
    "                   feature_names=X_train.columns,  \n",
    "                   class_names=True,\n",
    "                   filled=True)"
   ]
  },
  {
   "cell_type": "markdown",
   "metadata": {},
   "source": [
    "Mesmo com uma árvore simples, já temos uma acurácia razoável. Também confirmamos a expectativa de que `Glucose` é uma variável importante nesse problema."
   ]
  },
  {
   "cell_type": "markdown",
   "metadata": {},
   "source": [
    "### Logistic Regression"
   ]
  },
  {
   "cell_type": "markdown",
   "metadata": {},
   "source": [
    "Também podemos treinar uma **regressão logística**, já que nem todas as features entraram na decision tree. Nesse caso, precisamos normalizar os dados."
   ]
  },
  {
   "cell_type": "code",
   "execution_count": 175,
   "metadata": {
    "ExecuteTime": {
     "end_time": "2023-06-09T16:39:05.317672Z",
     "start_time": "2023-06-09T16:39:05.207110Z"
    }
   },
   "outputs": [
    {
     "name": "stdout",
     "output_type": "stream",
     "text": [
      "Modelo LogisticRegression()\n",
      "Acurácia: 0.7933887158186224 (std=0.03438486777619503)\n",
      "Precisão: 0.7589809299895507 (std=0.06474296550649572)\n",
      "Recall: 0.5997155049786629 (std=0.06888569780654102)\n"
     ]
    }
   ],
   "source": [
    "# Logistic Regression\n",
    "\n",
    "imp = SimpleImputer(strategy='constant', fill_value=0)\n",
    "std = StandardScaler()\n",
    "log_clf = LogisticRegression()\n",
    "\n",
    "tr_pipeline = Pipeline([('imputer', imp), ('scaler', std)])\n",
    "\n",
    "validacao_cruzada(X_train, y_train, log_clf, treatment=tr_pipeline)"
   ]
  },
  {
   "cell_type": "markdown",
   "metadata": {},
   "source": [
    "### Random Forest"
   ]
  },
  {
   "cell_type": "code",
   "execution_count": 176,
   "metadata": {
    "ExecuteTime": {
     "end_time": "2023-06-09T16:39:08.313368Z",
     "start_time": "2023-06-09T16:39:07.040623Z"
    }
   },
   "outputs": [
    {
     "name": "stdout",
     "output_type": "stream",
     "text": [
      "Modelo RandomForestClassifier(random_state=42)\n",
      "Acurácia: 0.7673589477327795 (std=0.03586709973984574)\n",
      "Precisão: 0.704531490015361 (std=0.07086149873148931)\n",
      "Recall: 0.588620199146515 (std=0.09250748360563006)\n"
     ]
    }
   ],
   "source": [
    "# Random Forest\n",
    "\n",
    "imp = SimpleImputer(strategy='constant', fill_value=0)\n",
    "forest_clf = RandomForestClassifier(random_state=42)\n",
    "\n",
    "forest_clf = validacao_cruzada(X_train, y_train, forest_clf, treatment=imp, return_estimator=True)"
   ]
  },
  {
   "cell_type": "markdown",
   "metadata": {},
   "source": [
    "A partir da floresta treinada podemos extrair a importância de cada feature."
   ]
  },
  {
   "cell_type": "code",
   "execution_count": 177,
   "metadata": {
    "ExecuteTime": {
     "end_time": "2023-06-09T16:39:10.216232Z",
     "start_time": "2023-06-09T16:39:10.192241Z"
    }
   },
   "outputs": [
    {
     "data": {
      "text/html": [
       "<div>\n",
       "<style scoped>\n",
       "    .dataframe tbody tr th:only-of-type {\n",
       "        vertical-align: middle;\n",
       "    }\n",
       "\n",
       "    .dataframe tbody tr th {\n",
       "        vertical-align: top;\n",
       "    }\n",
       "\n",
       "    .dataframe thead th {\n",
       "        text-align: right;\n",
       "    }\n",
       "</style>\n",
       "<table border=\"1\" class=\"dataframe\">\n",
       "  <thead>\n",
       "    <tr style=\"text-align: right;\">\n",
       "      <th></th>\n",
       "      <th>feature</th>\n",
       "      <th>importance</th>\n",
       "    </tr>\n",
       "  </thead>\n",
       "  <tbody>\n",
       "    <tr>\n",
       "      <th>0</th>\n",
       "      <td>Glucose</td>\n",
       "      <td>0.272161</td>\n",
       "    </tr>\n",
       "    <tr>\n",
       "      <th>1</th>\n",
       "      <td>BMI</td>\n",
       "      <td>0.151320</td>\n",
       "    </tr>\n",
       "    <tr>\n",
       "      <th>2</th>\n",
       "      <td>Age</td>\n",
       "      <td>0.129989</td>\n",
       "    </tr>\n",
       "    <tr>\n",
       "      <th>3</th>\n",
       "      <td>DiabetesPedigreeFunction</td>\n",
       "      <td>0.118306</td>\n",
       "    </tr>\n",
       "    <tr>\n",
       "      <th>4</th>\n",
       "      <td>Pregnancies</td>\n",
       "      <td>0.096944</td>\n",
       "    </tr>\n",
       "    <tr>\n",
       "      <th>5</th>\n",
       "      <td>BloodPressure</td>\n",
       "      <td>0.089079</td>\n",
       "    </tr>\n",
       "    <tr>\n",
       "      <th>6</th>\n",
       "      <td>Insulin</td>\n",
       "      <td>0.073077</td>\n",
       "    </tr>\n",
       "    <tr>\n",
       "      <th>7</th>\n",
       "      <td>SkinThickness</td>\n",
       "      <td>0.069124</td>\n",
       "    </tr>\n",
       "  </tbody>\n",
       "</table>\n",
       "</div>"
      ],
      "text/plain": [
       "                    feature  importance\n",
       "0                   Glucose    0.272161\n",
       "1                       BMI    0.151320\n",
       "2                       Age    0.129989\n",
       "3  DiabetesPedigreeFunction    0.118306\n",
       "4               Pregnancies    0.096944\n",
       "5             BloodPressure    0.089079\n",
       "6                   Insulin    0.073077\n",
       "7             SkinThickness    0.069124"
      ]
     },
     "execution_count": 177,
     "metadata": {},
     "output_type": "execute_result"
    }
   ],
   "source": [
    "feature_importance = pd.DataFrame(zip(X_train.columns, forest_clf.feature_importances_),\n",
    "                                  columns=['feature', 'importance']).sort_values(by='importance', \n",
    "                                                                                 ascending=False).reset_index(drop=True)\n",
    "feature_importance"
   ]
  },
  {
   "cell_type": "code",
   "execution_count": 178,
   "metadata": {
    "ExecuteTime": {
     "end_time": "2023-06-09T16:39:10.968852Z",
     "start_time": "2023-06-09T16:39:10.742497Z"
    }
   },
   "outputs": [
    {
     "data": {
      "image/png": "[encoded data removed]",
      "text/plain": [
       "<Figure size 1008x288 with 1 Axes>"
      ]
     },
     "metadata": {
      "needs_background": "light"
     },
     "output_type": "display_data"
    }
   ],
   "source": [
    "plt.figure(figsize=(14,4))\n",
    "chart = sns.barplot(data=feature_importance, x='feature', y='importance')\n",
    "chart.set_xticklabels(chart.get_xticklabels(), rotation=45)\n",
    "plt.show()"
   ]
  },
  {
   "cell_type": "markdown",
   "metadata": {},
   "source": [
    "Confirmamos que `Glucose`, `BMI` e `Age` são variáveis importantes."
   ]
  },
  {
   "cell_type": "markdown",
   "metadata": {},
   "source": [
    "### Support Vector Machine"
   ]
  },
  {
   "cell_type": "code",
   "execution_count": 179,
   "metadata": {
    "ExecuteTime": {
     "end_time": "2023-06-09T16:39:13.465732Z",
     "start_time": "2023-06-09T16:39:13.350572Z"
    }
   },
   "outputs": [
    {
     "name": "stdout",
     "output_type": "stream",
     "text": [
      "Modelo SVC(kernel='linear')\n",
      "Acurácia: 0.789650398061613 (std=0.027314765125262565)\n",
      "Precisão: 0.7570833333333333 (std=0.05897857426406835)\n",
      "Recall: 0.5889046941678521 (std=0.0520478179420909)\n"
     ]
    }
   ],
   "source": [
    "# Logistic Regression\n",
    "\n",
    "imp = SimpleImputer(strategy='constant', fill_value=0)\n",
    "std = StandardScaler()\n",
    "svm_clf = SVC(kernel='linear')\n",
    "\n",
    "tr_pipeline = Pipeline([('imputer', imp), ('scaler', std)])\n",
    "\n",
    "validacao_cruzada(X_train, y_train, svm_clf, treatment=tr_pipeline)"
   ]
  },
  {
   "cell_type": "markdown",
   "metadata": {},
   "source": [
    "Com esses modelos simples de ML já temos resultados significativamente melhores que o modelo heurístico."
   ]
  },
  {
   "cell_type": "markdown",
   "metadata": {},
   "source": [
    "# Tratamento dos dados"
   ]
  },
  {
   "cell_type": "markdown",
   "metadata": {},
   "source": [
    "## Balanceamento das classes"
   ]
  },
  {
   "cell_type": "code",
   "execution_count": 181,
   "metadata": {
    "ExecuteTime": {
     "end_time": "2023-06-09T16:41:50.455114Z",
     "start_time": "2023-06-09T16:41:50.328348Z"
    }
   },
   "outputs": [
    {
     "name": "stdout",
     "output_type": "stream",
     "text": [
      "Modelo LogisticRegression()\n",
      "Acurácia: 0.7933887158186224 (std=0.03438486777619503)\n",
      "Precisão: 0.7589809299895507 (std=0.06474296550649572)\n",
      "Recall: 0.5997155049786629 (std=0.06888569780654102)\n"
     ]
    }
   ],
   "source": [
    "# Sem balanceamento\n",
    "\n",
    "imp = SimpleImputer(strategy='constant', fill_value=0)\n",
    "std = StandardScaler()\n",
    "log_clf = LogisticRegression()\n",
    "\n",
    "tr_pipeline = Pipeline([('imputer', imp), ('scaler', std)])\n",
    "\n",
    "validacao_cruzada(X_train, y_train, log_clf, treatment=tr_pipeline)"
   ]
  },
  {
   "cell_type": "code",
   "execution_count": 182,
   "metadata": {
    "ExecuteTime": {
     "end_time": "2023-06-09T16:42:13.239833Z",
     "start_time": "2023-06-09T16:42:13.104978Z"
    }
   },
   "outputs": [
    {
     "name": "stdout",
     "output_type": "stream",
     "text": [
      "Modelo LogisticRegression(class_weight='balanced')\n",
      "Acurácia: 0.7449463482173763 (std=0.018211532099481727)\n",
      "Precisão: 0.613586479303408 (std=0.017371703669115675)\n",
      "Recall: 0.7223328591749645 (std=0.05252305138387073)\n"
     ]
    }
   ],
   "source": [
    "# Usando class_weight\n",
    "\n",
    "imp = SimpleImputer(strategy='constant', fill_value=0)\n",
    "std = StandardScaler()\n",
    "log_clf = LogisticRegression(class_weight='balanced')\n",
    "\n",
    "tr_pipeline = Pipeline([('imputer', imp), ('scaler', std)])\n",
    "\n",
    "validacao_cruzada(X_train, y_train, log_clf, treatment=tr_pipeline)"
   ]
  },
  {
   "cell_type": "markdown",
   "metadata": {},
   "source": [
    "Usar pesos com o parâmetro `class_weight` reduz um pouco a acurácia mas melhora nosso recall, o que é interessante para o tipo de problema que estamos resolvendo."
   ]
  },
  {
   "cell_type": "code",
   "execution_count": 195,
   "metadata": {
    "ExecuteTime": {
     "end_time": "2023-06-09T16:45:04.294300Z",
     "start_time": "2023-06-09T16:45:04.177734Z"
    }
   },
   "outputs": [
    {
     "name": "stdout",
     "output_type": "stream",
     "text": [
      "Modelo LogisticRegression(class_weight='balanced')\n",
      "Acurácia: 0.7394254067151264 (std=0.03270150664079517)\n",
      "Precisão: 0.6038547560980494 (std=0.03443867367750166)\n",
      "Recall: 0.7332859174964439 (std=0.05773216468208954)\n"
     ]
    }
   ],
   "source": [
    "# Undersampling\n",
    "\n",
    "from imblearn.under_sampling import NearMiss\n",
    "\n",
    "nm = NearMiss(sampling_strategy=0.6, n_neighbors=3)\n",
    "\n",
    "imp = SimpleImputer(strategy='constant', fill_value=0)\n",
    "std = StandardScaler()\n",
    "log_clf = LogisticRegression(class_weight='balanced')\n",
    "\n",
    "tr_pipeline = Pipeline([('imputer', imp), ('scaler', std)])\n",
    "\n",
    "validacao_cruzada(X_train, y_train, log_clf, treatment=tr_pipeline, balancer=nm)"
   ]
  },
  {
   "cell_type": "code",
   "execution_count": 197,
   "metadata": {
    "ExecuteTime": {
     "end_time": "2023-06-09T16:58:05.122760Z",
     "start_time": "2023-06-09T16:58:04.968035Z"
    }
   },
   "outputs": [
    {
     "name": "stdout",
     "output_type": "stream",
     "text": [
      "Modelo LogisticRegression(class_weight='balanced')\n",
      "Acurácia: 0.7430944963655243 (std=0.020740895556022185)\n",
      "Precisão: 0.6106146811140034 (std=0.01945991194025089)\n",
      "Recall: 0.722475106685633 (std=0.05711977086231168)\n"
     ]
    }
   ],
   "source": [
    "# Oversampling\n",
    "\n",
    "from imblearn.over_sampling import SMOTE\n",
    "\n",
    "smote = SMOTE(sampling_strategy=0.6, random_state=42)\n",
    "\n",
    "imp = SimpleImputer(strategy='constant', fill_value=0)\n",
    "std = StandardScaler()\n",
    "log_clf = LogisticRegression(class_weight='balanced')\n",
    "\n",
    "tr_pipeline = Pipeline([('imputer', imp), ('scaler', std)])\n",
    "\n",
    "validacao_cruzada(X_train, y_train, log_clf, treatment=tr_pipeline, balancer=smote)"
   ]
  },
  {
   "cell_type": "code",
   "execution_count": null,
   "metadata": {},
   "outputs": [],
   "source": [
    "# Undersampling + oversampling\n",
    "\n"
   ]
  },
  {
   "cell_type": "code",
   "execution_count": null,
   "metadata": {},
   "outputs": [],
   "source": []
  },
  {
   "cell_type": "markdown",
   "metadata": {},
   "source": [
    "### Lidando com dados faltantes"
   ]
  },
  {
   "cell_type": "markdown",
   "metadata": {},
   "source": [
    "Vamos comparar o SimpleImputer (testando média e mediana) e o KNNImputer."
   ]
  },
  {
   "cell_type": "code",
   "execution_count": 54,
   "metadata": {
    "ExecuteTime": {
     "end_time": "2023-02-14T22:32:04.038357Z",
     "start_time": "2023-02-14T22:32:01.266938Z"
    }
   },
   "outputs": [
    {
     "name": "stdout",
     "output_type": "stream",
     "text": [
      "Modelo: LogisticRegression(class_weight='balanced')\n",
      "Acurácia média: 0.759 (std=0.0277)\n",
      "Precisão média: 0.6445 (std=0.0478)\n",
      "Recall médio: 0.7011 (std=0.0327)\n",
      "\n",
      "Modelo: RandomForestClassifier(class_weight='balanced', random_state=42)\n",
      "Acurácia média: 0.7606 (std=0.0244)\n",
      "Precisão média: 0.6912 (std=0.0462)\n",
      "Recall médio: 0.5702 (std=0.0691)\n",
      "\n",
      "Modelo: SVC(class_weight='balanced', kernel='linear')\n",
      "Acurácia média: 0.7558 (std=0.0287)\n",
      "Precisão média: 0.6456 (std=0.0469)\n",
      "Recall médio: 0.6732 (std=0.0367)\n"
     ]
    }
   ],
   "source": [
    "# Testando SimpleImputer (mean)\n",
    "\n",
    "sim_imp = SimpleImputer(strategy='mean')\n",
    "std_scaler = StandardScaler()\n",
    "\n",
    "treat_steps = [('imputer', sim_imp), ('scaler', std_scaler)]\n",
    "treat_pipeline = Pipeline(treat_steps)\n",
    "X_train_tr = treat_pipeline.fit_transform(X_train)\n",
    "\n",
    "\n",
    "relatorio_cross_val(log_clf, X_train_tr, y_train)\n",
    "print()\n",
    "relatorio_cross_val(forest_clf, X_train_tr, y_train)\n",
    "print()\n",
    "relatorio_cross_val(svc_clf, X_train_tr, y_train)"
   ]
  },
  {
   "cell_type": "code",
   "execution_count": 55,
   "metadata": {
    "ExecuteTime": {
     "end_time": "2023-02-14T22:32:06.765699Z",
     "start_time": "2023-02-14T22:32:04.042972Z"
    }
   },
   "outputs": [
    {
     "name": "stdout",
     "output_type": "stream",
     "text": [
      "Modelo: LogisticRegression(class_weight='balanced')\n",
      "Acurácia média: 0.7541 (std=0.0348)\n",
      "Precisão média: 0.6373 (std=0.0564)\n",
      "Recall médio: 0.7011 (std=0.0327)\n",
      "\n",
      "Modelo: RandomForestClassifier(class_weight='balanced', random_state=42)\n",
      "Acurácia média: 0.7671 (std=0.0221)\n",
      "Precisão média: 0.7006 (std=0.0524)\n",
      "Recall médio: 0.5888 (std=0.0596)\n",
      "\n",
      "Modelo: SVC(class_weight='balanced', kernel='linear')\n",
      "Acurácia média: 0.7541 (std=0.0362)\n",
      "Precisão média: 0.6432 (std=0.057)\n",
      "Recall médio: 0.6779 (std=0.0381)\n"
     ]
    }
   ],
   "source": [
    "# Testando SimpleImputer (median)\n",
    "\n",
    "sim_imp = SimpleImputer(strategy='median')\n",
    "std_scaler = StandardScaler()\n",
    "\n",
    "treat_steps = [('imputer', sim_imp), ('scaler', std_scaler)]\n",
    "treat_pipeline = Pipeline(treat_steps)\n",
    "X_train_tr = treat_pipeline.fit_transform(X_train)\n",
    "\n",
    "\n",
    "relatorio_cross_val(log_clf, X_train_tr, y_train)\n",
    "print()\n",
    "relatorio_cross_val(forest_clf, X_train_tr, y_train)\n",
    "print()\n",
    "relatorio_cross_val(svc_clf, X_train_tr, y_train)"
   ]
  },
  {
   "cell_type": "code",
   "execution_count": 56,
   "metadata": {
    "ExecuteTime": {
     "end_time": "2023-02-14T22:32:09.521751Z",
     "start_time": "2023-02-14T22:32:06.767686Z"
    }
   },
   "outputs": [
    {
     "name": "stdout",
     "output_type": "stream",
     "text": [
      "Modelo: LogisticRegression(class_weight='balanced')\n",
      "Acurácia média: 0.7525 (std=0.0374)\n",
      "Precisão média: 0.6351 (std=0.0595)\n",
      "Recall médio: 0.7011 (std=0.0327)\n",
      "\n",
      "Modelo: RandomForestClassifier(class_weight='balanced', random_state=42)\n",
      "Acurácia média: 0.7703 (std=0.0239)\n",
      "Precisão média: 0.7011 (std=0.0576)\n",
      "Recall médio: 0.6029 (std=0.0408)\n",
      "\n",
      "Modelo: SVC(class_weight='balanced', kernel='linear')\n",
      "Acurácia média: 0.7606 (std=0.0276)\n",
      "Precisão média: 0.6551 (std=0.0498)\n",
      "Recall médio: 0.6731 (std=0.0311)\n"
     ]
    }
   ],
   "source": [
    "# Testando KNNImputer\n",
    "\n",
    "knn_imp = KNNImputer(n_neighbors=15)\n",
    "std_scaler = StandardScaler()\n",
    "\n",
    "treat_steps = [('imputer', knn_imp), ('scaler', std_scaler)]\n",
    "treat_pipeline = Pipeline(treat_steps)\n",
    "X_train_tr = treat_pipeline.fit_transform(X_train)\n",
    "\n",
    "relatorio_cross_val(log_clf, X_train_tr, y_train)\n",
    "print()\n",
    "relatorio_cross_val(forest_clf, X_train_tr, y_train)\n",
    "print()\n",
    "relatorio_cross_val(svc_clf, X_train_tr, y_train)"
   ]
  },
  {
   "cell_type": "markdown",
   "metadata": {},
   "source": [
    "Vamos usar o tratamento do `KNNImputer` com a `n_neighbors=15`. Antes de prosseguir vamos analisar novamente os dados após o tratamento."
   ]
  },
  {
   "cell_type": "code",
   "execution_count": 57,
   "metadata": {
    "ExecuteTime": {
     "end_time": "2023-02-14T22:32:09.611142Z",
     "start_time": "2023-02-14T22:32:09.525812Z"
    },
    "scrolled": true
   },
   "outputs": [
    {
     "data": {
      "text/html": [
       "<div>\n",
       "<style scoped>\n",
       "    .dataframe tbody tr th:only-of-type {\n",
       "        vertical-align: middle;\n",
       "    }\n",
       "\n",
       "    .dataframe tbody tr th {\n",
       "        vertical-align: top;\n",
       "    }\n",
       "\n",
       "    .dataframe thead th {\n",
       "        text-align: right;\n",
       "    }\n",
       "</style>\n",
       "<table border=\"1\" class=\"dataframe\">\n",
       "  <thead>\n",
       "    <tr style=\"text-align: right;\">\n",
       "      <th></th>\n",
       "      <th>Pregnancies</th>\n",
       "      <th>Glucose</th>\n",
       "      <th>BloodPressure</th>\n",
       "      <th>SkinThickness</th>\n",
       "      <th>Insulin</th>\n",
       "      <th>BMI</th>\n",
       "      <th>DiabetesPedigreeFunction</th>\n",
       "      <th>Age</th>\n",
       "    </tr>\n",
       "  </thead>\n",
       "  <tbody>\n",
       "    <tr>\n",
       "      <th>353</th>\n",
       "      <td>1.0</td>\n",
       "      <td>90.0</td>\n",
       "      <td>62.0</td>\n",
       "      <td>12.0</td>\n",
       "      <td>43.000000</td>\n",
       "      <td>27.200001</td>\n",
       "      <td>0.580</td>\n",
       "      <td>24.0</td>\n",
       "    </tr>\n",
       "    <tr>\n",
       "      <th>711</th>\n",
       "      <td>5.0</td>\n",
       "      <td>126.0</td>\n",
       "      <td>78.0</td>\n",
       "      <td>27.0</td>\n",
       "      <td>22.000000</td>\n",
       "      <td>29.600000</td>\n",
       "      <td>0.439</td>\n",
       "      <td>40.0</td>\n",
       "    </tr>\n",
       "    <tr>\n",
       "      <th>373</th>\n",
       "      <td>2.0</td>\n",
       "      <td>105.0</td>\n",
       "      <td>58.0</td>\n",
       "      <td>40.0</td>\n",
       "      <td>94.000000</td>\n",
       "      <td>34.900002</td>\n",
       "      <td>0.225</td>\n",
       "      <td>25.0</td>\n",
       "    </tr>\n",
       "    <tr>\n",
       "      <th>46</th>\n",
       "      <td>1.0</td>\n",
       "      <td>146.0</td>\n",
       "      <td>56.0</td>\n",
       "      <td>27.2</td>\n",
       "      <td>207.733333</td>\n",
       "      <td>29.700001</td>\n",
       "      <td>0.564</td>\n",
       "      <td>29.0</td>\n",
       "    </tr>\n",
       "    <tr>\n",
       "      <th>682</th>\n",
       "      <td>0.0</td>\n",
       "      <td>95.0</td>\n",
       "      <td>64.0</td>\n",
       "      <td>39.0</td>\n",
       "      <td>105.000000</td>\n",
       "      <td>44.599998</td>\n",
       "      <td>0.366</td>\n",
       "      <td>22.0</td>\n",
       "    </tr>\n",
       "  </tbody>\n",
       "</table>\n",
       "</div>"
      ],
      "text/plain": [
       "     Pregnancies  Glucose  BloodPressure  SkinThickness     Insulin  \\\n",
       "353          1.0     90.0           62.0           12.0   43.000000   \n",
       "711          5.0    126.0           78.0           27.0   22.000000   \n",
       "373          2.0    105.0           58.0           40.0   94.000000   \n",
       "46           1.0    146.0           56.0           27.2  207.733333   \n",
       "682          0.0     95.0           64.0           39.0  105.000000   \n",
       "\n",
       "           BMI  DiabetesPedigreeFunction   Age  \n",
       "353  27.200001                     0.580  24.0  \n",
       "711  29.600000                     0.439  40.0  \n",
       "373  34.900002                     0.225  25.0  \n",
       "46   29.700001                     0.564  29.0  \n",
       "682  44.599998                     0.366  22.0  "
      ]
     },
     "execution_count": 57,
     "metadata": {},
     "output_type": "execute_result"
    }
   ],
   "source": [
    "# Reconstruindo o dataframe\n",
    "\n",
    "X_train_impute = pd.DataFrame(knn_imp.fit_transform(X_train), \n",
    "                              columns=X_train.columns, \n",
    "                              index=X_train.index)\n",
    "\n",
    "X_train_impute.head()"
   ]
  },
  {
   "cell_type": "code",
   "execution_count": 58,
   "metadata": {
    "ExecuteTime": {
     "end_time": "2023-02-14T22:32:10.037695Z",
     "start_time": "2023-02-14T22:32:09.614078Z"
    }
   },
   "outputs": [
    {
     "data": {
      "image/png": "[encoded data removed]",
      "text/plain": [
       "<Figure size 720x288 with 2 Axes>"
      ]
     },
     "metadata": {
      "needs_background": "light"
     },
     "output_type": "display_data"
    }
   ],
   "source": [
    "plot_histgram_and_boxplot(X_train_impute.join(y_train), \"Pregnancies\")"
   ]
  },
  {
   "cell_type": "code",
   "execution_count": 59,
   "metadata": {
    "ExecuteTime": {
     "end_time": "2023-02-14T22:32:10.561504Z",
     "start_time": "2023-02-14T22:32:10.039993Z"
    },
    "scrolled": true
   },
   "outputs": [
    {
     "data": {
      "image/png": "[encoded data removed]",
      "text/plain": [
       "<Figure size 720x288 with 2 Axes>"
      ]
     },
     "metadata": {
      "needs_background": "light"
     },
     "output_type": "display_data"
    }
   ],
   "source": [
    "plot_histgram_and_boxplot(X_train_impute.join(y_train), \"Glucose\")"
   ]
  },
  {
   "cell_type": "code",
   "execution_count": 60,
   "metadata": {
    "ExecuteTime": {
     "end_time": "2023-02-14T22:32:10.977740Z",
     "start_time": "2023-02-14T22:32:10.564171Z"
    }
   },
   "outputs": [
    {
     "data": {
      "image/png": "[encoded data removed]",
      "text/plain": [
       "<Figure size 720x288 with 2 Axes>"
      ]
     },
     "metadata": {
      "needs_background": "light"
     },
     "output_type": "display_data"
    }
   ],
   "source": [
    "plot_histgram_and_boxplot(X_train_impute.join(y_train), \"BloodPressure\")"
   ]
  },
  {
   "cell_type": "code",
   "execution_count": 61,
   "metadata": {
    "ExecuteTime": {
     "end_time": "2023-02-14T22:32:11.453634Z",
     "start_time": "2023-02-14T22:32:10.979674Z"
    }
   },
   "outputs": [
    {
     "data": {
      "image/png": "[encoded data removed]",
      "text/plain": [
       "<Figure size 720x288 with 2 Axes>"
      ]
     },
     "metadata": {
      "needs_background": "light"
     },
     "output_type": "display_data"
    }
   ],
   "source": [
    "plot_histgram_and_boxplot(X_train_impute.join(y_train), \"SkinThickness\")"
   ]
  },
  {
   "cell_type": "code",
   "execution_count": 62,
   "metadata": {
    "ExecuteTime": {
     "end_time": "2023-02-14T22:32:11.972294Z",
     "start_time": "2023-02-14T22:32:11.456893Z"
    },
    "scrolled": true
   },
   "outputs": [
    {
     "data": {
      "image/png": "[encoded data removed]",
      "text/plain": [
       "<Figure size 720x288 with 2 Axes>"
      ]
     },
     "metadata": {
      "needs_background": "light"
     },
     "output_type": "display_data"
    }
   ],
   "source": [
    "plot_histgram_and_boxplot(X_train_impute.join(y_train), \"Insulin\")"
   ]
  },
  {
   "cell_type": "code",
   "execution_count": 63,
   "metadata": {
    "ExecuteTime": {
     "end_time": "2023-02-14T22:32:12.371324Z",
     "start_time": "2023-02-14T22:32:11.974385Z"
    }
   },
   "outputs": [
    {
     "data": {
      "image/png": "[encoded data removed]",
      "text/plain": [
       "<Figure size 720x288 with 2 Axes>"
      ]
     },
     "metadata": {
      "needs_background": "light"
     },
     "output_type": "display_data"
    }
   ],
   "source": [
    "plot_histgram_and_boxplot(X_train_impute.join(y_train), \"Age\")"
   ]
  },
  {
   "cell_type": "code",
   "execution_count": 64,
   "metadata": {
    "ExecuteTime": {
     "end_time": "2023-02-14T22:32:12.859904Z",
     "start_time": "2023-02-14T22:32:12.376047Z"
    }
   },
   "outputs": [
    {
     "data": {
      "image/png": "[encoded data removed]",
      "text/plain": [
       "<Figure size 720x288 with 2 Axes>"
      ]
     },
     "metadata": {
      "needs_background": "light"
     },
     "output_type": "display_data"
    }
   ],
   "source": [
    "plot_histgram_and_boxplot(X_train_impute.join(y_train), \"DiabetesPedigreeFunction\")"
   ]
  },
  {
   "cell_type": "code",
   "execution_count": 65,
   "metadata": {
    "ExecuteTime": {
     "end_time": "2023-02-14T22:32:13.257317Z",
     "start_time": "2023-02-14T22:32:12.862519Z"
    },
    "scrolled": true
   },
   "outputs": [
    {
     "data": {
      "image/png": "[encoded data removed]",
      "text/plain": [
       "<Figure size 720x288 with 2 Axes>"
      ]
     },
     "metadata": {
      "needs_background": "light"
     },
     "output_type": "display_data"
    }
   ],
   "source": [
    "plot_histgram_and_boxplot(X_train_impute.join(y_train), \"BMI\")"
   ]
  },
  {
   "cell_type": "markdown",
   "metadata": {},
   "source": [
    "Vamos verificar novamente a matriz de correlação."
   ]
  },
  {
   "cell_type": "code",
   "execution_count": 66,
   "metadata": {
    "ExecuteTime": {
     "end_time": "2023-02-14T22:32:13.267902Z",
     "start_time": "2023-02-14T22:32:13.260349Z"
    },
    "scrolled": false
   },
   "outputs": [
    {
     "name": "stdout",
     "output_type": "stream",
     "text": [
      "Outcome                     1.000000\n",
      "Glucose                     0.514116\n",
      "Insulin                     0.377782\n",
      "BMI                         0.330768\n",
      "SkinThickness               0.286682\n",
      "Age                         0.240676\n",
      "Pregnancies                 0.208173\n",
      "BloodPressure               0.184225\n",
      "DiabetesPedigreeFunction    0.165312\n",
      "Name: Outcome, dtype: float64\n"
     ]
    }
   ],
   "source": [
    "corr_matrix = X_train_impute.join(y_train).corr()\n",
    "print(corr_matrix[\"Outcome\"].sort_values(ascending=False))"
   ]
  },
  {
   "cell_type": "markdown",
   "metadata": {},
   "source": [
    "As distribuições se mantiveram sem muitas distorções. Nota-se que temos uma melhor correlação de diversas features com o target."
   ]
  },
  {
   "cell_type": "markdown",
   "metadata": {},
   "source": [
    "### Log transformation"
   ]
  },
  {
   "cell_type": "markdown",
   "metadata": {},
   "source": [
    "A distribuição da `DiabetesPedigreeFunction` e `Insulin `parecem muito inviesadas. Aplicar um logaritmo pode ajudar a torna-las mais normais, o que ajuda nossos modelos:"
   ]
  },
  {
   "cell_type": "code",
   "execution_count": 67,
   "metadata": {
    "ExecuteTime": {
     "end_time": "2023-02-14T22:32:13.291418Z",
     "start_time": "2023-02-14T22:32:13.270429Z"
    }
   },
   "outputs": [
    {
     "data": {
      "text/html": [
       "<div>\n",
       "<style scoped>\n",
       "    .dataframe tbody tr th:only-of-type {\n",
       "        vertical-align: middle;\n",
       "    }\n",
       "\n",
       "    .dataframe tbody tr th {\n",
       "        vertical-align: top;\n",
       "    }\n",
       "\n",
       "    .dataframe thead th {\n",
       "        text-align: right;\n",
       "    }\n",
       "</style>\n",
       "<table border=\"1\" class=\"dataframe\">\n",
       "  <thead>\n",
       "    <tr style=\"text-align: right;\">\n",
       "      <th></th>\n",
       "      <th>Pregnancies</th>\n",
       "      <th>Glucose</th>\n",
       "      <th>BloodPressure</th>\n",
       "      <th>SkinThickness</th>\n",
       "      <th>Insulin</th>\n",
       "      <th>BMI</th>\n",
       "      <th>DiabetesPedigreeFunction</th>\n",
       "      <th>Age</th>\n",
       "    </tr>\n",
       "  </thead>\n",
       "  <tbody>\n",
       "    <tr>\n",
       "      <th>353</th>\n",
       "      <td>1.0</td>\n",
       "      <td>90.0</td>\n",
       "      <td>62.0</td>\n",
       "      <td>12.0</td>\n",
       "      <td>43.000000</td>\n",
       "      <td>27.200001</td>\n",
       "      <td>0.580</td>\n",
       "      <td>24.0</td>\n",
       "    </tr>\n",
       "    <tr>\n",
       "      <th>711</th>\n",
       "      <td>5.0</td>\n",
       "      <td>126.0</td>\n",
       "      <td>78.0</td>\n",
       "      <td>27.0</td>\n",
       "      <td>22.000000</td>\n",
       "      <td>29.600000</td>\n",
       "      <td>0.439</td>\n",
       "      <td>40.0</td>\n",
       "    </tr>\n",
       "    <tr>\n",
       "      <th>373</th>\n",
       "      <td>2.0</td>\n",
       "      <td>105.0</td>\n",
       "      <td>58.0</td>\n",
       "      <td>40.0</td>\n",
       "      <td>94.000000</td>\n",
       "      <td>34.900002</td>\n",
       "      <td>0.225</td>\n",
       "      <td>25.0</td>\n",
       "    </tr>\n",
       "    <tr>\n",
       "      <th>46</th>\n",
       "      <td>1.0</td>\n",
       "      <td>146.0</td>\n",
       "      <td>56.0</td>\n",
       "      <td>27.2</td>\n",
       "      <td>207.733333</td>\n",
       "      <td>29.700001</td>\n",
       "      <td>0.564</td>\n",
       "      <td>29.0</td>\n",
       "    </tr>\n",
       "    <tr>\n",
       "      <th>682</th>\n",
       "      <td>0.0</td>\n",
       "      <td>95.0</td>\n",
       "      <td>64.0</td>\n",
       "      <td>39.0</td>\n",
       "      <td>105.000000</td>\n",
       "      <td>44.599998</td>\n",
       "      <td>0.366</td>\n",
       "      <td>22.0</td>\n",
       "    </tr>\n",
       "  </tbody>\n",
       "</table>\n",
       "</div>"
      ],
      "text/plain": [
       "     Pregnancies  Glucose  BloodPressure  SkinThickness     Insulin  \\\n",
       "353          1.0     90.0           62.0           12.0   43.000000   \n",
       "711          5.0    126.0           78.0           27.0   22.000000   \n",
       "373          2.0    105.0           58.0           40.0   94.000000   \n",
       "46           1.0    146.0           56.0           27.2  207.733333   \n",
       "682          0.0     95.0           64.0           39.0  105.000000   \n",
       "\n",
       "           BMI  DiabetesPedigreeFunction   Age  \n",
       "353  27.200001                     0.580  24.0  \n",
       "711  29.600000                     0.439  40.0  \n",
       "373  34.900002                     0.225  25.0  \n",
       "46   29.700001                     0.564  29.0  \n",
       "682  44.599998                     0.366  22.0  "
      ]
     },
     "execution_count": 67,
     "metadata": {},
     "output_type": "execute_result"
    }
   ],
   "source": [
    "X_train_log = X_train_impute.copy()\n",
    "X_train_log.head()"
   ]
  },
  {
   "cell_type": "code",
   "execution_count": 68,
   "metadata": {
    "ExecuteTime": {
     "end_time": "2023-02-14T22:32:13.736694Z",
     "start_time": "2023-02-14T22:32:13.318905Z"
    }
   },
   "outputs": [
    {
     "data": {
      "image/png": "[encoded data removed]",
      "text/plain": [
       "<Figure size 720x288 with 2 Axes>"
      ]
     },
     "metadata": {
      "needs_background": "light"
     },
     "output_type": "display_data"
    }
   ],
   "source": [
    "X_train_log['LogInsulin'] = np.log(X_train_log['Insulin'])\n",
    "plot_histgram_and_boxplot(X_train_log.join(y_train), \"LogInsulin\")"
   ]
  },
  {
   "cell_type": "code",
   "execution_count": 69,
   "metadata": {
    "ExecuteTime": {
     "end_time": "2023-02-14T22:32:14.134415Z",
     "start_time": "2023-02-14T22:32:13.743348Z"
    }
   },
   "outputs": [
    {
     "data": {
      "image/png": "[encoded data removed]",
      "text/plain": [
       "<Figure size 720x288 with 2 Axes>"
      ]
     },
     "metadata": {
      "needs_background": "light"
     },
     "output_type": "display_data"
    }
   ],
   "source": [
    "X_train_log['LogDiabetesPedigreeFunction'] = np.log(X_train_log['DiabetesPedigreeFunction'])\n",
    "plot_histgram_and_boxplot(X_train_log.join(y_train), \"LogDiabetesPedigreeFunction\")"
   ]
  },
  {
   "cell_type": "code",
   "execution_count": 70,
   "metadata": {
    "ExecuteTime": {
     "end_time": "2023-02-14T22:32:14.149133Z",
     "start_time": "2023-02-14T22:32:14.137552Z"
    }
   },
   "outputs": [
    {
     "name": "stdout",
     "output_type": "stream",
     "text": [
      "Outcome                        1.000000\n",
      "Glucose                        0.514116\n",
      "LogInsulin                     0.418781\n",
      "Insulin                        0.377782\n",
      "BMI                            0.330768\n",
      "SkinThickness                  0.286682\n",
      "Age                            0.240676\n",
      "Pregnancies                    0.208173\n",
      "BloodPressure                  0.184225\n",
      "LogDiabetesPedigreeFunction    0.174461\n",
      "DiabetesPedigreeFunction       0.165312\n",
      "Name: Outcome, dtype: float64\n"
     ]
    }
   ],
   "source": [
    "correlacao(X_train_log.join(y_train))"
   ]
  },
  {
   "cell_type": "markdown",
   "metadata": {},
   "source": [
    "As distribuições parecem mais normais e as correlações melhoraram."
   ]
  },
  {
   "cell_type": "code",
   "execution_count": 71,
   "metadata": {
    "ExecuteTime": {
     "end_time": "2023-02-14T22:32:14.167501Z",
     "start_time": "2023-02-14T22:32:14.153464Z"
    },
    "scrolled": true
   },
   "outputs": [
    {
     "data": {
      "text/html": [
       "<div>\n",
       "<style scoped>\n",
       "    .dataframe tbody tr th:only-of-type {\n",
       "        vertical-align: middle;\n",
       "    }\n",
       "\n",
       "    .dataframe tbody tr th {\n",
       "        vertical-align: top;\n",
       "    }\n",
       "\n",
       "    .dataframe thead th {\n",
       "        text-align: right;\n",
       "    }\n",
       "</style>\n",
       "<table border=\"1\" class=\"dataframe\">\n",
       "  <thead>\n",
       "    <tr style=\"text-align: right;\">\n",
       "      <th></th>\n",
       "      <th>Pregnancies</th>\n",
       "      <th>Glucose</th>\n",
       "      <th>BloodPressure</th>\n",
       "      <th>SkinThickness</th>\n",
       "      <th>BMI</th>\n",
       "      <th>Age</th>\n",
       "      <th>LogInsulin</th>\n",
       "      <th>LogDiabetesPedigreeFunction</th>\n",
       "    </tr>\n",
       "  </thead>\n",
       "  <tbody>\n",
       "    <tr>\n",
       "      <th>353</th>\n",
       "      <td>1.0</td>\n",
       "      <td>90.0</td>\n",
       "      <td>62.0</td>\n",
       "      <td>12.0</td>\n",
       "      <td>27.200001</td>\n",
       "      <td>24.0</td>\n",
       "      <td>3.761200</td>\n",
       "      <td>-0.544727</td>\n",
       "    </tr>\n",
       "    <tr>\n",
       "      <th>711</th>\n",
       "      <td>5.0</td>\n",
       "      <td>126.0</td>\n",
       "      <td>78.0</td>\n",
       "      <td>27.0</td>\n",
       "      <td>29.600000</td>\n",
       "      <td>40.0</td>\n",
       "      <td>3.091042</td>\n",
       "      <td>-0.823256</td>\n",
       "    </tr>\n",
       "    <tr>\n",
       "      <th>373</th>\n",
       "      <td>2.0</td>\n",
       "      <td>105.0</td>\n",
       "      <td>58.0</td>\n",
       "      <td>40.0</td>\n",
       "      <td>34.900002</td>\n",
       "      <td>25.0</td>\n",
       "      <td>4.543295</td>\n",
       "      <td>-1.491655</td>\n",
       "    </tr>\n",
       "    <tr>\n",
       "      <th>46</th>\n",
       "      <td>1.0</td>\n",
       "      <td>146.0</td>\n",
       "      <td>56.0</td>\n",
       "      <td>27.2</td>\n",
       "      <td>29.700001</td>\n",
       "      <td>29.0</td>\n",
       "      <td>5.336255</td>\n",
       "      <td>-0.572701</td>\n",
       "    </tr>\n",
       "    <tr>\n",
       "      <th>682</th>\n",
       "      <td>0.0</td>\n",
       "      <td>95.0</td>\n",
       "      <td>64.0</td>\n",
       "      <td>39.0</td>\n",
       "      <td>44.599998</td>\n",
       "      <td>22.0</td>\n",
       "      <td>4.653960</td>\n",
       "      <td>-1.005122</td>\n",
       "    </tr>\n",
       "  </tbody>\n",
       "</table>\n",
       "</div>"
      ],
      "text/plain": [
       "     Pregnancies  Glucose  BloodPressure  SkinThickness        BMI   Age  \\\n",
       "353          1.0     90.0           62.0           12.0  27.200001  24.0   \n",
       "711          5.0    126.0           78.0           27.0  29.600000  40.0   \n",
       "373          2.0    105.0           58.0           40.0  34.900002  25.0   \n",
       "46           1.0    146.0           56.0           27.2  29.700001  29.0   \n",
       "682          0.0     95.0           64.0           39.0  44.599998  22.0   \n",
       "\n",
       "     LogInsulin  LogDiabetesPedigreeFunction  \n",
       "353    3.761200                    -0.544727  \n",
       "711    3.091042                    -0.823256  \n",
       "373    4.543295                    -1.491655  \n",
       "46     5.336255                    -0.572701  \n",
       "682    4.653960                    -1.005122  "
      ]
     },
     "execution_count": 71,
     "metadata": {},
     "output_type": "execute_result"
    }
   ],
   "source": [
    "drop = [\"DiabetesPedigreeFunction\", \"Insulin\"]\n",
    "X_train_log = X_train_log.drop(drop, axis=1)\n",
    "X_train_log.head()"
   ]
  },
  {
   "cell_type": "code",
   "execution_count": 72,
   "metadata": {
    "ExecuteTime": {
     "end_time": "2023-02-14T22:32:16.968623Z",
     "start_time": "2023-02-14T22:32:14.169543Z"
    },
    "scrolled": true
   },
   "outputs": [
    {
     "name": "stdout",
     "output_type": "stream",
     "text": [
      "Modelo: LogisticRegression(class_weight='balanced')\n",
      "Acurácia média: 0.7557 (std=0.0256)\n",
      "Precisão média: 0.632 (std=0.0383)\n",
      "Recall médio: 0.7243 (std=0.0453)\n",
      "\n",
      "Modelo: RandomForestClassifier(class_weight='balanced', random_state=42)\n",
      "Acurácia média: 0.7671 (std=0.0197)\n",
      "Precisão média: 0.695 (std=0.0452)\n",
      "Recall médio: 0.5982 (std=0.0441)\n",
      "\n",
      "Modelo: SVC(class_weight='balanced', kernel='linear')\n",
      "Acurácia média: 0.7557 (std=0.0112)\n",
      "Precisão média: 0.6366 (std=0.0205)\n",
      "Recall médio: 0.701 (std=0.0336)\n"
     ]
    }
   ],
   "source": [
    "X_train_sc = std_scaler.fit_transform(X_train_log)\n",
    "\n",
    "relatorio_cross_val(log_clf, X_train_sc, y_train)\n",
    "print()\n",
    "relatorio_cross_val(forest_clf, X_train_sc, y_train)\n",
    "print()\n",
    "relatorio_cross_val(svc_clf, X_train_sc, y_train)"
   ]
  },
  {
   "cell_type": "markdown",
   "metadata": {},
   "source": [
    "Os resultados desse tratamento foram interessantes. Vamos usá-los."
   ]
  },
  {
   "cell_type": "markdown",
   "metadata": {},
   "source": [
    "### Binning"
   ]
  },
  {
   "cell_type": "markdown",
   "metadata": {},
   "source": [
    "Vamos tentar agora agrupar dados para reduzir o ruído de alguma feature. Como discutido, fazer esse tratamento isso na `Age` talvez ajude nosso modelo. "
   ]
  },
  {
   "cell_type": "code",
   "execution_count": 73,
   "metadata": {
    "ExecuteTime": {
     "end_time": "2023-02-14T22:32:16.987975Z",
     "start_time": "2023-02-14T22:32:16.971343Z"
    }
   },
   "outputs": [
    {
     "data": {
      "text/html": [
       "<div>\n",
       "<style scoped>\n",
       "    .dataframe tbody tr th:only-of-type {\n",
       "        vertical-align: middle;\n",
       "    }\n",
       "\n",
       "    .dataframe tbody tr th {\n",
       "        vertical-align: top;\n",
       "    }\n",
       "\n",
       "    .dataframe thead th {\n",
       "        text-align: right;\n",
       "    }\n",
       "</style>\n",
       "<table border=\"1\" class=\"dataframe\">\n",
       "  <thead>\n",
       "    <tr style=\"text-align: right;\">\n",
       "      <th></th>\n",
       "      <th>Pregnancies</th>\n",
       "      <th>Glucose</th>\n",
       "      <th>BloodPressure</th>\n",
       "      <th>SkinThickness</th>\n",
       "      <th>BMI</th>\n",
       "      <th>Age</th>\n",
       "      <th>LogInsulin</th>\n",
       "      <th>LogDiabetesPedigreeFunction</th>\n",
       "    </tr>\n",
       "  </thead>\n",
       "  <tbody>\n",
       "    <tr>\n",
       "      <th>353</th>\n",
       "      <td>1.0</td>\n",
       "      <td>90.0</td>\n",
       "      <td>62.0</td>\n",
       "      <td>12.0</td>\n",
       "      <td>27.200001</td>\n",
       "      <td>24.0</td>\n",
       "      <td>3.761200</td>\n",
       "      <td>-0.544727</td>\n",
       "    </tr>\n",
       "    <tr>\n",
       "      <th>711</th>\n",
       "      <td>5.0</td>\n",
       "      <td>126.0</td>\n",
       "      <td>78.0</td>\n",
       "      <td>27.0</td>\n",
       "      <td>29.600000</td>\n",
       "      <td>40.0</td>\n",
       "      <td>3.091042</td>\n",
       "      <td>-0.823256</td>\n",
       "    </tr>\n",
       "    <tr>\n",
       "      <th>373</th>\n",
       "      <td>2.0</td>\n",
       "      <td>105.0</td>\n",
       "      <td>58.0</td>\n",
       "      <td>40.0</td>\n",
       "      <td>34.900002</td>\n",
       "      <td>25.0</td>\n",
       "      <td>4.543295</td>\n",
       "      <td>-1.491655</td>\n",
       "    </tr>\n",
       "    <tr>\n",
       "      <th>46</th>\n",
       "      <td>1.0</td>\n",
       "      <td>146.0</td>\n",
       "      <td>56.0</td>\n",
       "      <td>27.2</td>\n",
       "      <td>29.700001</td>\n",
       "      <td>29.0</td>\n",
       "      <td>5.336255</td>\n",
       "      <td>-0.572701</td>\n",
       "    </tr>\n",
       "    <tr>\n",
       "      <th>682</th>\n",
       "      <td>0.0</td>\n",
       "      <td>95.0</td>\n",
       "      <td>64.0</td>\n",
       "      <td>39.0</td>\n",
       "      <td>44.599998</td>\n",
       "      <td>22.0</td>\n",
       "      <td>4.653960</td>\n",
       "      <td>-1.005122</td>\n",
       "    </tr>\n",
       "  </tbody>\n",
       "</table>\n",
       "</div>"
      ],
      "text/plain": [
       "     Pregnancies  Glucose  BloodPressure  SkinThickness        BMI   Age  \\\n",
       "353          1.0     90.0           62.0           12.0  27.200001  24.0   \n",
       "711          5.0    126.0           78.0           27.0  29.600000  40.0   \n",
       "373          2.0    105.0           58.0           40.0  34.900002  25.0   \n",
       "46           1.0    146.0           56.0           27.2  29.700001  29.0   \n",
       "682          0.0     95.0           64.0           39.0  44.599998  22.0   \n",
       "\n",
       "     LogInsulin  LogDiabetesPedigreeFunction  \n",
       "353    3.761200                    -0.544727  \n",
       "711    3.091042                    -0.823256  \n",
       "373    4.543295                    -1.491655  \n",
       "46     5.336255                    -0.572701  \n",
       "682    4.653960                    -1.005122  "
      ]
     },
     "execution_count": 73,
     "metadata": {},
     "output_type": "execute_result"
    }
   ],
   "source": [
    "X_train_bins = X_train_log.copy()\n",
    "X_train_bins.head()"
   ]
  },
  {
   "cell_type": "markdown",
   "metadata": {},
   "source": [
    "Usaremos `KBinsDiscretizer`:"
   ]
  },
  {
   "cell_type": "code",
   "execution_count": 74,
   "metadata": {
    "ExecuteTime": {
     "end_time": "2023-02-14T22:32:17.188673Z",
     "start_time": "2023-02-14T22:32:16.990715Z"
    },
    "scrolled": true
   },
   "outputs": [
    {
     "data": {
      "image/png": "[encoded data removed]",
      "text/plain": [
       "<Figure size 432x288 with 1 Axes>"
      ]
     },
     "metadata": {
      "needs_background": "light"
     },
     "output_type": "display_data"
    }
   ],
   "source": [
    "kbins = KBinsDiscretizer(n_bins=4, encode='ordinal', strategy='quantile')\n",
    "X_train_bins[\"New_Age\"] = kbins.fit_transform(X_train_bins[['Age']])\n",
    "\n",
    "sns.countplot(data=X_train_bins.join(y_train), x=\"New_Age\", hue='Outcome');"
   ]
  },
  {
   "cell_type": "code",
   "execution_count": 75,
   "metadata": {
    "ExecuteTime": {
     "end_time": "2023-02-14T22:32:17.200790Z",
     "start_time": "2023-02-14T22:32:17.191275Z"
    },
    "scrolled": true
   },
   "outputs": [
    {
     "name": "stdout",
     "output_type": "stream",
     "text": [
      "Outcome                        1.000000\n",
      "Glucose                        0.514116\n",
      "LogInsulin                     0.418781\n",
      "BMI                            0.330768\n",
      "New_Age                        0.309682\n",
      "SkinThickness                  0.286682\n",
      "Age                            0.240676\n",
      "Pregnancies                    0.208173\n",
      "BloodPressure                  0.184225\n",
      "LogDiabetesPedigreeFunction    0.174461\n",
      "Name: Outcome, dtype: float64\n"
     ]
    }
   ],
   "source": [
    "correlacao(X_train_bins.join(y_train))"
   ]
  },
  {
   "cell_type": "markdown",
   "metadata": {},
   "source": [
    "A correlação melhorou."
   ]
  },
  {
   "cell_type": "code",
   "execution_count": 76,
   "metadata": {
    "ExecuteTime": {
     "end_time": "2023-02-14T22:32:20.118546Z",
     "start_time": "2023-02-14T22:32:17.203225Z"
    },
    "scrolled": false
   },
   "outputs": [
    {
     "name": "stdout",
     "output_type": "stream",
     "text": [
      "Modelo: LogisticRegression(class_weight='balanced')\n",
      "Acurácia média: 0.7639 (std=0.0437)\n",
      "Precisão média: 0.6435 (std=0.0632)\n",
      "Recall médio: 0.7386 (std=0.0638)\n",
      "\n",
      "Modelo: RandomForestClassifier(class_weight='balanced', random_state=42)\n",
      "Acurácia média: 0.7524 (std=0.0196)\n",
      "Precisão média: 0.6844 (std=0.0504)\n",
      "Recall médio: 0.5468 (std=0.0362)\n",
      "\n",
      "Modelo: SVC(class_weight='balanced', kernel='linear')\n",
      "Acurácia média: 0.7541 (std=0.0359)\n",
      "Precisão média: 0.6296 (std=0.0525)\n",
      "Recall médio: 0.7295 (std=0.0718)\n"
     ]
    }
   ],
   "source": [
    "# Testando\n",
    "\n",
    "X_train_bins = X_train_bins.drop('Age', axis=1)\n",
    "\n",
    "std_scaler = StandardScaler()\n",
    "X_train_sc = std_scaler.fit_transform(X_train_bins)\n",
    "\n",
    "relatorio_cross_val(log_clf, X_train_sc, y_train)\n",
    "print()\n",
    "relatorio_cross_val(forest_clf, X_train_sc, y_train)\n",
    "print()\n",
    "relatorio_cross_val(svc_clf, X_train_sc, y_train)"
   ]
  },
  {
   "cell_type": "markdown",
   "metadata": {},
   "source": [
    "O tratamento é semelhante à uma condificação por faixa etária (criança, jovem, adulto, idoso). Melhoramos nosso resultado e simplificamos nosso modelo. Seguiremos com esse tratamento."
   ]
  },
  {
   "cell_type": "markdown",
   "metadata": {},
   "source": [
    "## Quantile Scaling"
   ]
  },
  {
   "cell_type": "markdown",
   "metadata": {},
   "source": [
    "`BMI` parece ser uma feature importante, mas talvez precise ser ajustada e seus outliers tratados. Vamos testar um QuantileTransformer."
   ]
  },
  {
   "cell_type": "code",
   "execution_count": 77,
   "metadata": {
    "ExecuteTime": {
     "end_time": "2023-02-14T22:32:20.142371Z",
     "start_time": "2023-02-14T22:32:20.121725Z"
    },
    "scrolled": true
   },
   "outputs": [
    {
     "data": {
      "text/html": [
       "<div>\n",
       "<style scoped>\n",
       "    .dataframe tbody tr th:only-of-type {\n",
       "        vertical-align: middle;\n",
       "    }\n",
       "\n",
       "    .dataframe tbody tr th {\n",
       "        vertical-align: top;\n",
       "    }\n",
       "\n",
       "    .dataframe thead th {\n",
       "        text-align: right;\n",
       "    }\n",
       "</style>\n",
       "<table border=\"1\" class=\"dataframe\">\n",
       "  <thead>\n",
       "    <tr style=\"text-align: right;\">\n",
       "      <th></th>\n",
       "      <th>Pregnancies</th>\n",
       "      <th>Glucose</th>\n",
       "      <th>BloodPressure</th>\n",
       "      <th>SkinThickness</th>\n",
       "      <th>BMI</th>\n",
       "      <th>LogInsulin</th>\n",
       "      <th>LogDiabetesPedigreeFunction</th>\n",
       "      <th>New_Age</th>\n",
       "    </tr>\n",
       "  </thead>\n",
       "  <tbody>\n",
       "    <tr>\n",
       "      <th>353</th>\n",
       "      <td>1.0</td>\n",
       "      <td>90.0</td>\n",
       "      <td>62.0</td>\n",
       "      <td>12.0</td>\n",
       "      <td>27.200001</td>\n",
       "      <td>3.761200</td>\n",
       "      <td>-0.544727</td>\n",
       "      <td>1.0</td>\n",
       "    </tr>\n",
       "    <tr>\n",
       "      <th>711</th>\n",
       "      <td>5.0</td>\n",
       "      <td>126.0</td>\n",
       "      <td>78.0</td>\n",
       "      <td>27.0</td>\n",
       "      <td>29.600000</td>\n",
       "      <td>3.091042</td>\n",
       "      <td>-0.823256</td>\n",
       "      <td>2.0</td>\n",
       "    </tr>\n",
       "    <tr>\n",
       "      <th>373</th>\n",
       "      <td>2.0</td>\n",
       "      <td>105.0</td>\n",
       "      <td>58.0</td>\n",
       "      <td>40.0</td>\n",
       "      <td>34.900002</td>\n",
       "      <td>4.543295</td>\n",
       "      <td>-1.491655</td>\n",
       "      <td>1.0</td>\n",
       "    </tr>\n",
       "    <tr>\n",
       "      <th>46</th>\n",
       "      <td>1.0</td>\n",
       "      <td>146.0</td>\n",
       "      <td>56.0</td>\n",
       "      <td>27.2</td>\n",
       "      <td>29.700001</td>\n",
       "      <td>5.336255</td>\n",
       "      <td>-0.572701</td>\n",
       "      <td>2.0</td>\n",
       "    </tr>\n",
       "    <tr>\n",
       "      <th>682</th>\n",
       "      <td>0.0</td>\n",
       "      <td>95.0</td>\n",
       "      <td>64.0</td>\n",
       "      <td>39.0</td>\n",
       "      <td>44.599998</td>\n",
       "      <td>4.653960</td>\n",
       "      <td>-1.005122</td>\n",
       "      <td>0.0</td>\n",
       "    </tr>\n",
       "  </tbody>\n",
       "</table>\n",
       "</div>"
      ],
      "text/plain": [
       "     Pregnancies  Glucose  BloodPressure  SkinThickness        BMI  \\\n",
       "353          1.0     90.0           62.0           12.0  27.200001   \n",
       "711          5.0    126.0           78.0           27.0  29.600000   \n",
       "373          2.0    105.0           58.0           40.0  34.900002   \n",
       "46           1.0    146.0           56.0           27.2  29.700001   \n",
       "682          0.0     95.0           64.0           39.0  44.599998   \n",
       "\n",
       "     LogInsulin  LogDiabetesPedigreeFunction  New_Age  \n",
       "353    3.761200                    -0.544727      1.0  \n",
       "711    3.091042                    -0.823256      2.0  \n",
       "373    4.543295                    -1.491655      1.0  \n",
       "46     5.336255                    -0.572701      2.0  \n",
       "682    4.653960                    -1.005122      0.0  "
      ]
     },
     "execution_count": 77,
     "metadata": {},
     "output_type": "execute_result"
    }
   ],
   "source": [
    "X_train_scaling = X_train_bins.copy()\n",
    "X_train_scaling.head()"
   ]
  },
  {
   "cell_type": "code",
   "execution_count": 78,
   "metadata": {
    "ExecuteTime": {
     "end_time": "2023-02-14T22:32:20.623124Z",
     "start_time": "2023-02-14T22:32:20.146192Z"
    }
   },
   "outputs": [
    {
     "data": {
      "image/png": "[encoded data removed]",
      "text/plain": [
       "<Figure size 720x288 with 2 Axes>"
      ]
     },
     "metadata": {
      "needs_background": "light"
     },
     "output_type": "display_data"
    }
   ],
   "source": [
    "qt = QuantileTransformer(n_quantiles=3, random_state=42)\n",
    "X_train_scaling[['New_BMI']] = qt.fit_transform(X_train_scaling[['BMI']])\n",
    "plot_histgram_and_boxplot(X_train_scaling.join(y_train), \"New_BMI\")"
   ]
  },
  {
   "cell_type": "code",
   "execution_count": 79,
   "metadata": {
    "ExecuteTime": {
     "end_time": "2023-02-14T22:32:23.622339Z",
     "start_time": "2023-02-14T22:32:20.625754Z"
    },
    "scrolled": true
   },
   "outputs": [
    {
     "name": "stdout",
     "output_type": "stream",
     "text": [
      "Modelo: LogisticRegression(class_weight='balanced')\n",
      "Acurácia média: 0.7655 (std=0.0338)\n",
      "Precisão média: 0.6451 (std=0.0568)\n",
      "Recall médio: 0.748 (std=0.0528)\n",
      "\n",
      "Modelo: RandomForestClassifier(class_weight='balanced', random_state=42)\n",
      "Acurácia média: 0.7589 (std=0.036)\n",
      "Precisão média: 0.6864 (std=0.0777)\n",
      "Recall médio: 0.5843 (std=0.0526)\n",
      "\n",
      "Modelo: SVC(class_weight='balanced', kernel='linear')\n",
      "Acurácia média: 0.7557 (std=0.0387)\n",
      "Precisão média: 0.6289 (std=0.0534)\n",
      "Recall médio: 0.7433 (std=0.0596)\n"
     ]
    }
   ],
   "source": [
    "# Testando o QuantileTransformer\n",
    "\n",
    "std_scaler = StandardScaler()\n",
    "X_train_sc = std_scaler.fit_transform(X_train_scaling)\n",
    "\n",
    "relatorio_cross_val(log_clf, X_train_sc, y_train)\n",
    "print()\n",
    "relatorio_cross_val(forest_clf, X_train_sc, y_train)\n",
    "print()\n",
    "relatorio_cross_val(svc_clf, X_train_sc, y_train)"
   ]
  },
  {
   "cell_type": "markdown",
   "metadata": {},
   "source": [
    "Essa transformação nos rendeu um bom resultado. Vamos seguir com ela."
   ]
  },
  {
   "cell_type": "markdown",
   "metadata": {},
   "source": [
    "## Final pipeline"
   ]
  },
  {
   "cell_type": "code",
   "execution_count": 80,
   "metadata": {
    "ExecuteTime": {
     "end_time": "2023-02-14T22:32:23.707752Z",
     "start_time": "2023-02-14T22:32:23.625020Z"
    }
   },
   "outputs": [
    {
     "data": {
      "text/html": [
       "<div>\n",
       "<style scoped>\n",
       "    .dataframe tbody tr th:only-of-type {\n",
       "        vertical-align: middle;\n",
       "    }\n",
       "\n",
       "    .dataframe tbody tr th {\n",
       "        vertical-align: top;\n",
       "    }\n",
       "\n",
       "    .dataframe thead th {\n",
       "        text-align: right;\n",
       "    }\n",
       "</style>\n",
       "<table border=\"1\" class=\"dataframe\">\n",
       "  <thead>\n",
       "    <tr style=\"text-align: right;\">\n",
       "      <th></th>\n",
       "      <th>log_Insulin</th>\n",
       "      <th>log_DiabetesPedigreeFunction</th>\n",
       "      <th>new_Age</th>\n",
       "      <th>new_BMI</th>\n",
       "      <th>Pregnancies</th>\n",
       "      <th>Glucose</th>\n",
       "      <th>BloodPressure</th>\n",
       "      <th>SkinThickness</th>\n",
       "    </tr>\n",
       "  </thead>\n",
       "  <tbody>\n",
       "    <tr>\n",
       "      <th>353</th>\n",
       "      <td>-1.841758</td>\n",
       "      <td>0.624131</td>\n",
       "      <td>-0.520238</td>\n",
       "      <td>-0.772911</td>\n",
       "      <td>-0.851355</td>\n",
       "      <td>-1.056417</td>\n",
       "      <td>-0.823676</td>\n",
       "      <td>-1.860289</td>\n",
       "    </tr>\n",
       "    <tr>\n",
       "      <th>711</th>\n",
       "      <td>-3.002344</td>\n",
       "      <td>0.191325</td>\n",
       "      <td>0.397653</td>\n",
       "      <td>-0.262937</td>\n",
       "      <td>0.356576</td>\n",
       "      <td>0.144085</td>\n",
       "      <td>0.476545</td>\n",
       "      <td>-0.231105</td>\n",
       "    </tr>\n",
       "    <tr>\n",
       "      <th>373</th>\n",
       "      <td>-0.487319</td>\n",
       "      <td>-0.847301</td>\n",
       "      <td>-0.520238</td>\n",
       "      <td>0.549421</td>\n",
       "      <td>-0.549372</td>\n",
       "      <td>-0.556208</td>\n",
       "      <td>-1.148731</td>\n",
       "      <td>1.180855</td>\n",
       "    </tr>\n",
       "    <tr>\n",
       "      <th>46</th>\n",
       "      <td>0.885938</td>\n",
       "      <td>0.580662</td>\n",
       "      <td>0.397653</td>\n",
       "      <td>-0.241688</td>\n",
       "      <td>-0.851355</td>\n",
       "      <td>0.811030</td>\n",
       "      <td>-1.311259</td>\n",
       "      <td>-0.209382</td>\n",
       "    </tr>\n",
       "    <tr>\n",
       "      <th>682</th>\n",
       "      <td>-0.295667</td>\n",
       "      <td>-0.091277</td>\n",
       "      <td>-1.438129</td>\n",
       "      <td>1.392886</td>\n",
       "      <td>-1.153338</td>\n",
       "      <td>-0.889681</td>\n",
       "      <td>-0.661149</td>\n",
       "      <td>1.072242</td>\n",
       "    </tr>\n",
       "  </tbody>\n",
       "</table>\n",
       "</div>"
      ],
      "text/plain": [
       "     log_Insulin  log_DiabetesPedigreeFunction   new_Age   new_BMI  \\\n",
       "353    -1.841758                      0.624131 -0.520238 -0.772911   \n",
       "711    -3.002344                      0.191325  0.397653 -0.262937   \n",
       "373    -0.487319                     -0.847301 -0.520238  0.549421   \n",
       "46      0.885938                      0.580662  0.397653 -0.241688   \n",
       "682    -0.295667                     -0.091277 -1.438129  1.392886   \n",
       "\n",
       "     Pregnancies   Glucose  BloodPressure  SkinThickness  \n",
       "353    -0.851355 -1.056417      -0.823676      -1.860289  \n",
       "711     0.356576  0.144085       0.476545      -0.231105  \n",
       "373    -0.549372 -0.556208      -1.148731       1.180855  \n",
       "46     -0.851355  0.811030      -1.311259      -0.209382  \n",
       "682    -1.153338 -0.889681      -0.661149       1.072242  "
      ]
     },
     "execution_count": 80,
     "metadata": {},
     "output_type": "execute_result"
    }
   ],
   "source": [
    "log_transform = FunctionTransformer(np.log)\n",
    "qt = QuantileTransformer(n_quantiles=3, random_state=42)\n",
    "std_scaler = StandardScaler()\n",
    "\n",
    "ct = ColumnTransformer([('log_transform', log_transform, [4, 6]),\n",
    "                        ('kbins', kbins, [7]),\n",
    "                        ('quantile', qt, [5])\n",
    "                       ], remainder='passthrough')\n",
    "\n",
    "\n",
    "final_pipeline = Pipeline([('imputer', knn_imp), ('col_tr', ct), ('scaler', std_scaler)])\n",
    "\n",
    "final_columns = ['log_Insulin', 'log_DiabetesPedigreeFunction', 'new_Age', 'new_BMI', \n",
    "                 'Pregnancies', 'Glucose', 'BloodPressure', 'SkinThickness'\n",
    "                ]\n",
    "\n",
    "final_pipeline.fit(X_train)\n",
    "X_train_tr = pd.DataFrame(final_pipeline.transform(X_train), columns=final_columns, index=X_train.index)\n",
    "X_train_tr.head()"
   ]
  },
  {
   "cell_type": "code",
   "execution_count": 81,
   "metadata": {
    "ExecuteTime": {
     "end_time": "2023-02-14T22:32:26.631942Z",
     "start_time": "2023-02-14T22:32:23.710719Z"
    }
   },
   "outputs": [
    {
     "name": "stdout",
     "output_type": "stream",
     "text": [
      "Modelo: LogisticRegression(class_weight='balanced')\n",
      "Acurácia média: 0.7639 (std=0.0417)\n",
      "Precisão média: 0.6427 (std=0.0683)\n",
      "Recall médio: 0.7526 (std=0.049)\n",
      "\n",
      "Modelo: RandomForestClassifier(class_weight='balanced', random_state=42)\n",
      "Acurácia média: 0.7589 (std=0.0352)\n",
      "Precisão média: 0.694 (std=0.0829)\n",
      "Recall médio: 0.5701 (std=0.0345)\n",
      "\n",
      "Modelo: SVC(class_weight='balanced', kernel='linear')\n",
      "Acurácia média: 0.7492 (std=0.0387)\n",
      "Precisão média: 0.6232 (std=0.0547)\n",
      "Recall médio: 0.7247 (std=0.0653)\n"
     ]
    }
   ],
   "source": [
    "relatorio_cross_val(log_clf, X_train_tr, y_train)\n",
    "print()\n",
    "relatorio_cross_val(forest_clf, X_train_tr, y_train)\n",
    "print()\n",
    "relatorio_cross_val(svc_clf, X_train_tr, y_train)"
   ]
  },
  {
   "cell_type": "markdown",
   "metadata": {},
   "source": [
    "## Modelos finais"
   ]
  },
  {
   "cell_type": "code",
   "execution_count": 82,
   "metadata": {
    "ExecuteTime": {
     "end_time": "2023-02-14T22:32:26.688633Z",
     "start_time": "2023-02-14T22:32:26.635400Z"
    }
   },
   "outputs": [],
   "source": [
    "# Aplicando a pipeline ao treino\n",
    "X_train_tr = final_pipeline.fit_transform(X_train)"
   ]
  },
  {
   "cell_type": "markdown",
   "metadata": {},
   "source": [
    "### Logistic regression"
   ]
  },
  {
   "cell_type": "code",
   "execution_count": 83,
   "metadata": {
    "ExecuteTime": {
     "end_time": "2023-02-14T22:32:26.779530Z",
     "start_time": "2023-02-14T22:32:26.692045Z"
    }
   },
   "outputs": [
    {
     "name": "stdout",
     "output_type": "stream",
     "text": [
      "Modelo: LogisticRegression(class_weight='balanced', solver='liblinear')\n",
      "Acurácia média: 0.7639 (std=0.0417)\n",
      "Precisão média: 0.6427 (std=0.0683)\n",
      "Recall médio: 0.7526 (std=0.049)\n"
     ]
    }
   ],
   "source": [
    "log_clf = LogisticRegression(solver='liblinear', class_weight='balanced')\n",
    "log_clf.fit(X_train_tr, y_train)\n",
    "relatorio_cross_val(log_clf, X_train_tr, y_train)"
   ]
  },
  {
   "cell_type": "code",
   "execution_count": 84,
   "metadata": {
    "ExecuteTime": {
     "end_time": "2023-02-14T22:32:27.412081Z",
     "start_time": "2023-02-14T22:32:26.781514Z"
    }
   },
   "outputs": [
    {
     "data": {
      "text/html": [
       "<style>#sk-container-id-1 {color: black;background-color: white;}#sk-container-id-1 pre{padding: 0;}#sk-container-id-1 div.sk-toggleable {background-color: white;}#sk-container-id-1 label.sk-toggleable__label {cursor: pointer;display: block;width: 100%;margin-bottom: 0;padding: 0.3em;box-sizing: border-box;text-align: center;}#sk-container-id-1 label.sk-toggleable__label-arrow:before {content: \"▸\";float: left;margin-right: 0.25em;color: #696969;}#sk-container-id-1 label.sk-toggleable__label-arrow:hover:before {color: black;}#sk-container-id-1 div.sk-estimator:hover label.sk-toggleable__label-arrow:before {color: black;}#sk-container-id-1 div.sk-toggleable__content {max-height: 0;max-width: 0;overflow: hidden;text-align: left;background-color: #f0f8ff;}#sk-container-id-1 div.sk-toggleable__content pre {margin: 0.2em;color: black;border-radius: 0.25em;background-color: #f0f8ff;}#sk-container-id-1 input.sk-toggleable__control:checked~div.sk-toggleable__content {max-height: 200px;max-width: 100%;overflow: auto;}#sk-container-id-1 input.sk-toggleable__control:checked~label.sk-toggleable__label-arrow:before {content: \"▾\";}#sk-container-id-1 div.sk-estimator input.sk-toggleable__control:checked~label.sk-toggleable__label {background-color: #d4ebff;}#sk-container-id-1 div.sk-label input.sk-toggleable__control:checked~label.sk-toggleable__label {background-color: #d4ebff;}#sk-container-id-1 input.sk-hidden--visually {border: 0;clip: rect(1px 1px 1px 1px);clip: rect(1px, 1px, 1px, 1px);height: 1px;margin: -1px;overflow: hidden;padding: 0;position: absolute;width: 1px;}#sk-container-id-1 div.sk-estimator {font-family: monospace;background-color: #f0f8ff;border: 1px dotted black;border-radius: 0.25em;box-sizing: border-box;margin-bottom: 0.5em;}#sk-container-id-1 div.sk-estimator:hover {background-color: #d4ebff;}#sk-container-id-1 div.sk-parallel-item::after {content: \"\";width: 100%;border-bottom: 1px solid gray;flex-grow: 1;}#sk-container-id-1 div.sk-label:hover label.sk-toggleable__label {background-color: #d4ebff;}#sk-container-id-1 div.sk-serial::before {content: \"\";position: absolute;border-left: 1px solid gray;box-sizing: border-box;top: 0;bottom: 0;left: 50%;z-index: 0;}#sk-container-id-1 div.sk-serial {display: flex;flex-direction: column;align-items: center;background-color: white;padding-right: 0.2em;padding-left: 0.2em;position: relative;}#sk-container-id-1 div.sk-item {position: relative;z-index: 1;}#sk-container-id-1 div.sk-parallel {display: flex;align-items: stretch;justify-content: center;background-color: white;position: relative;}#sk-container-id-1 div.sk-item::before, #sk-container-id-1 div.sk-parallel-item::before {content: \"\";position: absolute;border-left: 1px solid gray;box-sizing: border-box;top: 0;bottom: 0;left: 50%;z-index: -1;}#sk-container-id-1 div.sk-parallel-item {display: flex;flex-direction: column;z-index: 1;position: relative;background-color: white;}#sk-container-id-1 div.sk-parallel-item:first-child::after {align-self: flex-end;width: 50%;}#sk-container-id-1 div.sk-parallel-item:last-child::after {align-self: flex-start;width: 50%;}#sk-container-id-1 div.sk-parallel-item:only-child::after {width: 0;}#sk-container-id-1 div.sk-dashed-wrapped {border: 1px dashed gray;margin: 0 0.4em 0.5em 0.4em;box-sizing: border-box;padding-bottom: 0.4em;background-color: white;}#sk-container-id-1 div.sk-label label {font-family: monospace;font-weight: bold;display: inline-block;line-height: 1.2em;}#sk-container-id-1 div.sk-label-container {text-align: center;}#sk-container-id-1 div.sk-container {/* jupyter's `normalize.less` sets `[hidden] { display: none; }` but bootstrap.min.css set `[hidden] { display: none !important; }` so we also need the `!important` here to be able to override the default hidden behavior on the sphinx rendered scikit-learn.org. See: https://github.com/scikit-learn/scikit-learn/issues/21755 */display: inline-block !important;position: relative;}#sk-container-id-1 div.sk-text-repr-fallback {display: none;}</style><div id=\"sk-container-id-1\" class=\"sk-top-container\"><div class=\"sk-text-repr-fallback\"><pre>GridSearchCV(cv=5,\n",
       "             estimator=LogisticRegression(class_weight=&#x27;balanced&#x27;,\n",
       "                                          solver=&#x27;liblinear&#x27;),\n",
       "             param_grid={&#x27;C&#x27;: array([0.1, 0.2, 0.3, 0.4, 0.5, 0.6, 0.7, 0.8, 0.9, 1. , 1.1, 1.2, 1.3,\n",
       "       1.4, 1.5, 1.6, 1.7, 1.8, 1.9, 2. ]),\n",
       "                         &#x27;penalty&#x27;: [&#x27;l1&#x27;, &#x27;l2&#x27;]},\n",
       "             scoring=&#x27;recall&#x27;)</pre><b>In a Jupyter environment, please rerun this cell to show the HTML representation or trust the notebook. <br />On GitHub, the HTML representation is unable to render, please try loading this page with nbviewer.org.</b></div><div class=\"sk-container\" hidden><div class=\"sk-item sk-dashed-wrapped\"><div class=\"sk-label-container\"><div class=\"sk-label sk-toggleable\"><input class=\"sk-toggleable__control sk-hidden--visually\" id=\"sk-estimator-id-1\" type=\"checkbox\" ><label for=\"sk-estimator-id-1\" class=\"sk-toggleable__label sk-toggleable__label-arrow\">GridSearchCV</label><div class=\"sk-toggleable__content\"><pre>GridSearchCV(cv=5,\n",
       "             estimator=LogisticRegression(class_weight=&#x27;balanced&#x27;,\n",
       "                                          solver=&#x27;liblinear&#x27;),\n",
       "             param_grid={&#x27;C&#x27;: array([0.1, 0.2, 0.3, 0.4, 0.5, 0.6, 0.7, 0.8, 0.9, 1. , 1.1, 1.2, 1.3,\n",
       "       1.4, 1.5, 1.6, 1.7, 1.8, 1.9, 2. ]),\n",
       "                         &#x27;penalty&#x27;: [&#x27;l1&#x27;, &#x27;l2&#x27;]},\n",
       "             scoring=&#x27;recall&#x27;)</pre></div></div></div><div class=\"sk-parallel\"><div class=\"sk-parallel-item\"><div class=\"sk-item\"><div class=\"sk-label-container\"><div class=\"sk-label sk-toggleable\"><input class=\"sk-toggleable__control sk-hidden--visually\" id=\"sk-estimator-id-2\" type=\"checkbox\" ><label for=\"sk-estimator-id-2\" class=\"sk-toggleable__label sk-toggleable__label-arrow\">estimator: LogisticRegression</label><div class=\"sk-toggleable__content\"><pre>LogisticRegression(class_weight=&#x27;balanced&#x27;, solver=&#x27;liblinear&#x27;)</pre></div></div></div><div class=\"sk-serial\"><div class=\"sk-item\"><div class=\"sk-estimator sk-toggleable\"><input class=\"sk-toggleable__control sk-hidden--visually\" id=\"sk-estimator-id-3\" type=\"checkbox\" ><label for=\"sk-estimator-id-3\" class=\"sk-toggleable__label sk-toggleable__label-arrow\">LogisticRegression</label><div class=\"sk-toggleable__content\"><pre>LogisticRegression(class_weight=&#x27;balanced&#x27;, solver=&#x27;liblinear&#x27;)</pre></div></div></div></div></div></div></div></div></div></div>"
      ],
      "text/plain": [
       "GridSearchCV(cv=5,\n",
       "             estimator=LogisticRegression(class_weight='balanced',\n",
       "                                          solver='liblinear'),\n",
       "             param_grid={'C': array([0.1, 0.2, 0.3, 0.4, 0.5, 0.6, 0.7, 0.8, 0.9, 1. , 1.1, 1.2, 1.3,\n",
       "       1.4, 1.5, 1.6, 1.7, 1.8, 1.9, 2. ]),\n",
       "                         'penalty': ['l1', 'l2']},\n",
       "             scoring='recall')"
      ]
     },
     "execution_count": 84,
     "metadata": {},
     "output_type": "execute_result"
    }
   ],
   "source": [
    "# Vamos otimizar para recall com GridSearchCV\n",
    "\n",
    "params = {'penalty':['l1', 'l2'], 'C':np.arange(0.1, 2.1, 0.1)}\n",
    "\n",
    "log_grid_search_cv = GridSearchCV(log_clf, params, cv=5, scoring='recall')\n",
    "log_grid_search_cv.fit(X_train_tr, y_train)"
   ]
  },
  {
   "cell_type": "code",
   "execution_count": 85,
   "metadata": {
    "ExecuteTime": {
     "end_time": "2023-02-14T22:32:27.494877Z",
     "start_time": "2023-02-14T22:32:27.414594Z"
    }
   },
   "outputs": [
    {
     "name": "stdout",
     "output_type": "stream",
     "text": [
      "Modelo: LogisticRegression(C=0.1, class_weight='balanced', penalty='l1',\n",
      "                   solver='liblinear')\n",
      "Acurácia média: 0.7606 (std=0.0314)\n",
      "Precisão média: 0.6293 (std=0.0444)\n",
      "Recall médio: 0.776 (std=0.0592)\n"
     ]
    }
   ],
   "source": [
    "# Reservando o modelo\n",
    "log_clf = LogisticRegression(C=0.1, class_weight='balanced', penalty='l1',\n",
    "                   solver='liblinear')\n",
    "\n",
    "log_clf.fit(X_train_tr, y_train)\n",
    "relatorio_cross_val(log_clf, X_train_tr, y_train)"
   ]
  },
  {
   "cell_type": "markdown",
   "metadata": {},
   "source": [
    "## Random Forest"
   ]
  },
  {
   "cell_type": "code",
   "execution_count": 86,
   "metadata": {
    "ExecuteTime": {
     "end_time": "2023-02-14T22:32:27.499648Z",
     "start_time": "2023-02-14T22:32:27.496813Z"
    },
    "scrolled": true
   },
   "outputs": [],
   "source": [
    "# # Randomized Search CV para a Random Forest\n",
    "\n",
    "# forest_clf = RandomForestClassifier(class_weight='balanced', random_state=42)\n",
    "\n",
    "# params_grid = {\"n_estimators\":np.linspace(100,1000,10, dtype=np.int), \n",
    "#                \"max_depth\":np.arange(4, 21, 1, dtype=np.int),\n",
    "#                \"min_samples_split\": [2,5,10,30],\n",
    "#                \"max_features\": [3,4,5,6,7]\n",
    "#               }\n",
    "# forest_randcv = RandomizedSearchCV(forest_clf, params_grid, n_iter=100, cv=5, scoring='recall', verbose=2, n_jobs=-1)\n",
    "# forest_randcv.fit(X_train_tr, y_train)"
   ]
  },
  {
   "cell_type": "code",
   "execution_count": 87,
   "metadata": {
    "ExecuteTime": {
     "end_time": "2023-02-14T22:32:43.989980Z",
     "start_time": "2023-02-14T22:32:27.501730Z"
    }
   },
   "outputs": [
    {
     "name": "stdout",
     "output_type": "stream",
     "text": [
      "Modelo: RandomForestClassifier(class_weight='balanced', max_depth=4, max_features=5,\n",
      "                       min_samples_split=30, n_estimators=600, random_state=42)\n",
      "Acurácia média: 0.7622 (std=0.0243)\n",
      "Precisão média: 0.6324 (std=0.0396)\n",
      "Recall médio: 0.7712 (std=0.0532)\n"
     ]
    }
   ],
   "source": [
    "# Melhor floresta que treinei até o momento\n",
    "\n",
    "forest_clf = RandomForestClassifier(class_weight='balanced', max_depth=4, max_features=5,\n",
    "                       min_samples_split=30, n_estimators=600, random_state=42)\n",
    "\n",
    "\n",
    "\n",
    "# Vamos reservar um modelo treinado para fazer um ensemble\n",
    "forest_clf.fit(X_train_tr, y_train)\n",
    "\n",
    "relatorio_cross_val(forest_clf, X_train_tr, y_train)"
   ]
  },
  {
   "cell_type": "markdown",
   "metadata": {},
   "source": [
    "### XGBoost"
   ]
  },
  {
   "cell_type": "code",
   "execution_count": 88,
   "metadata": {
    "ExecuteTime": {
     "end_time": "2023-02-14T22:32:43.995836Z",
     "start_time": "2023-02-14T22:32:43.992642Z"
    },
    "scrolled": true
   },
   "outputs": [],
   "source": [
    "# # Randomized Search CV para a XGBoost\n",
    "\n",
    "# xgb_clf = XGBClassifier(learning_rate=0.07, max_depth=6, n_estimators=500, random_state=42)\n",
    "\n",
    "# params_grid = {\"n_estimators\":np.linspace(100,1000,10, dtype=np.int), \n",
    "#                \"max_depth\":np.arange(4, 21, 1, dtype=np.int),\n",
    "#                \"learning_rate\": np.linspace(0,1,11)\n",
    "#               }\n",
    "# xgb_randcv = RandomizedSearchCV(xgb_clf, params_grid, n_iter=100, cv=3, scoring='accuracy', verbose=3, n_jobs=-1)\n",
    "# xgb_randcv.fit(X_train_tr, y_train)\n",
    "\n",
    "# print(f'Melhor estimador:{xgb_randcv.best_params_}')\n",
    "# relatorio_cross_val(xgb_randcv.best_estimator_, X_train_tr, y_train)"
   ]
  },
  {
   "cell_type": "code",
   "execution_count": 89,
   "metadata": {
    "ExecuteTime": {
     "end_time": "2023-02-14T22:32:44.001939Z",
     "start_time": "2023-02-14T22:32:43.998483Z"
    }
   },
   "outputs": [],
   "source": [
    "# Grid Search CV para XGB\n",
    "\n",
    "# params = {\n",
    "#     \"learning_rate\": [0.06, 0.09, 0.1, 0.2],\n",
    "#     \"max_depth\":[4,5,6,7,8],\n",
    "#     \"n_estimators\":[100,200,500]}\n",
    "\n",
    "# grid_search_cv = GridSearchCV(xgb_clf, params, cv=3, scoring='accuracy', verbose=2, n_jobs=-1)\n",
    "# grid_search_cv.fit(X_train, y_train)\n",
    "# grid_search_cv.best_estimator_\n",
    "# grid_search_cv.best_score_"
   ]
  },
  {
   "cell_type": "code",
   "execution_count": 90,
   "metadata": {
    "ExecuteTime": {
     "end_time": "2023-02-14T22:32:44.007049Z",
     "start_time": "2023-02-14T22:32:44.004323Z"
    }
   },
   "outputs": [],
   "source": [
    "# # Vamos reservar um modelo treinado para fazer um ensemble\n",
    "\n",
    "# xgb_clf = XGBClassifier(learning_rate=0.8, \n",
    "#                         max_depth=5, \n",
    "#                         n_estimators=500,\n",
    "#                         random_state=42)\n",
    "\n",
    "# xgb_clf.fit(X_train_tr, y_train)\n",
    "# relatorio_cross_val(xgb_clf, X_train_tr, y_train)"
   ]
  },
  {
   "cell_type": "markdown",
   "metadata": {},
   "source": [
    "## Support-vector machine"
   ]
  },
  {
   "cell_type": "code",
   "execution_count": 91,
   "metadata": {
    "ExecuteTime": {
     "end_time": "2023-02-14T22:32:44.730451Z",
     "start_time": "2023-02-14T22:32:44.009255Z"
    }
   },
   "outputs": [
    {
     "name": "stdout",
     "output_type": "stream",
     "text": [
      "Modelo: SVC(class_weight='balanced', probability=True)\n",
      "Acurácia média: 0.746 (std=0.037)\n",
      "Precisão média: 0.6092 (std=0.0521)\n",
      "Recall médio: 0.7804 (std=0.043)\n"
     ]
    }
   ],
   "source": [
    "svc_clf = SVC(kernel='rbf', C=1.0, probability=True, class_weight='balanced')\n",
    "svc_clf.fit(X_train_tr, y_train)\n",
    "relatorio_cross_val(svc_clf, X_train_tr, y_train)"
   ]
  },
  {
   "cell_type": "code",
   "execution_count": 92,
   "metadata": {
    "ExecuteTime": {
     "end_time": "2023-02-14T22:32:44.737393Z",
     "start_time": "2023-02-14T22:32:44.733833Z"
    }
   },
   "outputs": [],
   "source": [
    "# Do a gridsearch"
   ]
  },
  {
   "cell_type": "markdown",
   "metadata": {},
   "source": [
    "### Majority hard vote "
   ]
  },
  {
   "cell_type": "code",
   "execution_count": 93,
   "metadata": {
    "ExecuteTime": {
     "end_time": "2023-02-14T22:33:02.051581Z",
     "start_time": "2023-02-14T22:32:44.740682Z"
    }
   },
   "outputs": [
    {
     "name": "stdout",
     "output_type": "stream",
     "text": [
      "Modelo: VotingClassifier(estimators=[('forest',\n",
      "                              RandomForestClassifier(class_weight='balanced',\n",
      "                                                     max_depth=4,\n",
      "                                                     max_features=5,\n",
      "                                                     min_samples_split=30,\n",
      "                                                     n_estimators=600,\n",
      "                                                     random_state=42)),\n",
      "                             ('svc',\n",
      "                              SVC(class_weight='balanced', probability=True)),\n",
      "                             ('log',\n",
      "                              LogisticRegression(C=0.1, class_weight='balanced',\n",
      "                                                 penalty='l1',\n",
      "                                                 solver='liblinear'))])\n",
      "Acurácia média: 0.7639 (std=0.0281)\n",
      "Precisão média: 0.6323 (std=0.04)\n",
      "Recall médio: 0.7805 (std=0.0517)\n"
     ]
    }
   ],
   "source": [
    "# Add xgboost later\n",
    "\n",
    "estimators = [('forest', forest_clf), ('svc', svc_clf), ('log', log_clf)]\n",
    "voting_hard_clf = VotingClassifier(estimators, voting='hard')\n",
    "voting_hard_clf.fit(X_train_tr, y_train)\n",
    "relatorio_cross_val(voting_hard_clf, X_train_tr, y_train)"
   ]
  },
  {
   "cell_type": "markdown",
   "metadata": {},
   "source": [
    "### Majority soft vote "
   ]
  },
  {
   "cell_type": "code",
   "execution_count": 94,
   "metadata": {
    "ExecuteTime": {
     "end_time": "2023-02-14T22:33:19.180903Z",
     "start_time": "2023-02-14T22:33:02.053942Z"
    },
    "scrolled": true
   },
   "outputs": [
    {
     "name": "stdout",
     "output_type": "stream",
     "text": [
      "Modelo: VotingClassifier(estimators=[('forest',\n",
      "                              RandomForestClassifier(class_weight='balanced',\n",
      "                                                     max_depth=4,\n",
      "                                                     max_features=5,\n",
      "                                                     min_samples_split=30,\n",
      "                                                     n_estimators=600,\n",
      "                                                     random_state=42)),\n",
      "                             ('svc',\n",
      "                              SVC(class_weight='balanced', probability=True)),\n",
      "                             ('log',\n",
      "                              LogisticRegression(C=0.1, class_weight='balanced',\n",
      "                                                 penalty='l1',\n",
      "                                                 solver='liblinear'))],\n",
      "                 voting='soft')\n",
      "Acurácia média: 0.7687 (std=0.0375)\n",
      "Precisão média: 0.6517 (std=0.0521)\n",
      "Recall médio: 0.7433 (std=0.0596)\n"
     ]
    }
   ],
   "source": [
    "# Add xgboost later\n",
    "\n",
    "estimators = [('forest', forest_clf), ('svc', svc_clf), ('log', log_clf)]\n",
    "voting_soft_clf = VotingClassifier(estimators, voting='soft')\n",
    "voting_soft_clf.fit(X_train_tr, y_train)\n",
    "relatorio_cross_val(voting_soft_clf, X_train_tr, y_train)"
   ]
  },
  {
   "cell_type": "markdown",
   "metadata": {},
   "source": [
    "Os modelos que se mostraram mais interessantes foram o **SVM** e o **Majority Hard Vote**. Dado que as performaces são semelhantes, escolheriamos aqui o modelo SVM por este ser mais simples e rápido. "
   ]
  },
  {
   "cell_type": "markdown",
   "metadata": {},
   "source": [
    "## Avaliação final do modelo"
   ]
  },
  {
   "cell_type": "code",
   "execution_count": 95,
   "metadata": {
    "ExecuteTime": {
     "end_time": "2023-02-14T22:33:19.196706Z",
     "start_time": "2023-02-14T22:33:19.183110Z"
    }
   },
   "outputs": [
    {
     "data": {
      "text/html": [
       "<div>\n",
       "<style scoped>\n",
       "    .dataframe tbody tr th:only-of-type {\n",
       "        vertical-align: middle;\n",
       "    }\n",
       "\n",
       "    .dataframe tbody tr th {\n",
       "        vertical-align: top;\n",
       "    }\n",
       "\n",
       "    .dataframe thead th {\n",
       "        text-align: right;\n",
       "    }\n",
       "</style>\n",
       "<table border=\"1\" class=\"dataframe\">\n",
       "  <thead>\n",
       "    <tr style=\"text-align: right;\">\n",
       "      <th></th>\n",
       "      <th>Pregnancies</th>\n",
       "      <th>Glucose</th>\n",
       "      <th>BloodPressure</th>\n",
       "      <th>SkinThickness</th>\n",
       "      <th>Insulin</th>\n",
       "      <th>BMI</th>\n",
       "      <th>DiabetesPedigreeFunction</th>\n",
       "      <th>Age</th>\n",
       "    </tr>\n",
       "  </thead>\n",
       "  <tbody>\n",
       "    <tr>\n",
       "      <th>44</th>\n",
       "      <td>7</td>\n",
       "      <td>159.0</td>\n",
       "      <td>64.0</td>\n",
       "      <td>NaN</td>\n",
       "      <td>NaN</td>\n",
       "      <td>27.400000</td>\n",
       "      <td>0.294</td>\n",
       "      <td>40</td>\n",
       "    </tr>\n",
       "    <tr>\n",
       "      <th>672</th>\n",
       "      <td>10</td>\n",
       "      <td>68.0</td>\n",
       "      <td>106.0</td>\n",
       "      <td>23.0</td>\n",
       "      <td>49.0</td>\n",
       "      <td>35.500000</td>\n",
       "      <td>0.285</td>\n",
       "      <td>47</td>\n",
       "    </tr>\n",
       "    <tr>\n",
       "      <th>700</th>\n",
       "      <td>2</td>\n",
       "      <td>122.0</td>\n",
       "      <td>76.0</td>\n",
       "      <td>27.0</td>\n",
       "      <td>200.0</td>\n",
       "      <td>35.900002</td>\n",
       "      <td>0.483</td>\n",
       "      <td>26</td>\n",
       "    </tr>\n",
       "    <tr>\n",
       "      <th>630</th>\n",
       "      <td>7</td>\n",
       "      <td>114.0</td>\n",
       "      <td>64.0</td>\n",
       "      <td>NaN</td>\n",
       "      <td>NaN</td>\n",
       "      <td>27.400000</td>\n",
       "      <td>0.732</td>\n",
       "      <td>34</td>\n",
       "    </tr>\n",
       "    <tr>\n",
       "      <th>81</th>\n",
       "      <td>2</td>\n",
       "      <td>74.0</td>\n",
       "      <td>NaN</td>\n",
       "      <td>NaN</td>\n",
       "      <td>NaN</td>\n",
       "      <td>NaN</td>\n",
       "      <td>0.102</td>\n",
       "      <td>22</td>\n",
       "    </tr>\n",
       "  </tbody>\n",
       "</table>\n",
       "</div>"
      ],
      "text/plain": [
       "     Pregnancies  Glucose  BloodPressure  SkinThickness  Insulin        BMI  \\\n",
       "44             7    159.0           64.0            NaN      NaN  27.400000   \n",
       "672           10     68.0          106.0           23.0     49.0  35.500000   \n",
       "700            2    122.0           76.0           27.0    200.0  35.900002   \n",
       "630            7    114.0           64.0            NaN      NaN  27.400000   \n",
       "81             2     74.0            NaN            NaN      NaN        NaN   \n",
       "\n",
       "     DiabetesPedigreeFunction  Age  \n",
       "44                      0.294   40  \n",
       "672                     0.285   47  \n",
       "700                     0.483   26  \n",
       "630                     0.732   34  \n",
       "81                      0.102   22  "
      ]
     },
     "execution_count": 95,
     "metadata": {},
     "output_type": "execute_result"
    }
   ],
   "source": [
    "X_test.head()"
   ]
  },
  {
   "cell_type": "code",
   "execution_count": 96,
   "metadata": {
    "ExecuteTime": {
     "end_time": "2023-02-14T22:33:19.219195Z",
     "start_time": "2023-02-14T22:33:19.200428Z"
    }
   },
   "outputs": [],
   "source": [
    "# Tratamento dos dados de teste\n",
    "\n",
    "X_test_tr = final_pipeline.transform(X_test)"
   ]
  },
  {
   "cell_type": "code",
   "execution_count": 97,
   "metadata": {
    "ExecuteTime": {
     "end_time": "2023-02-14T22:33:19.235405Z",
     "start_time": "2023-02-14T22:33:19.223238Z"
    }
   },
   "outputs": [],
   "source": [
    "def metrics_report(y_test, y_pred):\n",
    "    accuracy = np.round(accuracy_score(y_test, y_pred), 4)\n",
    "    precision = np.round(precision_score(y_test, y_pred), 4)\n",
    "    recall = np.round(recall_score(y_test, y_pred), 4)\n",
    "    f1 = np.round(f1_score(y_test, y_pred), 4)\n",
    "    print(f\"Accuracy score: {accuracy}\")\n",
    "    print(f\"Precision score: {precision}\")\n",
    "    print(f\"Recall score: {recall}\")\n",
    "    print(f\"F1 score: {f1}\")\n",
    "    print(\"-------------------------- \\n\")"
   ]
  },
  {
   "cell_type": "code",
   "execution_count": 98,
   "metadata": {
    "ExecuteTime": {
     "end_time": "2023-02-14T22:33:19.585836Z",
     "start_time": "2023-02-14T22:33:19.240618Z"
    },
    "scrolled": false
   },
   "outputs": [
    {
     "name": "stdout",
     "output_type": "stream",
     "text": [
      "*Results for Random Forest \n",
      "\n",
      "Accuracy score: 0.7403\n",
      "Precision score: 0.6\n",
      "Recall score: 0.7778\n",
      "F1 score: 0.6774\n",
      "-------------------------- \n",
      "\n",
      "*Results for SVM \n",
      "\n",
      "Accuracy score: 0.7403\n",
      "Precision score: 0.6\n",
      "Recall score: 0.7778\n",
      "F1 score: 0.6774\n",
      "-------------------------- \n",
      "\n",
      "*Results for Log. Reg. \n",
      "\n",
      "Accuracy score: 0.7403\n",
      "Precision score: 0.6029\n",
      "Recall score: 0.7593\n",
      "F1 score: 0.6721\n",
      "-------------------------- \n",
      "\n",
      "*Results for Hard voting \n",
      "\n",
      "Accuracy score: 0.7403\n",
      "Precision score: 0.6029\n",
      "Recall score: 0.7593\n",
      "F1 score: 0.6721\n",
      "-------------------------- \n",
      "\n",
      "*Results for Soft voting \n",
      "\n",
      "Accuracy score: 0.7468\n",
      "Precision score: 0.619\n",
      "Recall score: 0.7222\n",
      "F1 score: 0.6667\n",
      "-------------------------- \n",
      "\n"
     ]
    }
   ],
   "source": [
    "models = [forest_clf, svc_clf, log_clf, voting_hard_clf, voting_soft_clf]\n",
    "models_names = [\"Random Forest\", \"SVM\", \"Log. Reg.\", \"Hard voting\", \"Soft voting\"]\n",
    "\n",
    "for name, model in zip(models_names, models):\n",
    "    y_pred = model.predict(X_test_tr)\n",
    "    print(f\"*Results for {name} \\n\")\n",
    "    metrics_report(y_test, y_pred)"
   ]
  },
  {
   "cell_type": "markdown",
   "metadata": {},
   "source": [
    "Os resultados de teste e treino foram próximos o suficiente para que não caracterizassemos *overfitting*. Ademais, nosso modelo de SVM ainda continuou com resultados interessantes."
   ]
  },
  {
   "cell_type": "markdown",
   "metadata": {},
   "source": [
    "# Conclusões"
   ]
  },
  {
   "cell_type": "markdown",
   "metadata": {},
   "source": [
    "Finalmente vamos consolidar os resultados."
   ]
  },
  {
   "cell_type": "code",
   "execution_count": 99,
   "metadata": {
    "ExecuteTime": {
     "end_time": "2023-02-14T22:33:19.602281Z",
     "start_time": "2023-02-14T22:33:19.589066Z"
    }
   },
   "outputs": [
    {
     "name": "stdout",
     "output_type": "stream",
     "text": [
      "Métricas de teste do modelo heurístico:\n",
      "Acurácia: 0.7059\n",
      "Precisão: 0.6216\n",
      "Recall: 0.4259\n",
      "F1: 0.5055\n"
     ]
    }
   ],
   "source": [
    "print(\"Métricas de teste do modelo heurístico:\")\n",
    "print(f\"Acurácia: {accuracy}\")\n",
    "print(f\"Precisão: {precision}\")\n",
    "print(f\"Recall: {recall}\")\n",
    "print(f\"F1: {f1}\")"
   ]
  },
  {
   "cell_type": "code",
   "execution_count": 100,
   "metadata": {
    "ExecuteTime": {
     "end_time": "2023-02-14T22:33:19.624931Z",
     "start_time": "2023-02-14T22:33:19.605698Z"
    }
   },
   "outputs": [
    {
     "name": "stdout",
     "output_type": "stream",
     "text": [
      "Métricas de teste do modelo final (SVM)\n",
      "Accuracy score: 0.7403\n",
      "Precision score: 0.6\n",
      "Recall score: 0.7778\n",
      "F1 score: 0.6774\n",
      "-------------------------- \n",
      "\n"
     ]
    }
   ],
   "source": [
    "y_pred = svc_clf.predict(X_test_tr)\n",
    "print('Métricas de teste do modelo final (SVM)')\n",
    "metrics_report(y_test, y_pred)"
   ]
  },
  {
   "cell_type": "markdown",
   "metadata": {},
   "source": [
    "Uma métrica importante foi bastante melhor: o recall. Além disso, ganhamos um pouco de acurácia, ao custo de uma pequena redução da precisão. Do ponto de vista de saúde pública isso é interessante: queremos alcançar todos os possíveis diabéticos, ainda que reduzindo um pouco a precisão. \n",
    "\n",
    "Outra métrica que demonstra que nosso modelo é mais equilibrado é a F1: modelos com recall e precisão semelhantes tem melhor resultado. "
   ]
  },
  {
   "cell_type": "code",
   "execution_count": 101,
   "metadata": {
    "ExecuteTime": {
     "end_time": "2023-02-14T22:33:19.855539Z",
     "start_time": "2023-02-14T22:33:19.629000Z"
    },
    "scrolled": true
   },
   "outputs": [
    {
     "data": {
      "image/png": "[encoded data removed]",
      "text/plain": [
       "<Figure size 432x288 with 2 Axes>"
      ]
     },
     "metadata": {
      "needs_background": "light"
     },
     "output_type": "display_data"
    }
   ],
   "source": [
    "# Matriz de confusão do modelo heurístico\n",
    "\n",
    "ConfusionMatrixDisplay(cm_heuristic).plot();"
   ]
  },
  {
   "cell_type": "code",
   "execution_count": 102,
   "metadata": {
    "ExecuteTime": {
     "end_time": "2023-02-14T22:33:20.082884Z",
     "start_time": "2023-02-14T22:33:19.857960Z"
    },
    "scrolled": true
   },
   "outputs": [
    {
     "data": {
      "image/png": "[encoded data removed]",
      "text/plain": [
       "<Figure size 432x288 with 2 Axes>"
      ]
     },
     "metadata": {
      "needs_background": "light"
     },
     "output_type": "display_data"
    }
   ],
   "source": [
    "# Matriz de confusão do nosso modelo com ML\n",
    "cm_ml = confusion_matrix(y_test, y_pred)\n",
    "ConfusionMatrixDisplay(cm_ml).plot();"
   ]
  },
  {
   "cell_type": "markdown",
   "metadata": {},
   "source": [
    "Atingimos nosso objetivo de reduzir significativamente o número de falsos negativos de 20,2% para 7,8%. O número de falsos positvos aumentou, mas isso causa menos impacto financeiro."
   ]
  },
  {
   "cell_type": "markdown",
   "metadata": {},
   "source": [
    "Consideremos o seguinte cenário hipotético de custos por paciente. Tomaremos como base de que o custo de um paciente diabético com o diagnóstico correto tenha o custo de $R\\$100,00$ e que o custo de tratamento de um não-diabético (tratamento preventivo) seja $R\\$20,00$. O custo de um paciente falso negativo deve ser mais alto, já que significa que atrasamos o tratamento ideal. Vamos estimá-lo em $R\\$130,00$. O custo por falso positivo é intermediário e vamos orçá-lo em $R\\$40,00$."
   ]
  },
  {
   "cell_type": "code",
   "execution_count": 103,
   "metadata": {
    "ExecuteTime": {
     "end_time": "2023-02-14T22:33:20.092508Z",
     "start_time": "2023-02-14T22:33:20.085548Z"
    }
   },
   "outputs": [
    {
     "name": "stdout",
     "output_type": "stream",
     "text": [
      "3.143\n"
     ]
    }
   ],
   "source": [
    "cost_matrix = np.array([[20, 40],\n",
    "                        [130, 100]])\n",
    "\n",
    "ml_cost = cost_matrix * cm_ml\n",
    "heuristic_cost = cost_matrix * cm_heuristic\n",
    "\n",
    "ml_cost_sum = ml_cost.sum()\n",
    "heuristic_cost_sum = heuristic_cost.sum()\n",
    "\n",
    "print(f'{100*(1 - ml_cost_sum / heuristic_cost_sum):.3f}')"
   ]
  },
  {
   "cell_type": "markdown",
   "metadata": {
    "ExecuteTime": {
     "end_time": "2023-02-11T23:17:26.985505Z",
     "start_time": "2023-02-11T23:17:26.980595Z"
    }
   },
   "source": [
    "Nesses moldes, temos então uma redução de custos de 3,14% por paciente."
   ]
  },
  {
   "cell_type": "markdown",
   "metadata": {},
   "source": [
    "# Deploy"
   ]
  },
  {
   "cell_type": "code",
   "execution_count": 114,
   "metadata": {
    "ExecuteTime": {
     "end_time": "2023-02-14T22:41:56.129349Z",
     "start_time": "2023-02-14T22:41:55.999029Z"
    }
   },
   "outputs": [
    {
     "data": {
      "text/html": [
       "<style>#sk-container-id-7 {color: black;background-color: white;}#sk-container-id-7 pre{padding: 0;}#sk-container-id-7 div.sk-toggleable {background-color: white;}#sk-container-id-7 label.sk-toggleable__label {cursor: pointer;display: block;width: 100%;margin-bottom: 0;padding: 0.3em;box-sizing: border-box;text-align: center;}#sk-container-id-7 label.sk-toggleable__label-arrow:before {content: \"▸\";float: left;margin-right: 0.25em;color: #696969;}#sk-container-id-7 label.sk-toggleable__label-arrow:hover:before {color: black;}#sk-container-id-7 div.sk-estimator:hover label.sk-toggleable__label-arrow:before {color: black;}#sk-container-id-7 div.sk-toggleable__content {max-height: 0;max-width: 0;overflow: hidden;text-align: left;background-color: #f0f8ff;}#sk-container-id-7 div.sk-toggleable__content pre {margin: 0.2em;color: black;border-radius: 0.25em;background-color: #f0f8ff;}#sk-container-id-7 input.sk-toggleable__control:checked~div.sk-toggleable__content {max-height: 200px;max-width: 100%;overflow: auto;}#sk-container-id-7 input.sk-toggleable__control:checked~label.sk-toggleable__label-arrow:before {content: \"▾\";}#sk-container-id-7 div.sk-estimator input.sk-toggleable__control:checked~label.sk-toggleable__label {background-color: #d4ebff;}#sk-container-id-7 div.sk-label input.sk-toggleable__control:checked~label.sk-toggleable__label {background-color: #d4ebff;}#sk-container-id-7 input.sk-hidden--visually {border: 0;clip: rect(1px 1px 1px 1px);clip: rect(1px, 1px, 1px, 1px);height: 1px;margin: -1px;overflow: hidden;padding: 0;position: absolute;width: 1px;}#sk-container-id-7 div.sk-estimator {font-family: monospace;background-color: #f0f8ff;border: 1px dotted black;border-radius: 0.25em;box-sizing: border-box;margin-bottom: 0.5em;}#sk-container-id-7 div.sk-estimator:hover {background-color: #d4ebff;}#sk-container-id-7 div.sk-parallel-item::after {content: \"\";width: 100%;border-bottom: 1px solid gray;flex-grow: 1;}#sk-container-id-7 div.sk-label:hover label.sk-toggleable__label {background-color: #d4ebff;}#sk-container-id-7 div.sk-serial::before {content: \"\";position: absolute;border-left: 1px solid gray;box-sizing: border-box;top: 0;bottom: 0;left: 50%;z-index: 0;}#sk-container-id-7 div.sk-serial {display: flex;flex-direction: column;align-items: center;background-color: white;padding-right: 0.2em;padding-left: 0.2em;position: relative;}#sk-container-id-7 div.sk-item {position: relative;z-index: 1;}#sk-container-id-7 div.sk-parallel {display: flex;align-items: stretch;justify-content: center;background-color: white;position: relative;}#sk-container-id-7 div.sk-item::before, #sk-container-id-7 div.sk-parallel-item::before {content: \"\";position: absolute;border-left: 1px solid gray;box-sizing: border-box;top: 0;bottom: 0;left: 50%;z-index: -1;}#sk-container-id-7 div.sk-parallel-item {display: flex;flex-direction: column;z-index: 1;position: relative;background-color: white;}#sk-container-id-7 div.sk-parallel-item:first-child::after {align-self: flex-end;width: 50%;}#sk-container-id-7 div.sk-parallel-item:last-child::after {align-self: flex-start;width: 50%;}#sk-container-id-7 div.sk-parallel-item:only-child::after {width: 0;}#sk-container-id-7 div.sk-dashed-wrapped {border: 1px dashed gray;margin: 0 0.4em 0.5em 0.4em;box-sizing: border-box;padding-bottom: 0.4em;background-color: white;}#sk-container-id-7 div.sk-label label {font-family: monospace;font-weight: bold;display: inline-block;line-height: 1.2em;}#sk-container-id-7 div.sk-label-container {text-align: center;}#sk-container-id-7 div.sk-container {/* jupyter's `normalize.less` sets `[hidden] { display: none; }` but bootstrap.min.css set `[hidden] { display: none !important; }` so we also need the `!important` here to be able to override the default hidden behavior on the sphinx rendered scikit-learn.org. See: https://github.com/scikit-learn/scikit-learn/issues/21755 */display: inline-block !important;position: relative;}#sk-container-id-7 div.sk-text-repr-fallback {display: none;}</style><div id=\"sk-container-id-7\" class=\"sk-top-container\"><div class=\"sk-text-repr-fallback\"><pre>Pipeline(steps=[(&#x27;treatment&#x27;,\n",
       "                 Pipeline(steps=[(&#x27;imputer&#x27;, KNNImputer(n_neighbors=15)),\n",
       "                                 (&#x27;col_tr&#x27;,\n",
       "                                  ColumnTransformer(remainder=&#x27;passthrough&#x27;,\n",
       "                                                    transformers=[(&#x27;log_transform&#x27;,\n",
       "                                                                   FunctionTransformer(func=&lt;ufunc &#x27;log&#x27;&gt;),\n",
       "                                                                   [4, 6]),\n",
       "                                                                  (&#x27;kbins&#x27;,\n",
       "                                                                   KBinsDiscretizer(encode=&#x27;ordinal&#x27;,\n",
       "                                                                                    n_bins=4),\n",
       "                                                                   [7]),\n",
       "                                                                  (&#x27;quantile&#x27;,\n",
       "                                                                   QuantileTransformer(n_quantiles=3,\n",
       "                                                                                       random_state=42),\n",
       "                                                                   [5])])),\n",
       "                                 (&#x27;scaler&#x27;, StandardScaler())])),\n",
       "                (&#x27;svm&#x27;, SVC(class_weight=&#x27;balanced&#x27;, probability=True))])</pre><b>In a Jupyter environment, please rerun this cell to show the HTML representation or trust the notebook. <br />On GitHub, the HTML representation is unable to render, please try loading this page with nbviewer.org.</b></div><div class=\"sk-container\" hidden><div class=\"sk-item sk-dashed-wrapped\"><div class=\"sk-label-container\"><div class=\"sk-label sk-toggleable\"><input class=\"sk-toggleable__control sk-hidden--visually\" id=\"sk-estimator-id-61\" type=\"checkbox\" ><label for=\"sk-estimator-id-61\" class=\"sk-toggleable__label sk-toggleable__label-arrow\">Pipeline</label><div class=\"sk-toggleable__content\"><pre>Pipeline(steps=[(&#x27;treatment&#x27;,\n",
       "                 Pipeline(steps=[(&#x27;imputer&#x27;, KNNImputer(n_neighbors=15)),\n",
       "                                 (&#x27;col_tr&#x27;,\n",
       "                                  ColumnTransformer(remainder=&#x27;passthrough&#x27;,\n",
       "                                                    transformers=[(&#x27;log_transform&#x27;,\n",
       "                                                                   FunctionTransformer(func=&lt;ufunc &#x27;log&#x27;&gt;),\n",
       "                                                                   [4, 6]),\n",
       "                                                                  (&#x27;kbins&#x27;,\n",
       "                                                                   KBinsDiscretizer(encode=&#x27;ordinal&#x27;,\n",
       "                                                                                    n_bins=4),\n",
       "                                                                   [7]),\n",
       "                                                                  (&#x27;quantile&#x27;,\n",
       "                                                                   QuantileTransformer(n_quantiles=3,\n",
       "                                                                                       random_state=42),\n",
       "                                                                   [5])])),\n",
       "                                 (&#x27;scaler&#x27;, StandardScaler())])),\n",
       "                (&#x27;svm&#x27;, SVC(class_weight=&#x27;balanced&#x27;, probability=True))])</pre></div></div></div><div class=\"sk-serial\"><div class=\"sk-item\"><div class=\"sk-label-container\"><div class=\"sk-label sk-toggleable\"><input class=\"sk-toggleable__control sk-hidden--visually\" id=\"sk-estimator-id-62\" type=\"checkbox\" ><label for=\"sk-estimator-id-62\" class=\"sk-toggleable__label sk-toggleable__label-arrow\">treatment: Pipeline</label><div class=\"sk-toggleable__content\"><pre>Pipeline(steps=[(&#x27;imputer&#x27;, KNNImputer(n_neighbors=15)),\n",
       "                (&#x27;col_tr&#x27;,\n",
       "                 ColumnTransformer(remainder=&#x27;passthrough&#x27;,\n",
       "                                   transformers=[(&#x27;log_transform&#x27;,\n",
       "                                                  FunctionTransformer(func=&lt;ufunc &#x27;log&#x27;&gt;),\n",
       "                                                  [4, 6]),\n",
       "                                                 (&#x27;kbins&#x27;,\n",
       "                                                  KBinsDiscretizer(encode=&#x27;ordinal&#x27;,\n",
       "                                                                   n_bins=4),\n",
       "                                                  [7]),\n",
       "                                                 (&#x27;quantile&#x27;,\n",
       "                                                  QuantileTransformer(n_quantiles=3,\n",
       "                                                                      random_state=42),\n",
       "                                                  [5])])),\n",
       "                (&#x27;scaler&#x27;, StandardScaler())])</pre></div></div></div><div class=\"sk-serial\"><div class=\"sk-item\"><div class=\"sk-estimator sk-toggleable\"><input class=\"sk-toggleable__control sk-hidden--visually\" id=\"sk-estimator-id-63\" type=\"checkbox\" ><label for=\"sk-estimator-id-63\" class=\"sk-toggleable__label sk-toggleable__label-arrow\">KNNImputer</label><div class=\"sk-toggleable__content\"><pre>KNNImputer(n_neighbors=15)</pre></div></div></div><div class=\"sk-item sk-dashed-wrapped\"><div class=\"sk-label-container\"><div class=\"sk-label sk-toggleable\"><input class=\"sk-toggleable__control sk-hidden--visually\" id=\"sk-estimator-id-64\" type=\"checkbox\" ><label for=\"sk-estimator-id-64\" class=\"sk-toggleable__label sk-toggleable__label-arrow\">col_tr: ColumnTransformer</label><div class=\"sk-toggleable__content\"><pre>ColumnTransformer(remainder=&#x27;passthrough&#x27;,\n",
       "                  transformers=[(&#x27;log_transform&#x27;,\n",
       "                                 FunctionTransformer(func=&lt;ufunc &#x27;log&#x27;&gt;),\n",
       "                                 [4, 6]),\n",
       "                                (&#x27;kbins&#x27;,\n",
       "                                 KBinsDiscretizer(encode=&#x27;ordinal&#x27;, n_bins=4),\n",
       "                                 [7]),\n",
       "                                (&#x27;quantile&#x27;,\n",
       "                                 QuantileTransformer(n_quantiles=3,\n",
       "                                                     random_state=42),\n",
       "                                 [5])])</pre></div></div></div><div class=\"sk-parallel\"><div class=\"sk-parallel-item\"><div class=\"sk-item\"><div class=\"sk-label-container\"><div class=\"sk-label sk-toggleable\"><input class=\"sk-toggleable__control sk-hidden--visually\" id=\"sk-estimator-id-65\" type=\"checkbox\" ><label for=\"sk-estimator-id-65\" class=\"sk-toggleable__label sk-toggleable__label-arrow\">log_transform</label><div class=\"sk-toggleable__content\"><pre>[4, 6]</pre></div></div></div><div class=\"sk-serial\"><div class=\"sk-item\"><div class=\"sk-estimator sk-toggleable\"><input class=\"sk-toggleable__control sk-hidden--visually\" id=\"sk-estimator-id-66\" type=\"checkbox\" ><label for=\"sk-estimator-id-66\" class=\"sk-toggleable__label sk-toggleable__label-arrow\">FunctionTransformer</label><div class=\"sk-toggleable__content\"><pre>FunctionTransformer(func=&lt;ufunc &#x27;log&#x27;&gt;)</pre></div></div></div></div></div></div><div class=\"sk-parallel-item\"><div class=\"sk-item\"><div class=\"sk-label-container\"><div class=\"sk-label sk-toggleable\"><input class=\"sk-toggleable__control sk-hidden--visually\" id=\"sk-estimator-id-67\" type=\"checkbox\" ><label for=\"sk-estimator-id-67\" class=\"sk-toggleable__label sk-toggleable__label-arrow\">kbins</label><div class=\"sk-toggleable__content\"><pre>[7]</pre></div></div></div><div class=\"sk-serial\"><div class=\"sk-item\"><div class=\"sk-estimator sk-toggleable\"><input class=\"sk-toggleable__control sk-hidden--visually\" id=\"sk-estimator-id-68\" type=\"checkbox\" ><label for=\"sk-estimator-id-68\" class=\"sk-toggleable__label sk-toggleable__label-arrow\">KBinsDiscretizer</label><div class=\"sk-toggleable__content\"><pre>KBinsDiscretizer(encode=&#x27;ordinal&#x27;, n_bins=4)</pre></div></div></div></div></div></div><div class=\"sk-parallel-item\"><div class=\"sk-item\"><div class=\"sk-label-container\"><div class=\"sk-label sk-toggleable\"><input class=\"sk-toggleable__control sk-hidden--visually\" id=\"sk-estimator-id-69\" type=\"checkbox\" ><label for=\"sk-estimator-id-69\" class=\"sk-toggleable__label sk-toggleable__label-arrow\">quantile</label><div class=\"sk-toggleable__content\"><pre>[5]</pre></div></div></div><div class=\"sk-serial\"><div class=\"sk-item\"><div class=\"sk-estimator sk-toggleable\"><input class=\"sk-toggleable__control sk-hidden--visually\" id=\"sk-estimator-id-70\" type=\"checkbox\" ><label for=\"sk-estimator-id-70\" class=\"sk-toggleable__label sk-toggleable__label-arrow\">QuantileTransformer</label><div class=\"sk-toggleable__content\"><pre>QuantileTransformer(n_quantiles=3, random_state=42)</pre></div></div></div></div></div></div><div class=\"sk-parallel-item\"><div class=\"sk-item\"><div class=\"sk-label-container\"><div class=\"sk-label sk-toggleable\"><input class=\"sk-toggleable__control sk-hidden--visually\" id=\"sk-estimator-id-71\" type=\"checkbox\" ><label for=\"sk-estimator-id-71\" class=\"sk-toggleable__label sk-toggleable__label-arrow\">remainder</label><div class=\"sk-toggleable__content\"><pre>[0, 1, 2, 3]</pre></div></div></div><div class=\"sk-serial\"><div class=\"sk-item\"><div class=\"sk-estimator sk-toggleable\"><input class=\"sk-toggleable__control sk-hidden--visually\" id=\"sk-estimator-id-72\" type=\"checkbox\" ><label for=\"sk-estimator-id-72\" class=\"sk-toggleable__label sk-toggleable__label-arrow\">passthrough</label><div class=\"sk-toggleable__content\"><pre>passthrough</pre></div></div></div></div></div></div></div></div><div class=\"sk-item\"><div class=\"sk-estimator sk-toggleable\"><input class=\"sk-toggleable__control sk-hidden--visually\" id=\"sk-estimator-id-73\" type=\"checkbox\" ><label for=\"sk-estimator-id-73\" class=\"sk-toggleable__label sk-toggleable__label-arrow\">StandardScaler</label><div class=\"sk-toggleable__content\"><pre>StandardScaler()</pre></div></div></div></div></div><div class=\"sk-item\"><div class=\"sk-estimator sk-toggleable\"><input class=\"sk-toggleable__control sk-hidden--visually\" id=\"sk-estimator-id-74\" type=\"checkbox\" ><label for=\"sk-estimator-id-74\" class=\"sk-toggleable__label sk-toggleable__label-arrow\">SVC</label><div class=\"sk-toggleable__content\"><pre>SVC(class_weight=&#x27;balanced&#x27;, probability=True)</pre></div></div></div></div></div></div></div>"
      ],
      "text/plain": [
       "Pipeline(steps=[('treatment',\n",
       "                 Pipeline(steps=[('imputer', KNNImputer(n_neighbors=15)),\n",
       "                                 ('col_tr',\n",
       "                                  ColumnTransformer(remainder='passthrough',\n",
       "                                                    transformers=[('log_transform',\n",
       "                                                                   FunctionTransformer(func=<ufunc 'log'>),\n",
       "                                                                   [4, 6]),\n",
       "                                                                  ('kbins',\n",
       "                                                                   KBinsDiscretizer(encode='ordinal',\n",
       "                                                                                    n_bins=4),\n",
       "                                                                   [7]),\n",
       "                                                                  ('quantile',\n",
       "                                                                   QuantileTransformer(n_quantiles=3,\n",
       "                                                                                       random_state=42),\n",
       "                                                                   [5])])),\n",
       "                                 ('scaler', StandardScaler())])),\n",
       "                ('svm', SVC(class_weight='balanced', probability=True))])"
      ]
     },
     "execution_count": 114,
     "metadata": {},
     "output_type": "execute_result"
    }
   ],
   "source": [
    "# Criar uma pipeline para o deploy unindo o tratamento e a previsão\n",
    "\n",
    "model_pipeline = Pipeline([('treatment', final_pipeline), ('svm', svc_clf)])\n",
    "model_pipeline"
   ]
  },
  {
   "cell_type": "code",
   "execution_count": 121,
   "metadata": {
    "ExecuteTime": {
     "end_time": "2023-02-14T23:13:07.351919Z",
     "start_time": "2023-02-14T23:13:07.329201Z"
    },
    "scrolled": true
   },
   "outputs": [
    {
     "data": {
      "text/plain": [
       "['model.pkl']"
      ]
     },
     "execution_count": 121,
     "metadata": {},
     "output_type": "execute_result"
    }
   ],
   "source": [
    "# Fazendo o dump\n",
    "\n",
    "import joblib\n",
    "import os\n",
    "\n",
    "joblib.dump(model_pipeline, os.path.join('model.pkl'))"
   ]
  }
 ],
 "metadata": {
  "kernelspec": {
   "display_name": "Python 3",
   "language": "python",
   "name": "python3"
  },
  "language_info": {
   "codemirror_mode": {
    "name": "ipython",
    "version": 3
   },
   "file_extension": ".py",
   "mimetype": "text/x-python",
   "name": "python",
   "nbconvert_exporter": "python",
   "pygments_lexer": "ipython3",
   "version": "3.8.10"
  },
  "varInspector": {
   "cols": {
    "lenName": 16,
    "lenType": 16,
    "lenVar": 40
   },
   "kernels_config": {
    "python": {
     "delete_cmd_postfix": "",
     "delete_cmd_prefix": "del ",
     "library": "var_list.py",
     "varRefreshCmd": "print(var_dic_list())"
    },
    "r": {
     "delete_cmd_postfix": ") ",
     "delete_cmd_prefix": "rm(",
     "library": "var_list.r",
     "varRefreshCmd": "cat(var_dic_list()) "
    }
   },
   "types_to_exclude": [
    "module",
    "function",
    "builtin_function_or_method",
    "instance",
    "_Feature"
   ],
   "window_display": false
  },
  "vscode": {
   "interpreter": {
    "hash": "1df33a2dd06fb18981d7b53115127f982859d85467b7108efe276f0f316b7773"
   }
  }
 },
 "nbformat": 4,
 "nbformat_minor": 4
}
